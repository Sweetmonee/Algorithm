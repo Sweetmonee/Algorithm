{
  "nbformat": 4,
  "nbformat_minor": 0,
  "metadata": {
    "colab": {
      "provenance": [],
      "authorship_tag": "ABX9TyNQyfj/ppkjVP53+qemJqjM",
      "include_colab_link": true
    },
    "kernelspec": {
      "name": "python3",
      "display_name": "Python 3"
    },
    "language_info": {
      "name": "python"
    }
  },
  "cells": [
    {
      "cell_type": "markdown",
      "metadata": {
        "id": "view-in-github",
        "colab_type": "text"
      },
      "source": [
        "<a href=\"https://colab.research.google.com/github/Sweetmonee/Algorithm/blob/Programmers/Jan_14%2C_2023.ipynb\" target=\"_parent\"><img src=\"https://colab.research.google.com/assets/colab-badge.svg\" alt=\"Open In Colab\"/></a>"
      ]
    },
    {
      "cell_type": "code",
      "execution_count": null,
      "metadata": {
        "id": "3X2Jv9evnoF-"
      },
      "outputs": [],
      "source": [
        "# 점 네 개의 좌표를 담은 이차원 배열  dots가 다음과 같이 매개변수로 주어집니다.\n",
        "\n",
        "# [[x1, y1], [x2, y2], [x3, y3], [x4, y4]]\n",
        "# 주어진 네 개의 점을 두 개씩 이었을 때, 두 직선이 평행이 되는 경우가 있으면 1을 없으면 0을 return 하도록 solution 함수를 완성해보세요.\n",
        "def solution(dots):\n",
        "    answer = 0\n",
        "    line_01 = (dots[0][1] - dots[1][1])/ (dots[0][0] - dots[1][0])\n",
        "    line_23 = (dots[2][1] - dots[3][1])/ (dots[2][0] - dots[3][0])\n",
        "    \n",
        "    line_02 = (dots[0][1] - dots[2][1])/ (dots[0][0] - dots[2][0])\n",
        "    line_13 = (dots[1][1] - dots[3][1])/ (dots[1][0] - dots[3][0])\n",
        "    \n",
        "    line_03 = (dots[0][1] - dots[3][1])/ (dots[0][0] - dots[3][0])\n",
        "    line_12 = (dots[1][1] - dots[2][1])/ (dots[1][0] - dots[2][0])\n",
        "    \n",
        "    if line_01 == line_23 or line_02 == line_13 or line_03 == line_12:\n",
        "        answer = 1\n",
        "    \n",
        "                \n",
        "            \n",
        "    return answer"
      ]
    }
  ]
}