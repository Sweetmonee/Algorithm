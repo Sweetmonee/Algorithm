{
  "nbformat": 4,
  "nbformat_minor": 0,
  "metadata": {
    "colab": {
      "provenance": [],
      "authorship_tag": "ABX9TyPoICOcJc4D38OFGZB5L8Qy",
      "include_colab_link": true
    },
    "kernelspec": {
      "name": "python3",
      "display_name": "Python 3"
    },
    "language_info": {
      "name": "python"
    }
  },
  "cells": [
    {
      "cell_type": "markdown",
      "metadata": {
        "id": "view-in-github",
        "colab_type": "text"
      },
      "source": [
        "<a href=\"https://colab.research.google.com/github/Sweetmonee/Algorithm/blob/Programmers/Jan_11%2C_2023ipynb.ipynb\" target=\"_parent\"><img src=\"https://colab.research.google.com/assets/colab-badge.svg\" alt=\"Open In Colab\"/></a>"
      ]
    },
    {
      "cell_type": "code",
      "execution_count": null,
      "metadata": {
        "id": "dqL1Qgrhsr4_"
      },
      "outputs": [],
      "source": [
        "# 소수점 아래 숫자가 계속되지 않고 유한개인 소수를 유한소수라고 합니다. 분수를 소수로 고칠 때 유한소수로 나타낼 수 있는 분수인지 판별하려고 합니다. 유한소수가 되기 위한 분수의 조건은 다음과 같습니다.\n",
        "\n",
        "# 기약분수로 나타내었을 때, 분모의 소인수가 2와 5만 존재해야 합니다.\n",
        "# 두 정수 a와 b가 매개변수로 주어질 때, a/b가 유한소수이면 1을, 무한소수라면 2를 return하도록 solution 함수를 완성해주세요.\n",
        "\n",
        "def solution(a, b):\n",
        "    answer = 0\n",
        "    c = 2\n",
        "    d = 2\n",
        "    bowl = []\n",
        "    while c <= a:\n",
        "        if a%c == 0 and b%c == 0:\n",
        "            a = (a//c)\n",
        "            b = (b//c)\n",
        "        else:\n",
        "            c += 1\n",
        "    while d <= b:\n",
        "        if b%d == 0:\n",
        "            b = b//d\n",
        "            bowl.append(d)\n",
        "        else:\n",
        "            d += 1\n",
        "    if len(bowl) == 0:\n",
        "        answer = 1\n",
        "    else:\n",
        "        for i in bowl:\n",
        "            if i%2 == 0 or i%5 ==0:\n",
        "                answer = 1\n",
        "            else:\n",
        "                answer = 2\n",
        "                break\n",
        "    return answer"
      ]
    }
  ]
}