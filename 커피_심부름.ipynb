{
  "nbformat": 4,
  "nbformat_minor": 0,
  "metadata": {
    "colab": {
      "provenance": [],
      "authorship_tag": "ABX9TyN2HX9rXJ4UZ94kEmiwSQea",
      "include_colab_link": true
    },
    "kernelspec": {
      "name": "python3",
      "display_name": "Python 3"
    },
    "language_info": {
      "name": "python"
    }
  },
  "cells": [
    {
      "cell_type": "markdown",
      "metadata": {
        "id": "view-in-github",
        "colab_type": "text"
      },
      "source": [
        "<a href=\"https://colab.research.google.com/github/Sweetmonee/Algorithm/blob/Programmers/%EC%BB%A4%ED%94%BC_%EC%8B%AC%EB%B6%80%EB%A6%84.ipynb\" target=\"_parent\"><img src=\"https://colab.research.google.com/assets/colab-badge.svg\" alt=\"Open In Colab\"/></a>"
      ]
    },
    {
      "cell_type": "markdown",
      "source": [
        "커피 심부름\n",
        "문제 설명\n",
        "팀의 막내인 철수는 아메리카노와 카페 라테만 판매하는 카페에서 팀원들의 커피를 사려고 합니다. 아메리카노와 카페 라테의 가격은 차가운 것과 뜨거운 것 상관없이 각각 4500, 5000원입니다. 각 팀원에게 마실 메뉴를 적어달라고 하였고, 그 중에서 메뉴만 적은 팀원의 것은 차가운 것으로 통일하고 \"아무거나\"를 적은 팀원의 것은 차가운 아메리카노로 통일하기로 하였습니다.\n",
        "\n",
        "각 직원이 적은 메뉴가 문자열 배열 order로 주어질 때, 카페에서 결제하게 될 금액을 return 하는 solution 함수를 작성해주세요. order의 원소는 아래의 것들만 들어오고, 각각의 의미는 다음과 같습니다.\n",
        "\n",
        "order의 원소\t의미\n",
        "\"iceamericano\", \"americanoice\"\t차가운 아메리카노\n",
        "\"hotamericano\", \"americanohot\"\t따뜻한 아메리카노\n",
        "\"icecafelatte\", \"cafelatteice\"\t차가운 카페 라테\n",
        "\"hotcafelatte\", \"cafelattehot\"\t따뜻한 카페 라테\n",
        "\"americano\"\t아메리카노\n",
        "\"cafelatte\"\t카페 라테\n",
        "\"anything\"\t아무거나"
      ],
      "metadata": {
        "id": "vSnGHDp-5OjD"
      }
    },
    {
      "cell_type": "code",
      "execution_count": null,
      "metadata": {
        "id": "VO9pQQ6p5OGO"
      },
      "outputs": [],
      "source": [
        "def solution(order):\n",
        "    answer = 0\n",
        "    for i in order:\n",
        "        if 'americano' in i:\n",
        "            answer += 4500\n",
        "        elif 'cafelatte' in i:\n",
        "            answer += 5000\n",
        "        elif i == 'anything':\n",
        "            answer += 4500\n",
        "    return answer"
      ]
    }
  ]
}