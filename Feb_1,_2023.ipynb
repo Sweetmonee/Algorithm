{
  "nbformat": 4,
  "nbformat_minor": 0,
  "metadata": {
    "colab": {
      "provenance": [],
      "authorship_tag": "ABX9TyMp/4OiaImRWJ2sMhobEYp+",
      "include_colab_link": true
    },
    "kernelspec": {
      "name": "python3",
      "display_name": "Python 3"
    },
    "language_info": {
      "name": "python"
    }
  },
  "cells": [
    {
      "cell_type": "markdown",
      "metadata": {
        "id": "view-in-github",
        "colab_type": "text"
      },
      "source": [
        "<a href=\"https://colab.research.google.com/github/Sweetmonee/Algorithm/blob/Programmers/Feb_1%2C_2023.ipynb\" target=\"_parent\"><img src=\"https://colab.research.google.com/assets/colab-badge.svg\" alt=\"Open In Colab\"/></a>"
      ]
    },
    {
      "cell_type": "code",
      "execution_count": null,
      "metadata": {
        "id": "Btt5vGLOb2Ij"
      },
      "outputs": [],
      "source": [
        "# 두 정수 left와 right가 매개변수로 주어집니다. \n",
        "# left부터 right까지의 모든 수들 중에서, 약수의 개수가 짝수인 수는 더하고, 약수의 개수가 홀수인 수는 뺀 수를 return 하도록 solution 함수를 완성해주세요.\n",
        "def solution(left, right):\n",
        "    answer = 0\n",
        "    bowl = []\n",
        "    a = 1\n",
        "    for i in range(left, right + 1):\n",
        "        while a <= i:\n",
        "            if i % a == 0:\n",
        "                bowl.append(a)\n",
        "                a += 1\n",
        "            else:\n",
        "                a += 1\n",
        "        if len(bowl) % 2 == 0:\n",
        "            answer += i\n",
        "        else:\n",
        "            answer -= i\n",
        "        a = 1\n",
        "        bowl = []\n",
        "    return answer"
      ]
    }
  ]
}