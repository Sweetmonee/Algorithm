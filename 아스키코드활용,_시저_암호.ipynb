{
  "nbformat": 4,
  "nbformat_minor": 0,
  "metadata": {
    "colab": {
      "provenance": [],
      "authorship_tag": "ABX9TyMYRYJDDvvAP551JB8wFpHK",
      "include_colab_link": true
    },
    "kernelspec": {
      "name": "python3",
      "display_name": "Python 3"
    },
    "language_info": {
      "name": "python"
    }
  },
  "cells": [
    {
      "cell_type": "markdown",
      "metadata": {
        "id": "view-in-github",
        "colab_type": "text"
      },
      "source": [
        "<a href=\"https://colab.research.google.com/github/Sweetmonee/Algorithm/blob/Programmers/%EC%95%84%EC%8A%A4%ED%82%A4%EC%BD%94%EB%93%9C%ED%99%9C%EC%9A%A9%2C_%EC%8B%9C%EC%A0%80_%EC%95%94%ED%98%B8.ipynb\" target=\"_parent\"><img src=\"https://colab.research.google.com/assets/colab-badge.svg\" alt=\"Open In Colab\"/></a>"
      ]
    },
    {
      "cell_type": "markdown",
      "source": [
        "어떤 문장의 각 알파벳을 일정한 거리만큼 밀어서 다른 알파벳으로 바꾸는 암호화 방식을 시저 암호라고 합니다. 예를 들어 \"AB\"는 1만큼 밀면 \"BC\"가 되고, 3만큼 밀면 \"DE\"가 됩니다. \"z\"는 1만큼 밀면 \"a\"가 됩니다. 문자열 s와 거리 n을 입력받아 s를 n만큼 민 암호문을 만드는 함수, solution을 완성해 보세요.\n",
        "\n",
        "제한 조건\n",
        "공백은 아무리 밀어도 공백입니다.\n",
        "s는 알파벳 소문자, 대문자, 공백으로만 이루어져 있습니다.\n",
        "s의 길이는 8000이하입니다.\n",
        "n은 1 이상, 25이하인 자연수입니다."
      ],
      "metadata": {
        "id": "e28ZIXlzU2Jv"
      }
    },
    {
      "cell_type": "code",
      "execution_count": null,
      "metadata": {
        "id": "oTdTmh2OUyMq"
      },
      "outputs": [],
      "source": [
        "def solution(s, n):\n",
        "    answer = ''\n",
        "    for i in s:\n",
        "        if i == \" \":\n",
        "            answer += \" \"\n",
        "        else:\n",
        "            k = chr(ord(i) + n)\n",
        "            if k.isupper() != i.isupper() or not k.isalpha():\n",
        "                k = chr(ord(k) - 26)\n",
        "            answer += k\n",
        "    return answer"
      ]
    }
  ]
}