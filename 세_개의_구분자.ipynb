{
  "nbformat": 4,
  "nbformat_minor": 0,
  "metadata": {
    "colab": {
      "provenance": [],
      "authorship_tag": "ABX9TyMPmaHi4YngCYPi7P1a5X80",
      "include_colab_link": true
    },
    "kernelspec": {
      "name": "python3",
      "display_name": "Python 3"
    },
    "language_info": {
      "name": "python"
    }
  },
  "cells": [
    {
      "cell_type": "markdown",
      "metadata": {
        "id": "view-in-github",
        "colab_type": "text"
      },
      "source": [
        "<a href=\"https://colab.research.google.com/github/Sweetmonee/Algorithm/blob/Programmers/%EC%84%B8_%EA%B0%9C%EC%9D%98_%EA%B5%AC%EB%B6%84%EC%9E%90.ipynb\" target=\"_parent\"><img src=\"https://colab.research.google.com/assets/colab-badge.svg\" alt=\"Open In Colab\"/></a>"
      ]
    },
    {
      "cell_type": "markdown",
      "source": [
        "세 개의 구분자\n",
        "문제 설명\n",
        "임의의 문자열이 주어졌을 때 문자 \"a\", \"b\", \"c\"를 구분자로 사용해 문자열을 나누고자 합니다.\n",
        "\n",
        "예를 들어 주어진 문자열이 \"baconlettucetomato\"라면 나눠진 문자열 목록은 [\"onlettu\", \"etom\", \"to\"] 가 됩니다.\n",
        "\n",
        "문자열 myStr이 주어졌을 때 위 예시와 같이 \"a\", \"b\", \"c\"를 사용해 나눠진 문자열을 순서대로 저장한 배열을 return 하는 solution 함수를 완성해 주세요.\n",
        "\n",
        "단, 두 구분자 사이에 다른 문자가 없을 경우에는 아무것도 저장하지 않으며, return할 배열이 빈 배열이라면 [\"EMPTY\"]를 return 합니다.\n",
        "\n",
        "제한사항\n",
        "1 ≤ myStr의 길이 ≤ 1,000,000\n",
        "myStr은 알파벳 소문자로 이루어진 문자열 입니다.\n",
        "myStr\tresult\n",
        "\"baconlettucetomato\"\t[\"onlettu\", \"etom\", \"to\"]\n",
        "\"abcd\"\t[\"d\"]\n",
        "\"cabab\"\t[\"EMPTY\"]"
      ],
      "metadata": {
        "id": "5RoeAxHd9LDj"
      }
    },
    {
      "cell_type": "code",
      "execution_count": null,
      "metadata": {
        "id": "690v2XA69KLB"
      },
      "outputs": [],
      "source": [
        "def solution(myStr):\n",
        "    answer = []\n",
        "    bowl = ''\n",
        "    for i in myStr:\n",
        "        if i != 'a' and i != 'b' and i != 'c':\n",
        "            bowl += i\n",
        "        else:\n",
        "            answer.append(bowl)\n",
        "            bowl = ''\n",
        "    answer.append(bowl)\n",
        "    return [i for i in answer if i] if len([i for i in answer if i]) != 0 else ['EMPTY']"
      ]
    },
    {
      "cell_type": "code",
      "source": [
        "# 다른 사람의 풀이\n",
        "def solution(myStr):\n",
        "    answer = [x for x in myStr.replace('a', ' ').replace('b', ' ').replace('c', ' ').split() if x]\n",
        "    return answer if answer else ['EMPTY']"
      ],
      "metadata": {
        "id": "x17nAvxI9TI_"
      },
      "execution_count": null,
      "outputs": []
    }
  ]
}