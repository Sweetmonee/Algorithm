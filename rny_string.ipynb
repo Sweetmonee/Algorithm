{
  "nbformat": 4,
  "nbformat_minor": 0,
  "metadata": {
    "colab": {
      "provenance": [],
      "authorship_tag": "ABX9TyNcdzGEO2kZzsfX9U3T2e1W",
      "include_colab_link": true
    },
    "kernelspec": {
      "name": "python3",
      "display_name": "Python 3"
    },
    "language_info": {
      "name": "python"
    }
  },
  "cells": [
    {
      "cell_type": "markdown",
      "metadata": {
        "id": "view-in-github",
        "colab_type": "text"
      },
      "source": [
        "<a href=\"https://colab.research.google.com/github/Sweetmonee/Algorithm/blob/Programmers/rny_string.ipynb\" target=\"_parent\"><img src=\"https://colab.research.google.com/assets/colab-badge.svg\" alt=\"Open In Colab\"/></a>"
      ]
    },
    {
      "cell_type": "markdown",
      "source": [
        "rny_string\n",
        "문제 설명\n",
        "'m'과 \"rn\"이 모양이 비슷하게 생긴 점을 활용해 문자열에 장난을 하려고 합니다. 문자열 rny_string이 주어질 때, rny_string의 모든 'm'을 \"rn\"으로 바꾼 문자열을 return 하는 solution 함수를 작성해 주세요.\n",
        "\n",
        "제한사항\n",
        "1 ≤ rny_string의 길이 ≤ 100\n",
        "rny_string은 영소문자로만 이루어져 있습니다.\n",
        "입출력 예\n",
        "rny_string\tresult\n",
        "\"masterpiece\"\t\"rnasterpiece\"\n",
        "\"programmers\"\t\"prograrnrners\"\n",
        "\"jerry\"\t\"jerry\"\n",
        "\"burn\"\t\"burn\""
      ],
      "metadata": {
        "id": "BWv9_Dg5QgBN"
      }
    },
    {
      "cell_type": "code",
      "execution_count": null,
      "metadata": {
        "id": "K-Y9AIK4Pkm_"
      },
      "outputs": [],
      "source": [
        "def solution(rny_string):\n",
        "    return rny_string.replace('m', 'rn')"
      ]
    }
  ]
}