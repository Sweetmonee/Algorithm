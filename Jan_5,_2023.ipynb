{
  "nbformat": 4,
  "nbformat_minor": 0,
  "metadata": {
    "colab": {
      "provenance": [],
      "authorship_tag": "ABX9TyM+aUBsLr/tWSiL6RQAyVfl",
      "include_colab_link": true
    },
    "kernelspec": {
      "name": "python3",
      "display_name": "Python 3"
    },
    "language_info": {
      "name": "python"
    }
  },
  "cells": [
    {
      "cell_type": "markdown",
      "metadata": {
        "id": "view-in-github",
        "colab_type": "text"
      },
      "source": [
        "<a href=\"https://colab.research.google.com/github/Sweetmonee/Algorithm/blob/Programmers/Jan_5%2C_2023.ipynb\" target=\"_parent\"><img src=\"https://colab.research.google.com/assets/colab-badge.svg\" alt=\"Open In Colab\"/></a>"
      ]
    },
    {
      "cell_type": "code",
      "execution_count": null,
      "metadata": {
        "id": "PmP95WN5gF8f"
      },
      "outputs": [],
      "source": [
        "#숫자와 \"Z\"가 공백으로 구분되어 담긴 문자열이 주어집니다. 문자열에 있는 숫자를 차례대로 더하려고 합니다. \n",
        "# 이 때 \"Z\"가 나오면 바로 전에 더했던 숫자를 뺀다는 뜻입니다. 숫자와 \"Z\"로 이루어진 문자열 s가 주어질 때, 머쓱이가 구한 값을 return 하도록 solution 함수를 완성해보세요.\n",
        "def solution(s):\n",
        "    answer = 0\n",
        "    bowl_list = []\n",
        "    bowl = ''\n",
        "    for i in range(len(s)):\n",
        "        if s[i].isdigit() == True or s[i] == 'Z' or s[i] == '-':\n",
        "            bowl += s[i]\n",
        "        elif s[i] == ' ':\n",
        "            if bowl == 'Z':\n",
        "                bowl_list.append(bowl)\n",
        "            else:\n",
        "                bowl_list.append(int(bowl))\n",
        "            bowl = ''\n",
        "    bowl_list.append(bowl)\n",
        "    for j in range(len(bowl_list)):\n",
        "        if bowl_list[j] != 'Z':\n",
        "            answer += int(bowl_list[j])\n",
        "        else:\n",
        "            answer -= int(bowl_list[j-1])\n",
        "            \n",
        "            \n",
        "    return answer"
      ]
    }
  ]
}