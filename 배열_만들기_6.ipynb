{
  "nbformat": 4,
  "nbformat_minor": 0,
  "metadata": {
    "colab": {
      "provenance": [],
      "authorship_tag": "ABX9TyO8AVFP1NWg7Sq9LVLQ2ce8",
      "include_colab_link": true
    },
    "kernelspec": {
      "name": "python3",
      "display_name": "Python 3"
    },
    "language_info": {
      "name": "python"
    }
  },
  "cells": [
    {
      "cell_type": "markdown",
      "metadata": {
        "id": "view-in-github",
        "colab_type": "text"
      },
      "source": [
        "<a href=\"https://colab.research.google.com/github/Sweetmonee/Algorithm/blob/Programmers/%EB%B0%B0%EC%97%B4_%EB%A7%8C%EB%93%A4%EA%B8%B0_6.ipynb\" target=\"_parent\"><img src=\"https://colab.research.google.com/assets/colab-badge.svg\" alt=\"Open In Colab\"/></a>"
      ]
    },
    {
      "cell_type": "markdown",
      "source": [
        "배열 만들기 6\n",
        "문제 설명\n",
        "0과 1로만 이루어진 정수 배열 arr가 주어집니다. arr를 이용해 새로운 배열 stk을 만드려고 합니다.\n",
        "\n",
        "i의 초기값을 0으로 설정하고 i가 arr의 길이보다 작으면 다음을 반복합니다.\n",
        "\n",
        "만약 stk이 빈 배열이라면 arr[i]를 stk에 추가하고 i에 1을 더합니다.\n",
        "stk에 원소가 있고, stk의 마지막 원소가 arr[i]와 같으면 stk의 마지막 원소를 stk에서 제거하고 i에 1을 더합니다.\n",
        "stk에 원소가 있는데 stk의 마지막 원소가 arr[i]와 다르면 stk의 맨 마지막에 arr[i]를 추가하고 i에 1을 더합니다.\n",
        "위 작업을 마친 후 만들어진 stk을 return 하는 solution 함수를 완성해 주세요.\n",
        "\n",
        "단, 만약 빈 배열을 return 해야한다면 [-1]을 return 합니다."
      ],
      "metadata": {
        "id": "UwTpdscutlAP"
      }
    },
    {
      "cell_type": "code",
      "execution_count": null,
      "metadata": {
        "id": "zjJV3EY1tedX"
      },
      "outputs": [],
      "source": [
        "def solution(arr):\n",
        "    answer = []\n",
        "    for i in range(len(arr)):\n",
        "        if len(answer) == 0:\n",
        "            answer.append(arr[i])\n",
        "        elif answer[-1] == arr[i]:\n",
        "            answer = answer[:-1]# answer.pop()으로 대체가능\n",
        "        else:\n",
        "            answer.append(arr[i])\n",
        "    return answer if len(answer) != 0 else [-1]"
      ]
    }
  ]
}