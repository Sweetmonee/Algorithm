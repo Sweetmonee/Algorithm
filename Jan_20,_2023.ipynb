{
  "nbformat": 4,
  "nbformat_minor": 0,
  "metadata": {
    "colab": {
      "provenance": [],
      "authorship_tag": "ABX9TyPYEKpKrOASpFhOM4viNOqr",
      "include_colab_link": true
    },
    "kernelspec": {
      "name": "python3",
      "display_name": "Python 3"
    },
    "language_info": {
      "name": "python"
    }
  },
  "cells": [
    {
      "cell_type": "markdown",
      "metadata": {
        "id": "view-in-github",
        "colab_type": "text"
      },
      "source": [
        "<a href=\"https://colab.research.google.com/github/Sweetmonee/Algorithm/blob/Programmers/Jan_20%2C_2023.ipynb\" target=\"_parent\"><img src=\"https://colab.research.google.com/assets/colab-badge.svg\" alt=\"Open In Colab\"/></a>"
      ]
    },
    {
      "cell_type": "code",
      "execution_count": null,
      "metadata": {
        "id": "37N-Cb8BmqWn"
      },
      "outputs": [],
      "source": [
        "# 대문자와 소문자가 섞여있는 문자열 s가 주어집니다.\n",
        "#  s에 'p'의 개수와 'y'의 개수를 비교해 같으면 True, 다르면 False를 return 하는 solution를 완성하세요. 'p', 'y' 모두 하나도 없는 경우는 항상 True를 리턴합니다. \n",
        "#  단, 개수를 비교할 때 대문자와 소문자는 구별하지 않습니다.\n",
        "\n",
        "# 예를 들어 s가 \"pPoooyY\"면 true를 return하고 \"Pyy\"라면 false를 return합니다.\n",
        "def solution(s):\n",
        "    answer = True\n",
        "    count = 0\n",
        "    for i in s:\n",
        "        if i == 'p' or i == 'P':\n",
        "            count += 1\n",
        "        elif i == 'y' or i == 'Y':\n",
        "            count -= 1\n",
        "    if count == 0:\n",
        "        answer = True\n",
        "    else:\n",
        "        answer = False\n",
        "    print(count)\n",
        "\n",
        "    return answer"
      ]
    }
  ]
}