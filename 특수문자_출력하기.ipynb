{
  "nbformat": 4,
  "nbformat_minor": 0,
  "metadata": {
    "colab": {
      "provenance": [],
      "authorship_tag": "ABX9TyMHWTU7u2S4siGH/Hbq5nLs",
      "include_colab_link": true
    },
    "kernelspec": {
      "name": "python3",
      "display_name": "Python 3"
    },
    "language_info": {
      "name": "python"
    }
  },
  "cells": [
    {
      "cell_type": "markdown",
      "metadata": {
        "id": "view-in-github",
        "colab_type": "text"
      },
      "source": [
        "<a href=\"https://colab.research.google.com/github/Sweetmonee/Algorithm/blob/Programmers/%ED%8A%B9%EC%88%98%EB%AC%B8%EC%9E%90_%EC%B6%9C%EB%A0%A5%ED%95%98%EA%B8%B0.ipynb\" target=\"_parent\"><img src=\"https://colab.research.google.com/assets/colab-badge.svg\" alt=\"Open In Colab\"/></a>"
      ]
    },
    {
      "cell_type": "markdown",
      "source": [
        "특수문자 출력하기\n",
        "문제 설명\n",
        "다음과 같이 출력하도록 코드를 작성해 주세요.\n",
        "\n",
        "출력 예시\n",
        "\n",
        "!@#$%^&*(\\'\"<>?:;"
      ],
      "metadata": {
        "id": "U8x_zxBcxDKW"
      }
    },
    {
      "cell_type": "code",
      "execution_count": null,
      "metadata": {
        "id": "0-D9HBZRxCiw"
      },
      "outputs": [],
      "source": [
        "print(r'!@#$%^&*(\\'\"<>?:;')"
      ]
    }
  ]
}