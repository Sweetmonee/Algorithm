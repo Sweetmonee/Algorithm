{
  "nbformat": 4,
  "nbformat_minor": 0,
  "metadata": {
    "colab": {
      "provenance": [],
      "authorship_tag": "ABX9TyP8qomrlAKLzslDtH5i0CSJ",
      "include_colab_link": true
    },
    "kernelspec": {
      "name": "python3",
      "display_name": "Python 3"
    },
    "language_info": {
      "name": "python"
    }
  },
  "cells": [
    {
      "cell_type": "markdown",
      "metadata": {
        "id": "view-in-github",
        "colab_type": "text"
      },
      "source": [
        "<a href=\"https://colab.research.google.com/github/Sweetmonee/Algorithm/blob/Programmers/%EB%92%A4%EC%97%90%EC%84%9C_5%EB%93%B1_%EC%9C%84%EB%A1%9C.ipynb\" target=\"_parent\"><img src=\"https://colab.research.google.com/assets/colab-badge.svg\" alt=\"Open In Colab\"/></a>"
      ]
    },
    {
      "cell_type": "markdown",
      "source": [
        "뒤에서 5등 위로\n",
        "문제 설명\n",
        "정수로 이루어진 리스트 num_list가 주어집니다. num_list에서 가장 작은 5개의 수를 제외한 수들을 오름차순으로 담은 리스트를 return하도록 solution 함수를 완성해주세요.\n",
        "\n",
        "제한사항\n",
        "6 ≤ num_list의 길이 ≤ 30\n",
        "1 ≤ num_list의 원소 ≤ 100\n",
        "입출력 예\n",
        "num_list\tresult\n",
        "[12, 4, 15, 46, 38, 1, 14, 56, 32, 10]\t[15, 32, 38, 46, 56]\n"
      ],
      "metadata": {
        "id": "d_jJLL7nFEzq"
      }
    },
    {
      "cell_type": "code",
      "execution_count": null,
      "metadata": {
        "id": "MezLq0OmFAEO"
      },
      "outputs": [],
      "source": [
        "def solution(num_list):\n",
        "    return list(sorted(num_list))[5:]"
      ]
    }
  ]
}