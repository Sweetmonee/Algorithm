{
  "nbformat": 4,
  "nbformat_minor": 0,
  "metadata": {
    "colab": {
      "provenance": [],
      "authorship_tag": "ABX9TyMscrgPC2oQiucDq8PIDehZ",
      "include_colab_link": true
    },
    "kernelspec": {
      "name": "python3",
      "display_name": "Python 3"
    },
    "language_info": {
      "name": "python"
    }
  },
  "cells": [
    {
      "cell_type": "markdown",
      "metadata": {
        "id": "view-in-github",
        "colab_type": "text"
      },
      "source": [
        "<a href=\"https://colab.research.google.com/github/Sweetmonee/Algorithm/blob/Programmers/3%EC%A4%91_for_%EB%AC%B8%2C%EC%82%BC%EC%B4%9D%EC%82%AC.ipynb\" target=\"_parent\"><img src=\"https://colab.research.google.com/assets/colab-badge.svg\" alt=\"Open In Colab\"/></a>"
      ]
    },
    {
      "cell_type": "code",
      "execution_count": null,
      "metadata": {
        "id": "bHnXbBWCOc9B"
      },
      "outputs": [],
      "source": [
        "# 한국중학교에 다니는 학생들은 각자 정수 번호를 갖고 있습니다. \n",
        "# 이 학교 학생 3명의 정수 번호를 더했을 때 0이 되면 3명의 학생은 삼총사라고 합니다. 예를 들어, 5명의 학생이 있고, \n",
        "# 각각의 정수 번호가 순서대로 -2, 3, 0, 2, -5일 때, 첫 번째, 세 번째, 네 번째 학생의 정수 번호를 더하면 0이므로 세 학생은 삼총사입니다. \n",
        "# 또한, 두 번째, 네 번째, 다섯 번째 학생의 정수 번호를 더해도 0이므로 세 학생도 삼총사입니다. 따라서 이 경우 한국중학교에서는 두 가지 방법으로 삼총사를 만들 수 있습니다.\n",
        "\n",
        "# 한국중학교 학생들의 번호를 나타내는 정수 배열 number가 매개변수로 주어질 때, 학생들 중 삼총사를 만들 수 있는 방법의 수를 return 하도록 solution 함수를 완성하세요.\n",
        "def solution(number):\n",
        "    answer = 0\n",
        "    bowl = []\n",
        "    for i in range(len(number)-2):\n",
        "        for j in range(i + 1, len(number)-1):\n",
        "            for t in range(j + 1, len(number)):\n",
        "                if number[i] + number[j] + number[t] == 0:\n",
        "                    bowl.append([number[i], number[j], number[t]])\n",
        "    return len(bowl)"
      ]
    }
  ]
}