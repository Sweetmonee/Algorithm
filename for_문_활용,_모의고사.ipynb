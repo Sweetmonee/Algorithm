{
  "nbformat": 4,
  "nbformat_minor": 0,
  "metadata": {
    "colab": {
      "provenance": [],
      "authorship_tag": "ABX9TyOypJrkGZ7ZStjpgCkR/KcJ",
      "include_colab_link": true
    },
    "kernelspec": {
      "name": "python3",
      "display_name": "Python 3"
    },
    "language_info": {
      "name": "python"
    }
  },
  "cells": [
    {
      "cell_type": "markdown",
      "metadata": {
        "id": "view-in-github",
        "colab_type": "text"
      },
      "source": [
        "<a href=\"https://colab.research.google.com/github/Sweetmonee/Algorithm/blob/Programmers/for_%EB%AC%B8_%ED%99%9C%EC%9A%A9%2C_%EB%AA%A8%EC%9D%98%EA%B3%A0%EC%82%AC.ipynb\" target=\"_parent\"><img src=\"https://colab.research.google.com/assets/colab-badge.svg\" alt=\"Open In Colab\"/></a>"
      ]
    },
    {
      "cell_type": "code",
      "execution_count": null,
      "metadata": {
        "id": "prRQrQUBRM06"
      },
      "outputs": [],
      "source": [
        "# 수포자는 수학을 포기한 사람의 준말입니다. 수포자 삼인방은 모의고사에 수학 문제를 전부 찍으려 합니다. 수포자는 1번 문제부터 마지막 문제까지 다음과 같이 찍습니다.\n",
        "\n",
        "# 1번 수포자가 찍는 방식: 1, 2, 3, 4, 5, 1, 2, 3, 4, 5, ...\n",
        "# 2번 수포자가 찍는 방식: 2, 1, 2, 3, 2, 4, 2, 5, 2, 1, 2, 3, 2, 4, 2, 5, ...\n",
        "# 3번 수포자가 찍는 방식: 3, 3, 1, 1, 2, 2, 4, 4, 5, 5, 3, 3, 1, 1, 2, 2, 4, 4, 5, 5, ...\n",
        "\n",
        "# 1번 문제부터 마지막 문제까지의 정답이 순서대로 들은 배열 answers가 주어졌을 때, 가장 많은 문제를 맞힌 사람이 누구인지 배열에 담아 return 하도록 solution 함수를 작성해주세요.\n",
        "def solution(answers):\n",
        "    answer = []\n",
        "    s1 = [1,2,3,4,5]\n",
        "    s2 = [2, 1, 2, 3, 2, 4, 2, 5] \n",
        "    s3 = [3, 3, 1, 1, 2, 2, 4, 4, 5, 5]\n",
        "    s1s = 0\n",
        "    s2s = 0\n",
        "    s3s = 0\n",
        "    for i in range(len(answers)):\n",
        "        if len(answers) <= len(s1):\n",
        "            if answers[i] == s1[i]:\n",
        "                s1s += 1\n",
        "        else:\n",
        "            if answers[i] == s1[i%(len(s1))]:\n",
        "                s1s += 1    \n",
        "    for i in range(len(answers)):\n",
        "        if len(answers) <= len(s2):\n",
        "            if answers[i] == s2[i]:\n",
        "                s2s += 1\n",
        "        else:\n",
        "            if answers[i] == s2[i%(len(s2))]:\n",
        "                s2s += 1\n",
        "    for i in range(len(answers)):\n",
        "        if len(answers) <= len(s3):\n",
        "            if answers[i] == s3[i]:\n",
        "                s3s += 1\n",
        "        else:\n",
        "            if answers[i] == s3[i%(len(s3))]:\n",
        "                s3s += 1\n",
        "    bowl = [s1s,s2s,s3s]     \n",
        "    for i in range(len(bowl)):\n",
        "        if bowl[i] == max(bowl):\n",
        "            answer.append(i+1)\n",
        "    return answer"
      ]
    }
  ]
}