{
  "nbformat": 4,
  "nbformat_minor": 0,
  "metadata": {
    "colab": {
      "provenance": [],
      "authorship_tag": "ABX9TyMn4BLU2ETCfo/mjjQFqgUN",
      "include_colab_link": true
    },
    "kernelspec": {
      "name": "python3",
      "display_name": "Python 3"
    },
    "language_info": {
      "name": "python"
    }
  },
  "cells": [
    {
      "cell_type": "markdown",
      "metadata": {
        "id": "view-in-github",
        "colab_type": "text"
      },
      "source": [
        "<a href=\"https://colab.research.google.com/github/Sweetmonee/Algorithm/blob/Programmers/divmod%2C_int%EC%A7%84%EC%88%98_%ED%99%9C%EC%9A%A9%2C_3%EC%A7%84%EB%B2%95_%EC%B0%8D%EA%B8%B0.ipynb\" target=\"_parent\"><img src=\"https://colab.research.google.com/assets/colab-badge.svg\" alt=\"Open In Colab\"/></a>"
      ]
    },
    {
      "cell_type": "code",
      "execution_count": null,
      "metadata": {
        "id": "3u-C7yJndEFN"
      },
      "outputs": [],
      "source": [
        "#자연수 n이 매개변수로 주어집니다. n을 3진법 상에서 앞뒤로 뒤집은 후, 이를 다시 10진법으로 표현한 수를 return 하도록 solution 함수를 완성해주세요.\n",
        "def solution(n):\n",
        "    answer = 0\n",
        "    three = ''\n",
        "\n",
        "    while n > 0:\n",
        "        n, mod = divmod(n, 3)\n",
        "        three += str(mod)\n",
        "\n",
        "    return int(three,3)"
      ]
    }
  ]
}