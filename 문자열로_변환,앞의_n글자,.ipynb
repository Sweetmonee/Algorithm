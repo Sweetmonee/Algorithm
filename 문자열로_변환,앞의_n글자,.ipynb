{
  "nbformat": 4,
  "nbformat_minor": 0,
  "metadata": {
    "colab": {
      "provenance": [],
      "authorship_tag": "ABX9TyPZg5B0LYWr5s8EGVOPFcPc",
      "include_colab_link": true
    },
    "kernelspec": {
      "name": "python3",
      "display_name": "Python 3"
    },
    "language_info": {
      "name": "python"
    }
  },
  "cells": [
    {
      "cell_type": "markdown",
      "metadata": {
        "id": "view-in-github",
        "colab_type": "text"
      },
      "source": [
        "<a href=\"https://colab.research.google.com/github/Sweetmonee/Algorithm/blob/Programmers/%EB%AC%B8%EC%9E%90%EC%97%B4%EB%A1%9C_%EB%B3%80%ED%99%98%2C%EC%95%9E%EC%9D%98_n%EA%B8%80%EC%9E%90%2C.ipynb\" target=\"_parent\"><img src=\"https://colab.research.google.com/assets/colab-badge.svg\" alt=\"Open In Colab\"/></a>"
      ]
    },
    {
      "cell_type": "markdown",
      "source": [
        "문자열로 변환\n",
        "문제 설명\n",
        "정수 n이 주어질 때, n을 문자열로 변환하여 return하도록 solution 함수를 완성해주세요.\n",
        "\n",
        "제한사항\n",
        "1 ≤ n ≤ 10000\n",
        "입출력 예\n",
        "n\tresult\n",
        "123\t\"123\"\n",
        "2573\t\"2573\""
      ],
      "metadata": {
        "id": "nivxtI779afX"
      }
    },
    {
      "cell_type": "code",
      "execution_count": null,
      "metadata": {
        "id": "ap4l_TKV9Xzq"
      },
      "outputs": [],
      "source": [
        "def solution(n):\n",
        "    return str(n)"
      ]
    },
    {
      "cell_type": "markdown",
      "source": [
        "문자열의 앞의 n글자\n",
        "문제 설명\n",
        "문자열 my_string과 정수 n이 매개변수로 주어질 때, my_string의 앞의 n글자로 이루어진 문자열을 return 하는 solution 함수를 작성해 주세요.\n",
        "\n",
        "제한사항\n",
        "my_string은 숫자와 알파벳으로 이루어져 있습니다.\n",
        "1 ≤ my_string의 길이 ≤ 1,000\n",
        "1 ≤ n ≤ my_string의 길이\n",
        "입출력 예\n",
        "my_string\tn\tresult\n",
        "\"ProgrammerS123\"\t11\t\"ProgrammerS\"\n",
        "\"He110W0r1d\"\t5\t\"He110\""
      ],
      "metadata": {
        "id": "FYsaH_LR9dYA"
      }
    },
    {
      "cell_type": "code",
      "source": [
        "def solution(my_string, n):\n",
        "    return my_string[:n]"
      ],
      "metadata": {
        "id": "lnbQkAsx9duI"
      },
      "execution_count": null,
      "outputs": []
    },
    {
      "cell_type": "markdown",
      "source": [
        "n 번째 원소까지\n",
        "문제 설명\n",
        "정수 리스트 num_list와 정수 n이 주어질 때, num_list의 첫 번째 원소부터 n 번째 원소까지의 모든 원소를 담은 리스트를 return하도록 solution 함수를 완성해주세요.\n",
        "\n",
        "제한사항\n",
        "2 ≤ num_list의 길이 ≤ 30\n",
        "1 ≤ num_list의 원소 ≤ 9\n",
        "1 ≤ n ≤ num_list의 길이 ___\n",
        "입출력 예\n",
        "num_list\tn\tresult\n",
        "[2, 1, 6]\t1\t[2]\n",
        "[5, 2, 1, 7, 5]\t3\t[5, 2, 1]"
      ],
      "metadata": {
        "id": "58qGFbV1-Dit"
      }
    },
    {
      "cell_type": "code",
      "source": [
        "def solution(num_list, n):\n",
        "    return num_list[:n]"
      ],
      "metadata": {
        "id": "3nb94x8x-Een"
      },
      "execution_count": null,
      "outputs": []
    }
  ]
}