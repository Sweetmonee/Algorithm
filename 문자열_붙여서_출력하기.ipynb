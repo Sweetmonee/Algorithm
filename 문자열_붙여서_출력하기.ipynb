{
  "nbformat": 4,
  "nbformat_minor": 0,
  "metadata": {
    "colab": {
      "provenance": [],
      "authorship_tag": "ABX9TyOF4aA8+2hcIh4n8NfxQnol",
      "include_colab_link": true
    },
    "kernelspec": {
      "name": "python3",
      "display_name": "Python 3"
    },
    "language_info": {
      "name": "python"
    }
  },
  "cells": [
    {
      "cell_type": "markdown",
      "metadata": {
        "id": "view-in-github",
        "colab_type": "text"
      },
      "source": [
        "<a href=\"https://colab.research.google.com/github/Sweetmonee/Algorithm/blob/Programmers/%EB%AC%B8%EC%9E%90%EC%97%B4_%EB%B6%99%EC%97%AC%EC%84%9C_%EC%B6%9C%EB%A0%A5%ED%95%98%EA%B8%B0.ipynb\" target=\"_parent\"><img src=\"https://colab.research.google.com/assets/colab-badge.svg\" alt=\"Open In Colab\"/></a>"
      ]
    },
    {
      "cell_type": "markdown",
      "source": [
        "문자열 붙여서 출력하기\n",
        "문제 설명\n",
        "두 개의 문자열 str1, str2가 공백으로 구분되어 입력으로 주어집니다.\n",
        "입출력 예와 같이 str1과 str2을 이어서 출력하는 코드를 작성해 보세요.\n",
        "\n",
        "제한사항\n",
        "1 ≤ str1, str2의 길이 ≤ 10\n",
        "입출력 예\n",
        "입력 #1\n",
        "\n",
        "apple pen\n",
        "출력 #1\n",
        "\n",
        "applepen"
      ],
      "metadata": {
        "id": "bSZA-rJuwji5"
      }
    },
    {
      "cell_type": "code",
      "source": [],
      "metadata": {
        "id": "4iQbmAwRwpD-"
      },
      "execution_count": null,
      "outputs": []
    },
    {
      "cell_type": "code",
      "execution_count": null,
      "metadata": {
        "id": "4A6h9zR3wMmJ"
      },
      "outputs": [],
      "source": [
        "str1, str2 = input().strip().split(' ')\n",
        "print(str1 + str2)\n"
      ]
    }
  ]
}