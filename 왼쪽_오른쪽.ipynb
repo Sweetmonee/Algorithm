{
  "nbformat": 4,
  "nbformat_minor": 0,
  "metadata": {
    "colab": {
      "provenance": [],
      "authorship_tag": "ABX9TyMvP/wiqk2NWBb2k8B1Pwmj",
      "include_colab_link": true
    },
    "kernelspec": {
      "name": "python3",
      "display_name": "Python 3"
    },
    "language_info": {
      "name": "python"
    }
  },
  "cells": [
    {
      "cell_type": "markdown",
      "metadata": {
        "id": "view-in-github",
        "colab_type": "text"
      },
      "source": [
        "<a href=\"https://colab.research.google.com/github/Sweetmonee/Algorithm/blob/Programmers/%EC%99%BC%EC%AA%BD_%EC%98%A4%EB%A5%B8%EC%AA%BD.ipynb\" target=\"_parent\"><img src=\"https://colab.research.google.com/assets/colab-badge.svg\" alt=\"Open In Colab\"/></a>"
      ]
    },
    {
      "cell_type": "markdown",
      "source": [
        "왼쪽 오른쪽\n",
        "문제 설명\n",
        "문자열 리스트 str_list에는 \"u\", \"d\", \"l\", \"r\" 네 개의 문자열이 여러 개 저장되어 있습니다. str_list에서 \"l\"과 \"r\" 중 먼저 나오는 문자열이 \"l\"이라면 해당 문자열을 기준으로 왼쪽에 있는 문자열들을 순서대로 담은 리스트를, 먼저 나오는 문자열이 \"r\"이라면 해당 문자열을 기준으로 오른쪽에 있는 문자열들을 순서대로 담은 리스트를 return하도록 solution 함수를 완성해주세요. \"l\"이나 \"r\"이 없다면 빈 리스트를 return합니다.\n",
        "\n",
        "제한사항\n",
        "1 ≤ str_list의 길이 ≤ 20\n",
        "str_list는 \"u\", \"d\", \"l\", \"r\" 네 개의 문자열로 이루어져 있습니다.\n",
        "입출력 예\n",
        "str_list\tresult\n",
        "[\"u\", \"u\", \"l\", \"r\"]\t[\"u\", \"u\"]\n",
        "[\"l\"]\t[]"
      ],
      "metadata": {
        "id": "6UNOLOcrKP6p"
      }
    },
    {
      "cell_type": "code",
      "execution_count": null,
      "metadata": {
        "id": "0uicy9cYKPCP"
      },
      "outputs": [],
      "source": [
        "def solution(str_list):\n",
        "    answer = []\n",
        "    for i in range(len(str_list)):\n",
        "        if str_list[i] == 'l':\n",
        "            answer = str_list[:i]\n",
        "            break\n",
        "        elif str_list[i] == 'r':\n",
        "            answer = str_list[i + 1:]\n",
        "            break\n",
        "    return answer"
      ]
    }
  ]
}