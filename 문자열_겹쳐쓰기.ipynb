{
  "nbformat": 4,
  "nbformat_minor": 0,
  "metadata": {
    "colab": {
      "provenance": [],
      "authorship_tag": "ABX9TyMrInVzMbkGlI6iVriwuNDp",
      "include_colab_link": true
    },
    "kernelspec": {
      "name": "python3",
      "display_name": "Python 3"
    },
    "language_info": {
      "name": "python"
    }
  },
  "cells": [
    {
      "cell_type": "markdown",
      "metadata": {
        "id": "view-in-github",
        "colab_type": "text"
      },
      "source": [
        "<a href=\"https://colab.research.google.com/github/Sweetmonee/Algorithm/blob/Programmers/%EB%AC%B8%EC%9E%90%EC%97%B4_%EA%B2%B9%EC%B3%90%EC%93%B0%EA%B8%B0.ipynb\" target=\"_parent\"><img src=\"https://colab.research.google.com/assets/colab-badge.svg\" alt=\"Open In Colab\"/></a>"
      ]
    },
    {
      "cell_type": "markdown",
      "source": [
        "문자열 겹쳐쓰기\n",
        "문제 설명\n",
        "문자열 my_string, overwrite_string과 정수 s가 주어집니다. 문자열 my_string의 인덱스 s부터 overwrite_string의 길이만큼을 문자열 overwrite_string으로 바꾼 문자열을 return 하는 solution 함수를 작성해 주세요.\n",
        "\n",
        "제한사항\n",
        "my_string와 overwrite_string은 숫자와 알파벳으로 이루어져 있습니다.\n",
        "1 ≤ overwrite_string의 길이 ≤ my_string의 길이 ≤ 1,000\n",
        "0 ≤ s ≤ my_string의 길이 - overwrite_string의 길이\n",
        "입출력 예\n",
        "my_string\toverwrite_string\ts\tresult\n",
        "\"He11oWor1d\"\t\"lloWorl\"\t2\t\"HelloWorld\"\n",
        "\"Program29b8UYP\"\t\"merS123\"\t7\t\"ProgrammerS123"
      ],
      "metadata": {
        "id": "Y_WCJhd5p0g_"
      }
    },
    {
      "cell_type": "code",
      "execution_count": null,
      "metadata": {
        "id": "vCWeMLtgpyyO"
      },
      "outputs": [],
      "source": [
        "def solution(my_string, overwrite_string, s):\n",
        "    return my_string[:s] + overwrite_string + my_string[s +len(overwrite_string):]"
      ]
    }
  ]
}