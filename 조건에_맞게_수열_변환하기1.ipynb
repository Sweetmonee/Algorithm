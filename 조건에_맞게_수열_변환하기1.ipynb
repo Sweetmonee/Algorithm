{
  "nbformat": 4,
  "nbformat_minor": 0,
  "metadata": {
    "colab": {
      "provenance": [],
      "authorship_tag": "ABX9TyOX0IIknXW76wnTgIOe7h3L",
      "include_colab_link": true
    },
    "kernelspec": {
      "name": "python3",
      "display_name": "Python 3"
    },
    "language_info": {
      "name": "python"
    }
  },
  "cells": [
    {
      "cell_type": "markdown",
      "metadata": {
        "id": "view-in-github",
        "colab_type": "text"
      },
      "source": [
        "<a href=\"https://colab.research.google.com/github/Sweetmonee/Algorithm/blob/Programmers/%EC%A1%B0%EA%B1%B4%EC%97%90_%EB%A7%9E%EA%B2%8C_%EC%88%98%EC%97%B4_%EB%B3%80%ED%99%98%ED%95%98%EA%B8%B01.ipynb\" target=\"_parent\"><img src=\"https://colab.research.google.com/assets/colab-badge.svg\" alt=\"Open In Colab\"/></a>"
      ]
    },
    {
      "cell_type": "markdown",
      "source": [
        "조건에 맞게 수열 변환하기 1\n",
        "문제 설명\n",
        "정수 배열 arr가 주어집니다. arr의 각 원소에 대해 값이 50보다 크거나 같은 짝수라면 2로 나누고, 50보다 작은 홀수라면 2를 곱합니다. 그 결과인 정수 배열을 return 하는 solution 함수를 완성해 주세요.\n",
        "\n",
        "제한사항\n",
        "1 ≤ arr의 길이 ≤ 1,000,000\n",
        "1 ≤ arr의 원소의 값 ≤ 100\n",
        "입출력 예\n",
        "arr\tresult\n",
        "[1, 2, 3, 100, 99, 98]\t[2, 2, 6, 50, 99, 49]"
      ],
      "metadata": {
        "id": "vUP0hcVsB4gz"
      }
    },
    {
      "cell_type": "code",
      "execution_count": null,
      "metadata": {
        "id": "7Vx9dXJ_B4He"
      },
      "outputs": [],
      "source": [
        "#내 정답\n",
        "def solution(arr):\n",
        "    answer = []\n",
        "    for i in arr:\n",
        "        if i >= 50 and i % 2 == 0:\n",
        "            answer.append(i//2)\n",
        "        elif i < 50 and i % 2 != 0:\n",
        "            answer.append(i*2)\n",
        "        else:\n",
        "            answer.append(i)\n",
        "    return answer"
      ]
    },
    {
      "cell_type": "code",
      "source": [
        "#한줄 표현\n",
        "def solution(arr):\n",
        "    return [num/2 if num>=50 and num%2==0 else (num*2 if num<50 and num%2==1 else num) for num in arr]"
      ],
      "metadata": {
        "id": "RIDlky0AB43-"
      },
      "execution_count": null,
      "outputs": []
    }
  ]
}