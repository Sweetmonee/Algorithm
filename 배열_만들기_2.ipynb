{
  "nbformat": 4,
  "nbformat_minor": 0,
  "metadata": {
    "colab": {
      "provenance": [],
      "authorship_tag": "ABX9TyNnwvAv+LMjSQnm9VHr1Kpm",
      "include_colab_link": true
    },
    "kernelspec": {
      "name": "python3",
      "display_name": "Python 3"
    },
    "language_info": {
      "name": "python"
    }
  },
  "cells": [
    {
      "cell_type": "markdown",
      "metadata": {
        "id": "view-in-github",
        "colab_type": "text"
      },
      "source": [
        "<a href=\"https://colab.research.google.com/github/Sweetmonee/Algorithm/blob/Programmers/%EB%B0%B0%EC%97%B4_%EB%A7%8C%EB%93%A4%EA%B8%B0_2.ipynb\" target=\"_parent\"><img src=\"https://colab.research.google.com/assets/colab-badge.svg\" alt=\"Open In Colab\"/></a>"
      ]
    },
    {
      "cell_type": "markdown",
      "source": [
        "배열 만들기 2\n",
        "문제 설명\n",
        "정수 l과 r이 주어졌을 때, l 이상 r이하의 정수 중에서 숫자 \"0\"과 \"5\"로만 이루어진 모든 정수를 오름차순으로 저장한 배열을 return 하는 solution 함수를 완성해 주세요.\n",
        "\n",
        "만약 그러한 정수가 없다면, -1이 담긴 배열을 return 합니다.\n",
        "\n",
        "제한사항\n",
        "1 ≤ l ≤ r ≤ 1,000,000\n",
        "입출력 예\n",
        "l\tr\tresult\n",
        "5\t555\t[5, 50, 55, 500, 505, 550, 555]\n",
        "10\t20\t[-1]"
      ],
      "metadata": {
        "id": "QyRn9Z0uAEYO"
      }
    },
    {
      "cell_type": "code",
      "execution_count": null,
      "metadata": {
        "id": "25sWID1sADut"
      },
      "outputs": [],
      "source": [
        "def solution(l, r):\n",
        "    answer = []\n",
        "    test = ['1','2','3','4','6','7','8','9']\n",
        "    for i in range(l, r+1):\n",
        "        bowl = []\n",
        "        for j in list(map(int,str(i))):\n",
        "            if str(j) in test:\n",
        "                bowl.append(j)\n",
        "        if len(bowl) == 0:\n",
        "            answer.append(i)\n",
        "    return answer if len(answer) != 0 else [-1]"
      ]
    }
  ]
}