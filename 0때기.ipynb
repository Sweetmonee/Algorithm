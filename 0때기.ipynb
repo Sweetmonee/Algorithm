{
  "nbformat": 4,
  "nbformat_minor": 0,
  "metadata": {
    "colab": {
      "provenance": [],
      "authorship_tag": "ABX9TyPlmNo1JGSrD0DieIQTK6V2",
      "include_colab_link": true
    },
    "kernelspec": {
      "name": "python3",
      "display_name": "Python 3"
    },
    "language_info": {
      "name": "python"
    }
  },
  "cells": [
    {
      "cell_type": "markdown",
      "metadata": {
        "id": "view-in-github",
        "colab_type": "text"
      },
      "source": [
        "<a href=\"https://colab.research.google.com/github/Sweetmonee/Algorithm/blob/Programmers/0%EB%95%8C%EA%B8%B0.ipynb\" target=\"_parent\"><img src=\"https://colab.research.google.com/assets/colab-badge.svg\" alt=\"Open In Colab\"/></a>"
      ]
    },
    {
      "cell_type": "markdown",
      "source": [
        "0 떼기\n",
        "문제 설명\n",
        "정수로 이루어진 문자열 n_str이 주어질 때, n_str의 가장 왼쪽에 처음으로 등장하는 0들을 뗀 문자열을 return하도록 solution 함수를 완성해주세요.\n",
        "\n",
        "제한사항\n",
        "2 ≤ n_str ≤ 10\n",
        "n_str이 \"0\"으로만 이루어진 경우는 없습니다.\n",
        "입출력 예\n",
        "n_str\tresult\n",
        "\"0010\"\t\"10\"\n",
        "\"854020\"\t\"854020\""
      ],
      "metadata": {
        "id": "vFDoW-Ka0eA8"
      }
    },
    {
      "cell_type": "code",
      "execution_count": null,
      "metadata": {
        "id": "UWP5Vgzn0dAO"
      },
      "outputs": [],
      "source": [
        "#내 정답\n",
        "def solution(n_str):\n",
        "    answer = 0\n",
        "    for i in range(len(n_str)):\n",
        "        if n_str[i] == '0':\n",
        "            continue\n",
        "        else:\n",
        "            answer = i\n",
        "            break\n",
        "    return n_str[answer:]"
      ]
    },
    {
      "cell_type": "code",
      "source": [
        "# 멋진 정답\n",
        "def solution(n_str):\n",
        "    return str(int(n_str))"
      ],
      "metadata": {
        "id": "tLj3eF2W0eXV"
      },
      "execution_count": null,
      "outputs": []
    }
  ]
}