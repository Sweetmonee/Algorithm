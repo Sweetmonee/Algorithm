{
  "nbformat": 4,
  "nbformat_minor": 0,
  "metadata": {
    "colab": {
      "provenance": [],
      "authorship_tag": "ABX9TyNZ3FIkBGgZY+PGHGKwB9wK",
      "include_colab_link": true
    },
    "kernelspec": {
      "name": "python3",
      "display_name": "Python 3"
    },
    "language_info": {
      "name": "python"
    }
  },
  "cells": [
    {
      "cell_type": "markdown",
      "metadata": {
        "id": "view-in-github",
        "colab_type": "text"
      },
      "source": [
        "<a href=\"https://colab.research.google.com/github/Sweetmonee/Algorithm/blob/Programmers/%EC%88%98%EC%97%B4%EA%B3%BC_%EA%B5%AC%EA%B0%84_%EC%BF%BC%EB%A6%AC_1.ipynb\" target=\"_parent\"><img src=\"https://colab.research.google.com/assets/colab-badge.svg\" alt=\"Open In Colab\"/></a>"
      ]
    },
    {
      "cell_type": "markdown",
      "source": [
        "수열과 구간 쿼리 1\n",
        "문제 설명\n",
        "정수 배열 arr와 2차원 정수 배열 queries이 주어집니다. queries의 원소는 각각 하나의 query를 나타내며, [s, e] 꼴입니다.\n",
        "\n",
        "각 query마다 순서대로 s ≤ i ≤ e인 모든 i에 대해 arr[i]에 1을 더합니다.\n",
        "\n",
        "위 규칙에 따라 queries를 처리한 이후의 arr를 return 하는 solution 함수를 완성해 주세요.\n",
        "\n",
        "제한사항\n",
        "1 ≤ arr의 길이 ≤ 1,000\n",
        "0 ≤ arr의 원소 ≤ 1,000,000\n",
        "1 ≤ queries의 길이 ≤ 1,000\n",
        "0 ≤ s ≤ e < arr의 길이\n",
        "입출력 예\n",
        "arr\tqueries\tresult\n",
        "[0, 1, 2, 3, 4]\t[[0, 1],[1, 2],[2, 3]]\t[1, 3, 4, 4, 4]"
      ],
      "metadata": {
        "id": "xxcMoxPnOLMx"
      }
    },
    {
      "cell_type": "code",
      "execution_count": null,
      "metadata": {
        "id": "7JQWJdqdOKK-"
      },
      "outputs": [],
      "source": [
        "def solution(arr, queries):\n",
        "    answer = arr.copy()\n",
        "    for j in queries:\n",
        "        for i in range(j[0], j[1] + 1):\n",
        "            answer[i] += 1\n",
        "    return answer"
      ]
    }
  ]
}