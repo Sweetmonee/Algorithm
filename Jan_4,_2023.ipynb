{
  "nbformat": 4,
  "nbformat_minor": 0,
  "metadata": {
    "colab": {
      "provenance": [],
      "authorship_tag": "ABX9TyMaSZtxeb/fp6Nw7WWtJ8pc",
      "include_colab_link": true
    },
    "kernelspec": {
      "name": "python3",
      "display_name": "Python 3"
    },
    "language_info": {
      "name": "python"
    }
  },
  "cells": [
    {
      "cell_type": "markdown",
      "metadata": {
        "id": "view-in-github",
        "colab_type": "text"
      },
      "source": [
        "<a href=\"https://colab.research.google.com/github/Sweetmonee/Algorithm/blob/Programmers/Jan_4%2C_2023.ipynb\" target=\"_parent\"><img src=\"https://colab.research.google.com/assets/colab-badge.svg\" alt=\"Open In Colab\"/></a>"
      ]
    },
    {
      "cell_type": "code",
      "execution_count": null,
      "metadata": {
        "id": "8Ap0B6oqMVoH"
      },
      "outputs": [],
      "source": [
        "# 머쓱이는 프로그래머스에 로그인하려고 합니다.\n",
        "# 머쓱이가 입력한 아이디와 패스워드가 담긴 배열 id_pw와 회원들의 정보가 담긴 2차원 배열 db가 주어질 때, 다음과 같이 로그인 성공, 실패에 따른 메시지를 return하도록 solution 함수를 완성해주세요.\n",
        "\n",
        "# 아이디와 비밀번호가 모두 일치하는 회원정보가 있으면 \"login\"을 return합니다.\n",
        "# 로그인이 실패했을 때 아이디가 일치하는 회원이 없다면 “fail”를, 아이디는 일치하지만 비밀번호가 일치하는 회원이 없다면 “wrong pw”를 return 합니다.\n",
        "def solution(id_pw, db):\n",
        "    answer = ''\n",
        "    for i in db:\n",
        "        if i == id_pw:\n",
        "            answer = 'login'\n",
        "            break\n",
        "        elif i[0] == id_pw[0] and i[1] != id_pw[1]:\n",
        "            answer = 'wrong pw'\n",
        "            break\n",
        "        else:\n",
        "            answer = 'fail'\n",
        "    return answer"
      ]
    }
  ]
}