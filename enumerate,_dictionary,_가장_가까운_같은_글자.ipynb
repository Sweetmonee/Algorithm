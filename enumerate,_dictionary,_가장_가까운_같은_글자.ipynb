{
  "nbformat": 4,
  "nbformat_minor": 0,
  "metadata": {
    "colab": {
      "provenance": [],
      "authorship_tag": "ABX9TyPjUE/Y65vvLZtMCf/jFTxT",
      "include_colab_link": true
    },
    "kernelspec": {
      "name": "python3",
      "display_name": "Python 3"
    },
    "language_info": {
      "name": "python"
    }
  },
  "cells": [
    {
      "cell_type": "markdown",
      "metadata": {
        "id": "view-in-github",
        "colab_type": "text"
      },
      "source": [
        "<a href=\"https://colab.research.google.com/github/Sweetmonee/Algorithm/blob/Programmers/enumerate%2C_dictionary%2C_%EA%B0%80%EC%9E%A5_%EA%B0%80%EA%B9%8C%EC%9A%B4_%EA%B0%99%EC%9D%80_%EA%B8%80%EC%9E%90.ipynb\" target=\"_parent\"><img src=\"https://colab.research.google.com/assets/colab-badge.svg\" alt=\"Open In Colab\"/></a>"
      ]
    },
    {
      "cell_type": "markdown",
      "source": [
        "문자열 s가 주어졌을 때, s의 각 위치마다 자신보다 앞에 나왔으면서, 자신과 가장 가까운 곳에 있는 같은 글자가 어디 있는지 알고 싶습니다.\n",
        "예를 들어, s=\"banana\"라고 할 때,  각 글자들을 왼쪽부터 오른쪽으로 읽어 나가면서 다음과 같이 진행할 수 있습니다.\n",
        "\n",
        "b는 처음 나왔기 때문에 자신의 앞에 같은 글자가 없습니다. 이는 -1로 표현합니다.\n",
        "a는 처음 나왔기 때문에 자신의 앞에 같은 글자가 없습니다. 이는 -1로 표현합니다.\n",
        "n은 처음 나왔기 때문에 자신의 앞에 같은 글자가 없습니다. 이는 -1로 표현합니다.\n",
        "a는 자신보다 두 칸 앞에 a가 있습니다. 이는 2로 표현합니다.\n",
        "n도 자신보다 두 칸 앞에 n이 있습니다. 이는 2로 표현합니다.\n",
        "a는 자신보다 두 칸, 네 칸 앞에 a가 있습니다. 이 중 가까운 것은 두 칸 앞이고, 이는 2로 표현합니다.\n",
        "따라서 최종 결과물은 [-1, -1, -1, 2, 2, 2]가 됩니다.\n",
        "\n",
        "문자열 s이 주어질 때, 위와 같이 정의된 연산을 수행하는 함수 solution을 완성해주세요.\n",
        "\n",
        "제한사항\n",
        "1 ≤ s의 길이 ≤ 10,000\n",
        "s은 영어 소문자로만 이루어져 있습니다."
      ],
      "metadata": {
        "id": "WY_xF3mWSxFB"
      }
    },
    {
      "cell_type": "code",
      "execution_count": null,
      "metadata": {
        "id": "K-Ejfp3PSkFu"
      },
      "outputs": [],
      "source": [
        "def solution(s):\n",
        "    bowl = []\n",
        "    bowl2 = {}\n",
        "    for i,j in enumerate(s):\n",
        "        if s[i] not in bowl2:\n",
        "            bowl.append(-1)\n",
        "            bowl2[j] = i\n",
        "        else:\n",
        "            bowl.append(i-(bowl2[j]))\n",
        "            bowl2[j] = i\n",
        "    return bowl"
      ]
    }
  ]
}