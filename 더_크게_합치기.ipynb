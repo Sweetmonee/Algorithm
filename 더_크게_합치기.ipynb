{
  "nbformat": 4,
  "nbformat_minor": 0,
  "metadata": {
    "colab": {
      "provenance": [],
      "authorship_tag": "ABX9TyM9REfQqR4ocjpZ38a2F1yl",
      "include_colab_link": true
    },
    "kernelspec": {
      "name": "python3",
      "display_name": "Python 3"
    },
    "language_info": {
      "name": "python"
    }
  },
  "cells": [
    {
      "cell_type": "markdown",
      "metadata": {
        "id": "view-in-github",
        "colab_type": "text"
      },
      "source": [
        "<a href=\"https://colab.research.google.com/github/Sweetmonee/Algorithm/blob/Programmers/%EB%8D%94_%ED%81%AC%EA%B2%8C_%ED%95%A9%EC%B9%98%EA%B8%B0.ipynb\" target=\"_parent\"><img src=\"https://colab.research.google.com/assets/colab-badge.svg\" alt=\"Open In Colab\"/></a>"
      ]
    },
    {
      "cell_type": "markdown",
      "source": [
        "더 크게 합치기\n",
        "문제 설명\n",
        "연산 ⊕는 두 정수에 대한 연산으로 두 정수를 붙여서 쓴 값을 반환합니다. 예를 들면 다음과 같습니다.\n",
        "\n",
        "12 ⊕ 3 = 123\n",
        "3 ⊕ 12 = 312\n",
        "양의 정수 a와 b가 주어졌을 때, a ⊕ b와 b ⊕ a 중 더 큰 값을 return 하는 solution 함수를 완성해 주세요.\n",
        "\n",
        "단, a ⊕ b와 b ⊕ a가 같다면 a ⊕ b를 return 합니다.\n",
        "\n",
        "제한사항\n",
        "1 ≤ a, b < 10,000\n",
        "입출력 예\n",
        "a\tb\tresult\n",
        "9\t91\t991\n",
        "89\t8\t898"
      ],
      "metadata": {
        "id": "1O3BrQZfHayp"
      }
    },
    {
      "cell_type": "code",
      "execution_count": null,
      "metadata": {
        "id": "18E0jijQHaRN"
      },
      "outputs": [],
      "source": [
        "#내 정답\n",
        "def solution(a, b):\n",
        "    return int(str(a) + str(b)) if int(str(a) + str(b)) > int(str(b) + str(a)) else int(str(b) + str(a))\n",
        "#정답 2\n",
        "def solution(a, b):\n",
        "    return max(int(str(a) + str(b)), int(str(b) + str(a)))"
      ]
    },
    {
      "cell_type": "code",
      "source": [],
      "metadata": {
        "id": "nbks-8GHHbJQ"
      },
      "execution_count": null,
      "outputs": []
    }
  ]
}