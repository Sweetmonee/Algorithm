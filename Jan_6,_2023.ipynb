{
  "nbformat": 4,
  "nbformat_minor": 0,
  "metadata": {
    "colab": {
      "provenance": [],
      "authorship_tag": "ABX9TyMxztlHFE2/apfO7mZXatBE",
      "include_colab_link": true
    },
    "kernelspec": {
      "name": "python3",
      "display_name": "Python 3"
    },
    "language_info": {
      "name": "python"
    }
  },
  "cells": [
    {
      "cell_type": "markdown",
      "metadata": {
        "id": "view-in-github",
        "colab_type": "text"
      },
      "source": [
        "<a href=\"https://colab.research.google.com/github/Sweetmonee/Algorithm/blob/Programmers/Jan_6%2C_2023.ipynb\" target=\"_parent\"><img src=\"https://colab.research.google.com/assets/colab-badge.svg\" alt=\"Open In Colab\"/></a>"
      ]
    },
    {
      "cell_type": "code",
      "source": [
        "# 정수 배열 num_list와 정수 n이 매개변수로 주어집니다. \n",
        "# num_list를 다음 설명과 같이 2차원 배열로 바꿔 return하도록 solution 함수를 완성해주세요.\n",
        "# num_list가 [1, 2, 3, 4, 5, 6, 7, 8] 로 길이가 8이고 n이 2이므로 num_list를 2 * 4 배열로 다음과 같이 변경합니다. \n",
        "# 2차원으로 바꿀 때에는 num_list의 원소들을 앞에서부터 n개씩 나눠 2차원 배열로 변경합니다.\n",
        "def solution(num_list, n):\n",
        "    answer = []\n",
        "    array = list(range(0,len(num_list),n))\n",
        "    for i in array:\n",
        "        answer.append(num_list[0+i:n+i])\n",
        "    return answer"
      ],
      "metadata": {
        "id": "KUqaa29eJXNj"
      },
      "execution_count": null,
      "outputs": []
    },
    {
      "cell_type": "code",
      "execution_count": null,
      "metadata": {
        "id": "2bxcC3-9JNyl"
      },
      "outputs": [],
      "source": [
        "import numpy as np\n",
        "def solution(num_list, n):\n",
        "    li = np.array(num_list).reshape(-1,n)\n",
        "    return li.tolist()"
      ]
    }
  ]
}