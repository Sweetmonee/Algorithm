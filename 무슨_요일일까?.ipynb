{
  "nbformat": 4,
  "nbformat_minor": 0,
  "metadata": {
    "colab": {
      "provenance": [],
      "authorship_tag": "ABX9TyO08EGnJp9q6tyEwgomedMx",
      "include_colab_link": true
    },
    "kernelspec": {
      "name": "python3",
      "display_name": "Python 3"
    },
    "language_info": {
      "name": "python"
    }
  },
  "cells": [
    {
      "cell_type": "markdown",
      "metadata": {
        "id": "view-in-github",
        "colab_type": "text"
      },
      "source": [
        "<a href=\"https://colab.research.google.com/github/Sweetmonee/Algorithm/blob/Programmers/%EB%AC%B4%EC%8A%A8_%EC%9A%94%EC%9D%BC%EC%9D%BC%EA%B9%8C%3F.ipynb\" target=\"_parent\"><img src=\"https://colab.research.google.com/assets/colab-badge.svg\" alt=\"Open In Colab\"/></a>"
      ]
    },
    {
      "cell_type": "markdown",
      "source": [
        "2016년 1월 1일은 금요일입니다. 2016년 a월 b일은 무슨 요일일까요? 두 수 a ,b를 입력받아 2016년 a월 b일이 무슨 요일인지 리턴하는 함수, solution을 완성하세요. 요일의 이름은 일요일부터 토요일까지 각각 SUN,MON,TUE,WED,THU,FRI,SAT\n",
        "\n",
        "입니다. 예를 들어 a=5, b=24라면 5월 24일은 화요일이므로 문자열 \"TUE\"를 반환하세요.\n",
        "\n",
        "제한 조건\n",
        "2016년은 윤년입니다.\n",
        "2016년 a월 b일은 실제로 있는 날입니다. (13월 26일이나 2월 45일같은 날짜는 주어지지 않습니다)\n"
      ],
      "metadata": {
        "id": "AiYJj8pvRkyw"
      }
    },
    {
      "cell_type": "code",
      "execution_count": null,
      "metadata": {
        "id": "WoheCiKtRg_T"
      },
      "outputs": [],
      "source": [
        "def solution(a, b):\n",
        "    answer = ''\n",
        "    week = ['THU', 'FRI', 'SAT', 'SUN', 'MON', 'TUE', 'WED']\n",
        "    year = [31,29,31,30,31,30,31,31,30,31,30,31]\n",
        "    if a == 0:\n",
        "        answer = week[(b%7)]\n",
        "    else:\n",
        "        bowl = 0\n",
        "        for i in range(0, a - 1):\n",
        "            bowl += year[i]\n",
        "        bowl += b\n",
        "        answer = week[(bowl%7)]\n",
        "    return answer\n",
        "    #내 정답"
      ]
    },
    {
      "cell_type": "code",
      "source": [
        "\n",
        "def getDayName(a,b):\n",
        "    month = [31, 29, 31, 30, 31, 30, 31, 31, 30, 31, 30, 31]\n",
        "    day = [ 'THU', 'FRI', 'SAT', 'SUN', 'MON', 'TUE', 'WED']\n",
        "    return day[(sum(month[:a-1])+b)%7]\n"
      ],
      "metadata": {
        "id": "aQM93sylRrPP"
      },
      "execution_count": null,
      "outputs": []
    }
  ]
}