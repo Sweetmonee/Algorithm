{
  "nbformat": 4,
  "nbformat_minor": 0,
  "metadata": {
    "colab": {
      "provenance": [],
      "authorship_tag": "ABX9TyMH8+iuiRYszlNW+V8liqDA",
      "include_colab_link": true
    },
    "kernelspec": {
      "name": "python3",
      "display_name": "Python 3"
    },
    "language_info": {
      "name": "python"
    }
  },
  "cells": [
    {
      "cell_type": "markdown",
      "metadata": {
        "id": "view-in-github",
        "colab_type": "text"
      },
      "source": [
        "<a href=\"https://colab.research.google.com/github/Sweetmonee/Algorithm/blob/Programmers/%ED%99%80%EC%A7%9D_%EA%B5%AC%EB%B6%84%ED%95%98%EA%B8%B0.ipynb\" target=\"_parent\"><img src=\"https://colab.research.google.com/assets/colab-badge.svg\" alt=\"Open In Colab\"/></a>"
      ]
    },
    {
      "cell_type": "markdown",
      "source": [
        "홀짝 구분하기\n",
        "문제 설명\n",
        "자연수 n이 입력으로 주어졌을 때 만약 n이 짝수이면 \"n is even\"을, 홀수이면 \"n is odd\"를 출력하는 코드를 작성해 보세요.\n",
        "\n"
      ],
      "metadata": {
        "id": "mYiKeP0B-yjZ"
      }
    },
    {
      "cell_type": "code",
      "source": [
        "a = int(input())\n",
        "print(a,'is even') if a % 2 == 0 else print(a,'is odd')"
      ],
      "metadata": {
        "id": "pNVzPpSx-24f"
      },
      "execution_count": null,
      "outputs": []
    },
    {
      "cell_type": "code",
      "execution_count": null,
      "metadata": {
        "id": "RS6Ot_O0-xkz"
      },
      "outputs": [],
      "source": []
    }
  ]
}