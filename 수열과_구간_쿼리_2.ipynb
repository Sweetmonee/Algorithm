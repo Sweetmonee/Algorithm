{
  "nbformat": 4,
  "nbformat_minor": 0,
  "metadata": {
    "colab": {
      "provenance": [],
      "authorship_tag": "ABX9TyNks30eql+vdpCD92yfjVVj",
      "include_colab_link": true
    },
    "kernelspec": {
      "name": "python3",
      "display_name": "Python 3"
    },
    "language_info": {
      "name": "python"
    }
  },
  "cells": [
    {
      "cell_type": "markdown",
      "metadata": {
        "id": "view-in-github",
        "colab_type": "text"
      },
      "source": [
        "<a href=\"https://colab.research.google.com/github/Sweetmonee/Algorithm/blob/Programmers/%EC%88%98%EC%97%B4%EA%B3%BC_%EA%B5%AC%EA%B0%84_%EC%BF%BC%EB%A6%AC_2.ipynb\" target=\"_parent\"><img src=\"https://colab.research.google.com/assets/colab-badge.svg\" alt=\"Open In Colab\"/></a>"
      ]
    },
    {
      "cell_type": "code",
      "execution_count": null,
      "metadata": {
        "id": "oJRp8BN3pbBa"
      },
      "outputs": [],
      "source": [
        "수열과 구간 쿼리 2\n",
        "문제 설명\n",
        "정수 배열 arr와 2차원 정수 배열 queries이 주어집니다. queries의 원소는 각각 하나의 query를 나타내며, [s, e, k] 꼴입니다.\n",
        "\n",
        "각 query마다 순서대로 s ≤ i ≤ e인 모든 i에 대해 k보다 크면서 가장 작은 arr[i]를 찾습니다.\n",
        "\n",
        "각 쿼리의 순서에 맞게 답을 저장한 배열을 반환하는 solution 함수를 완성해 주세요.\n",
        "단, 특정 쿼리의 답이 존재하지 않으면 -1을 저장합니다.\n",
        "\n",
        "제한사항\n",
        "1 ≤ arr의 길이 ≤ 1,000\n",
        "0 ≤ arr의 원소 ≤ 1,000,000\n",
        "1 ≤ queries의 길이 ≤ 1,000\n",
        "0 ≤ s ≤ e < arr의 길이\n",
        "0 ≤ k ≤ 1,000,000\n",
        "입출력 예\n",
        "arr\tqueries\tresult\n",
        "[0, 1, 2, 4, 3]\t[[0, 4, 2],[0, 3, 2],[0, 2, 2]]\t[3, 4, -1]"
      ]
    },
    {
      "cell_type": "code",
      "source": [
        "def solution(arr, queries):\n",
        "    answer = []\n",
        "    for i in queries:\n",
        "        bowl = []\n",
        "        for j in arr[i[0]:i[1] + 1]:\n",
        "            if j > i[2]:\n",
        "                bowl.append(j)\n",
        "        if len(bowl) == 0:\n",
        "            answer.append(-1)\n",
        "        else:\n",
        "            answer.append(min(bowl))\n",
        "    return answer"
      ],
      "metadata": {
        "id": "JAQ9y0fMphh8"
      },
      "execution_count": null,
      "outputs": []
    },
    {
      "cell_type": "code",
      "source": [
        "# 람다 함수를 이용한 풀이\n",
        "def solution(arr, queries):\n",
        "    return list(map(lambda x: -1 if x==10**6 else x, [min(list(filter(lambda x: x > k, arr[s:e+1])) + [10**6]) for s, e, k in queries]))"
      ],
      "metadata": {
        "id": "4eKyZlcrpiZ-"
      },
      "execution_count": null,
      "outputs": []
    }
  ]
}