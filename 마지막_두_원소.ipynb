{
  "nbformat": 4,
  "nbformat_minor": 0,
  "metadata": {
    "colab": {
      "provenance": [],
      "authorship_tag": "ABX9TyM9vH6dj4rjw0qejUi19CSa",
      "include_colab_link": true
    },
    "kernelspec": {
      "name": "python3",
      "display_name": "Python 3"
    },
    "language_info": {
      "name": "python"
    }
  },
  "cells": [
    {
      "cell_type": "markdown",
      "metadata": {
        "id": "view-in-github",
        "colab_type": "text"
      },
      "source": [
        "<a href=\"https://colab.research.google.com/github/Sweetmonee/Algorithm/blob/Programmers/%EB%A7%88%EC%A7%80%EB%A7%89_%EB%91%90_%EC%9B%90%EC%86%8C.ipynb\" target=\"_parent\"><img src=\"https://colab.research.google.com/assets/colab-badge.svg\" alt=\"Open In Colab\"/></a>"
      ]
    },
    {
      "cell_type": "markdown",
      "source": [
        "마지막 두 원소\n",
        "문제 설명\n",
        "정수 리스트 num_list가 주어질 때, 마지막 원소가 그전 원소보다 크면 마지막 원소에서 그전 원소를 뺀 값을 마지막 원소가 그전 원소보다 크지 않다면 마지막 원소를 두 배한 값을 추가하여 return하도록 solution 함수를 완성해주세요.\n",
        "\n",
        "제한사항\n",
        "2 ≤ num_list의 길이 ≤ 10\n",
        "1 ≤ num_list의 원소 ≤ 9\n",
        "입출력 예\n",
        "num_list\tresult\n",
        "[2, 1, 6]\t[2, 1, 6, 5]\n",
        "[5, 2, 1, 7, 5]\t[5, 2, 1, 7, 5, 10]"
      ],
      "metadata": {
        "id": "olJ1TwPrjCZ5"
      }
    },
    {
      "cell_type": "code",
      "execution_count": null,
      "metadata": {
        "id": "q_vDsRIBjAZc"
      },
      "outputs": [],
      "source": [
        "# 내 정답\n",
        "def solution(num_list):\n",
        "    answer = []\n",
        "    num_list.append(num_list[-1] - num_list[-2]) if num_list[-1] > num_list[-2] else num_list.append(num_list[-1] * 2)\n",
        "    return num_list"
      ]
    }
  ]
}