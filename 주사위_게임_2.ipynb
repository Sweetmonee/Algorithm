{
  "nbformat": 4,
  "nbformat_minor": 0,
  "metadata": {
    "colab": {
      "provenance": [],
      "authorship_tag": "ABX9TyN6Oar2wnE+VvU1bhJa15Bx",
      "include_colab_link": true
    },
    "kernelspec": {
      "name": "python3",
      "display_name": "Python 3"
    },
    "language_info": {
      "name": "python"
    }
  },
  "cells": [
    {
      "cell_type": "markdown",
      "metadata": {
        "id": "view-in-github",
        "colab_type": "text"
      },
      "source": [
        "<a href=\"https://colab.research.google.com/github/Sweetmonee/Algorithm/blob/Programmers/%EC%A3%BC%EC%82%AC%EC%9C%84_%EA%B2%8C%EC%9E%84_2.ipynb\" target=\"_parent\"><img src=\"https://colab.research.google.com/assets/colab-badge.svg\" alt=\"Open In Colab\"/></a>"
      ]
    },
    {
      "cell_type": "markdown",
      "source": [
        "주사위 게임 2\n",
        "문제 설명\n",
        "1부터 6까지 숫자가 적힌 주사위가 세 개 있습니다. 세 주사위를 굴렸을 때 나온 숫자를 각각 a, b, c라고 했을 때 얻는 점수는 다음과 같습니다.\n",
        "\n",
        "세 숫자가 모두 다르다면 a + b + c 점을 얻습니다.\n",
        "세 숫자 중 어느 두 숫자는 같고 나머지 다른 숫자는 다르다면 (a + b + c) × (a2 + b2 + c2 )점을 얻습니다.\n",
        "세 숫자가 모두 같다면 (a + b + c) × (a2 + b2 + c2 ) × (a3 + b3 + c3 )점을 얻습니다.\n",
        "세 정수 a, b, c가 매개변수로 주어질 때, 얻는 점수를 return 하는 solution 함수를 작성해 주세요.\n",
        "\n",
        "제한사항\n",
        "a, b, c는 1이상 6이하의 정수입니다.\n",
        "입출력 예\n",
        "a\tb\tc\tresult\n",
        "2\t6\t1\t9\n",
        "5\t3\t3\t473"
      ],
      "metadata": {
        "id": "TFmXFlktLF78"
      }
    },
    {
      "cell_type": "code",
      "execution_count": null,
      "metadata": {
        "id": "G716UJ0xLFQ1"
      },
      "outputs": [],
      "source": [
        "#내 정답\n",
        "def solution(a, b, c):\n",
        "    if a != b and b != c and c != a:\n",
        "        return a + b + c\n",
        "    elif a == b and b == c:\n",
        "        return (a + b + c) * ((a ** 2) + (b ** 2) + (c ** 2)) * ((a ** 3) + (b ** 3) + (c ** 3))\n",
        "    else:\n",
        "        return (a + b + c) * ((a ** 2) + (b ** 2) + (c ** 2))"
      ]
    },
    {
      "cell_type": "code",
      "source": [
        "#set을 활용한 정답 set은 유니크한 값만 뽑아내기 때문에 길이를 측정할 수 있고 이걸 바탕으로 같은지 안 같은지 구분!!\n",
        "def solution(a, b, c):\n",
        "    check=len(set([a,b,c]))\n",
        "    if check==1:\n",
        "        return 3*a*3*(a**2)*3*(a**3)\n",
        "    elif check==2:\n",
        "        return (a+b+c)*(a**2+b**2+c**2)\n",
        "    else:\n",
        "        return (a+b+c)"
      ],
      "metadata": {
        "id": "f8bkzXHvLLEE"
      },
      "execution_count": null,
      "outputs": []
    }
  ]
}