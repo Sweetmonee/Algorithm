{
  "nbformat": 4,
  "nbformat_minor": 0,
  "metadata": {
    "colab": {
      "provenance": [],
      "authorship_tag": "ABX9TyMMdXWfofSYOKmxyQfZxLMr",
      "include_colab_link": true
    },
    "kernelspec": {
      "name": "python3",
      "display_name": "Python 3"
    },
    "language_info": {
      "name": "python"
    }
  },
  "cells": [
    {
      "cell_type": "markdown",
      "metadata": {
        "id": "view-in-github",
        "colab_type": "text"
      },
      "source": [
        "<a href=\"https://colab.research.google.com/github/Sweetmonee/Algorithm/blob/Programmers/max%2C_min%ED%99%9C%EC%9A%A9%2C_%EC%B5%9C%EC%86%8C%EC%A7%81%EC%82%AC%EA%B0%81%ED%98%95.ipynb\" target=\"_parent\"><img src=\"https://colab.research.google.com/assets/colab-badge.svg\" alt=\"Open In Colab\"/></a>"
      ]
    },
    {
      "cell_type": "code",
      "source": [
        "# 명함 지갑을 만드는 회사에서 지갑의 크기를 정하려고 합니다. 다양한 모양과 크기의 명함들을 모두 수납할 수 있으면서, 작아서 들고 다니기 편한 지갑을 만들어야 합니다. \n",
        "# 이러한 요건을 만족하는 지갑을 만들기 위해 디자인팀은 모든 명함의 가로 길이와 세로 길이를 조사했습니다.\n",
        "\n",
        "# 아래 표는 4가지 명함의 가로 길이와 세로 길이를 나타냅니다.\n",
        "\n",
        "# 명함 번호\t가로 길이\t세로 길이\n",
        "# 1\t60\t50\n",
        "# 2\t30\t70\n",
        "# 3\t60\t30\n",
        "# 4\t80\t40\n",
        "# 가장 긴 가로 길이와 세로 길이가 각각 80, 70이기 때문에 80(가로) x 70(세로) 크기의 지갑을 만들면 모든 명함들을 수납할 수 있습니다. \n",
        "# 하지만 2번 명함을 가로로 눕혀 수납한다면 80(가로) x 50(세로) 크기의 지갑으로 모든 명함들을 수납할 수 있습니다. 이때의 지갑 크기는 4000(=80 x 50)입니다.\n",
        "\n",
        "# 모든 명함의 가로 길이와 세로 길이를 나타내는 2차원 배열 sizes가 매개변수로 주어집니다. 모든 명함을 수납할 수 있는 가장 작은 지갑을 만들 때,\n",
        "#  지갑의 크기를 return 하도록 solution 함수를 완성해주세요.\n",
        "\n",
        "# 제한사항\n",
        "# sizes의 길이는 1 이상 10,000 이하입니다.\n",
        "# sizes의 원소는 [w, h] 형식입니다.\n",
        "# w는 명함의 가로 길이를 나타냅니다.\n",
        "# h는 명함의 세로 길이를 나타냅니다.\n",
        "# w와 h는 1 이상 1,000 이하인 자연수입니다."
      ],
      "metadata": {
        "id": "73gcazPqytAH"
      },
      "execution_count": null,
      "outputs": []
    },
    {
      "cell_type": "code",
      "source": [
        "#내 정답\n",
        "def solution(sizes):\n",
        "    answer = 0\n",
        "    bowl = []\n",
        "    \n",
        "    for i in sizes:\n",
        "        bowl.append(sorted(i))\n",
        "    bowl1 = bowl[0]\n",
        "    for i in bowl:\n",
        "        if i[0] > bowl1[0]:\n",
        "            bowl1[0] = i[0]\n",
        "\n",
        "    for i in bowl:\n",
        "        if i[1] > bowl1[1]:\n",
        "            bowl1[1] = i[1]\n",
        "            \n",
        "    return bowl1[0] * bowl1[1]"
      ],
      "metadata": {
        "id": "4vUI_Nmeyts7"
      },
      "execution_count": null,
      "outputs": []
    },
    {
      "cell_type": "code",
      "execution_count": null,
      "metadata": {
        "id": "s_Sh0nvGyrlW"
      },
      "outputs": [],
      "source": [
        "# 다른사람 정답\n",
        "def solution(sizes):\n",
        "    return max(max(x) for x in sizes) * max(min(x) for x in sizes)"
      ]
    },
    {
      "cell_type": "code",
      "source": [
        "#같은 논리로 답을 구했지만 max() 함수와 min() 함수를 사용해 더 쉽게 구할수 있었다.."
      ],
      "metadata": {
        "id": "TdBKBW3mzDr7"
      },
      "execution_count": null,
      "outputs": []
    }
  ]
}