{
  "nbformat": 4,
  "nbformat_minor": 0,
  "metadata": {
    "colab": {
      "provenance": [],
      "authorship_tag": "ABX9TyN1P5dKuOuhpcV/3PHKXoXB",
      "include_colab_link": true
    },
    "kernelspec": {
      "name": "python3",
      "display_name": "Python 3"
    },
    "language_info": {
      "name": "python"
    }
  },
  "cells": [
    {
      "cell_type": "markdown",
      "metadata": {
        "id": "view-in-github",
        "colab_type": "text"
      },
      "source": [
        "<a href=\"https://colab.research.google.com/github/Sweetmonee/Algorithm/blob/Programmers/Jan_8%2C_2023.ipynb\" target=\"_parent\"><img src=\"https://colab.research.google.com/assets/colab-badge.svg\" alt=\"Open In Colab\"/></a>"
      ]
    },
    {
      "cell_type": "code",
      "execution_count": null,
      "metadata": {
        "id": "T0R_G5NHEmYG"
      },
      "outputs": [],
      "source": [
        "# 머쓱이는 RPG게임을 하고 있습니다.\n",
        "# 게임에는 up, down, left, right 방향키가 있으며 각 키를 누르면 위, 아래, 왼쪽, 오른쪽으로 한 칸씩 이동합니다. \n",
        "# 예를 들어 [0,0]에서 up을 누른다면 캐릭터의 좌표는 [0, 1], down을 누른다면 [0, -1], left를 누른다면 [-1, 0], right를 누른다면 [1, 0]입니다. \n",
        "# 머쓱이가 입력한 방향키의 배열 keyinput와 맵의 크기 board이 매개변수로 주어집니다. \n",
        "# 캐릭터는 항상 [0,0]에서 시작할 때 키 입력이 모두 끝난 뒤에 캐릭터의 좌표 [x, y]를 return하도록 solution 함수를 완성해주세요.\n",
        "def solution(keyinput, board):\n",
        "    answer = [0,0]\n",
        "    for i in keyinput:\n",
        "        if i == 'up':\n",
        "            if answer[1] < (board[1]/2) - 1:\n",
        "                answer[1] += 1\n",
        "        elif i == 'down':\n",
        "            if answer[1] > -((board[1]/2) - 1):\n",
        "                answer[1] -= 1\n",
        "        elif i == 'left':\n",
        "            if answer[0] > -((board[0]/2) - 1):\n",
        "                answer[0] -= 1\n",
        "        elif i == 'right':\n",
        "            if answer[0] < (board[0]/2) - 1:\n",
        "                answer[0] += 1\n",
        "            \n",
        "    return answer\n"
      ]
    }
  ]
}