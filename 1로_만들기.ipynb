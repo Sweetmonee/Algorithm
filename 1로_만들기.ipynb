{
  "nbformat": 4,
  "nbformat_minor": 0,
  "metadata": {
    "colab": {
      "provenance": [],
      "authorship_tag": "ABX9TyOaYJLfFEH2IPxBAkpKxQxv",
      "include_colab_link": true
    },
    "kernelspec": {
      "name": "python3",
      "display_name": "Python 3"
    },
    "language_info": {
      "name": "python"
    }
  },
  "cells": [
    {
      "cell_type": "markdown",
      "metadata": {
        "id": "view-in-github",
        "colab_type": "text"
      },
      "source": [
        "<a href=\"https://colab.research.google.com/github/Sweetmonee/Algorithm/blob/Programmers/1%EB%A1%9C_%EB%A7%8C%EB%93%A4%EA%B8%B0.ipynb\" target=\"_parent\"><img src=\"https://colab.research.google.com/assets/colab-badge.svg\" alt=\"Open In Colab\"/></a>"
      ]
    },
    {
      "cell_type": "markdown",
      "source": [
        "1로 만들기\n",
        "문제 설명\n",
        "정수가 있을 때, 짝수라면 반으로 나누고, 홀수라면 1을 뺀 뒤 반으로 나누면, 마지막엔 1이 됩니다. 예를 들어 10이 있다면 다음과 같은 과정으로 1이 됩니다.\n",
        "\n",
        "10 / 2 = 5\n",
        "(5 - 1) / 2 = 4\n",
        "4 / 2 = 2\n",
        "2 / 2 = 1\n",
        "위와 같이 4번의 나누기 연산으로 1이 되었습니다.\n",
        "\n",
        "정수들이 담긴 리스트 num_list가 주어질 때, num_list의 모든 원소를 1로 만들기 위해서 필요한 나누기 연산의 횟수를 return하도록 solution 함수를 완성해주세요.\n",
        "\n",
        "제한사항\n",
        "3 ≤ num_list의 길이 ≤ 15\n",
        "1 ≤ num_list의 원소 ≤ 30\n",
        "입출력 예\n",
        "num_list\tresult\n",
        "[12, 4, 15, 1, 14]\t11"
      ],
      "metadata": {
        "id": "x_gdHRpDTh4w"
      }
    },
    {
      "cell_type": "code",
      "execution_count": null,
      "metadata": {
        "id": "Lvrvy0pzTgPA"
      },
      "outputs": [],
      "source": [
        "def solution(num_list):\n",
        "    answer = 0\n",
        "    for i in num_list:\n",
        "        while i != 1:\n",
        "            if i%2 == 0:\n",
        "                i = i/2\n",
        "                answer += 1\n",
        "            else:\n",
        "                i = (i - 1) / 2\n",
        "                answer += 1\n",
        "    return answer"
      ]
    },
    {
      "cell_type": "code",
      "source": [
        "# 새로운 개념 풀이\n",
        "def solution(num_list):\n",
        "    return sum(len(bin(i)) - 3 for i in num_list)"
      ],
      "metadata": {
        "id": "vKBiug2PTlTO"
      },
      "execution_count": null,
      "outputs": []
    }
  ]
}