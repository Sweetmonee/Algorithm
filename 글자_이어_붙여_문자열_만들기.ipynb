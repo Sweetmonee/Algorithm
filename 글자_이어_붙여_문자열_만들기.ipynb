{
  "nbformat": 4,
  "nbformat_minor": 0,
  "metadata": {
    "colab": {
      "provenance": [],
      "authorship_tag": "ABX9TyOGvbhTEdmEuj3OtYIZetml",
      "include_colab_link": true
    },
    "kernelspec": {
      "name": "python3",
      "display_name": "Python 3"
    },
    "language_info": {
      "name": "python"
    }
  },
  "cells": [
    {
      "cell_type": "markdown",
      "metadata": {
        "id": "view-in-github",
        "colab_type": "text"
      },
      "source": [
        "<a href=\"https://colab.research.google.com/github/Sweetmonee/Algorithm/blob/Programmers/%EA%B8%80%EC%9E%90_%EC%9D%B4%EC%96%B4_%EB%B6%99%EC%97%AC_%EB%AC%B8%EC%9E%90%EC%97%B4_%EB%A7%8C%EB%93%A4%EA%B8%B0.ipynb\" target=\"_parent\"><img src=\"https://colab.research.google.com/assets/colab-badge.svg\" alt=\"Open In Colab\"/></a>"
      ]
    },
    {
      "cell_type": "markdown",
      "source": [
        "글자 이어 붙여 문자열 만들기\n",
        "문제 설명\n",
        "문자열 my_string과 정수 배열 index_list가 매개변수로 주어집니다. my_string의 index_list의 원소들에 해당하는 인덱스의 글자들을 순서대로 이어 붙인 문자열을 return 하는 solution 함수를 작성해 주세요.\n",
        "\n",
        "제한사항\n",
        "1 ≤ my_string의 길이 ≤ 1,000\n",
        "my_string의 원소는 영소문자로 이루어져 있습니다.\n",
        "1 ≤ index_list의 길이 ≤ 1,000\n",
        "0 ≤ index_list의 원소 < my_string의 길이\n",
        "입출력 예\n",
        "my_string\tindex_list\tresult\n",
        "\"cvsgiorszzzmrpaqpe\"\t[16, 6, 5, 3, 12, 14, 11, 11, 17, 12, 7]\t\"programmers\""
      ],
      "metadata": {
        "id": "jgPQBlPNRhtI"
      }
    },
    {
      "cell_type": "code",
      "execution_count": null,
      "metadata": {
        "id": "xO3fi20rRgl9"
      },
      "outputs": [],
      "source": [
        "def solution(my_string, index_list):\n",
        "    return ''.join([my_string[i] for i in index_list])"
      ]
    }
  ]
}