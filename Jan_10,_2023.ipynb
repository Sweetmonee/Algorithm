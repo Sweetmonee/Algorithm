{
  "nbformat": 4,
  "nbformat_minor": 0,
  "metadata": {
    "colab": {
      "provenance": [],
      "authorship_tag": "ABX9TyP7SqX4SuNrAHB+u2BA8EpM",
      "include_colab_link": true
    },
    "kernelspec": {
      "name": "python3",
      "display_name": "Python 3"
    },
    "language_info": {
      "name": "python"
    }
  },
  "cells": [
    {
      "cell_type": "markdown",
      "metadata": {
        "id": "view-in-github",
        "colab_type": "text"
      },
      "source": [
        "<a href=\"https://colab.research.google.com/github/Sweetmonee/Algorithm/blob/Programmers/Jan_10%2C_2023.ipynb\" target=\"_parent\"><img src=\"https://colab.research.google.com/assets/colab-badge.svg\" alt=\"Open In Colab\"/></a>"
      ]
    },
    {
      "cell_type": "code",
      "execution_count": null,
      "metadata": {
        "id": "82K-EL9udfma"
      },
      "outputs": [],
      "source": [
        "# 영어 점수와 수학 점수의 평균 점수를 기준으로 학생들의 등수를 매기려고 합니다. \n",
        "# 영어 점수와 수학 점수를 담은 2차원 정수 배열 score가 주어질 때, 영어 점수와 수학 점수의 평균을 기준으로 매긴 등수를 담은 배열을 return하도록 solution 함수를 완성해주세요.\n",
        "def solution(score):\n",
        "    answer = []\n",
        "    bowl = []\n",
        "    for i in score:\n",
        "        bowl.append(sum(i))\n",
        "    bowl = list(reversed(sorted(bowl)))\n",
        "    for i in score:\n",
        "        for j in bowl:\n",
        "            if sum(i) == j:\n",
        "                    answer.append(bowl.index(j)+1)\n",
        "                    break\n",
        "    return answer"
      ]
    }
  ]
}