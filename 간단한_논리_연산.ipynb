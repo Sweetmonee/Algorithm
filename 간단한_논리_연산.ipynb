{
  "nbformat": 4,
  "nbformat_minor": 0,
  "metadata": {
    "colab": {
      "provenance": [],
      "authorship_tag": "ABX9TyOqtXEPWjtaYaWBqeWoqhQP",
      "include_colab_link": true
    },
    "kernelspec": {
      "name": "python3",
      "display_name": "Python 3"
    },
    "language_info": {
      "name": "python"
    }
  },
  "cells": [
    {
      "cell_type": "markdown",
      "metadata": {
        "id": "view-in-github",
        "colab_type": "text"
      },
      "source": [
        "<a href=\"https://colab.research.google.com/github/Sweetmonee/Algorithm/blob/Programmers/%EA%B0%84%EB%8B%A8%ED%95%9C_%EB%85%BC%EB%A6%AC_%EC%97%B0%EC%82%B0.ipynb\" target=\"_parent\"><img src=\"https://colab.research.google.com/assets/colab-badge.svg\" alt=\"Open In Colab\"/></a>"
      ]
    },
    {
      "cell_type": "markdown",
      "source": [
        "간단한 논리 연산\n",
        "문제 설명\n",
        "boolean 변수 x1, x2, x3, x4가 매개변수로 주어질 때, 다음의 식의 true/false를 return 하는 solution 함수를 작성해 주세요.\n",
        "\n",
        "(x1 ∨ x2) ∧ (x3 ∨ x4)\n",
        "입출력 예\n",
        "x1\tx2\tx3\tx4\tresult\n",
        "false\ttrue\ttrue\ttrue\ttrue\n",
        "true\tfalse\tfalse\tfalse\tfalse"
      ],
      "metadata": {
        "id": "NZ7CxzMPfGUO"
      }
    },
    {
      "cell_type": "code",
      "execution_count": null,
      "metadata": {
        "id": "86rjtttffFrt"
      },
      "outputs": [],
      "source": [
        "#내 정답\n",
        "def solution(x1, x2, x3, x4):\n",
        "    answer = True\n",
        "    if x1 == True or x2 == True:\n",
        "        bowl1 = True\n",
        "    else:\n",
        "        bowl1 = False\n",
        "    if x3 == True or x4 == True:\n",
        "        bowl2 = True\n",
        "    else:\n",
        "        bowl2 = False\n",
        "    return True if bowl1 == True and bowl2 ==True else False"
      ]
    },
    {
      "cell_type": "code",
      "source": [
        "#성질이용\n",
        "def solution(x1, x2, x3, x4):\n",
        "    return (x1 | x2) & (x3 | x4)"
      ],
      "metadata": {
        "id": "UnJJUBsYfG1S"
      },
      "execution_count": null,
      "outputs": []
    }
  ]
}