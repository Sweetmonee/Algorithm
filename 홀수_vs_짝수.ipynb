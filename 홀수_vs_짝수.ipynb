{
  "nbformat": 4,
  "nbformat_minor": 0,
  "metadata": {
    "colab": {
      "provenance": [],
      "authorship_tag": "ABX9TyMx+WBaOY9pjVBPXw1eiQ1A",
      "include_colab_link": true
    },
    "kernelspec": {
      "name": "python3",
      "display_name": "Python 3"
    },
    "language_info": {
      "name": "python"
    }
  },
  "cells": [
    {
      "cell_type": "markdown",
      "metadata": {
        "id": "view-in-github",
        "colab_type": "text"
      },
      "source": [
        "<a href=\"https://colab.research.google.com/github/Sweetmonee/Algorithm/blob/Programmers/%ED%99%80%EC%88%98_vs_%EC%A7%9D%EC%88%98.ipynb\" target=\"_parent\"><img src=\"https://colab.research.google.com/assets/colab-badge.svg\" alt=\"Open In Colab\"/></a>"
      ]
    },
    {
      "cell_type": "markdown",
      "source": [
        "홀수 vs 짝수\n",
        "문제 설명\n",
        "정수 리스트 num_list가 주어집니다. 가장 첫 번째 원소를 1번 원소라고 할 때, 홀수 번째 원소들의 합과 짝수 번째 원소들의 합 중 큰 값을 return 하도록 solution 함수를 완성해주세요. 두 값이 같을 경우 그 값을 return합니다.\n",
        "\n",
        "제한사항\n",
        "5 ≤ num_list의 길이 ≤ 50\n",
        "-9 ≤ num_list의 원소 ≤ 9\n",
        "입출력 예\n",
        "num_list\tresult\n",
        "[4, 2, 6, 1, 7, 6]\t17\n",
        "[-1, 2, 5, 6, 3]\t8"
      ],
      "metadata": {
        "id": "FnenhUhVHqN3"
      }
    },
    {
      "cell_type": "code",
      "execution_count": null,
      "metadata": {
        "id": "TNxDXyUOHpTM"
      },
      "outputs": [],
      "source": [
        "# 좀 쳤다..\n",
        "def solution(num_list):\n",
        "    return max(sum(num_list[::2]), sum(num_list[1::2]))"
      ]
    },
    {
      "cell_type": "code",
      "source": [],
      "metadata": {
        "id": "xtal2CJ-HrKx"
      },
      "execution_count": null,
      "outputs": []
    }
  ]
}