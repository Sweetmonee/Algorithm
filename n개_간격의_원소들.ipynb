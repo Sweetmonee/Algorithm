{
  "nbformat": 4,
  "nbformat_minor": 0,
  "metadata": {
    "colab": {
      "provenance": [],
      "authorship_tag": "ABX9TyMC+GQ8iGHVXb+BkopgzlH4",
      "include_colab_link": true
    },
    "kernelspec": {
      "name": "python3",
      "display_name": "Python 3"
    },
    "language_info": {
      "name": "python"
    }
  },
  "cells": [
    {
      "cell_type": "markdown",
      "metadata": {
        "id": "view-in-github",
        "colab_type": "text"
      },
      "source": [
        "<a href=\"https://colab.research.google.com/github/Sweetmonee/Algorithm/blob/Programmers/n%EA%B0%9C_%EA%B0%84%EA%B2%A9%EC%9D%98_%EC%9B%90%EC%86%8C%EB%93%A4.ipynb\" target=\"_parent\"><img src=\"https://colab.research.google.com/assets/colab-badge.svg\" alt=\"Open In Colab\"/></a>"
      ]
    },
    {
      "cell_type": "markdown",
      "source": [
        "문제 설명\n",
        "정수 리스트 num_list와 정수 n이 주어질 때, num_list의 첫 번째 원소부터 마지막 원소까지 n개 간격으로 저장되어있는 원소들을 차례로 담은 리스트를 return하도록 solution 함수를 완성해주세요.\n",
        "\n",
        "제한사항\n",
        "5 ≤ num_list의 길이 ≤ 20\n",
        "1 ≤ num_list의 원소 ≤ 9\n",
        "1 ≤ n ≤ 4\n",
        "입출력 예\n",
        "num_list\tn\tresult\n",
        "[4, 2, 6, 1, 7, 6]\t2\t[4, 6, 7]\n",
        "[4, 2, 6, 1, 7, 6]\t4\t[4, 7]"
      ],
      "metadata": {
        "id": "HHPf0D1Z_eeF"
      }
    },
    {
      "cell_type": "code",
      "execution_count": null,
      "metadata": {
        "id": "N6nUvUyL_dXZ"
      },
      "outputs": [],
      "source": [
        "def solution(num_list, n):\n",
        "    return [num_list[i] for i in range(0, len(num_list), n)]"
      ]
    },
    {
      "cell_type": "code",
      "source": [
        "# 다른 정답\n",
        "def solution(num_list, n):\n",
        "    return num_list[::n]"
      ],
      "metadata": {
        "id": "KO9SlSiM_eJg"
      },
      "execution_count": null,
      "outputs": []
    }
  ]
}