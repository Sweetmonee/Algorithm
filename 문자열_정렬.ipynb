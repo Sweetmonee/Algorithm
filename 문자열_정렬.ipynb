{
  "nbformat": 4,
  "nbformat_minor": 0,
  "metadata": {
    "colab": {
      "provenance": [],
      "authorship_tag": "ABX9TyNp/Dr2OTrxOzPo099ENCUN",
      "include_colab_link": true
    },
    "kernelspec": {
      "name": "python3",
      "display_name": "Python 3"
    },
    "language_info": {
      "name": "python"
    }
  },
  "cells": [
    {
      "cell_type": "markdown",
      "metadata": {
        "id": "view-in-github",
        "colab_type": "text"
      },
      "source": [
        "<a href=\"https://colab.research.google.com/github/Sweetmonee/Algorithm/blob/Programmers/%EB%AC%B8%EC%9E%90%EC%97%B4_%EC%A0%95%EB%A0%AC.ipynb\" target=\"_parent\"><img src=\"https://colab.research.google.com/assets/colab-badge.svg\" alt=\"Open In Colab\"/></a>"
      ]
    },
    {
      "cell_type": "markdown",
      "source": [
        "문자열 정렬하기 (2)\n",
        "문제 설명\n",
        "영어 대소문자로 이루어진 문자열 my_string이 매개변수로 주어질 때, my_string을 모두 소문자로 바꾸고 알파벳 순서대로 정렬한 문자열을 return 하도록 solution 함수를 완성해보세요.\n",
        "\n",
        "제한사항\n",
        "0 < my_string 길이 < 100\n",
        "입출력 예\n",
        "my_string\tresult\n",
        "\"Bcad\"\t\"abcd\"\n",
        "\"heLLo\"\t\"ehllo\"\n",
        "\"Python\"\t\"hnopty\"\n",
        "입출력 예 설명\n",
        "입출력 예 #1\n",
        "\n",
        "\"Bcad\"를 모두 소문자로 바꾸면 \"bcad\"이고 이를 알파벳 순으로 정렬하면 \"abcd\"입니다.\n",
        "입출력 예 #2\n",
        "\n",
        "\"heLLo\"를 모두 소문자로 바꾸면 \"hello\"이고 이를 알파벳 순으로 정렬하면 \"ehllo\"입니다.\n",
        "입출력 예 #3\n",
        "\n",
        "\"Python\"를 모두 소문자로 바꾸면 \"python\"이고 이를 알파벳 순으로 정렬하면 \"hnopty\"입니다."
      ],
      "metadata": {
        "id": "pa0APZInTjOs"
      }
    },
    {
      "cell_type": "code",
      "execution_count": null,
      "metadata": {
        "id": "w4vC_x0hTi0z"
      },
      "outputs": [],
      "source": [
        "def solution(my_string):\n",
        "    answer = ''\n",
        "    for i in sorted(list(my_string.lower())):\n",
        "        answer += i\n",
        "    return answer"
      ]
    }
  ]
}