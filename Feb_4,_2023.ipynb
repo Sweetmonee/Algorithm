{
  "nbformat": 4,
  "nbformat_minor": 0,
  "metadata": {
    "colab": {
      "provenance": [],
      "authorship_tag": "ABX9TyNC+iCvFzxoc4XZ7zioEGtA",
      "include_colab_link": true
    },
    "kernelspec": {
      "name": "python3",
      "display_name": "Python 3"
    },
    "language_info": {
      "name": "python"
    }
  },
  "cells": [
    {
      "cell_type": "markdown",
      "metadata": {
        "id": "view-in-github",
        "colab_type": "text"
      },
      "source": [
        "<a href=\"https://colab.research.google.com/github/Sweetmonee/Algorithm/blob/Programmers/Feb_4%2C_2023.ipynb\" target=\"_parent\"><img src=\"https://colab.research.google.com/assets/colab-badge.svg\" alt=\"Open In Colab\"/></a>"
      ]
    },
    {
      "cell_type": "code",
      "execution_count": null,
      "metadata": {
        "id": "6ez-Efnt0Sfy"
      },
      "outputs": [],
      "source": [
        "# 두 수를 입력받아 두 수의 최대공약수와 최소공배수를 반환하는 함수, solution을 완성해 보세요. 배열의 맨 앞에 최대공약수, 그다음 최소공배수를 넣어 반환하면 됩니다. \n",
        "# 예를 들어 두 수 3, 12의 최대공약수는 3, 최소공배수는 12이므로 solution(3, 12)는 [3, 12]를 반환해야 합니다.\n",
        "def solution(n, m):\n",
        "    n_bowl = [i for i in range(1, n + 1) if n % i == 0]\n",
        "    m_bowl = [i for i in range(1, m + 1) if m % i == 0]\n",
        "    bowl = []\n",
        "    \n",
        "    for i in range(1, min(n,m) + 1):\n",
        "        if n % i == 0 and m % i == 0:\n",
        "            bowl.append(i)\n",
        "            \n",
        "    l_c_n = max(bowl)  \n",
        "    \n",
        "    return [l_c_n, (n * m) / l_c_n]"
      ]
    }
  ]
}