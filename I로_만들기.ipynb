{
  "nbformat": 4,
  "nbformat_minor": 0,
  "metadata": {
    "colab": {
      "provenance": [],
      "authorship_tag": "ABX9TyONw4iRC3m6ZMWHAYz1UxYy",
      "include_colab_link": true
    },
    "kernelspec": {
      "name": "python3",
      "display_name": "Python 3"
    },
    "language_info": {
      "name": "python"
    }
  },
  "cells": [
    {
      "cell_type": "markdown",
      "metadata": {
        "id": "view-in-github",
        "colab_type": "text"
      },
      "source": [
        "<a href=\"https://colab.research.google.com/github/Sweetmonee/Algorithm/blob/Programmers/I%EB%A1%9C_%EB%A7%8C%EB%93%A4%EA%B8%B0.ipynb\" target=\"_parent\"><img src=\"https://colab.research.google.com/assets/colab-badge.svg\" alt=\"Open In Colab\"/></a>"
      ]
    },
    {
      "cell_type": "markdown",
      "source": [
        "l로 만들기\n",
        "문제 설명\n",
        "알파벳 소문자로 이루어진 문자열 myString이 주어집니다. 알파벳 순서에서 \"l\"보다 앞서는 모든 문자를 \"l\"로 바꾼 문자열을 return 하는 solution 함수를 완성해 주세요.\n",
        "\n",
        "제한사항\n",
        "1 ≤ myString ≤ 100,000\n",
        "myString은 알파벳 소문자로 이루어진 문자열입니다.\n",
        "입출력 예\n",
        "myString\tresult\n",
        "\"abcdevwxyz\"\t\"lllllvwxyz\"\n",
        "\"jjnnllkkmm\"\t\"llnnllllmm\""
      ],
      "metadata": {
        "id": "8PbjqnPdeHdH"
      }
    },
    {
      "cell_type": "code",
      "execution_count": null,
      "metadata": {
        "id": "Xh0QA0pRc8TE"
      },
      "outputs": [],
      "source": [
        "#내 정답\n",
        "def solution(myString):\n",
        "    answer = ''\n",
        "    mini_dic = { 'a' : 'l','b' : 'l','c' : 'l','d' : 'l','e' : 'l','f' : 'l'\n",
        "               ,'g' : 'l','h' : 'l','i' : 'l','j' : 'l','k' : 'l'}\n",
        "    for i in myString:\n",
        "        if i in mini_dic:\n",
        "            answer += mini_dic[i]\n",
        "        else:\n",
        "            answer += i\n",
        "    return answer"
      ]
    },
    {
      "cell_type": "code",
      "source": [
        "#기본 함수를 사용한 정답\n",
        "def solution(myString):\n",
        "    return ''.join(['l' if ord(i) < ord('l') else i for i in myString])"
      ],
      "metadata": {
        "id": "CBoknK6keH7R"
      },
      "execution_count": null,
      "outputs": []
    },
    {
      "cell_type": "markdown",
      "source": [
        "2-1) ord(문자)\n",
        "하나의 문자를 인자로 받고 해당 문자에 해당하는 유니코드 정수를 반환합니다.\n",
        "\n",
        "ord('a')를 넣으면 정수 97을 반환합니다.\n",
        "\n",
        "\n",
        "\n",
        "2-2) chr(정수)\n",
        "하나의 정수를 인자로 받고 해당 정수에 해당하는 유니코드 문자를 반환합니다.\n",
        "\n",
        "인자(정수)의 유효 범위는 0 ~ 1,114,111 (16진수 0x10 FFFF)까지 입니다.\n",
        "\n",
        "chr(97)을 하면 문자 'a'를 반환합니다.\n",
        "\n"
      ],
      "metadata": {
        "id": "5N0QL3rweN_j"
      }
    }
  ]
}