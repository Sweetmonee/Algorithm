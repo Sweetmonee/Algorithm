{
  "nbformat": 4,
  "nbformat_minor": 0,
  "metadata": {
    "colab": {
      "provenance": [],
      "authorship_tag": "ABX9TyOXdt/oTfnfwc1f0LJZ/RHA",
      "include_colab_link": true
    },
    "kernelspec": {
      "name": "python3",
      "display_name": "Python 3"
    },
    "language_info": {
      "name": "python"
    }
  },
  "cells": [
    {
      "cell_type": "markdown",
      "metadata": {
        "id": "view-in-github",
        "colab_type": "text"
      },
      "source": [
        "<a href=\"https://colab.research.google.com/github/Sweetmonee/Algorithm/blob/Programmers/%EA%B5%AC%EB%B6%84%2C%EC%95%8C%ED%8C%8C%EB%B2%B3_%ED%95%A8%EC%88%98%2C_%EC%9D%B4%EC%83%81%ED%95%9C_%EB%AC%B8%EC%9E%90_%EB%A7%8C%EB%93%A4%EA%B8%B0.ipynb\" target=\"_parent\"><img src=\"https://colab.research.google.com/assets/colab-badge.svg\" alt=\"Open In Colab\"/></a>"
      ]
    },
    {
      "cell_type": "code",
      "execution_count": null,
      "metadata": {
        "id": "vlvZ7HoUuaSa"
      },
      "outputs": [],
      "source": [
        "# 문자열 s는 한 개 이상의 단어로 구성되어 있습니다. 각 단어는 하나 이상의 공백문자로 구분되어 있습니다. \n",
        "# 각 단어의 짝수번째 알파벳은 대문자로, 홀수번째 알파벳은 소문자로 바꾼 문자열을 리턴하는 함수, solution을 완성하세요.\n",
        "\n",
        "# 제한 사항\n",
        "# 문자열 전체의 짝/홀수 인덱스가 아니라, 단어(공백을 기준)별로 짝/홀수 인덱스를 판단해야합니다.\n",
        "# 첫 번째 글자는 0번째 인덱스로 보아 짝수번째 알파벳으로 처리해야 합니다.\n",
        "def solution(s):\n",
        "    answer = ''\n",
        "    words = []\n",
        "    s = s.split(' ')\n",
        "    for i in s:\n",
        "        bowl = []\n",
        "        for j in range(len(i)):\n",
        "            if j % 2 == 0:\n",
        "                bowl.append(i[j].upper())\n",
        "            else:\n",
        "                bowl.append(i[j].lower())\n",
        "        words.append(''.join(bowl))\n",
        "    \n",
        "    return ' '.join(words)\n",
        "    "
      ]
    }
  ]
}