{
  "nbformat": 4,
  "nbformat_minor": 0,
  "metadata": {
    "colab": {
      "provenance": [],
      "authorship_tag": "ABX9TyNhq3O9opU5NFBpf3ep99lO",
      "include_colab_link": true
    },
    "kernelspec": {
      "name": "python3",
      "display_name": "Python 3"
    },
    "language_info": {
      "name": "python"
    }
  },
  "cells": [
    {
      "cell_type": "markdown",
      "metadata": {
        "id": "view-in-github",
        "colab_type": "text"
      },
      "source": [
        "<a href=\"https://colab.research.google.com/github/Sweetmonee/Algorithm/blob/Programmers/Jan_30%2C_2023.ipynb\" target=\"_parent\"><img src=\"https://colab.research.google.com/assets/colab-badge.svg\" alt=\"Open In Colab\"/></a>"
      ]
    },
    {
      "cell_type": "code",
      "execution_count": null,
      "metadata": {
        "id": "hSqX_I5EEteC"
      },
      "outputs": [],
      "source": [
        "# 0부터 9까지의 숫자 중 일부가 들어있는 정수 배열 numbers가 매개변수로 주어집니다. \n",
        "# numbers에서 찾을 수 없는 0부터 9까지의 숫자를 모두 찾아 더한 수를 return 하도록 solution 함수를 완성해주세요.\n",
        "def solution(numbers):\n",
        "    \n",
        "    return sum([i for i in range(1,10) if i not in numbers])"
      ]
    },
    {
      "cell_type": "code",
      "source": [
        "#단어 s의 가운데 글자를 반환하는 함수, solution을 만들어 보세요. 단어의 길이가 짝수라면 가운데 두글자를 반환하면 됩니다.\n",
        "\n",
        "def solution(s):\n",
        "    answer = ''\n",
        "    return s[len(s)//2] if len(s) % 2 == 1 else s[(len(s)//2)-1:(len(s)//2)+1]"
      ],
      "metadata": {
        "id": "M8QrG06NEzrp"
      },
      "execution_count": null,
      "outputs": []
    }
  ]
}