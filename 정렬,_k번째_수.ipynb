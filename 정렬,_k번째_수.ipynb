{
  "nbformat": 4,
  "nbformat_minor": 0,
  "metadata": {
    "colab": {
      "provenance": [],
      "authorship_tag": "ABX9TyO10cUmz572ixuqlD7byJQr",
      "include_colab_link": true
    },
    "kernelspec": {
      "name": "python3",
      "display_name": "Python 3"
    },
    "language_info": {
      "name": "python"
    }
  },
  "cells": [
    {
      "cell_type": "markdown",
      "metadata": {
        "id": "view-in-github",
        "colab_type": "text"
      },
      "source": [
        "<a href=\"https://colab.research.google.com/github/Sweetmonee/Algorithm/blob/Programmers/%EC%A0%95%EB%A0%AC%2C_k%EB%B2%88%EC%A7%B8_%EC%88%98.ipynb\" target=\"_parent\"><img src=\"https://colab.research.google.com/assets/colab-badge.svg\" alt=\"Open In Colab\"/></a>"
      ]
    },
    {
      "cell_type": "code",
      "execution_count": null,
      "metadata": {
        "id": "u8OCWhJf76mQ"
      },
      "outputs": [],
      "source": [
        "# 배열 array의 i번째 숫자부터 j번째 숫자까지 자르고 정렬했을 때, k번째에 있는 수를 구하려 합니다.\n",
        "\n",
        "# 예를 들어 array가 [1, 5, 2, 6, 3, 7, 4], i = 2, j = 5, k = 3이라면\n",
        "\n",
        "# array의 2번째부터 5번째까지 자르면 [5, 2, 6, 3]입니다.\n",
        "# 1에서 나온 배열을 정렬하면 [2, 3, 5, 6]입니다.\n",
        "# 2에서 나온 배열의 3번째 숫자는 5입니다.\n",
        "# 배열 array, [i, j, k]를 원소로 가진 2차원 배열 commands가 매개변수로 주어질 때, \n",
        "# commands의 모든 원소에 대해 앞서 설명한 연산을 적용했을 때 나온 결과를 배열에 담아 return 하도록 solution 함수를 작성해주세요.\n",
        "\n",
        "def solution(array, commands):\n",
        "    answer = []\n",
        "    for i in range(len(commands)):\n",
        "        answer.append(sorted(array[commands[i][0]-1:commands[i][1]])[commands[i][2]-1])\n",
        "    return answer"
      ]
    }
  ]
}