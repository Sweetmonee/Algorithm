{
  "nbformat": 4,
  "nbformat_minor": 0,
  "metadata": {
    "colab": {
      "provenance": [],
      "authorship_tag": "ABX9TyMdJKBk/9UospNsIr8T4cap",
      "include_colab_link": true
    },
    "kernelspec": {
      "name": "python3",
      "display_name": "Python 3"
    },
    "language_info": {
      "name": "python"
    }
  },
  "cells": [
    {
      "cell_type": "markdown",
      "metadata": {
        "id": "view-in-github",
        "colab_type": "text"
      },
      "source": [
        "<a href=\"https://colab.research.google.com/github/Sweetmonee/Algorithm/blob/Programmers/%EC%BD%94%EB%93%9C_%EC%B2%98%EB%A6%AC%ED%95%98%EA%B8%B0.ipynb\" target=\"_parent\"><img src=\"https://colab.research.google.com/assets/colab-badge.svg\" alt=\"Open In Colab\"/></a>"
      ]
    },
    {
      "cell_type": "markdown",
      "source": [
        "코드 처리하기\n",
        "문제 설명\n",
        "문자열 code가 주어집니다.\n",
        "code를 앞에서부터 읽으면서 만약 문자가 \"1\"이면 mode를 바꿉니다. mode에 따라 code를 읽어가면서 문자열 ret을 만들어냅니다.\n",
        "\n",
        "mode는 0과 1이 있으며, idx를 0 부터 code의 길이 - 1 까지 1씩 키워나가면서 code[idx]의 값에 따라 다음과 같이 행동합니다.\n",
        "\n",
        "mode가 0일 때\n",
        "code[idx]가 \"1\"이 아니면 idx가 짝수일 때만 ret의 맨 뒤에 code[idx]를 추가합니다.\n",
        "code[idx]가 \"1\"이면 mode를 0에서 1로 바꿉니다.\n",
        "mode가 1일 때\n",
        "code[idx]가 \"1\"이 아니면 idx가 홀수일 때만 ret의 맨 뒤에 code[idx]를 추가합니다.\n",
        "code[idx]가 \"1\"이면 mode를 1에서 0으로 바꿉니다.\n",
        "문자열 code를 통해 만들어진 문자열 ret를 return 하는 solution 함수를 완성해 주세요.\n",
        "\n",
        "단, 시작할 때 mode는 0이며, return 하려는 ret가 만약 빈 문자열이라면 대신 \"EMPTY\"를 return 합니다.\n",
        "\n",
        "제한사항\n",
        "1 ≤ code의 길이 ≤ 100,000\n",
        "code는 알파벳 소문자 또는 \"1\"로 이루어진 문자열입니다.\n",
        "입출력 예\n",
        "code\tresult\n",
        "\"abc1abc1abc\"\t\"acbac\"\n",
        "입출력 예 설명\n",
        "입출력 예 #1\n",
        "\n",
        "code의 각 인덱스 i에 따라 다음과 같이 mode와 ret가 변합니다.\n",
        "i\tcode[i]\tmode\tret\n",
        "0\t\"a\"\t0\t\"a\"\n",
        "1\t\"b\"\t0\t\"a\"\n",
        "2\t\"c\"\t0\t\"ac\"\n",
        "3\t\"1\"\t1\t\"ac\"\n",
        "4\t\"a\"\t1\t\"ac\"\n",
        "5\t\"b\"\t1\t\"acb\"\n",
        "6\t\"c\"\t1\t\"acb\"\n",
        "7\t\"1\"\t0\t\"acb\"\n",
        "8\t\"a\"\t0\t\"acba\"\n",
        "9\t\"b\"\t0\t\"acba\"\n",
        "10\t\"c\"\t0\t\"acbac\"\n",
        "따라서 \"acbac\"를 return 합니다."
      ],
      "metadata": {
        "id": "HQkxf0OqG3sj"
      }
    },
    {
      "cell_type": "code",
      "execution_count": null,
      "metadata": {
        "id": "4TDKdDaaG3PV"
      },
      "outputs": [],
      "source": [
        "def solution(code):\n",
        "    mode = 0\n",
        "    answer = ''\n",
        "    for i in range(len(code)):\n",
        "        if mode == 0:\n",
        "            if code[i] != '1':\n",
        "                if int(i) % 2 == 0:\n",
        "                    answer += code[i]\n",
        "            else:\n",
        "                mode = 1\n",
        "        else:\n",
        "            if code[i] != '1':\n",
        "                if int(i) % 2 != 0:\n",
        "                    answer += code[i]\n",
        "            else:\n",
        "                mode = 0\n",
        "\n",
        "    return answer if len(answer) != 0 else 'EMPTY'"
      ]
    }
  ]
}