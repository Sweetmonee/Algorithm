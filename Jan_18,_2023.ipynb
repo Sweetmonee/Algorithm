{
  "nbformat": 4,
  "nbformat_minor": 0,
  "metadata": {
    "colab": {
      "provenance": [],
      "authorship_tag": "ABX9TyOq3eDOK+Ex9IOx8FADAX71",
      "include_colab_link": true
    },
    "kernelspec": {
      "name": "python3",
      "display_name": "Python 3"
    },
    "language_info": {
      "name": "python"
    }
  },
  "cells": [
    {
      "cell_type": "markdown",
      "metadata": {
        "id": "view-in-github",
        "colab_type": "text"
      },
      "source": [
        "<a href=\"https://colab.research.google.com/github/Sweetmonee/Algorithm/blob/Programmers/Jan_18%2C_2023.ipynb\" target=\"_parent\"><img src=\"https://colab.research.google.com/assets/colab-badge.svg\" alt=\"Open In Colab\"/></a>"
      ]
    },
    {
      "cell_type": "code",
      "execution_count": null,
      "metadata": {
        "id": "2NraNyuxZ626"
      },
      "outputs": [],
      "source": [
        "# 자연수 N이 주어지면, N의 각 자릿수의 합을 구해서 return 하는 solution 함수를 만들어 주세요.\n",
        "# 예를들어 N = 123이면 1 + 2 + 3 = 6을 return 하면 됩니다.\n",
        "def solution(n):\n",
        "    answer = 0\n",
        "    for i in str(n):\n",
        "        answer += int(i)\n",
        "\n",
        "    # [실행] 버튼을 누르면 출력 값을 볼 수 있습니다.\n",
        "    print(answer)\n",
        "\n",
        "    return answer"
      ]
    }
  ]
}