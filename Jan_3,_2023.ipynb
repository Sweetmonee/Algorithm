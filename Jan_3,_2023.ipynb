{
  "nbformat": 4,
  "nbformat_minor": 0,
  "metadata": {
    "colab": {
      "provenance": [],
      "authorship_tag": "ABX9TyO5yZqw/vcZqhd0EyN9B8Oa",
      "include_colab_link": true
    },
    "kernelspec": {
      "name": "python3",
      "display_name": "Python 3"
    },
    "language_info": {
      "name": "python"
    }
  },
  "cells": [
    {
      "cell_type": "markdown",
      "metadata": {
        "id": "view-in-github",
        "colab_type": "text"
      },
      "source": [
        "<a href=\"https://colab.research.google.com/github/Sweetmonee/Algorithm/blob/main/Jan_3%2C_2023.ipynb\" target=\"_parent\"><img src=\"https://colab.research.google.com/assets/colab-badge.svg\" alt=\"Open In Colab\"/></a>"
      ]
    },
    {
      "cell_type": "code",
      "execution_count": null,
      "metadata": {
        "id": "fsR6QUMa0L8s"
      },
      "outputs": [],
      "source": [
        "# my_string은 \"3 + 5\"처럼 문자열로 된 수식입니다. 문자열 my_string이 매개변수로 주어질 때, 수식을 계산한 값을 return 하는 solution 함수를 완성해주세요.\n",
        "def solution(my_string):\n",
        "    my_string = my_string.replace(' ','')\n",
        "    answer = 0\n",
        "    numbers = []\n",
        "    operators = []\n",
        "    temp = ''\n",
        "    for i in my_string:\n",
        "        if i.isdigit() == True:\n",
        "            temp += i\n",
        "        else:\n",
        "            numbers.append(int(temp))\n",
        "            operators.append(i)\n",
        "            temp = ''\n",
        "            continue\n",
        "    numbers.append(int(temp))\n",
        "    for k in range(len(operators)):\n",
        "        if operators[k] == '+':\n",
        "            numbers[k+1] = (numbers[k]+numbers[k+1])\n",
        "        else:\n",
        "            numbers[k+1] = (numbers[k]-numbers[k+1])\n",
        "\n",
        "    return numbers[-1]\n",
        "\n",
        "            \n",
        "        "
      ]
    }
  ]
}