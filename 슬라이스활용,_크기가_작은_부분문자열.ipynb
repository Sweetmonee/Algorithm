{
  "nbformat": 4,
  "nbformat_minor": 0,
  "metadata": {
    "colab": {
      "provenance": [],
      "authorship_tag": "ABX9TyN0I3+As2QLgPEcX5C1Yipi",
      "include_colab_link": true
    },
    "kernelspec": {
      "name": "python3",
      "display_name": "Python 3"
    },
    "language_info": {
      "name": "python"
    }
  },
  "cells": [
    {
      "cell_type": "markdown",
      "metadata": {
        "id": "view-in-github",
        "colab_type": "text"
      },
      "source": [
        "<a href=\"https://colab.research.google.com/github/Sweetmonee/Algorithm/blob/Programmers/%EC%8A%AC%EB%9D%BC%EC%9D%B4%EC%8A%A4%ED%99%9C%EC%9A%A9%2C_%ED%81%AC%EA%B8%B0%EA%B0%80_%EC%9E%91%EC%9D%80_%EB%B6%80%EB%B6%84%EB%AC%B8%EC%9E%90%EC%97%B4.ipynb\" target=\"_parent\"><img src=\"https://colab.research.google.com/assets/colab-badge.svg\" alt=\"Open In Colab\"/></a>"
      ]
    },
    {
      "cell_type": "markdown",
      "source": [
        "숫자로 이루어진 문자열 t와 p가 주어질 때, t에서 p와 길이가 같은 부분문자열 중에서, 이 부분문자열이 나타내는 수가 p가 나타내는 수보다 작거나 같은 것이 나오는 횟수를 return하는 함수 solution을 완성하세요.\n",
        "\n",
        "예를 들어, t=\"3141592\"이고 p=\"271\" 인 경우, t의 길이가 3인 부분 문자열은 314, 141, 415, 159, 592입니다. 이 문자열이 나타내는 수 중 271보다 작거나 같은 수는 141, 159 2개 입니다.\n",
        "\n"
      ],
      "metadata": {
        "id": "Xjf0-TUH3Uwq"
      }
    },
    {
      "cell_type": "code",
      "execution_count": null,
      "metadata": {
        "id": "tKlAd_9f3I07"
      },
      "outputs": [],
      "source": [
        "def solution(t, p):\n",
        "    answer = 0\n",
        "    bowl = []\n",
        "    for i in range(len(t)):\n",
        "        bowl.append(int(t[i:i + len(p)]))\n",
        "        if i == len(t)- len(p):\n",
        "            break\n",
        "    for i in bowl:\n",
        "        if i <= int(p):\n",
        "            answer += 1\n",
        "        \n",
        "    return answer"
      ]
    }
  ]
}