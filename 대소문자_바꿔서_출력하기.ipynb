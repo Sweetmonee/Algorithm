{
  "nbformat": 4,
  "nbformat_minor": 0,
  "metadata": {
    "colab": {
      "provenance": [],
      "authorship_tag": "ABX9TyOTRTEbLPdOwJVM22cXU21o",
      "include_colab_link": true
    },
    "kernelspec": {
      "name": "python3",
      "display_name": "Python 3"
    },
    "language_info": {
      "name": "python"
    }
  },
  "cells": [
    {
      "cell_type": "markdown",
      "metadata": {
        "id": "view-in-github",
        "colab_type": "text"
      },
      "source": [
        "<a href=\"https://colab.research.google.com/github/Sweetmonee/Algorithm/blob/Programmers/%EB%8C%80%EC%86%8C%EB%AC%B8%EC%9E%90_%EB%B0%94%EA%BF%94%EC%84%9C_%EC%B6%9C%EB%A0%A5%ED%95%98%EA%B8%B0.ipynb\" target=\"_parent\"><img src=\"https://colab.research.google.com/assets/colab-badge.svg\" alt=\"Open In Colab\"/></a>"
      ]
    },
    {
      "cell_type": "markdown",
      "source": [
        "대소문자 바꿔서 출력하기\n",
        "문제 설명\n",
        "영어 알파벳으로 이루어진 문자열 str이 주어집니다. 각 알파벳을 대문자는 소문자로 소문자는 대문자로 변환해서 출력하는 코드를 작성해 보세요.\n",
        "\n",
        "제한사항\n",
        "1 ≤ str의 길이 ≤ 20\n",
        "str은 알파벳으로 이루어진 문자열입니다.\n",
        "입출력 예\n",
        "입력 #1\n",
        "\n",
        "aBcDeFg\n",
        "출력 #1\n",
        "\n",
        "AbCdEfG"
      ],
      "metadata": {
        "id": "KdB79GxTaw_j"
      }
    },
    {
      "cell_type": "code",
      "execution_count": null,
      "metadata": {
        "id": "0RCPkfx6awPm"
      },
      "outputs": [],
      "source": [
        "str = input()\n",
        "answer = ''\n",
        "for i in str:\n",
        "    if i.isupper() == True:\n",
        "        answer += i.lower()\n",
        "    else:\n",
        "        answer += i.upper()\n",
        "print(answer)\n"
      ]
    },
    {
      "cell_type": "code",
      "source": [
        "#swapcase() 함수 활용\n",
        "print(input().swapcase())"
      ],
      "metadata": {
        "id": "xkKaIix0awz0"
      },
      "execution_count": null,
      "outputs": []
    }
  ]
}