{
  "nbformat": 4,
  "nbformat_minor": 0,
  "metadata": {
    "colab": {
      "provenance": [],
      "authorship_tag": "ABX9TyNxQH4ecX4smJy9frkurtV7",
      "include_colab_link": true
    },
    "kernelspec": {
      "name": "python3",
      "display_name": "Python 3"
    },
    "language_info": {
      "name": "python"
    }
  },
  "cells": [
    {
      "cell_type": "markdown",
      "metadata": {
        "id": "view-in-github",
        "colab_type": "text"
      },
      "source": [
        "<a href=\"https://colab.research.google.com/github/Sweetmonee/Algorithm/blob/Programmers/5%EB%AA%85%EC%94%A9.ipynb\" target=\"_parent\"><img src=\"https://colab.research.google.com/assets/colab-badge.svg\" alt=\"Open In Colab\"/></a>"
      ]
    },
    {
      "cell_type": "markdown",
      "source": [
        "5명씩\n",
        "문제 설명\n",
        "최대 5명씩 탑승가능한 놀이기구를 타기 위해 줄을 서있는 사람들의 이름이 담긴 문자열 리스트 names가 주어질 때, 앞에서 부터 5명씩 묶은 그룹의 가장 앞에 서있는 사람들의 이름을 담은 리스트를 return하도록 solution 함수를 완성해주세요. 마지막 그룹이 5명이 되지 않더라도 가장 앞에 있는 사람의 이름을 포함합니다.\n",
        "\n",
        "제한사항\n",
        "5 ≤ names의 길이 ≤ 30\n",
        "1 ≤ names의 원소의 길이 ≤ 10\n",
        "names의 원소는 영어 알파벳 소문자로만 이루어져 있습니다.\n",
        "입출력 예\n",
        "names\tresult\n",
        "[\"nami\", \"ahri\", \"jayce\", \"garen\", \"ivern\", \"vex\", \"jinx\"]\t[\"nami\", \"vex\"]"
      ],
      "metadata": {
        "id": "-MCwtTEEFuX9"
      }
    },
    {
      "cell_type": "code",
      "execution_count": null,
      "metadata": {
        "id": "c5Oq7CFEFtkK"
      },
      "outputs": [],
      "source": [
        "#내 정답\n",
        "def solution(names):\n",
        "    return names[::5]"
      ]
    }
  ]
}