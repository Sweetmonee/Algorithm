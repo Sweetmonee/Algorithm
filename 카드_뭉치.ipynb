{
  "nbformat": 4,
  "nbformat_minor": 0,
  "metadata": {
    "colab": {
      "provenance": [],
      "authorship_tag": "ABX9TyPdkjdIx7ZX7gqAo8m6wsAl",
      "include_colab_link": true
    },
    "kernelspec": {
      "name": "python3",
      "display_name": "Python 3"
    },
    "language_info": {
      "name": "python"
    }
  },
  "cells": [
    {
      "cell_type": "markdown",
      "metadata": {
        "id": "view-in-github",
        "colab_type": "text"
      },
      "source": [
        "<a href=\"https://colab.research.google.com/github/Sweetmonee/Algorithm/blob/Programmers/%EC%B9%B4%EB%93%9C_%EB%AD%89%EC%B9%98.ipynb\" target=\"_parent\"><img src=\"https://colab.research.google.com/assets/colab-badge.svg\" alt=\"Open In Colab\"/></a>"
      ]
    },
    {
      "cell_type": "markdown",
      "source": [
        "카드 뭉치\n",
        "문제 설명\n",
        "코니는 영어 단어가 적힌 카드 뭉치 두 개를 선물로 받았습니다. 코니는 다음과 같은 규칙으로 카드에 적힌 단어들을 사용해 원하는 순서의 단어 배열을 만들 수 있는지 알고 싶습니다.\n",
        "\n",
        "원하는 카드 뭉치에서 카드를 순서대로 한 장씩 사용합니다.\n",
        "한 번 사용한 카드는 다시 사용할 수 없습니다.\n",
        "카드를 사용하지 않고 다음 카드로 넘어갈 수 없습니다.\n",
        "기존에 주어진 카드 뭉치의 단어 순서는 바꿀 수 없습니다.\n",
        "예를 들어 첫 번째 카드 뭉치에 순서대로 [\"i\", \"drink\", \"water\"], 두 번째 카드 뭉치에 순서대로 [\"want\", \"to\"]가 적혀있을 때 [\"i\", \"want\", \"to\", \"drink\", \"water\"] 순서의 단어 배열을 만들려고 한다면 첫 번째 카드 뭉치에서 \"i\"를 사용한 후 두 번째 카드 뭉치에서 \"want\"와 \"to\"를 사용하고 첫 번째 카드뭉치에 \"drink\"와 \"water\"를 차례대로 사용하면 원하는 순서의 단어 배열을 만들 수 있습니다.\n",
        "\n",
        "문자열로 이루어진 배열 cards1, cards2와 원하는 단어 배열 goal이 매개변수로 주어질 때, cards1과 cards2에 적힌 단어들로 goal를 만들 있다면 \"Yes\"를, 만들 수 없다면 \"No\"를 return하는 solution 함수를 완성해주세요.\n",
        "\n",
        "제한사항\n",
        "1 ≤ cards1의 길이, cards2의 길이 ≤ 10\n",
        "1 ≤ cards1[i]의 길이, cards2[i]의 길이 ≤ 10\n",
        "cards1과 cards2에는 서로 다른 단어만 존재합니다.\n",
        "2 ≤ goal의 길이 ≤ cards1의 길이 + cards2의 길이\n",
        "1 ≤ goal[i]의 길이 ≤ 10\n",
        "goal의 원소는 cards1과 cards2의 원소들로만 이루어져 있습니다.\n",
        "cards1, cards2, goal의 문자열들은 모두 알파벳 소문자로만 이루어져 있습니다.\n",
        "입출력 예\n",
        "cards1\tcards2\tgoal\tresult\n",
        "[\"i\", \"drink\", \"water\"]\t[\"want\", \"to\"]\t[\"i\", \"want\", \"to\", \"drink\", \"water\"]\t\"Yes\"\n",
        "[\"i\", \"water\", \"drink\"]\t[\"want\", \"to\"]\t[\"i\", \"want\", \"to\", \"drink\", \"water\"]\t\"No\""
      ],
      "metadata": {
        "id": "sWh7RZ1CV58q"
      }
    },
    {
      "cell_type": "code",
      "execution_count": null,
      "metadata": {
        "id": "3mGeYIOaV5cM"
      },
      "outputs": [],
      "source": [
        "def solution(cards1, cards2, goal):\n",
        "    bowl1 = cards1.copy()\n",
        "    bowl2 = cards2.copy()\n",
        "    bowl1.append(' ')\n",
        "    bowl2.append(' ')\n",
        "    for i in goal:\n",
        "        if i == bowl1[0]:\n",
        "            bowl1.pop(0)\n",
        "        elif i == bowl2[0]:\n",
        "            bowl2.pop(0)\n",
        "        else:\n",
        "            return 'No'\n",
        "            break\n",
        "    return 'Yes'"
      ]
    }
  ]
}