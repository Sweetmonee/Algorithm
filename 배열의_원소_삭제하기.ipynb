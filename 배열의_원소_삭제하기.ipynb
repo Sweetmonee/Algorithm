{
  "nbformat": 4,
  "nbformat_minor": 0,
  "metadata": {
    "colab": {
      "provenance": [],
      "authorship_tag": "ABX9TyNxZh2IMonujzz4DEkwDyuo",
      "include_colab_link": true
    },
    "kernelspec": {
      "name": "python3",
      "display_name": "Python 3"
    },
    "language_info": {
      "name": "python"
    }
  },
  "cells": [
    {
      "cell_type": "markdown",
      "metadata": {
        "id": "view-in-github",
        "colab_type": "text"
      },
      "source": [
        "<a href=\"https://colab.research.google.com/github/Sweetmonee/Algorithm/blob/Programmers/%EB%B0%B0%EC%97%B4%EC%9D%98_%EC%9B%90%EC%86%8C_%EC%82%AD%EC%A0%9C%ED%95%98%EA%B8%B0.ipynb\" target=\"_parent\"><img src=\"https://colab.research.google.com/assets/colab-badge.svg\" alt=\"Open In Colab\"/></a>"
      ]
    },
    {
      "cell_type": "markdown",
      "source": [
        "문제 설명\n",
        "정수 배열 arr과 delete_list가 있습니다. arr의 원소 중 delete_list의 원소를 모두 삭제하고 남은 원소들은 기존의 arr에 있던 순서를 유지한 배열을 return 하는 solution 함수를 작성해 주세요.\n",
        "\n",
        "제한사항\n",
        "1 ≤ arr의 길이 ≤ 100\n",
        "1 ≤ arr의 원소 ≤ 1,000\n",
        "arr의 원소는 모두 서로 다릅니다.\n",
        "1 ≤ delete_list의 길이 ≤ 100\n",
        "1 ≤ delete_list의 원소 ≤ 1,000\n",
        "delete_list의 원소는 모두 서로 다릅니다.\n",
        "입출력 예\n",
        "arr\tdelete_list\tresult\n",
        "[293, 1000, 395, 678, 94]\t[94, 777, 104, 1000, 1, 12]\t[293, 395, 678]"
      ],
      "metadata": {
        "id": "c_Xh7Tn092PP"
      }
    },
    {
      "cell_type": "code",
      "execution_count": null,
      "metadata": {
        "id": "dL2lT1AB9xrX"
      },
      "outputs": [],
      "source": [
        "#내 정답\n",
        "def solution(arr, delete_list):\n",
        "    answer = []\n",
        "    for i in arr:\n",
        "        if i not in delete_list:\n",
        "            answer.append(i)\n",
        "    return answer"
      ]
    },
    {
      "cell_type": "code",
      "source": [
        "#한줄 코딩\n",
        "def solution(arr, delete_list):\n",
        "    return [i for i in arr if i not in delete_list]"
      ],
      "metadata": {
        "id": "Ibho6AGe92zr"
      },
      "execution_count": null,
      "outputs": []
    }
  ]
}