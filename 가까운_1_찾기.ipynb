{
  "nbformat": 4,
  "nbformat_minor": 0,
  "metadata": {
    "colab": {
      "provenance": [],
      "authorship_tag": "ABX9TyP+rimFGE8aQ779hPcFhqr8",
      "include_colab_link": true
    },
    "kernelspec": {
      "name": "python3",
      "display_name": "Python 3"
    },
    "language_info": {
      "name": "python"
    }
  },
  "cells": [
    {
      "cell_type": "markdown",
      "metadata": {
        "id": "view-in-github",
        "colab_type": "text"
      },
      "source": [
        "<a href=\"https://colab.research.google.com/github/Sweetmonee/Algorithm/blob/Programmers/%EA%B0%80%EA%B9%8C%EC%9A%B4_1_%EC%B0%BE%EA%B8%B0.ipynb\" target=\"_parent\"><img src=\"https://colab.research.google.com/assets/colab-badge.svg\" alt=\"Open In Colab\"/></a>"
      ]
    },
    {
      "cell_type": "markdown",
      "source": [
        "가까운 1 찾기\n",
        "문제 설명\n",
        "정수 배열 arr가 주어집니다. 이때 arr의 원소는 1 또는 0입니다. 정수 idx가 주어졌을 때, idx보다 크면서 배열의 값이 1인 가장 작은 인덱스를 찾아서 반환하는 solution 함수를 완성해 주세요.\n",
        "\n",
        "단, 만약 그러한 인덱스가 없다면 -1을 반환합니다.\n",
        "\n",
        "제한사항\n",
        "3 ≤ arr의 길이 ≤ 100'000\n",
        "arr의 원소는 전부 1 또는 0입니다.\n",
        "입출력 예\n",
        "arr\tidx\tresult\n",
        "[0, 0, 0, 1]\t1\t3\n",
        "[1, 0, 0, 1, 0, 0]\t4\t-1\n",
        "[1, 1, 1, 1, 0]\t3\t3"
      ],
      "metadata": {
        "id": "oJnUXGQELg6l"
      }
    },
    {
      "cell_type": "code",
      "execution_count": null,
      "metadata": {
        "id": "4z5xFZ1HLeID"
      },
      "outputs": [],
      "source": [
        "#내 정답\n",
        "def solution(arr, idx):\n",
        "    answer = 0\n",
        "    for i in range(idx, len(arr)):\n",
        "        if arr[i] == 1:\n",
        "            answer = i\n",
        "            break\n",
        "        else:\n",
        "            continue\n",
        "    return -1 if 1 not in arr[idx:] else answer"
      ]
    },
    {
      "cell_type": "code",
      "source": [
        "#간결한 정답\n",
        "def solution(arr, idx):\n",
        "    for i in range(idx, len(arr)):\n",
        "      if arr[i] == 1:\n",
        "        return 1\n",
        "    return -1\n"
      ],
      "metadata": {
        "id": "2hgk6vcfLlp-"
      },
      "execution_count": null,
      "outputs": []
    }
  ]
}