{
  "nbformat": 4,
  "nbformat_minor": 0,
  "metadata": {
    "colab": {
      "provenance": [],
      "authorship_tag": "ABX9TyPBK73A6N6XClG43x5VrK0N",
      "include_colab_link": true
    },
    "kernelspec": {
      "name": "python3",
      "display_name": "Python 3"
    },
    "language_info": {
      "name": "python"
    }
  },
  "cells": [
    {
      "cell_type": "markdown",
      "metadata": {
        "id": "view-in-github",
        "colab_type": "text"
      },
      "source": [
        "<a href=\"https://colab.research.google.com/github/Sweetmonee/Algorithm/blob/Programmers/%EB%91%90_%EC%88%98%EC%9D%98_%ED%95%A9.ipynb\" target=\"_parent\"><img src=\"https://colab.research.google.com/assets/colab-badge.svg\" alt=\"Open In Colab\"/></a>"
      ]
    },
    {
      "cell_type": "markdown",
      "source": [
        "두 수의 합\n",
        "문제 설명\n",
        "0 이상의 두 정수가 문자열 a, b로 주어질 때, a + b의 값을 문자열로 return 하는 solution 함수를 작성해 주세요.\n",
        "\n",
        "제한사항\n",
        "1 ≤ a의 길이 ≤ 100,000\n",
        "1 ≤ b의 길이 ≤ 100,000\n",
        "a와 b는 숫자로만 이루어져 있습니다.\n",
        "a와 b는 정수 0이 아니라면 0으로 시작하지 않습니다.\n",
        "입출력 예\n",
        "a\tb\tresult\n",
        "\"582\"\t\"734\"\t\"1316\"\n",
        "\"18446744073709551615\"\t\"287346502836570928366\"\t\"305793246910280479981\"\n",
        "\"0\"\t\"0\"\t\"0\""
      ],
      "metadata": {
        "id": "3xgXHsIkvEMx"
      }
    },
    {
      "cell_type": "code",
      "execution_count": null,
      "metadata": {
        "id": "90BmFGfvvDsY"
      },
      "outputs": [],
      "source": [
        "def solution(a, b):\n",
        "    return str(int(a) + int(b))"
      ]
    }
  ]
}