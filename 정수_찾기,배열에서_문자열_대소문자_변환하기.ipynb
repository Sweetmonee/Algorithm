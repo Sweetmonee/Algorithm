{
  "nbformat": 4,
  "nbformat_minor": 0,
  "metadata": {
    "colab": {
      "provenance": [],
      "authorship_tag": "ABX9TyNJw32jaBg07ZSesib57zDN",
      "include_colab_link": true
    },
    "kernelspec": {
      "name": "python3",
      "display_name": "Python 3"
    },
    "language_info": {
      "name": "python"
    }
  },
  "cells": [
    {
      "cell_type": "markdown",
      "metadata": {
        "id": "view-in-github",
        "colab_type": "text"
      },
      "source": [
        "<a href=\"https://colab.research.google.com/github/Sweetmonee/Algorithm/blob/Programmers/%EC%A0%95%EC%88%98_%EC%B0%BE%EA%B8%B0%2C%EB%B0%B0%EC%97%B4%EC%97%90%EC%84%9C_%EB%AC%B8%EC%9E%90%EC%97%B4_%EB%8C%80%EC%86%8C%EB%AC%B8%EC%9E%90_%EB%B3%80%ED%99%98%ED%95%98%EA%B8%B0.ipynb\" target=\"_parent\"><img src=\"https://colab.research.google.com/assets/colab-badge.svg\" alt=\"Open In Colab\"/></a>"
      ]
    },
    {
      "cell_type": "markdown",
      "source": [
        "정수 찾기\n",
        "문제 설명\n",
        "정수 리스트 num_list와 찾으려는 정수 n이 주어질 때, num_list안에 n이 있으면 1을 없으면 0을 return하도록 solution 함수를 완성해주세요.\n",
        "\n",
        "제한사항\n",
        "3 ≤ num_list의 길이 ≤ 100\n",
        "1 ≤ num_list의 원소 ≤ 100\n",
        "1 ≤ n ≤ 100\n",
        "입출력 예\n",
        "num_list\tn\tresult\n",
        "[1, 2, 3, 4, 5]\t3\t1\n",
        "[15, 98, 23, 2, 15]\t20\t0"
      ],
      "metadata": {
        "id": "Gt04xQfrPBxv"
      }
    },
    {
      "cell_type": "code",
      "source": [
        "# 나의 정답\n",
        "def (num, n):\n",
        "  return 1 if n in num_list else 0"
      ],
      "metadata": {
        "id": "cdrdHYXMPDId"
      },
      "execution_count": null,
      "outputs": []
    },
    {
      "cell_type": "markdown",
      "source": [
        "배열에서 문자열 대소문자 변환하기\n",
        "문제 설명\n",
        "문자열 배열 strArr가 주어집니다. 모든 원소가 알파벳으로만 이루어져 있을 때, 배열에서 홀수번째 인덱스의 문자열은 모든 문자를 대문자로, 짝수번째 인덱스의 문자열은 모든 문자를 소문자로 바꿔서 반환하는 solution 함수를 완성해 주세요.\n",
        "\n",
        "제한사항\n",
        "1 ≤ strArr ≤ 20\n",
        "1 ≤ strArr의 원소의 길이 ≤ 20\n",
        "strArr의 모든 원소는 알파벳 소문자로 이루어져 있습니다.\n",
        "입출력 예\n",
        "strArr\tresult\n",
        "[\"AAA\",\"BBB\",\"CCC\",\"DDD\"]\t[\"aaa\",\"BBB\",\"ccc\",\"DDD\"]\n",
        "[\"aBc\",\"AbC\"]\t[\"abc\",\"ABC\"]"
      ],
      "metadata": {
        "id": "EPqwh20kRiLU"
      }
    },
    {
      "cell_type": "code",
      "execution_count": null,
      "metadata": {
        "id": "SooJOY55PBBb"
      },
      "outputs": [],
      "source": [
        "#내 정답\n",
        "def solution(strArr):\n",
        "    answer = []\n",
        "    for i in range(len(strArr)):\n",
        "        bowl = []\n",
        "        for j in strArr[i]:\n",
        "            if i % 2 == 0:\n",
        "                bowl.append(j.lower())\n",
        "            else:\n",
        "                bowl.append(j.upper())\n",
        "        answer.append(''.join(bowl))\n",
        "            \n",
        "    return answer"
      ]
    },
    {
      "cell_type": "code",
      "source": [
        "# 내 정답2\n",
        "#.lower() .upper()는 문자열 전체에도 가능\n",
        "def solution(strArr):\n",
        "    answer = []\n",
        "    for i in strArr:\n",
        "        if strArr.index(i) % 2 == 0:\n",
        "            answer.append(i.lower())\n",
        "        else:\n",
        "            answer.append(i.upper())            \n",
        "    return answer"
      ],
      "metadata": {
        "id": "QmcRSt9VRpey"
      },
      "execution_count": null,
      "outputs": []
    }
  ]
}