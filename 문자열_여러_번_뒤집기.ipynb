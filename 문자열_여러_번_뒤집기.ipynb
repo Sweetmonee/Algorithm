{
  "nbformat": 4,
  "nbformat_minor": 0,
  "metadata": {
    "colab": {
      "provenance": [],
      "authorship_tag": "ABX9TyNRSIk79K0ETGCcfnRfW0fY",
      "include_colab_link": true
    },
    "kernelspec": {
      "name": "python3",
      "display_name": "Python 3"
    },
    "language_info": {
      "name": "python"
    }
  },
  "cells": [
    {
      "cell_type": "markdown",
      "metadata": {
        "id": "view-in-github",
        "colab_type": "text"
      },
      "source": [
        "<a href=\"https://colab.research.google.com/github/Sweetmonee/Algorithm/blob/Programmers/%EB%AC%B8%EC%9E%90%EC%97%B4_%EC%97%AC%EB%9F%AC_%EB%B2%88_%EB%92%A4%EC%A7%91%EA%B8%B0.ipynb\" target=\"_parent\"><img src=\"https://colab.research.google.com/assets/colab-badge.svg\" alt=\"Open In Colab\"/></a>"
      ]
    },
    {
      "cell_type": "markdown",
      "source": [
        "문자열 여러 번 뒤집기\n",
        "문제 설명\n",
        "문자열 my_string과 이차원 정수 배열 queries가 매개변수로 주어집니다. queries의 원소는 [s, e] 형태로, my_string의 인덱스 s부터 인덱스 e까지를 뒤집으라는 의미입니다. my_string에 queries의 명령을 순서대로 처리한 후의 문자열을 return 하는 solution 함수를 작성해 주세요.\n",
        "\n",
        "제한사항\n",
        "my_string은 영소문자로만 이루어져 있습니다.\n",
        "1 ≤ my_string의 길이 ≤ 1,000\n",
        "queries의 원소는 [s, e]의 형태로 0 ≤ s ≤ e < my_string의 길이를 만족합니다.\n",
        "1 ≤ queries의 길이 ≤ 1,000\n",
        "입출력 예\n",
        "my_string\tqueries\tresult\n",
        "\"rermgorpsam\"\t[[2, 3], [0, 7], [5, 9], [6, 10]]\t\"programmers\""
      ],
      "metadata": {
        "id": "YfQMyBXN8K8-"
      }
    },
    {
      "cell_type": "code",
      "source": [
        "def solution(my_string, queries):\n",
        "    answer = ''\n",
        "    for i in queries:\n",
        "        my_string = (my_string[:i[0]] + my_string[::-1][len(my_string) - i[1]-1 :len(my_string) - i[0]]\n",
        "        + my_string[i[1] + 1:])\n",
        "    return my_string"
      ],
      "metadata": {
        "id": "oH6Jb8ZF8KpM"
      },
      "execution_count": null,
      "outputs": []
    },
    {
      "cell_type": "code",
      "execution_count": null,
      "metadata": {
        "id": "5JA-4Gyc8J_W"
      },
      "outputs": [],
      "source": []
    }
  ]
}