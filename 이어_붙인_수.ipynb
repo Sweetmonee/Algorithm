{
  "nbformat": 4,
  "nbformat_minor": 0,
  "metadata": {
    "colab": {
      "provenance": [],
      "authorship_tag": "ABX9TyNadFESYpqrD633DEV5kqq8",
      "include_colab_link": true
    },
    "kernelspec": {
      "name": "python3",
      "display_name": "Python 3"
    },
    "language_info": {
      "name": "python"
    }
  },
  "cells": [
    {
      "cell_type": "markdown",
      "metadata": {
        "id": "view-in-github",
        "colab_type": "text"
      },
      "source": [
        "<a href=\"https://colab.research.google.com/github/Sweetmonee/Algorithm/blob/Programmers/%EC%9D%B4%EC%96%B4_%EB%B6%99%EC%9D%B8_%EC%88%98.ipynb\" target=\"_parent\"><img src=\"https://colab.research.google.com/assets/colab-badge.svg\" alt=\"Open In Colab\"/></a>"
      ]
    },
    {
      "cell_type": "markdown",
      "source": [
        "이어 붙인 수\n",
        "문제 설명\n",
        "정수가 담긴 리스트 num_list가 주어집니다. num_list의 홀수만 순서대로 이어 붙인 수와 짝수만 순서대로 이어 붙인 수의 합을 return하도록 solution 함수를 완성해주세요.\n",
        "\n",
        "제한사항\n",
        "2 ≤ num_list의 길이 ≤ 10\n",
        "1 ≤ num_list의 원소 ≤ 9\n",
        "num_list에는 적어도 한 개씩의 짝수와 홀수가 있습니다.\n",
        "입출력 예\n",
        "num_list\tresult\n",
        "[3, 4, 5, 2, 1]\t393\n",
        "[5, 7, 8, 3]\t581"
      ],
      "metadata": {
        "id": "YNGOUrm8J2d-"
      }
    },
    {
      "cell_type": "code",
      "execution_count": null,
      "metadata": {
        "id": "IyES6V7NJxSO"
      },
      "outputs": [],
      "source": [
        "# 내 정답\n",
        "def solution(num_list):\n",
        "    odd = ''\n",
        "    even = ''\n",
        "    for i in num_list:\n",
        "        if i % 2 != 0:\n",
        "            odd += str(i)\n",
        "        else:\n",
        "            even += str(i)\n",
        "    return int(odd) + int(even)"
      ]
    }
  ]
}