{
  "nbformat": 4,
  "nbformat_minor": 0,
  "metadata": {
    "colab": {
      "provenance": [],
      "authorship_tag": "ABX9TyNjgktYfWKY4wXYSjJAC5eV",
      "include_colab_link": true
    },
    "kernelspec": {
      "name": "python3",
      "display_name": "Python 3"
    },
    "language_info": {
      "name": "python"
    }
  },
  "cells": [
    {
      "cell_type": "markdown",
      "metadata": {
        "id": "view-in-github",
        "colab_type": "text"
      },
      "source": [
        "<a href=\"https://colab.research.google.com/github/Sweetmonee/Algorithm/blob/Programmers/Jan_2%2C2023.ipynb\" target=\"_parent\"><img src=\"https://colab.research.google.com/assets/colab-badge.svg\" alt=\"Open In Colab\"/></a>"
      ]
    },
    {
      "cell_type": "code",
      "execution_count": null,
      "metadata": {
        "id": "ECaXsl6AUksW"
      },
      "outputs": [],
      "source": [
        "# 영어가 싫은 머쓱이는 영어로 표기되어있는 숫자를 수로 바꾸려고 합니다.\n",
        "# 문자열 numbers가 매개변수로 주어질 때, numbers를 정수로 바꿔 return 하도록 solution 함수를 완성해 주세요.\n",
        "def solution(numbers):\n",
        "    numbersdic = {'one' : 1, 'two' : 2, 'three':3,'four':4,'five':5\n",
        "                 ,'six':6, 'seven':7, 'eight' : 8, 'nine' : 9, 'zero':0}\n",
        "    word = []\n",
        "    temp = ''\n",
        "    answer = ''\n",
        "    for i in numbers:\n",
        "        temp += i\n",
        "        if temp in numbersdic:\n",
        "            word.append(numbersdic.get(temp, \"default\"))\n",
        "            temp = ''\n",
        "    for j in word:\n",
        "        answer += str(j)\n",
        "    return int(answer)"
      ]
    }
  ]
}