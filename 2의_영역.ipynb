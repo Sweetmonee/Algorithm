{
  "nbformat": 4,
  "nbformat_minor": 0,
  "metadata": {
    "colab": {
      "provenance": [],
      "authorship_tag": "ABX9TyO/VhagiBSpz1a91Ts+IEno",
      "include_colab_link": true
    },
    "kernelspec": {
      "name": "python3",
      "display_name": "Python 3"
    },
    "language_info": {
      "name": "python"
    }
  },
  "cells": [
    {
      "cell_type": "markdown",
      "metadata": {
        "id": "view-in-github",
        "colab_type": "text"
      },
      "source": [
        "<a href=\"https://colab.research.google.com/github/Sweetmonee/Algorithm/blob/Programmers/2%EC%9D%98_%EC%98%81%EC%97%AD.ipynb\" target=\"_parent\"><img src=\"https://colab.research.google.com/assets/colab-badge.svg\" alt=\"Open In Colab\"/></a>"
      ]
    },
    {
      "cell_type": "markdown",
      "source": [
        "2의 영역\n",
        "문제 설명\n",
        "정수 배열 arr가 주어집니다. 배열 안의 2가 모두 포함된 가장 작은 연속된 부분 배열을 return 하는 solution 함수를 완성해 주세요.\n",
        "\n",
        "단, arr에 2가 없는 경우 [-1]을 return 합니다.\n",
        "\n",
        "제한사항\n",
        "1 ≤ arr의 길이 ≤ 100,000\n",
        "1 ≤ arr의 원소 ≤ 10\n",
        "입출력 예\n",
        "arr\tresult\n",
        "[1, 2, 1, 4, 5, 2, 9]\t[2, 1, 4, 5, 2]\n",
        "[1, 2, 1]\t[2]\n",
        "[1, 1, 1]\t[-1]"
      ],
      "metadata": {
        "id": "yRcZVCDqoN5I"
      }
    },
    {
      "cell_type": "code",
      "source": [
        "def solution(arr):\n",
        "    return arr[arr.index(2):len(arr) - arr[::-1].index(2)] if 2 in arr else [-1]"
      ],
      "metadata": {
        "id": "W5kCQw7RoOZs"
      },
      "execution_count": null,
      "outputs": []
    }
  ]
}