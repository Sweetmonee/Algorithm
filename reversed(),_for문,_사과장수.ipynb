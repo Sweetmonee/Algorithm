{
  "nbformat": 4,
  "nbformat_minor": 0,
  "metadata": {
    "colab": {
      "provenance": [],
      "authorship_tag": "ABX9TyO8RaCBjQIyhHmj070QN5PP",
      "include_colab_link": true
    },
    "kernelspec": {
      "name": "python3",
      "display_name": "Python 3"
    },
    "language_info": {
      "name": "python"
    }
  },
  "cells": [
    {
      "cell_type": "markdown",
      "metadata": {
        "id": "view-in-github",
        "colab_type": "text"
      },
      "source": [
        "<a href=\"https://colab.research.google.com/github/Sweetmonee/Algorithm/blob/Programmers/reversed()%2C_for%EB%AC%B8%2C_%EC%82%AC%EA%B3%BC%EC%9E%A5%EC%88%98.ipynb\" target=\"_parent\"><img src=\"https://colab.research.google.com/assets/colab-badge.svg\" alt=\"Open In Colab\"/></a>"
      ]
    },
    {
      "cell_type": "markdown",
      "source": [
        "과일 장수\n",
        "문제 설명\n",
        "과일 장수가 사과 상자를 포장하고 있습니다. 사과는 상태에 따라 1점부터 k점까지의 점수로 분류하며, k점이 최상품의 사과이고 1점이 최하품의 사과입니다. 사과 한 상자의 가격은 다음과 같이 결정됩니다.\n",
        "\n",
        "한 상자에 사과를 m개씩 담아 포장합니다.\n",
        "상자에 담긴 사과 중 가장 낮은 점수가 p (1 ≤ p ≤ k)점인 경우, 사과 한 상자의 가격은 p * m 입니다.\n",
        "과일 장수가 가능한 많은 사과를 팔았을 때, 얻을 수 있는 최대 이익을 계산하고자 합니다.(사과는 상자 단위로만 판매하며, 남는 사과는 버립니다)\n",
        "\n",
        "예를 들어, k = 3, m = 4, 사과 7개의 점수가 [1, 2, 3, 1, 2, 3, 1]이라면, 다음과 같이 [2, 3, 2, 3]으로 구성된 사과 상자 1개를 만들어 판매하여 최대 이익을 얻을 수 있습니다.\n",
        "\n",
        "(최저 사과 점수) x (한 상자에 담긴 사과 개수) x (상자의 개수) = 2 x 4 x 1 = 8\n",
        "사과의 최대 점수 k, 한 상자에 들어가는 사과의 수 m, 사과들의 점수 score가 주어졌을 때, 과일 장수가 얻을 수 있는 최대 이익을 return하는 solution 함수를 완성해주세요.\n",
        "\n",
        "제한사항\n",
        "3 ≤ k ≤ 9\n",
        "3 ≤ m ≤ 10\n",
        "7 ≤ score의 길이 ≤ 1,000,000\n",
        "1 ≤ score[i] ≤ k\n",
        "이익이 발생하지 않는 경우에는 0을 return 해주세요.\n",
        "입출력 예\n",
        "k\tm\tscore\tresult\n",
        "3\t4\t[1, 2, 3, 1, 2, 3, 1]\t8\n",
        "4\t3\t[4, 1, 2, 2, 4, 4, 4, 4, 1, 2, 4, 2]\t33"
      ],
      "metadata": {
        "id": "OfdaJ_ZIMVCH"
      }
    },
    {
      "cell_type": "code",
      "execution_count": null,
      "metadata": {
        "id": "jv5LYELHMUTb"
      },
      "outputs": [],
      "source": [
        "def solution(k, m, score):\n",
        "    answer = 0\n",
        "    score = list(reversed(sorted(score)))\n",
        "    for i in range(1, (len(score) // m) +1):\n",
        "        answer += m * score[(m*i)-1]\n",
        "    return answer"
      ]
    }
  ]
}