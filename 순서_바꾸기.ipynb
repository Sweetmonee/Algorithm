{
  "nbformat": 4,
  "nbformat_minor": 0,
  "metadata": {
    "colab": {
      "provenance": [],
      "authorship_tag": "ABX9TyPHsReVH2TSpXWngN3fWIqG",
      "include_colab_link": true
    },
    "kernelspec": {
      "name": "python3",
      "display_name": "Python 3"
    },
    "language_info": {
      "name": "python"
    }
  },
  "cells": [
    {
      "cell_type": "markdown",
      "metadata": {
        "id": "view-in-github",
        "colab_type": "text"
      },
      "source": [
        "<a href=\"https://colab.research.google.com/github/Sweetmonee/Algorithm/blob/Programmers/%EC%88%9C%EC%84%9C_%EB%B0%94%EA%BE%B8%EA%B8%B0.ipynb\" target=\"_parent\"><img src=\"https://colab.research.google.com/assets/colab-badge.svg\" alt=\"Open In Colab\"/></a>"
      ]
    },
    {
      "cell_type": "markdown",
      "source": [
        "순서 바꾸기\n",
        "문제 설명\n",
        "정수 리스트 num_list와 정수 n이 주어질 때, num_list를 n 번째 원소 이후의 원소들과 n 번째까지의 원소들로 나눠 n 번째 원소 이후의 원소들을 n 번째까지의 원소들 앞에 붙인 리스트를 return하도록 solution 함수를 완성해주세요.\n",
        "\n",
        "제한사항\n",
        "2 ≤ num_list의 길이 ≤ 30\n",
        "1 ≤ num_list의 원소 ≤ 9\n",
        "1 ≤ n ≤ num_list의 길이\n",
        "입출력 예\n",
        "num_list\tn\tresult\n",
        "[2, 1, 6]\t1\t[1, 6, 2]\n",
        "[5, 2, 1, 7, 5]\t3\t[7, 5, 5, 2, 1]"
      ],
      "metadata": {
        "id": "Bww3yEXlfag5"
      }
    },
    {
      "cell_type": "code",
      "execution_count": null,
      "metadata": {
        "id": "-Cm2BwD0fXTj"
      },
      "outputs": [],
      "source": [
        "#내 정답\n",
        "def solution(num_list, n):\n",
        "    return num_list[n:] + num_list[:n]"
      ]
    }
  ]
}