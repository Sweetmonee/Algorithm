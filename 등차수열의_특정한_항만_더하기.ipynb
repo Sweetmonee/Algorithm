{
  "nbformat": 4,
  "nbformat_minor": 0,
  "metadata": {
    "colab": {
      "provenance": [],
      "authorship_tag": "ABX9TyMuQRoO50p9jM4qLjXFhMTe",
      "include_colab_link": true
    },
    "kernelspec": {
      "name": "python3",
      "display_name": "Python 3"
    },
    "language_info": {
      "name": "python"
    }
  },
  "cells": [
    {
      "cell_type": "markdown",
      "metadata": {
        "id": "view-in-github",
        "colab_type": "text"
      },
      "source": [
        "<a href=\"https://colab.research.google.com/github/Sweetmonee/Algorithm/blob/Programmers/%EB%93%B1%EC%B0%A8%EC%88%98%EC%97%B4%EC%9D%98_%ED%8A%B9%EC%A0%95%ED%95%9C_%ED%95%AD%EB%A7%8C_%EB%8D%94%ED%95%98%EA%B8%B0.ipynb\" target=\"_parent\"><img src=\"https://colab.research.google.com/assets/colab-badge.svg\" alt=\"Open In Colab\"/></a>"
      ]
    },
    {
      "cell_type": "markdown",
      "source": [
        "등차수열의 특정한 항만 더하기\n",
        "문제 설명\n",
        "두 정수 a, d와 길이가 n인 boolean 배열 included가 주어집니다. 첫째항이 a, 공차가 d인 등차수열에서 included[i]가 i + 1항을 의미할 때, 이 등차수열의 1항부터 n항까지 included가 true인 항들만 더한 값을 return 하는 solution 함수를 작성해 주세요.\n",
        "\n",
        "제한사항\n",
        "1 ≤ a ≤ 100\n",
        "1 ≤ d ≤ 100\n",
        "1 ≤ included의 길이 ≤ 100\n",
        "included에는 true가 적어도 하나 존재합니다.\n",
        "입출력 예\n",
        "a\td\tincluded\tresult\n",
        "3\t4\t[true, false, false, true, true]\t37"
      ],
      "metadata": {
        "id": "qJbpCDdSpxAP"
      }
    },
    {
      "cell_type": "code",
      "execution_count": null,
      "metadata": {
        "id": "HHRNx4Qmpwft"
      },
      "outputs": [],
      "source": [
        "def solution(a, d, included):\n",
        "    answer = 0\n",
        "    for i in range(len(included)):\n",
        "        if included[i] == True:\n",
        "            answer += a + (d * i)\n",
        "    return answer"
      ]
    },
    {
      "cell_type": "code",
      "source": [
        "#int의 성질을 이용한 풀이\n",
        "# int(True) == 1, int(False) == 0 이라고 반환되는 성질을 이용\n",
        "def solution(a, d, included):\n",
        "    answer = 0\n",
        "    for i in range(len(included)):\n",
        "        answer += (a + d * i) * int(included[i])\n",
        "    return answer"
      ],
      "metadata": {
        "id": "-aToPSbrqAzG"
      },
      "execution_count": null,
      "outputs": []
    },
    {
      "cell_type": "code",
      "source": [],
      "metadata": {
        "id": "QeHY0gOVqL8b"
      },
      "execution_count": null,
      "outputs": []
    }
  ]
}