{
  "nbformat": 4,
  "nbformat_minor": 0,
  "metadata": {
    "colab": {
      "provenance": [],
      "authorship_tag": "ABX9TyM4iDXjen9qX2c9ROxm40m0",
      "include_colab_link": true
    },
    "kernelspec": {
      "name": "python3",
      "display_name": "Python 3"
    },
    "language_info": {
      "name": "python"
    }
  },
  "cells": [
    {
      "cell_type": "markdown",
      "metadata": {
        "id": "view-in-github",
        "colab_type": "text"
      },
      "source": [
        "<a href=\"https://colab.research.google.com/github/Sweetmonee/Algorithm/blob/Programmers/%EB%AC%B8%EC%9E%90%EC%97%B4_%EB%B0%94%EA%BF%94%EC%84%9C_%EC%B0%BE%EA%B8%B0.ipynb\" target=\"_parent\"><img src=\"https://colab.research.google.com/assets/colab-badge.svg\" alt=\"Open In Colab\"/></a>"
      ]
    },
    {
      "cell_type": "markdown",
      "source": [
        "문자열 바꿔서 찾기\n",
        "문제 설명\n",
        "문자 \"A\"와 \"B\"로 이루어진 문자열 myString과 pat가 주어집니다. myString의 \"A\"를 \"B\"로, \"B\"를 \"A\"로 바꾼 문자열의 연속하는 부분 문자열 중 pat이 있으면 1을 아니면 0을 return 하는 solution 함수를 완성하세요.\n",
        "\n",
        "제한사항\n",
        "1 ≤ myString의 길이 ≤ 100\n",
        "1 ≤ pat의 길이 ≤ 10\n",
        "myString과 pat는 문자 \"A\"와 \"B\"로만 이루어진 문자열입니다.\n",
        "입출력 예\n",
        "myString\tpat\tresult\n",
        "\"ABBAA\"\t\"AABB\"\t1\n",
        "\"ABAB\"\t\"ABAB\"\t0"
      ],
      "metadata": {
        "id": "vduQOsX9ytbp"
      }
    },
    {
      "cell_type": "code",
      "source": [
        "#내 정답\n",
        "def solution(myString, pat):\n",
        "    answer = ''\n",
        "    for i in myString:\n",
        "        if i == 'A':\n",
        "            answer += 'B'\n",
        "        else:\n",
        "            answer += 'A'\n",
        "    return 1 if pat in answer else 0"
      ],
      "metadata": {
        "id": "HSHZz3T9ytN2"
      },
      "execution_count": null,
      "outputs": []
    },
    {
      "cell_type": "code",
      "execution_count": null,
      "metadata": {
        "id": "M01nsA-6ysDC"
      },
      "outputs": [],
      "source": [
        "#int, replace 사용한 정답\n",
        "def solution(myString, pat):\n",
        "    return int(pat in myString.replace('A', 'C').replace('B', 'A').replace('C', 'B'))"
      ]
    }
  ]
}