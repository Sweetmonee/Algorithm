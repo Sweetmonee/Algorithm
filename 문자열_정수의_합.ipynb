{
  "nbformat": 4,
  "nbformat_minor": 0,
  "metadata": {
    "colab": {
      "provenance": [],
      "authorship_tag": "ABX9TyMoVWgeqAeeGLVZGvHkiupt",
      "include_colab_link": true
    },
    "kernelspec": {
      "name": "python3",
      "display_name": "Python 3"
    },
    "language_info": {
      "name": "python"
    }
  },
  "cells": [
    {
      "cell_type": "markdown",
      "metadata": {
        "id": "view-in-github",
        "colab_type": "text"
      },
      "source": [
        "<a href=\"https://colab.research.google.com/github/Sweetmonee/Algorithm/blob/Programmers/%EB%AC%B8%EC%9E%90%EC%97%B4_%EC%A0%95%EC%88%98%EC%9D%98_%ED%95%A9.ipynb\" target=\"_parent\"><img src=\"https://colab.research.google.com/assets/colab-badge.svg\" alt=\"Open In Colab\"/></a>"
      ]
    },
    {
      "cell_type": "markdown",
      "source": [
        "문자열 정수의 합\n",
        "문제 설명\n",
        "한 자리 정수로 이루어진 문자열 num_str이 주어질 때, 각 자리수의 합을 return하도록 solution 함수를 완성해주세요.\n",
        "\n",
        "제한사항\n",
        "3 ≤ num_str ≤ 100\n",
        "입출력 예\n",
        "num_str\tresult\n",
        "\"123456789\"\t45\n",
        "\"1000000\"\t1"
      ],
      "metadata": {
        "id": "UDO9GaJtOx8E"
      }
    },
    {
      "cell_type": "code",
      "execution_count": null,
      "metadata": {
        "id": "bUy4u2QMOwUv"
      },
      "outputs": [],
      "source": [
        "def solution(num_str):\n",
        "    return sum([int(i) for i in num_str])"
      ]
    }
  ]
}