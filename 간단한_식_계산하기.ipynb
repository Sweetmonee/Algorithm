{
  "nbformat": 4,
  "nbformat_minor": 0,
  "metadata": {
    "colab": {
      "provenance": [],
      "authorship_tag": "ABX9TyPzlck7QcRjXD7RJMETz2+B",
      "include_colab_link": true
    },
    "kernelspec": {
      "name": "python3",
      "display_name": "Python 3"
    },
    "language_info": {
      "name": "python"
    }
  },
  "cells": [
    {
      "cell_type": "markdown",
      "metadata": {
        "id": "view-in-github",
        "colab_type": "text"
      },
      "source": [
        "<a href=\"https://colab.research.google.com/github/Sweetmonee/Algorithm/blob/Programmers/%EA%B0%84%EB%8B%A8%ED%95%9C_%EC%8B%9D_%EA%B3%84%EC%82%B0%ED%95%98%EA%B8%B0.ipynb\" target=\"_parent\"><img src=\"https://colab.research.google.com/assets/colab-badge.svg\" alt=\"Open In Colab\"/></a>"
      ]
    },
    {
      "cell_type": "markdown",
      "source": [
        "간단한 식 계산하기\n",
        "문제 설명\n",
        "문자열 binomial이 매개변수로 주어집니다. binomial은 \"a op b\" 형태의 이항식이고 a와 b는 음이 아닌 정수, op는 '+', '-', '*' 중 하나입니다. 주어진 식을 계산한 정수를 return 하는 solution 함수를 작성해 주세요.\n",
        "\n",
        "제한사항\n",
        "0 ≤ a, b ≤ 40,000\n",
        "0을 제외하고 a, b는 0으로 시작하지 않습니다.\n",
        "입출력 예\n",
        "binomial\tresult\n",
        "\"43 + 12\"\t55\n",
        "\"0 - 7777\"\t-7777\n",
        "\"40000 * 40000\"\t1600000000\n",
        "\n",
        "```\n",
        "# 코드로 형식 지정됨\n",
        "```\n",
        "\n"
      ],
      "metadata": {
        "id": "QsEVJH2F61AV"
      }
    },
    {
      "cell_type": "code",
      "execution_count": null,
      "metadata": {
        "id": "QjN8f-O260aa"
      },
      "outputs": [],
      "source": [
        "#내 답\n",
        "def solution(binomial):\n",
        "    binomial1  = binomial.split()\n",
        "    if binomial1[1] == '+':\n",
        "        return int(binomial1[0]) + int(binomial1[2])\n",
        "    elif binomial1[1] == '-':\n",
        "        return int(binomial1[0]) - int(binomial1[2])\n",
        "    else:\n",
        "        return int(binomial1[0]) * int(binomial1[2])"
      ]
    },
    {
      "cell_type": "code",
      "source": [
        "#간단한 답\n",
        "def solution(binomial):\n",
        "    return eval(binomial)"
      ],
      "metadata": {
        "id": "PMvHdp-I62b_"
      },
      "execution_count": null,
      "outputs": []
    }
  ]
}