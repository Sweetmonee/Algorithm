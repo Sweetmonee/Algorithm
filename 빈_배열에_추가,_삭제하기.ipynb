{
  "nbformat": 4,
  "nbformat_minor": 0,
  "metadata": {
    "colab": {
      "provenance": [],
      "authorship_tag": "ABX9TyNsa0kpV8VRREBMZSymqH4g",
      "include_colab_link": true
    },
    "kernelspec": {
      "name": "python3",
      "display_name": "Python 3"
    },
    "language_info": {
      "name": "python"
    }
  },
  "cells": [
    {
      "cell_type": "markdown",
      "metadata": {
        "id": "view-in-github",
        "colab_type": "text"
      },
      "source": [
        "<a href=\"https://colab.research.google.com/github/Sweetmonee/Algorithm/blob/Programmers/%EB%B9%88_%EB%B0%B0%EC%97%B4%EC%97%90_%EC%B6%94%EA%B0%80%2C_%EC%82%AD%EC%A0%9C%ED%95%98%EA%B8%B0.ipynb\" target=\"_parent\"><img src=\"https://colab.research.google.com/assets/colab-badge.svg\" alt=\"Open In Colab\"/></a>"
      ]
    },
    {
      "cell_type": "markdown",
      "source": [
        "빈 배열에 추가, 삭제하기\n",
        "문제 설명\n",
        "아무 원소도 들어있지 않은 빈 배열 X가 있습니다. 길이가 같은 정수 배열 arr과 boolean 배열 flag가 매개변수로 주어질 때, flag를 차례대로 순회하며 flag[i]가 true라면 X의 뒤에 arr[i]를 arr[i] × 2 번 추가하고, flag[i]가 false라면 X에서 마지막 arr[i]개의 원소를 제거한 뒤 X를 return 하는 solution 함수를 작성해 주세요.\n",
        "\n",
        "제한사항\n",
        "1 ≤ arr의 길이 = flag의 길이 ≤ 100\n",
        "arr의 모든 원소는 1 이상 9 이하의 정수입니다.\n",
        "현재 X의 길이보다 더 많은 원소를 빼는 입력은 주어지지 않습니다.\n",
        "입출력 예\n",
        "arr\tflag\tresult\n",
        "[3, 2, 4, 1, 3]\t[true, false, true, false, false]\t[3, 3, 3, 3, 4, 4, 4, 4]"
      ],
      "metadata": {
        "id": "uM37zrXKVfr3"
      }
    },
    {
      "cell_type": "code",
      "execution_count": null,
      "metadata": {
        "id": "aE4gf-KDVfKC"
      },
      "outputs": [],
      "source": [
        "def solution(arr, flag):\n",
        "    answer = []\n",
        "    for i in range(len(flag)):\n",
        "        if flag[i] == True:\n",
        "            for j in range(arr[i] * 2):\n",
        "                answer.append(arr[i])\n",
        "        else:\n",
        "            answer = answer[:len(answer) - arr[i]]\n",
        "    return answer"
      ]
    }
  ]
}