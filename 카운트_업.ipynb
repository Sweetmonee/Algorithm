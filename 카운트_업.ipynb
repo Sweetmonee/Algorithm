{
  "nbformat": 4,
  "nbformat_minor": 0,
  "metadata": {
    "colab": {
      "provenance": [],
      "authorship_tag": "ABX9TyOlJno1gWhgqLX/SvuYAilj",
      "include_colab_link": true
    },
    "kernelspec": {
      "name": "python3",
      "display_name": "Python 3"
    },
    "language_info": {
      "name": "python"
    }
  },
  "cells": [
    {
      "cell_type": "markdown",
      "metadata": {
        "id": "view-in-github",
        "colab_type": "text"
      },
      "source": [
        "<a href=\"https://colab.research.google.com/github/Sweetmonee/Algorithm/blob/Programmers/%EC%B9%B4%EC%9A%B4%ED%8A%B8_%EC%97%85.ipynb\" target=\"_parent\"><img src=\"https://colab.research.google.com/assets/colab-badge.svg\" alt=\"Open In Colab\"/></a>"
      ]
    },
    {
      "cell_type": "markdown",
      "source": [
        "카운트 업\n",
        "문제 설명\n",
        "정수 start와 end가 주어질 때, start부터 end까지의 숫자를 차례로 담은 리스트를 return하도록 solution 함수를 완성해주세요.\n",
        "\n",
        "제한사항\n",
        "0 ≤ start ≤ end ≤ 50\n",
        "입출력 예\n",
        "start\tend\tresult\n",
        "3\t10\t[3, 4, 5, 6, 7, 8, 9, 10]"
      ],
      "metadata": {
        "id": "GVZC05nbtAoh"
      }
    },
    {
      "cell_type": "code",
      "source": [
        "#내정답\n",
        "def solution(start, end):\n",
        "    return [i for i in range(start, end + 1)]"
      ],
      "metadata": {
        "id": "lPGjabVmtBE6"
      },
      "execution_count": null,
      "outputs": []
    },
    {
      "cell_type": "code",
      "execution_count": null,
      "metadata": {
        "id": "gEPqEbu4tACa"
      },
      "outputs": [],
      "source": [
        "#람다활용\n",
        "solution = lambda start, end: [i for i in range(start, end+1)]"
      ]
    }
  ]
}