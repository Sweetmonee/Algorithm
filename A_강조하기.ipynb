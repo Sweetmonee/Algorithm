{
  "nbformat": 4,
  "nbformat_minor": 0,
  "metadata": {
    "colab": {
      "provenance": [],
      "authorship_tag": "ABX9TyM4PxdYodG7htHbJIlpS3df",
      "include_colab_link": true
    },
    "kernelspec": {
      "name": "python3",
      "display_name": "Python 3"
    },
    "language_info": {
      "name": "python"
    }
  },
  "cells": [
    {
      "cell_type": "markdown",
      "metadata": {
        "id": "view-in-github",
        "colab_type": "text"
      },
      "source": [
        "<a href=\"https://colab.research.google.com/github/Sweetmonee/Algorithm/blob/Programmers/A_%EA%B0%95%EC%A1%B0%ED%95%98%EA%B8%B0.ipynb\" target=\"_parent\"><img src=\"https://colab.research.google.com/assets/colab-badge.svg\" alt=\"Open In Colab\"/></a>"
      ]
    },
    {
      "cell_type": "markdown",
      "source": [
        "A 강조하기\n",
        "문제 설명\n",
        "문자열 myString이 주어집니다. myString에서 알파벳 \"a\"가 등장하면 전부 \"A\"로 변환하고, \"A\"가 아닌 모든 대문자 알파벳은 소문자 알파벳으로 변환하여 return 하는 solution 함수를 완성하세요.\n",
        "\n",
        "제한사항\n",
        "1 ≤ myString의 길이 ≤ 20\n",
        "myString은 알파벳으로 이루어진 문자열입니다.\n",
        "입출력 예\n",
        "myString\tresult\n",
        "\"abstract algebra\"\t\"AbstrAct AlgebrA\"\n",
        "\"PrOgRaMmErS\"\t\"progrAmmers\""
      ],
      "metadata": {
        "id": "A6P4SXs3fVx-"
      }
    },
    {
      "cell_type": "code",
      "execution_count": null,
      "metadata": {
        "id": "d4HnxZSbfVbm"
      },
      "outputs": [],
      "source": [
        "def solution(myString):\n",
        "    return ''.join([i.upper() if i == 'a' or i == 'A' else i.lower() for i in myString])"
      ]
    }
  ]
}