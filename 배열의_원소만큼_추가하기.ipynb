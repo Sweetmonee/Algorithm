{
  "nbformat": 4,
  "nbformat_minor": 0,
  "metadata": {
    "colab": {
      "provenance": [],
      "authorship_tag": "ABX9TyM5x2o0z73qKHtoRES3i/6j",
      "include_colab_link": true
    },
    "kernelspec": {
      "name": "python3",
      "display_name": "Python 3"
    },
    "language_info": {
      "name": "python"
    }
  },
  "cells": [
    {
      "cell_type": "markdown",
      "metadata": {
        "id": "view-in-github",
        "colab_type": "text"
      },
      "source": [
        "<a href=\"https://colab.research.google.com/github/Sweetmonee/Algorithm/blob/Programmers/%EB%B0%B0%EC%97%B4%EC%9D%98_%EC%9B%90%EC%86%8C%EB%A7%8C%ED%81%BC_%EC%B6%94%EA%B0%80%ED%95%98%EA%B8%B0.ipynb\" target=\"_parent\"><img src=\"https://colab.research.google.com/assets/colab-badge.svg\" alt=\"Open In Colab\"/></a>"
      ]
    },
    {
      "cell_type": "markdown",
      "source": [
        "문제 설명\n",
        "아무 원소도 들어있지 않은 빈 배열 X가 있습니다. 양의 정수 배열 arr가 매개변수로 주어질 때, arr의 앞에서부터 차례대로 원소를 보면서 원소가 a라면 X의 맨 뒤에 a를 a번 추가하는 일을 반복한 뒤의 배열 X를 return 하는 solution 함수를 작성해 주세요.\n",
        "\n",
        "제한사항\n",
        "1 ≤ arr의 길이 ≤ 100\n",
        "1 ≤ arr의 원소 ≤ 100\n",
        "입출력 예\n",
        "arr\tresult\n",
        "[5, 1, 4]\t[5, 5, 5, 5, 5, 1, 4, 4, 4, 4]\n",
        "[6, 6]\t[6, 6, 6, 6, 6, 6, 6, 6, 6, 6, 6, 6]\n",
        "[1]\t[1]"
      ],
      "metadata": {
        "id": "xrVMiVS-pM4u"
      }
    },
    {
      "cell_type": "code",
      "execution_count": null,
      "metadata": {
        "id": "0GaHbd6IpL6R"
      },
      "outputs": [],
      "source": [
        "def solution(arr):\n",
        "    answer = []\n",
        "    for i in arr:\n",
        "        for j in range(i):\n",
        "            answer.append(i)\n",
        "    return answer"
      ]
    }
  ]
}