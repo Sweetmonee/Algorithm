{
  "nbformat": 4,
  "nbformat_minor": 0,
  "metadata": {
    "colab": {
      "provenance": [],
      "authorship_tag": "ABX9TyN4PpKrvGT8+cPprS9iGzIM",
      "include_colab_link": true
    },
    "kernelspec": {
      "name": "python3",
      "display_name": "Python 3"
    },
    "language_info": {
      "name": "python"
    }
  },
  "cells": [
    {
      "cell_type": "markdown",
      "metadata": {
        "id": "view-in-github",
        "colab_type": "text"
      },
      "source": [
        "<a href=\"https://colab.research.google.com/github/Sweetmonee/Algorithm/blob/Programmers/Jan_9%2C_2023.ipynb\" target=\"_parent\"><img src=\"https://colab.research.google.com/assets/colab-badge.svg\" alt=\"Open In Colab\"/></a>"
      ]
    },
    {
      "cell_type": "code",
      "execution_count": null,
      "metadata": {
        "id": "gCBQyTAsV7e2"
      },
      "outputs": [],
      "source": [
        "# 덧셈, 뺄셈 수식들이 'X [연산자] Y = Z' 형태로 들어있는 문자열 배열 quiz가 매개변수로 주어집니다. \n",
        "# 수식이 옳다면 \"O\"를 틀리다면 \"X\"를 순서대로 담은 배열을 return하도록 solution 함수를 완성해주세요.\n",
        "def solution(quiz):\n",
        "    answer = []\n",
        "    bowl = []\n",
        "    for i in quiz:\n",
        "        bowl.append(i.split())\n",
        "    for j in bowl:\n",
        "        if j[1] == '+':\n",
        "            if int(j[0]) + int(j[2]) == int(j[4]):\n",
        "                answer.append('O')\n",
        "            else:\n",
        "                answer.append('X')\n",
        "        elif j[1] == '-':\n",
        "            if int(j[0]) - int(j[2]) == int(j[4]):\n",
        "                answer.append('O')\n",
        "            else:\n",
        "                answer.append('X')\n",
        "    return answer"
      ]
    },
    {
      "cell_type": "code",
      "source": [
        "# 프로그래머스 치킨은 치킨을 시켜먹으면 한 마리당 쿠폰을 한 장 발급합니다. 쿠폰을 열 장 모으면 치킨을 한 마리 서비스로 받을 수 있고, 서비스 치킨에도 쿠폰이 발급됩니다. \n",
        "# 시켜먹은 치킨의 수 chicken이 매개변수로 주어질 때 받을 수 있는 최대 서비스 치킨의 수를 return하도록 solution 함수를 완성해주세요.\n",
        "def solution(chicken):\n",
        "    return chicken//9 if chicken%9 != 0 else 0 if chicken == 0 else (chicken//9) -1"
      ],
      "metadata": {
        "id": "qiAE7M0ChIyv"
      },
      "execution_count": null,
      "outputs": []
    }
  ]
}