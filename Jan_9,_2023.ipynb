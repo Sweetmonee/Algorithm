{
  "nbformat": 4,
  "nbformat_minor": 0,
  "metadata": {
    "colab": {
      "provenance": [],
      "authorship_tag": "ABX9TyMNBX6BeHzUeTahr04Hih43",
      "include_colab_link": true
    },
    "kernelspec": {
      "name": "python3",
      "display_name": "Python 3"
    },
    "language_info": {
      "name": "python"
    }
  },
  "cells": [
    {
      "cell_type": "markdown",
      "metadata": {
        "id": "view-in-github",
        "colab_type": "text"
      },
      "source": [
        "<a href=\"https://colab.research.google.com/github/Sweetmonee/Algorithm/blob/Programmers/Jan_9%2C_2023.ipynb\" target=\"_parent\"><img src=\"https://colab.research.google.com/assets/colab-badge.svg\" alt=\"Open In Colab\"/></a>"
      ]
    },
    {
      "cell_type": "code",
      "execution_count": null,
      "metadata": {
        "id": "gCBQyTAsV7e2"
      },
      "outputs": [],
      "source": [
        "# 덧셈, 뺄셈 수식들이 'X [연산자] Y = Z' 형태로 들어있는 문자열 배열 quiz가 매개변수로 주어집니다. \n",
        "# 수식이 옳다면 \"O\"를 틀리다면 \"X\"를 순서대로 담은 배열을 return하도록 solution 함수를 완성해주세요.\n",
        "def solution(quiz):\n",
        "    answer = []\n",
        "    bowl = []\n",
        "    for i in quiz:\n",
        "        bowl.append(i.split())\n",
        "    for j in bowl:\n",
        "        if j[1] == '+':\n",
        "            if int(j[0]) + int(j[2]) == int(j[4]):\n",
        "                answer.append('O')\n",
        "            else:\n",
        "                answer.append('X')\n",
        "        elif j[1] == '-':\n",
        "            if int(j[0]) - int(j[2]) == int(j[4]):\n",
        "                answer.append('O')\n",
        "            else:\n",
        "                answer.append('X')\n",
        "    return answer"
      ]
    }
  ]
}