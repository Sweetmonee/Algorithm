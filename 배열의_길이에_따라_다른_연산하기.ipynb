{
  "nbformat": 4,
  "nbformat_minor": 0,
  "metadata": {
    "colab": {
      "provenance": [],
      "authorship_tag": "ABX9TyOYAcW92NVohIn2deiMsWHP",
      "include_colab_link": true
    },
    "kernelspec": {
      "name": "python3",
      "display_name": "Python 3"
    },
    "language_info": {
      "name": "python"
    }
  },
  "cells": [
    {
      "cell_type": "markdown",
      "metadata": {
        "id": "view-in-github",
        "colab_type": "text"
      },
      "source": [
        "<a href=\"https://colab.research.google.com/github/Sweetmonee/Algorithm/blob/Programmers/%EB%B0%B0%EC%97%B4%EC%9D%98_%EA%B8%B8%EC%9D%B4%EC%97%90_%EB%94%B0%EB%9D%BC_%EB%8B%A4%EB%A5%B8_%EC%97%B0%EC%82%B0%ED%95%98%EA%B8%B0.ipynb\" target=\"_parent\"><img src=\"https://colab.research.google.com/assets/colab-badge.svg\" alt=\"Open In Colab\"/></a>"
      ]
    },
    {
      "cell_type": "markdown",
      "source": [
        "배열의 길이에 따라 다른 연산하기\n",
        "문제 설명\n",
        "정수 배열 arr과 정수 n이 매개변수로 주어집니다. arr의 길이가 홀수라면 arr의 모든 짝수 인덱스 위치에 n을 더한 배열을, arr의 길이가 짝수라면 arr의 모든 홀수 인덱스 위치에 n을 더한 배열을 return 하는 solution 함수를 작성해 주세요.\n",
        "\n",
        "제한사항\n",
        "1 ≤ arr의 길이 ≤ 1,000\n",
        "1 ≤ arr의 원소 ≤ 1,000\n",
        "1 ≤ n ≤ 1,000\n",
        "입출력 예\n",
        "arr\tn\tresult\n",
        "[49, 12, 100, 276, 33]\t27\t[76, 12, 127, 276, 60]\n",
        "[444, 555, 666, 777]\t100\t[444, 655, 666, 877]"
      ],
      "metadata": {
        "id": "8tmw_8nRo7Dk"
      }
    },
    {
      "cell_type": "code",
      "execution_count": null,
      "metadata": {
        "id": "21aglXXHo51g"
      },
      "outputs": [],
      "source": [
        "# 내 정답\n",
        "def solution(arr, n):\n",
        "    answer = []\n",
        "    for i in range(len(arr)):\n",
        "        if len(arr) % 2 != 0:\n",
        "            if i % 2 == 0:\n",
        "                answer.append(arr[i] + n)\n",
        "            else:\n",
        "                answer.append(arr[i])\n",
        "        else:\n",
        "            if i % 2 == 0:\n",
        "                answer.append(arr[i])\n",
        "            else:\n",
        "                answer.append(arr[i] + n)\n",
        "    return answer"
      ]
    },
    {
      "cell_type": "code",
      "source": [],
      "metadata": {
        "id": "dyp8eTdjo7w3"
      },
      "execution_count": null,
      "outputs": []
    }
  ]
}