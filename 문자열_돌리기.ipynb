{
  "nbformat": 4,
  "nbformat_minor": 0,
  "metadata": {
    "colab": {
      "provenance": [],
      "authorship_tag": "ABX9TyP0/N8F1YxJzXcmYJ2wNvoM",
      "include_colab_link": true
    },
    "kernelspec": {
      "name": "python3",
      "display_name": "Python 3"
    },
    "language_info": {
      "name": "python"
    }
  },
  "cells": [
    {
      "cell_type": "markdown",
      "metadata": {
        "id": "view-in-github",
        "colab_type": "text"
      },
      "source": [
        "<a href=\"https://colab.research.google.com/github/Sweetmonee/Algorithm/blob/Programmers/%EB%AC%B8%EC%9E%90%EC%97%B4_%EB%8F%8C%EB%A6%AC%EA%B8%B0.ipynb\" target=\"_parent\"><img src=\"https://colab.research.google.com/assets/colab-badge.svg\" alt=\"Open In Colab\"/></a>"
      ]
    },
    {
      "cell_type": "markdown",
      "source": [
        "문자열 돌리기\n",
        "문제 설명\n",
        "문자열 str이 주어집니다.\n",
        "문자열을 시계방향으로 90도 돌려서 아래 입출력 예와 같이 출력하는 코드를 작성해 보세요.\n",
        "\n",
        "제한사항\n",
        "1 ≤ str의 길이 ≤ 10\n",
        "\n",
        "입출력 예\n",
        "입력 #1\n",
        "\n",
        "abcde"
      ],
      "metadata": {
        "id": "k0fCK09rhqOC"
      }
    },
    {
      "cell_type": "code",
      "execution_count": null,
      "metadata": {
        "id": "wn1x6LZVhp0g"
      },
      "outputs": [],
      "source": [
        "str = input()\n",
        "for i in str:\n",
        "    print(i)"
      ]
    }
  ]
}