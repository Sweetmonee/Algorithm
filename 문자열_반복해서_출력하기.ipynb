{
  "nbformat": 4,
  "nbformat_minor": 0,
  "metadata": {
    "colab": {
      "provenance": [],
      "authorship_tag": "ABX9TyOsKB3bM2E3u0feh5ZNnT1T",
      "include_colab_link": true
    },
    "kernelspec": {
      "name": "python3",
      "display_name": "Python 3"
    },
    "language_info": {
      "name": "python"
    }
  },
  "cells": [
    {
      "cell_type": "markdown",
      "metadata": {
        "id": "view-in-github",
        "colab_type": "text"
      },
      "source": [
        "<a href=\"https://colab.research.google.com/github/Sweetmonee/Algorithm/blob/Programmers/%EB%AC%B8%EC%9E%90%EC%97%B4_%EB%B0%98%EB%B3%B5%ED%95%B4%EC%84%9C_%EC%B6%9C%EB%A0%A5%ED%95%98%EA%B8%B0.ipynb\" target=\"_parent\"><img src=\"https://colab.research.google.com/assets/colab-badge.svg\" alt=\"Open In Colab\"/></a>"
      ]
    },
    {
      "cell_type": "markdown",
      "source": [
        "문자열 반복해서 출력하기\n",
        "문제 설명\n",
        "문자열 str과 정수 n이 주어집니다.\n",
        "str이 n번 반복된 문자열을 만들어 출력하는 코드를 작성해 보세요.\n",
        "\n",
        "제한사항\n",
        "1 ≤ str의 길이 ≤ 10\n",
        "1 ≤ n ≤ 5\n",
        "입출력 예\n",
        "입력 #1\n",
        "\n",
        "string 5\n",
        "출력 #1\n",
        "\n",
        "stringstringstringstringstring"
      ],
      "metadata": {
        "id": "_xaCtIVobzes"
      }
    },
    {
      "cell_type": "code",
      "execution_count": null,
      "metadata": {
        "id": "7dsLg01hbygS"
      },
      "outputs": [],
      "source": [
        "a, b = input().strip().split(' ')\n",
        "b = int(b)\n",
        "print(a * b)\n"
      ]
    }
  ]
}