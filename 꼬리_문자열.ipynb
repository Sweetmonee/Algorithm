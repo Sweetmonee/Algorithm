{
  "nbformat": 4,
  "nbformat_minor": 0,
  "metadata": {
    "colab": {
      "provenance": [],
      "authorship_tag": "ABX9TyOWk7QRJB4uyl4T86o/j/p4",
      "include_colab_link": true
    },
    "kernelspec": {
      "name": "python3",
      "display_name": "Python 3"
    },
    "language_info": {
      "name": "python"
    }
  },
  "cells": [
    {
      "cell_type": "markdown",
      "metadata": {
        "id": "view-in-github",
        "colab_type": "text"
      },
      "source": [
        "<a href=\"https://colab.research.google.com/github/Sweetmonee/Algorithm/blob/Programmers/%EA%BC%AC%EB%A6%AC_%EB%AC%B8%EC%9E%90%EC%97%B4.ipynb\" target=\"_parent\"><img src=\"https://colab.research.google.com/assets/colab-badge.svg\" alt=\"Open In Colab\"/></a>"
      ]
    },
    {
      "cell_type": "markdown",
      "source": [
        "꼬리 문자열\n",
        "문제 설명\n",
        "문자열들이 담긴 리스트가 주어졌을 때, 모든 문자열들을 순서대로 합친 문자열을 꼬리 문자열이라고 합니다. 꼬리 문자열을 만들 때 특정 문자열을 포함한 문자열은 제외시키려고 합니다. 예를 들어 문자열 리스트 [\"abc\", \"def\", \"ghi\"]가 있고 문자열 \"ef\"를 포함한 문자열은 제외하고 꼬리 문자열을 만들면 \"abcghi\"가 됩니다.\n",
        "\n",
        "문자열 리스트 str_list와 제외하려는 문자열 ex가 주어질 때, str_list에서 ex를 포함한 문자열을 제외하고 만든 꼬리 문자열을 return하도록 solution 함수를 완성해주세요.\n",
        "\n",
        "제한사항\n",
        "2 ≤ str_list의 길이 ≤ 10\n",
        "1 ≤ str_list의 원소의 길이 ≤ 10\n",
        "1 ≤ ex의 길이 ≤ 5\n",
        "입출력 예\n",
        "str_list\tex\tresult\n",
        "[\"abc\", \"def\", \"ghi\"]\t\"ef\"\t\"abcghi\""
      ],
      "metadata": {
        "id": "BQpwdBrKXZ4K"
      }
    },
    {
      "cell_type": "code",
      "execution_count": null,
      "metadata": {
        "id": "KMSU887CXYh9"
      },
      "outputs": [],
      "source": [
        "#내 정답\n",
        "def solution(str_list, ex):\n",
        "    answer = ''\n",
        "    for i in str_list:\n",
        "        if ex in i:\n",
        "            continue\n",
        "        else:\n",
        "            answer += i\n",
        "    return answer"
      ]
    }
  ]
}