{
  "nbformat": 4,
  "nbformat_minor": 0,
  "metadata": {
    "colab": {
      "provenance": [],
      "authorship_tag": "ABX9TyMdhZMYrPeT/RdAL9uY69/A",
      "include_colab_link": true
    },
    "kernelspec": {
      "name": "python3",
      "display_name": "Python 3"
    },
    "language_info": {
      "name": "python"
    }
  },
  "cells": [
    {
      "cell_type": "markdown",
      "metadata": {
        "id": "view-in-github",
        "colab_type": "text"
      },
      "source": [
        "<a href=\"https://colab.research.google.com/github/Sweetmonee/Algorithm/blob/Programmers/%EA%B3%B5%EB%B0%B0%EC%88%98.ipynb\" target=\"_parent\"><img src=\"https://colab.research.google.com/assets/colab-badge.svg\" alt=\"Open In Colab\"/></a>"
      ]
    },
    {
      "cell_type": "markdown",
      "source": [
        "공배수\n",
        "문제 설명\n",
        "정수 number와 n, m이 주어집니다. number가 n의 배수이면서 m의 배수이면 1을 아니라면 0을 return하도록 solution 함수를 완성해주세요.\n",
        "\n",
        "제한사항\n",
        "10 ≤ number ≤ 100\n",
        "2 ≤ n, m < 10\n",
        "\n",
        "입출력 예\n",
        "number\tn\tm\tresult\n",
        "60\t2\t3\t1\n",
        "55\t10\t5\t0"
      ],
      "metadata": {
        "id": "_5kdeWOaAiM_"
      }
    },
    {
      "cell_type": "code",
      "execution_count": null,
      "metadata": {
        "id": "Dumf9Y6wAcKd"
      },
      "outputs": [],
      "source": [
        "#나의 정답\n",
        "def solution(number, n, m):\n",
        "    return 1 if number % n == 0 and number % m == 0 else 0"
      ]
    },
    {
      "cell_type": "code",
      "source": [
        "#int 사용한 정답\n",
        "def solution(number, n, m):\n",
        "    return int(number%n == 0 and number%m == 0)"
      ],
      "metadata": {
        "id": "pCRaJLg0Aoef"
      },
      "execution_count": null,
      "outputs": []
    }
  ]
}