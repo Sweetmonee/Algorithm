{
  "nbformat": 4,
  "nbformat_minor": 0,
  "metadata": {
    "colab": {
      "provenance": [],
      "authorship_tag": "ABX9TyOzy+10mH20nfOZLwA+0q/u",
      "include_colab_link": true
    },
    "kernelspec": {
      "name": "python3",
      "display_name": "Python 3"
    },
    "language_info": {
      "name": "python"
    }
  },
  "cells": [
    {
      "cell_type": "markdown",
      "metadata": {
        "id": "view-in-github",
        "colab_type": "text"
      },
      "source": [
        "<a href=\"https://colab.research.google.com/github/Sweetmonee/Algorithm/blob/Programmers/%EC%88%98_%EC%A1%B0%EC%9E%91%ED%95%98%EA%B8%B01.ipynb\" target=\"_parent\"><img src=\"https://colab.research.google.com/assets/colab-badge.svg\" alt=\"Open In Colab\"/></a>"
      ]
    },
    {
      "cell_type": "markdown",
      "source": [
        "수 조작하기 1\n",
        "문제 설명\n",
        "정수 n과 문자열 control이 주어집니다. control은 \"w\", \"a\", \"s\", \"d\"의 4개의 문자로 이루어져 있으며, control의 앞에서부터 순서대로 문자에 따라 n의 값을 바꿉니다.\n",
        "\n",
        "\"w\" : n이 1 커집니다.\n",
        "\"s\" : n이 1 작아집니다.\n",
        "\"d\" : n이 10 커집니다.\n",
        "\"a\" : n이 10 작아집니다.\n",
        "위 규칙에 따라 n을 바꿨을 때 가장 마지막에 나오는 n의 값을 return 하는 solution 함수를 완성해 주세요.\n",
        "\n",
        "제한사항\n",
        "-100,000 ≤ n ≤ 100,000\n",
        "1 ≤ control의 길이 ≤ 100,000\n",
        "control은 알파벳 소문자 \"w\", \"a\", \"s\", \"d\"로 이루어진 문자열입니다."
      ],
      "metadata": {
        "id": "pDriJPZkqGlP"
      }
    },
    {
      "cell_type": "code",
      "execution_count": null,
      "metadata": {
        "id": "ORCFR4SCqEWM"
      },
      "outputs": [],
      "source": [
        "#내정답\n",
        "def solution(n, control):\n",
        "    answer = n\n",
        "    for i in control:\n",
        "        if i == 'w':\n",
        "            answer += 1\n",
        "        elif i == 's':\n",
        "            answer -= 1\n",
        "        elif i == 'd':\n",
        "            answer += 10\n",
        "        else:\n",
        "            answer -= 10\n",
        "    return answer"
      ]
    },
    {
      "cell_type": "code",
      "source": [
        "#딕셔너리와 집 활용\n",
        "def solution(n, control):\n",
        "    key = dict(zip(['w','s','d','a'], [1,-1,10,-10]))\n",
        "    return n + sum([key[c] for c in control])"
      ],
      "metadata": {
        "id": "NIN20tZcqGXd"
      },
      "execution_count": null,
      "outputs": []
    }
  ]
}