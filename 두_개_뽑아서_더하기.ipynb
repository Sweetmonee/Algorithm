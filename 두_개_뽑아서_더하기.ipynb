{
  "nbformat": 4,
  "nbformat_minor": 0,
  "metadata": {
    "colab": {
      "provenance": [],
      "authorship_tag": "ABX9TyNfsnA1Gf+yMCAGxiybYf0W",
      "include_colab_link": true
    },
    "kernelspec": {
      "name": "python3",
      "display_name": "Python 3"
    },
    "language_info": {
      "name": "python"
    }
  },
  "cells": [
    {
      "cell_type": "markdown",
      "metadata": {
        "id": "view-in-github",
        "colab_type": "text"
      },
      "source": [
        "<a href=\"https://colab.research.google.com/github/Sweetmonee/Algorithm/blob/Programmers/%EB%91%90_%EA%B0%9C_%EB%BD%91%EC%95%84%EC%84%9C_%EB%8D%94%ED%95%98%EA%B8%B0.ipynb\" target=\"_parent\"><img src=\"https://colab.research.google.com/assets/colab-badge.svg\" alt=\"Open In Colab\"/></a>"
      ]
    },
    {
      "cell_type": "code",
      "execution_count": null,
      "metadata": {
        "id": "fOS_eSktnB9q"
      },
      "outputs": [],
      "source": [
        "#정수 배열 numbers가 주어집니다. numbers에서 서로 다른 인덱스에 있는 두 개의 수를 뽑아 더해서 만들 수 있는 모든 수를 배열에 오름차순으로 담아 return 하도록 solution 함수를 완성해주세요.\n",
        "\n",
        "def solution(numbers):\n",
        "    answer = []\n",
        "    bowl = []\n",
        "    for i in range(len(numbers) - 1):\n",
        "        for j in range(i + 1,len(numbers)):\n",
        "            bowl.append(numbers[i] + numbers[j])\n",
        "    \n",
        "    for k in bowl:\n",
        "        if k not in answer:\n",
        "            answer.append(k)\n",
        "    return sorted(answer)"
      ]
    }
  ]
}