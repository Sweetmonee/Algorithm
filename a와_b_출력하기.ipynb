{
  "nbformat": 4,
  "nbformat_minor": 0,
  "metadata": {
    "colab": {
      "provenance": [],
      "authorship_tag": "ABX9TyNJM9OcZkJ3vx0GDcMZMZqO",
      "include_colab_link": true
    },
    "kernelspec": {
      "name": "python3",
      "display_name": "Python 3"
    },
    "language_info": {
      "name": "python"
    }
  },
  "cells": [
    {
      "cell_type": "markdown",
      "metadata": {
        "id": "view-in-github",
        "colab_type": "text"
      },
      "source": [
        "<a href=\"https://colab.research.google.com/github/Sweetmonee/Algorithm/blob/Programmers/a%EC%99%80_b_%EC%B6%9C%EB%A0%A5%ED%95%98%EA%B8%B0.ipynb\" target=\"_parent\"><img src=\"https://colab.research.google.com/assets/colab-badge.svg\" alt=\"Open In Colab\"/></a>"
      ]
    },
    {
      "cell_type": "markdown",
      "source": [
        "a와 b 출력하기\n",
        "문제 설명\n",
        "정수 a와 b가 주어집니다. 각 수를 입력받아 입출력 예와 같은 형식으로 출력하는 코드를 작성해 보세요.\n",
        "\n",
        "제한사항\n",
        "-100,000 ≤ a, b ≤ 100,000\n",
        "입출력 예\n",
        "입력 #1\n",
        "\n",
        "4 5\n",
        "출력 #1\n",
        "\n",
        "a = 4\n",
        "b = 5"
      ],
      "metadata": {
        "id": "jjcmYSO7Wbe0"
      }
    },
    {
      "cell_type": "code",
      "execution_count": null,
      "metadata": {
        "id": "ddxUPHIGWYz3"
      },
      "outputs": [],
      "source": [
        "#내 정답\n",
        "a, b = map(int, input().strip().split(' '))\n",
        "print('a = %s'%a , 'b = %s'%b, sep = '\\n')"
      ]
    },
    {
      "cell_type": "code",
      "source": [
        "# 더 간료한 정답\n",
        "a, b = map(int, input().strip().split(' '))\n",
        "print(f\"a = {a}\\nb = {b}\")"
      ],
      "metadata": {
        "id": "xelJ3_RUWbLB"
      },
      "execution_count": null,
      "outputs": []
    }
  ]
}