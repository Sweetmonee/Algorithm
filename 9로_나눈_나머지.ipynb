{
  "nbformat": 4,
  "nbformat_minor": 0,
  "metadata": {
    "colab": {
      "provenance": [],
      "authorship_tag": "ABX9TyO+WCRW6l/aVV0Afs4gl5Wn",
      "include_colab_link": true
    },
    "kernelspec": {
      "name": "python3",
      "display_name": "Python 3"
    },
    "language_info": {
      "name": "python"
    }
  },
  "cells": [
    {
      "cell_type": "markdown",
      "metadata": {
        "id": "view-in-github",
        "colab_type": "text"
      },
      "source": [
        "<a href=\"https://colab.research.google.com/github/Sweetmonee/Algorithm/blob/Programmers/9%EB%A1%9C_%EB%82%98%EB%88%88_%EB%82%98%EB%A8%B8%EC%A7%80.ipynb\" target=\"_parent\"><img src=\"https://colab.research.google.com/assets/colab-badge.svg\" alt=\"Open In Colab\"/></a>"
      ]
    },
    {
      "cell_type": "markdown",
      "source": [
        "9로 나눈 나머지\n",
        "문제 설명\n",
        "음이 아닌 정수를 9로 나눈 나머지는 그 정수의 각 자리 숫자의 합을 9로 나눈 나머지와 같은 것이 알려져 있습니다.\n",
        "이 사실을 이용하여 음이 아닌 정수가 문자열 number로 주어질 때, 이 정수를 9로 나눈 나머지를 return 하는 solution 함수를 작성해주세요.\n",
        "\n",
        "제한사항\n",
        "1 ≤ number의 길이 ≤ 100,000\n",
        "number의 원소는 숫자로만 이루어져 있습니다.\n",
        "number는 정수 0이 아니라면 숫자 '0'으로 시작하지 않습니다.\n",
        "입출력 예\n",
        "number\tresult\n",
        "\"123\"\t6\n",
        "\"78720646226947352489\"\t2"
      ],
      "metadata": {
        "id": "rJGm1PvARim2"
      }
    },
    {
      "cell_type": "code",
      "execution_count": null,
      "metadata": {
        "id": "W-7h3v3ARhzI"
      },
      "outputs": [],
      "source": [
        "def solution(number):\n",
        "    answer = []\n",
        "    for i in list(number):\n",
        "        answer.append(int(i))\n",
        "    return sum(answer) % 9"
      ]
    }
  ]
}