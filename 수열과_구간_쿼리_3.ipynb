{
  "nbformat": 4,
  "nbformat_minor": 0,
  "metadata": {
    "colab": {
      "provenance": [],
      "authorship_tag": "ABX9TyP0Ne9qdKXGq9AH1OATryvo",
      "include_colab_link": true
    },
    "kernelspec": {
      "name": "python3",
      "display_name": "Python 3"
    },
    "language_info": {
      "name": "python"
    }
  },
  "cells": [
    {
      "cell_type": "markdown",
      "metadata": {
        "id": "view-in-github",
        "colab_type": "text"
      },
      "source": [
        "<a href=\"https://colab.research.google.com/github/Sweetmonee/Algorithm/blob/Programmers/%EC%88%98%EC%97%B4%EA%B3%BC_%EA%B5%AC%EA%B0%84_%EC%BF%BC%EB%A6%AC_3.ipynb\" target=\"_parent\"><img src=\"https://colab.research.google.com/assets/colab-badge.svg\" alt=\"Open In Colab\"/></a>"
      ]
    },
    {
      "cell_type": "markdown",
      "source": [
        "수열과 구간 쿼리 3\n",
        "문제 설명\n",
        "정수 배열 arr와 2차원 정수 배열 queries이 주어집니다. queries의 원소는 각각 하나의 query를 나타내며, [i, j] 꼴입니다.\n",
        "\n",
        "각 query마다 순서대로 arr[i]의 값과 arr[j]의 값을 서로 바꿉니다.\n",
        "\n",
        "위 규칙에 따라 queries를 처리한 이후의 arr를 return 하는 solution 함수를 완성해 주세요.\n",
        "\n",
        "제한사항\n",
        "1 ≤ arr의 길이 ≤ 1,000\n",
        "0 ≤ arr의 원소 ≤ 1,000,000\n",
        "1 ≤ queries의 길이 ≤ 1,000\n",
        "0 ≤ i < j < arr의 길이\n",
        "입출력 예\n",
        "arr\tqueries\tresult\n",
        "[0, 1, 2, 3, 4]\t[[0, 3],[1, 2],[1, 4]]\t[3, 4, 1, 0, 2]"
      ],
      "metadata": {
        "id": "NrQVKcWxthGf"
      }
    },
    {
      "cell_type": "code",
      "execution_count": null,
      "metadata": {
        "id": "Wf2b8GB6td1k"
      },
      "outputs": [],
      "source": [
        "# 내 정답\n",
        "def solution(arr, queries):\n",
        "    for i in range(len(queries)):\n",
        "        arr[queries[i][0]], arr[queries[i][1]] = arr[queries[i][1]], arr[queries[i][0]]\n",
        "    return arr"
      ]
    },
    {
      "cell_type": "code",
      "source": [
        "# for 문 읽는 다른 방식 사용한 풀이\n",
        "def solution(arr, queries):\n",
        "    for a,b in queries:\n",
        "        arr[a],arr[b]=arr[b],arr[a]\n",
        "    return arr"
      ],
      "metadata": {
        "id": "AIoni6c8thay"
      },
      "execution_count": null,
      "outputs": []
    }
  ]
}