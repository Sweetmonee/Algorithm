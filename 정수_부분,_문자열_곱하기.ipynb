{
  "nbformat": 4,
  "nbformat_minor": 0,
  "metadata": {
    "colab": {
      "provenance": [],
      "authorship_tag": "ABX9TyMBLCpGz2ljkfweOY5VQmJH",
      "include_colab_link": true
    },
    "kernelspec": {
      "name": "python3",
      "display_name": "Python 3"
    },
    "language_info": {
      "name": "python"
    }
  },
  "cells": [
    {
      "cell_type": "markdown",
      "metadata": {
        "id": "view-in-github",
        "colab_type": "text"
      },
      "source": [
        "<a href=\"https://colab.research.google.com/github/Sweetmonee/Algorithm/blob/Programmers/%EC%A0%95%EC%88%98_%EB%B6%80%EB%B6%84%2C_%EB%AC%B8%EC%9E%90%EC%97%B4_%EA%B3%B1%ED%95%98%EA%B8%B0.ipynb\" target=\"_parent\"><img src=\"https://colab.research.google.com/assets/colab-badge.svg\" alt=\"Open In Colab\"/></a>"
      ]
    },
    {
      "cell_type": "markdown",
      "source": [
        "정수 부분\n",
        "문제 설명\n",
        "실수 flo가 매개 변수로 주어질 때, flo의 정수 부분을 return하도록 solution 함수를 완성해주세요.\n",
        "\n",
        "제한사항\n",
        "0 ≤ flo ≤ 100\n",
        "입출력 예\n",
        "flo\tresult\n",
        "1.42\t1\n",
        "69.32\t69"
      ],
      "metadata": {
        "id": "iy1kCL-Vl1MY"
      }
    },
    {
      "cell_type": "code",
      "execution_count": null,
      "metadata": {
        "id": "PXg3rr4Ylqdd"
      },
      "outputs": [],
      "source": [
        "def solution(flo):\n",
        "    return int(flo)"
      ]
    },
    {
      "cell_type": "markdown",
      "source": [
        "문자열 곱하기\n",
        "문제 설명\n",
        "문자열 my_string과 정수 k가 주어질 때, my_string을 k번 반복한 문자열을 return 하는 solution 함수를 작성해 주세요.\n",
        "\n",
        "제한사항\n",
        "1 ≤ my_string의 길이 ≤ 100\n",
        "my_string은 영소문자로만 이루어져 있습니다.\n",
        "1 ≤ k ≤ 100\n",
        "입출력 예\n",
        "my_string\tk\tresult\n",
        "\"string\"\t3\t\"stringstringstring\"\n",
        "\"love\"\t10\t\"lovelovelovelovelovelovelovelovelovelove\""
      ],
      "metadata": {
        "id": "Bf1kk19UmdNz"
      }
    },
    {
      "cell_type": "code",
      "source": [
        "def solution(my_string, k):\n",
        "    return my_string * k"
      ],
      "metadata": {
        "id": "lYnVwQymme1O"
      },
      "execution_count": null,
      "outputs": []
    }
  ]
}