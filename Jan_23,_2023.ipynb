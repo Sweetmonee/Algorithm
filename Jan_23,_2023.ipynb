{
  "nbformat": 4,
  "nbformat_minor": 0,
  "metadata": {
    "colab": {
      "provenance": [],
      "authorship_tag": "ABX9TyOLEt5D4zk4nSm4UobpIWa/",
      "include_colab_link": true
    },
    "kernelspec": {
      "name": "python3",
      "display_name": "Python 3"
    },
    "language_info": {
      "name": "python"
    }
  },
  "cells": [
    {
      "cell_type": "markdown",
      "metadata": {
        "id": "view-in-github",
        "colab_type": "text"
      },
      "source": [
        "<a href=\"https://colab.research.google.com/github/Sweetmonee/Algorithm/blob/Programmers/Jan_23%2C_2023.ipynb\" target=\"_parent\"><img src=\"https://colab.research.google.com/assets/colab-badge.svg\" alt=\"Open In Colab\"/></a>"
      ]
    },
    {
      "cell_type": "code",
      "execution_count": null,
      "metadata": {
        "id": "NrUwPOYgByCV"
      },
      "outputs": [],
      "source": [
        "# 문자열 s를 숫자로 변환한 결과를 반환하는 함수, solution을 완성하세요.\n",
        "def solution(s):\n",
        "    \n",
        "    return int(s)"
      ]
    },
    {
      "cell_type": "code",
      "source": [
        "# 함수 solution은 정수 n을 매개변수로 입력받습니다. \n",
        "# n의 각 자릿수를 큰것부터 작은 순으로 정렬한 새로운 정수를 리턴해주세요. 예를들어 n이 118372면 873211을 리턴하면 됩니다.\n",
        "def solution(n):\n",
        "    n1 = reversed(sorted(str(n)))\n",
        "    answer = ''\n",
        "    for i in n1:\n",
        "        answer += i\n",
        "    return int(answer)"
      ],
      "metadata": {
        "id": "YtMp5RPdB3DY"
      },
      "execution_count": null,
      "outputs": []
    }
  ]
}