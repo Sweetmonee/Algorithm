{
  "nbformat": 4,
  "nbformat_minor": 0,
  "metadata": {
    "colab": {
      "provenance": [],
      "authorship_tag": "ABX9TyMk2J/imxh1xyk7Kc9MMxuq",
      "include_colab_link": true
    },
    "kernelspec": {
      "name": "python3",
      "display_name": "Python 3"
    },
    "language_info": {
      "name": "python"
    }
  },
  "cells": [
    {
      "cell_type": "markdown",
      "metadata": {
        "id": "view-in-github",
        "colab_type": "text"
      },
      "source": [
        "<a href=\"https://colab.research.google.com/github/Sweetmonee/Algorithm/blob/Programmers/%EB%A8%B8%EB%A6%AC%EC%93%B0%EB%8A%94_%EC%95%8C%EA%B3%A0%EB%A6%AC%EC%A6%98%2C_2018_KAKAO_BLIND_RECRUITMENT_%5B1%EC%B0%A8%5D_%EB%8B%A4%ED%8A%B8_%EA%B2%8C%EC%9E%84.ipynb\" target=\"_parent\"><img src=\"https://colab.research.google.com/assets/colab-badge.svg\" alt=\"Open In Colab\"/></a>"
      ]
    },
    {
      "cell_type": "markdown",
      "source": [
        "다트 게임\n",
        "카카오톡에 뜬 네 번째 별! 심심할 땐? 카카오톡 게임별~\n",
        "\n",
        "Game Star\n",
        "\n",
        "카카오톡 게임별의 하반기 신규 서비스로 다트 게임을 출시하기로 했다. 다트 게임은 다트판에 다트를 세 차례 던져 그 점수의 합계로 실력을 겨루는 게임으로, 모두가 간단히 즐길 수 있다.\n",
        "갓 입사한 무지는 코딩 실력을 인정받아 게임의 핵심 부분인 점수 계산 로직을 맡게 되었다. 다트 게임의 점수 계산 로직은 아래와 같다.\n",
        "\n",
        "다트 게임은 총 3번의 기회로 구성된다.\n",
        "각 기회마다 얻을 수 있는 점수는 0점에서 10점까지이다.\n",
        "점수와 함께 Single(S), Double(D), Triple(T) 영역이 존재하고 각 영역 당첨 시 점수에서 1제곱, 2제곱, 3제곱 (점수1 , 점수2 , 점수3 )으로 계산된다.\n",
        "옵션으로 스타상(*) , 아차상(#)이 존재하며 스타상(*) 당첨 시 해당 점수와 바로 전에 얻은 점수를 각 2배로 만든다. 아차상(#) 당첨 시 해당 점수는 마이너스된다.\n",
        "스타상(*)은 첫 번째 기회에서도 나올 수 있다. 이 경우 첫 번째 스타상(*)의 점수만 2배가 된다. (예제 4번 참고)\n",
        "스타상(*)의 효과는 다른 스타상(*)의 효과와 중첩될 수 있다. 이 경우 중첩된 스타상(*) 점수는 4배가 된다. (예제 4번 참고)\n",
        "스타상(*)의 효과는 아차상(#)의 효과와 중첩될 수 있다. 이 경우 중첩된 아차상(#)의 점수는 -2배가 된다. (예제 5번 참고)\n",
        "Single(S), Double(D), Triple(T)은 점수마다 하나씩 존재한다.\n",
        "스타상(*), 아차상(#)은 점수마다 둘 중 하나만 존재할 수 있으며, 존재하지 않을 수도 있다.\n",
        "0~10의 정수와 문자 S, D, T, *, #로 구성된 문자열이 입력될 시 총점수를 반환하는 함수를 작성하라.\n",
        "\n",
        "입력 형식\n",
        "\"점수|보너스|[옵션]\"으로 이루어진 문자열 3세트.\n",
        "예) 1S2D*3T\n",
        "\n",
        "점수는 0에서 10 사이의 정수이다.\n",
        "보너스는 S, D, T 중 하나이다.\n",
        "옵선은 *이나 # 중 하나이며, 없을 수도 있다.\n",
        "출력 형식\n",
        "3번의 기회에서 얻은 점수 합계에 해당하는 정수값을 출력한다.\n",
        "예) 37\n",
        "\n",
        "입출력 예제\n",
        "예제\tdartResult\tanswer\t설명\n",
        "1\t1S2D*3T\t37\t11 * 2 + 22 * 2 + 33\n",
        "2\t1D2S#10S\t9\t12 + 21 * (-1) + 101\n",
        "3\t1D2S0T\t3\t12 + 21 + 03\n",
        "4\t1S*2T*3S\t23\t11 * 2 * 2 + 23 * 2 + 31\n",
        "5\t1D#2S*3S\t5\t12 * (-1) * 2 + 21 * 2 + 31\n",
        "6\t1T2D3D#\t-4\t13 + 22 + 32 * (-1)\n",
        "7\t1D2S3T*\t59\t12 + 21 * 2 + 33 * 2"
      ],
      "metadata": {
        "id": "b6qBo4HRGtBt"
      }
    },
    {
      "cell_type": "code",
      "execution_count": null,
      "metadata": {
        "id": "Nplvs7Q_GroL"
      },
      "outputs": [],
      "source": [
        "def solution(dartResult):\n",
        "    answer = 0\n",
        "    bowl = []\n",
        "    temp = ''\n",
        "    for i in range(len(dartResult)):\n",
        "        if dartResult[i].isalpha() == True or dartResult[i] == '*' or dartResult[i] == '#':\n",
        "            temp += dartResult[i]\n",
        "        else:\n",
        "            if dartResult[i-1].isalpha() == True or dartResult[i-1] == '*' or dartResult[i-1] == '#':\n",
        "                bowl.append(temp)\n",
        "                temp = ''\n",
        "                temp += dartResult[i]\n",
        "            else:\n",
        "                temp += dartResult[i]\n",
        "    bowl.append(temp)\n",
        "    temp = ''\n",
        "    del bowl[0]\n",
        "    bowl2 = []\n",
        "    for i in bowl:\n",
        "        figure = 0\n",
        "        for j in i:\n",
        "            if j == 'D':\n",
        "                figure += int(i[0:i.index('D')]) ** 2\n",
        "            elif j == 'S':\n",
        "                figure += int(i[0:i.index('S')])\n",
        "            elif j == 'T':\n",
        "                figure += int(i[0:i.index('T')]) ** 3\n",
        "            elif j == '*':\n",
        "                if len(bowl2) != 0:\n",
        "                    figure = figure * 2\n",
        "                    bowl2[-1] = 2 * bowl2[-1]\n",
        "                else:\n",
        "                    figure = figure * 2\n",
        "            elif j == '#':\n",
        "                figure -= (2 * figure)\n",
        "        bowl2.append(figure)\n",
        "    return  sum(bowl2)\n"
      ]
    }
  ]
}