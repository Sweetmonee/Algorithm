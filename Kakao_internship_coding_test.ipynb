{
  "nbformat": 4,
  "nbformat_minor": 0,
  "metadata": {
    "colab": {
      "provenance": [],
      "authorship_tag": "ABX9TyNaZVh8HERbEUsQfq9MvxU2",
      "include_colab_link": true
    },
    "kernelspec": {
      "name": "python3",
      "display_name": "Python 3"
    },
    "language_info": {
      "name": "python"
    }
  },
  "cells": [
    {
      "cell_type": "markdown",
      "metadata": {
        "id": "view-in-github",
        "colab_type": "text"
      },
      "source": [
        "<a href=\"https://colab.research.google.com/github/Sweetmonee/Algorithm/blob/Programmers/Kakao_internship_coding_test.ipynb\" target=\"_parent\"><img src=\"https://colab.research.google.com/assets/colab-badge.svg\" alt=\"Open In Colab\"/></a>"
      ]
    },
    {
      "cell_type": "code",
      "execution_count": null,
      "metadata": {
        "id": "eTdavgxTgx4g"
      },
      "outputs": [],
      "source": [
        "# 네오와 프로도가 숫자놀이를 하고 있습니다. 네오가 프로도에게 숫자를 건넬 때 일부 자릿수를 영단어로 바꾼 카드를 건네주면 프로도는 원래 숫자를 찾는 게임입니다.\n",
        "\n",
        "# 다음은 숫자의 일부 자릿수를 영단어로 바꾸는 예시입니다.\n",
        "\n",
        "# 1478 → \"one4seveneight\"\n",
        "# 234567 → \"23four5six7\"\n",
        "# 10203 → \"1zerotwozero3\"\n",
        "# 이렇게 숫자의 일부 자릿수가 영단어로 바뀌어졌거나, 혹은 바뀌지 않고 그대로인 문자열 s가 매개변수로 주어집니다. s가 의미하는 원래 숫자를 return 하도록 solution 함수를 완성해주세요.\n",
        "\n",
        "# 참고로 각 숫자에 대응되는 영단어는 다음 표와 같습니다.\n",
        "\n",
        "# 숫자\t영단어\n",
        "# 0\tzero\n",
        "# 1\tone\n",
        "# 2\ttwo\n",
        "# 3\tthree\n",
        "# 4\tfour\n",
        "# 5\tfive\n",
        "# 6\tsix\n",
        "# 7\tseven\n",
        "# 8\teight\n",
        "# 9\tnine\n",
        "def solution(s):\n",
        "    answer = ''\n",
        "    dic = {'zero': 0, 'one': 1, 'two' : 2, 'three' : 3, 'four' : 4, 'five': 5, 'six' : 6, 'seven': 7, 'eight' : 8, 'nine' : 9}\n",
        "    bowl = ''\n",
        "    for c in s:\n",
        "        if c.isdigit() == True:\n",
        "            answer += c\n",
        "        else:\n",
        "            bowl += c\n",
        "        if bowl in dic:\n",
        "            answer += str(dic[bowl])\n",
        "            bowl = ''\n",
        "    return int(answer)"
      ]
    }
  ]
}