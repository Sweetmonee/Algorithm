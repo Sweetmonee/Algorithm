{
  "nbformat": 4,
  "nbformat_minor": 0,
  "metadata": {
    "colab": {
      "provenance": [],
      "authorship_tag": "ABX9TyOXo7ZJG5mlYRGuKPA2T+bM",
      "include_colab_link": true
    },
    "kernelspec": {
      "name": "python3",
      "display_name": "Python 3"
    },
    "language_info": {
      "name": "python"
    }
  },
  "cells": [
    {
      "cell_type": "markdown",
      "metadata": {
        "id": "view-in-github",
        "colab_type": "text"
      },
      "source": [
        "<a href=\"https://colab.research.google.com/github/Sweetmonee/Algorithm/blob/Programmers/%EC%88%98_%EC%A1%B0%EC%9E%91%ED%95%98%EA%B8%B0_2.ipynb\" target=\"_parent\"><img src=\"https://colab.research.google.com/assets/colab-badge.svg\" alt=\"Open In Colab\"/></a>"
      ]
    },
    {
      "cell_type": "markdown",
      "source": [
        "수 조작하기 2\n",
        "문제 설명\n",
        "정수 배열 numLog가 주어집니다. 처음에 numLog[0]에서 부터 시작해 \"w\", \"a\", \"s\", \"d\"로 이루어진 문자열을 입력으로 받아 순서대로 다음과 같은 조작을 했다고 합시다.\n",
        "\n",
        "\"w\" : 수에 1을 더한다.\n",
        "\"s\" : 수에 1을 뺀다.\n",
        "\"d\" : 수에 10을 더한다.\n",
        "\"a\" : 수에 10을 뺀다.\n",
        "그리고 매번 조작을 할 때마다 결괏값을 기록한 정수 배열이 numLog입니다. 즉, numLog[i]는 numLog[0]로부터 총 i번의 조작을 가한 결과가 저장되어 있습니다.\n",
        "\n",
        "주어진 정수 배열 numLog에 대해 조작을 위해 입력받은 문자열을 return 하는 solution 함수를 완성해 주세요.\n",
        "\n",
        "제한사항\n",
        "2 ≤ log의 길이 ≤ 100,000\n",
        "-100,000 ≤ log[0] ≤ 100,000\n",
        "1 ≤ i ≤ log의 길이인 모든 i에 대해 |log[i] - log[i - 1]|의 값은 1 또는 10입니다.\n",
        "입출력 예\n",
        "log\tresult\n",
        "[0, 1, 0, 10, 0, 1, 0, 10, 0, -1, -2, -1]\t\"wsdawsdassw\""
      ],
      "metadata": {
        "id": "b93xDlnQWYB8"
      }
    },
    {
      "cell_type": "code",
      "execution_count": null,
      "metadata": {
        "id": "WxzX4W8oWWkY"
      },
      "outputs": [],
      "source": [
        "def solution(numLog):\n",
        "    answer = ''\n",
        "    for i in range(1, len(numLog)):\n",
        "        if numLog[i] - numLog[i - 1] == 1:\n",
        "            answer += 'w'\n",
        "        elif numLog[i] - numLog[i - 1] == -1:\n",
        "            answer += 's'\n",
        "        elif numLog[i] - numLog[i - 1] == 10:\n",
        "            answer += 'd'\n",
        "        else:\n",
        "            answer += 'a'\n",
        "    return answer"
      ]
    }
  ]
}