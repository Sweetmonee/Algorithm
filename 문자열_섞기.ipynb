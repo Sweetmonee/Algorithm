{
  "nbformat": 4,
  "nbformat_minor": 0,
  "metadata": {
    "colab": {
      "provenance": [],
      "authorship_tag": "ABX9TyMkPVo5asG5WMgLzMD8OlHl",
      "include_colab_link": true
    },
    "kernelspec": {
      "name": "python3",
      "display_name": "Python 3"
    },
    "language_info": {
      "name": "python"
    }
  },
  "cells": [
    {
      "cell_type": "markdown",
      "metadata": {
        "id": "view-in-github",
        "colab_type": "text"
      },
      "source": [
        "<a href=\"https://colab.research.google.com/github/Sweetmonee/Algorithm/blob/Programmers/%EB%AC%B8%EC%9E%90%EC%97%B4_%EC%84%9E%EA%B8%B0.ipynb\" target=\"_parent\"><img src=\"https://colab.research.google.com/assets/colab-badge.svg\" alt=\"Open In Colab\"/></a>"
      ]
    },
    {
      "cell_type": "markdown",
      "source": [
        "문자열 섞기\n",
        "문제 설명\n",
        "길이가 같은 두 문자열 str1과 str2가 주어집니다.\n",
        "\n",
        "두 문자열의 각 문자가 앞에서부터 서로 번갈아가면서 한 번씩 등장하는 문자열을 만들어 return 하는 solution 함수를 완성해 주세요.\n",
        "\n",
        "제한사항\n",
        "1 ≤ str1의 길이 = str2의 길이 ≤ 10\n",
        "str1과 str2는 알파벳 소문자로 이루어진 문자열입니다.\n",
        "입출력 예\n",
        "str1\tstr2\tresult\n",
        "\"aaaaa\"\t\"bbbbb\"\t\"ababababab\""
      ],
      "metadata": {
        "id": "BeavQhOwHZr7"
      }
    },
    {
      "cell_type": "code",
      "execution_count": null,
      "metadata": {
        "id": "msCytv5YHY8o"
      },
      "outputs": [],
      "source": [
        "def solution(str1, str2):\n",
        "    answer = ''\n",
        "    for i in range(len(str1)):\n",
        "        answer += str1[i]\n",
        "        answer += str2[i]\n",
        "    return answer"
      ]
    }
  ]
}