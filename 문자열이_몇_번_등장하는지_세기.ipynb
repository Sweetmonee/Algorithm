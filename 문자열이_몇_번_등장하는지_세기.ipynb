{
  "nbformat": 4,
  "nbformat_minor": 0,
  "metadata": {
    "colab": {
      "provenance": [],
      "authorship_tag": "ABX9TyPZWf8iJBrAuV8CGrlNfaGL",
      "include_colab_link": true
    },
    "kernelspec": {
      "name": "python3",
      "display_name": "Python 3"
    },
    "language_info": {
      "name": "python"
    }
  },
  "cells": [
    {
      "cell_type": "markdown",
      "metadata": {
        "id": "view-in-github",
        "colab_type": "text"
      },
      "source": [
        "<a href=\"https://colab.research.google.com/github/Sweetmonee/Algorithm/blob/Programmers/%EB%AC%B8%EC%9E%90%EC%97%B4%EC%9D%B4_%EB%AA%87_%EB%B2%88_%EB%93%B1%EC%9E%A5%ED%95%98%EB%8A%94%EC%A7%80_%EC%84%B8%EA%B8%B0.ipynb\" target=\"_parent\"><img src=\"https://colab.research.google.com/assets/colab-badge.svg\" alt=\"Open In Colab\"/></a>"
      ]
    },
    {
      "cell_type": "markdown",
      "source": [
        "문자열이 몇 번 등장하는지 세기\n",
        "문제 설명\n",
        "문자열 myString과 pat이 주어집니다. myString에서 pat이 등장하는 횟수를 return 하는 solution 함수를 완성해 주세요.\n",
        "\n",
        "제한사항\n",
        "1 ≤ myString ≤ 1000\n",
        "1 ≤ pat ≤ 10\n",
        "입출력 예\n",
        "myString\tpat\tresult\n",
        "\"banana\"\t\"ana\"\t2\n",
        "\"aaaa\"\t\"aa\"\t3"
      ],
      "metadata": {
        "id": "_LE83cWLoyX7"
      }
    },
    {
      "cell_type": "code",
      "execution_count": null,
      "metadata": {
        "id": "TFQiNO5_oxxf"
      },
      "outputs": [],
      "source": [
        "def solution(myString, pat):\n",
        "    answer = 0\n",
        "    for i in range(len(myString)):\n",
        "        if myString[i:i+len(pat)] == pat:\n",
        "            answer += 1\n",
        "    return answer"
      ]
    }
  ]
}