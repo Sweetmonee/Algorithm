{
  "nbformat": 4,
  "nbformat_minor": 0,
  "metadata": {
    "colab": {
      "provenance": [],
      "authorship_tag": "ABX9TyOKsmwEvvcqa8u1i0FI9873",
      "include_colab_link": true
    },
    "kernelspec": {
      "name": "python3",
      "display_name": "Python 3"
    },
    "language_info": {
      "name": "python"
    }
  },
  "cells": [
    {
      "cell_type": "markdown",
      "metadata": {
        "id": "view-in-github",
        "colab_type": "text"
      },
      "source": [
        "<a href=\"https://colab.research.google.com/github/Sweetmonee/Algorithm/blob/Programmers/%EB%91%90_%EC%88%98%EC%9D%98_%EC%97%B0%EC%82%B0%EA%B0%92_%EB%B9%84%EA%B5%90%ED%95%98%EA%B8%B0.ipynb\" target=\"_parent\"><img src=\"https://colab.research.google.com/assets/colab-badge.svg\" alt=\"Open In Colab\"/></a>"
      ]
    },
    {
      "cell_type": "markdown",
      "source": [
        "문제 설명\n",
        "연산 ⊕는 두 정수에 대한 연산으로 두 정수를 붙여서 쓴 값을 반환합니다. 예를 들면 다음과 같습니다.\n",
        "\n",
        "12 ⊕ 3 = 123\n",
        "3 ⊕ 12 = 312\n",
        "양의 정수 a와 b가 주어졌을 때, a ⊕ b와 2 * a * b 중 더 큰 값을 return하는 solution 함수를 완성해 주세요.\n",
        "\n",
        "단, a ⊕ b와 2 * a * b가 같으면 a ⊕ b를 return 합니다.\n",
        "\n",
        "제한사항\n",
        "1 ≤ a, b < 10,000\n",
        "\n",
        "입출력 예\n",
        "a\tb\tresult\n",
        "2\t91\t364\n",
        "91\t2\t912"
      ],
      "metadata": {
        "id": "QDRGwBfYE9g8"
      }
    },
    {
      "cell_type": "code",
      "execution_count": null,
      "metadata": {
        "id": "leHTr4dhE2Fn"
      },
      "outputs": [],
      "source": [
        "#내 정답\n",
        "def solution(a, b):\n",
        "    f = int(str(a) + str(b))\n",
        "    s = 2 * a * b\n",
        "    return f if f > s else s"
      ]
    },
    {
      "cell_type": "code",
      "source": [
        "#max 함수 사용\n",
        "def solution(a, b):\n",
        "    return max(int(str(a) + str(b)), 2 * a * b)"
      ],
      "metadata": {
        "id": "coM5BKZ5FGHt"
      },
      "execution_count": null,
      "outputs": []
    }
  ]
}