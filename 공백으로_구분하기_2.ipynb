{
  "nbformat": 4,
  "nbformat_minor": 0,
  "metadata": {
    "colab": {
      "provenance": [],
      "authorship_tag": "ABX9TyNBEdyRuJTVbJhndgFj2dLK",
      "include_colab_link": true
    },
    "kernelspec": {
      "name": "python3",
      "display_name": "Python 3"
    },
    "language_info": {
      "name": "python"
    }
  },
  "cells": [
    {
      "cell_type": "markdown",
      "metadata": {
        "id": "view-in-github",
        "colab_type": "text"
      },
      "source": [
        "<a href=\"https://colab.research.google.com/github/Sweetmonee/Algorithm/blob/Programmers/%EA%B3%B5%EB%B0%B1%EC%9C%BC%EB%A1%9C_%EA%B5%AC%EB%B6%84%ED%95%98%EA%B8%B0_2.ipynb\" target=\"_parent\"><img src=\"https://colab.research.google.com/assets/colab-badge.svg\" alt=\"Open In Colab\"/></a>"
      ]
    },
    {
      "cell_type": "markdown",
      "source": [
        "공백으로 구분하기 2\n",
        "문제 설명\n",
        "단어가 공백 한 개 이상으로 구분되어 있는 문자열 my_string이 매개변수로 주어질 때, my_string에 나온 단어를 앞에서부터 순서대로 담은 문자열 배열을 return 하는 solution 함수를 작성해 주세요.\n",
        "\n",
        "제한사항\n",
        "my_string은 영소문자와 공백으로만 이루어져 있습니다.\n",
        "1 ≤ my_string의 길이 ≤ 1,000\n",
        "my_string의 맨 앞과 맨 뒤에도 공백이 있을 수 있습니다.\n",
        "my_string에는 단어가 하나 이상 존재합니다.\n",
        "입출력 예\n",
        "my_string\tresult\n",
        "\" i    love  you\"\t[\"i\", \"love\", \"you\"]\n",
        "\"    programmers  \"\t[\"programmers\"]"
      ],
      "metadata": {
        "id": "xN2Yv7lnp-zD"
      }
    },
    {
      "cell_type": "code",
      "execution_count": null,
      "metadata": {
        "id": "B-cLwfXjp95o"
      },
      "outputs": [],
      "source": [
        "#나의 정답\n",
        "def solution(my_string):\n",
        "    return my_string.split()"
      ]
    }
  ]
}