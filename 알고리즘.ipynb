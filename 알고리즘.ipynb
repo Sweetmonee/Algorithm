{
  "nbformat": 4,
  "nbformat_minor": 0,
  "metadata": {
    "colab": {
      "provenance": [],
      "authorship_tag": "ABX9TyNynPZ7XgGY9k/xccGo7JPn",
      "include_colab_link": true
    },
    "kernelspec": {
      "name": "python3",
      "display_name": "Python 3"
    },
    "language_info": {
      "name": "python"
    }
  },
  "cells": [
    {
      "cell_type": "markdown",
      "metadata": {
        "id": "view-in-github",
        "colab_type": "text"
      },
      "source": [
        "<a href=\"https://colab.research.google.com/github/Sweetmonee/Algorithm/blob/Programmers/%EC%95%8C%EA%B3%A0%EB%A6%AC%EC%A6%98.ipynb\" target=\"_parent\"><img src=\"https://colab.research.google.com/assets/colab-badge.svg\" alt=\"Open In Colab\"/></a>"
      ]
    },
    {
      "cell_type": "markdown",
      "source": [
        "PCCE 기출문제] 5번 / 산책\n",
        "문제 설명\n",
        "여름이는 강아지를 산책시키려고 합니다. 여름이는 2차원 좌표평면에서 동/서/남/북 방향으로 1m 단위로 이동하면서 강아지를 산책시킵니다. 산책루트가 담긴 문자열 route가 주어질 때, 도착점의 위치를 return하도록 빈칸을 채워 solution함수를 완성해 주세요.\n",
        "\n",
        "route는 \"N\", \"S\", \"E\", \"W\"로 이루어져 있습니다.\n",
        "\"N\"은 북쪽으로 1만큼 움직입니다.\n",
        "\"S\"는 남쪽으로 1만큼 움직입니다.\n",
        "북쪽으로 -1만큼 움직인 것과 같습니다.\n",
        "\"E\"는 동쪽으로 1만큼 움직입니다.\n",
        "\"W\"는 서쪽으로 1만큼 움직입니다.\n",
        "동쪽으로 -1만큼 움직인 것과 같습니다.\n",
        "출발점으로부터 [동쪽으로 떨어진 거리, 북쪽으로 떨어진 거리]형태로 강아지의 최종 위치를 구해서 return해야 합니다.\n",
        "출발점을 기준으로 서쪽, 남쪽에 있는 경우는 동쪽, 북쪽으로 음수만큼 떨어진 것으로 표현합니다.\n",
        "출발점으로부터 동쪽으로 2, 북쪽으로 3만큼 떨어졌다면 [2, 3]을 return 합니다.\n",
        "출발점으로부터 서쪽으로 1, 남쪽으로 4만큼 떨어졌다면 [-1, -4]를 return 합니다."
      ],
      "metadata": {
        "id": "KMuhbHrEcD6f"
      }
    },
    {
      "cell_type": "code",
      "execution_count": null,
      "metadata": {
        "id": "lOAyafXAcCSs"
      },
      "outputs": [],
      "source": [
        "def solution(route):\n",
        "    east = 0\n",
        "    north = 0\n",
        "    for i in route:\n",
        "        if i == \"N\":\n",
        "            north += 1\n",
        "        elif i == \"S\" :\n",
        "\n",
        "north -= 1\n",
        "\n",
        "        elif i == \"E\" :\n",
        "\n",
        "east += 1\n",
        "\n",
        "        elif i ==\n",
        "'W'\n",
        " :\n",
        "\n",
        "east -= 1\n",
        "\n",
        "    return [east, north]"
      ]
    }
  ]
}