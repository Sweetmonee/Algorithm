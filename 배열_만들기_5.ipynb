{
  "nbformat": 4,
  "nbformat_minor": 0,
  "metadata": {
    "colab": {
      "provenance": [],
      "authorship_tag": "ABX9TyM3k16RtaqALrlegL3Afl5W",
      "include_colab_link": true
    },
    "kernelspec": {
      "name": "python3",
      "display_name": "Python 3"
    },
    "language_info": {
      "name": "python"
    }
  },
  "cells": [
    {
      "cell_type": "markdown",
      "metadata": {
        "id": "view-in-github",
        "colab_type": "text"
      },
      "source": [
        "<a href=\"https://colab.research.google.com/github/Sweetmonee/Algorithm/blob/Programmers/%EB%B0%B0%EC%97%B4_%EB%A7%8C%EB%93%A4%EA%B8%B0_5.ipynb\" target=\"_parent\"><img src=\"https://colab.research.google.com/assets/colab-badge.svg\" alt=\"Open In Colab\"/></a>"
      ]
    },
    {
      "cell_type": "markdown",
      "source": [
        "문자열 배열 intStrs와 정수 k, s, l가 주어집니다. intStrs의 원소는 숫자로 이루어져 있습니다.\n",
        "\n",
        "배열 intStrs의 각 원소마다 s번 인덱스에서 시작하는 길이 l짜리 부분 문자열을 잘라내 정수로 변환합니다. 이때 변환한 정수값이 k보다 큰 값들을 담은 배열을 return 하는 solution 함수를 완성해 주세요.\n",
        "\n",
        "제한사항\n",
        "0 ≤ s < 100\n",
        "1 ≤ l ≤ 8\n",
        "10l - 1 ≤ k < 10l\n",
        "1 ≤ intStrs의 길이 ≤ 10,000\n",
        "s + l ≤ intStrs의 원소의 길이 ≤ 120\n",
        "입출력 예\n",
        "intStrs\tk\ts\tl\tresult\n",
        "[\"0123456789\",\"9876543210\",\"9999999999999\"]\t50000\t53"
      ],
      "metadata": {
        "id": "U1wttDMPh6b9"
      }
    },
    {
      "cell_type": "code",
      "execution_count": null,
      "metadata": {
        "id": "3UI8hmlth1N2"
      },
      "outputs": [],
      "source": [
        "#내 정답\n",
        "def solution(intStrs, k, s, l):\n",
        "    answer = []\n",
        "    for i in intStrs:\n",
        "        if int(i[s:s + l]) > k:\n",
        "            answer.append(int(i[s:s + l]))\n",
        "    return answer"
      ]
    },
    {
      "cell_type": "code",
      "source": [
        "#한줄 코딩\n",
        "def solution(intStrs, k, s, l):\n",
        "    return [int(i[s: s + l]) for i in intStrs if int(i[s: s + l]) > k]"
      ],
      "metadata": {
        "id": "I5vanQ5vh-fl"
      },
      "execution_count": 1,
      "outputs": []
    },
    {
      "cell_type": "code",
      "source": [
        "a = ['555555555']\n",
        "b = 5\n",
        "c = 3\n",
        "d = 2\n",
        "solution(a,b,c,d)"
      ],
      "metadata": {
        "colab": {
          "base_uri": "https://localhost:8080/"
        },
        "id": "SmSf3YXaig3J",
        "outputId": "e08afbbb-d52b-49ee-8d9b-cd25e321b0b4"
      },
      "execution_count": 2,
      "outputs": [
        {
          "output_type": "execute_result",
          "data": {
            "text/plain": [
              "[55]"
            ]
          },
          "metadata": {},
          "execution_count": 2
        }
      ]
    }
  ]
}