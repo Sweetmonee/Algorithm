{
  "nbformat": 4,
  "nbformat_minor": 0,
  "metadata": {
    "colab": {
      "provenance": [],
      "authorship_tag": "ABX9TyN8Lc8w5B0jfzb/sPagJw/T",
      "include_colab_link": true
    },
    "kernelspec": {
      "name": "python3",
      "display_name": "Python 3"
    },
    "language_info": {
      "name": "python"
    }
  },
  "cells": [
    {
      "cell_type": "markdown",
      "metadata": {
        "id": "view-in-github",
        "colab_type": "text"
      },
      "source": [
        "<a href=\"https://colab.research.google.com/github/Sweetmonee/Algorithm/blob/Programmers/%ED%8A%B9%EB%B3%84%ED%95%9C_%EC%9D%B4%EC%B0%A8%EC%9B%90_%EB%B0%B0%EC%97%B4_1.ipynb\" target=\"_parent\"><img src=\"https://colab.research.google.com/assets/colab-badge.svg\" alt=\"Open In Colab\"/></a>"
      ]
    },
    {
      "cell_type": "markdown",
      "source": [
        "특별한 이차원 배열 1\n",
        "문제 설명\n",
        "정수 n이 매개변수로 주어질 때, 다음과 같은 n × n 크기의 이차원 배열 arr를 return 하는 solution 함수를 작성해 주세요.\n",
        "\n",
        "arr[i][j] (0 ≤ i, j < n)의 값은 i = j라면 1, 아니라면 0입니다.\n",
        "제한사항\n",
        "1 ≤ n ≤ 100\n",
        "입출력 예\n",
        "n\tresult\n",
        "3\t[[1, 0, 0], [0, 1, 0], [0, 0, 1]]\n",
        "6\t[[1, 0, 0, 0, 0, 0], [0, 1, 0, 0, 0, 0], [0, 0, 1, 0, 0, 0], [0, 0, 0, 1, 0, 0], [0, 0, 0, 0, 1, 0], [0, 0, 0, 0, 0, 1]]\n",
        "1\t[[1]]"
      ],
      "metadata": {
        "id": "Zqf82UJO9Jl4"
      }
    },
    {
      "cell_type": "code",
      "execution_count": null,
      "metadata": {
        "id": "lqX9yWq39JG1"
      },
      "outputs": [],
      "source": [
        "def solution(n):\n",
        "    answer = []\n",
        "    for i in range(n):\n",
        "        answer.append([0]* n)\n",
        "    for i in range(n):\n",
        "        answer[i][i] = 1\n",
        "    return answer"
      ]
    }
  ]
}