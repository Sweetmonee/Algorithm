{
  "nbformat": 4,
  "nbformat_minor": 0,
  "metadata": {
    "colab": {
      "provenance": [],
      "authorship_tag": "ABX9TyOmFsNM3MAaS3sJuunMSGdZ",
      "include_colab_link": true
    },
    "kernelspec": {
      "name": "python3",
      "display_name": "Python 3"
    },
    "language_info": {
      "name": "python"
    }
  },
  "cells": [
    {
      "cell_type": "markdown",
      "metadata": {
        "id": "view-in-github",
        "colab_type": "text"
      },
      "source": [
        "<a href=\"https://colab.research.google.com/github/Sweetmonee/Algorithm/blob/Programmers/%EA%B8%80%EC%9E%90_%EC%A7%80%EC%9A%B0%EA%B8%B0.ipynb\" target=\"_parent\"><img src=\"https://colab.research.google.com/assets/colab-badge.svg\" alt=\"Open In Colab\"/></a>"
      ]
    },
    {
      "cell_type": "markdown",
      "source": [
        "글자 지우기\n",
        "문제 설명\n",
        "문자열 my_string과 정수 배열 indices가 주어질 때, my_string에서 indices의 원소에 해당하는 인덱스의 글자를 지우고 이어 붙인 문자열을 return 하는 solution 함수를 작성해 주세요.\n",
        "\n",
        "제한사항\n",
        "1 ≤ indices의 길이 < my_string의 길이 ≤ 100\n",
        "my_string은 영소문자로만 이루어져 있습니다\n",
        "0 ≤ indices의 원소 < my_string의 길이\n",
        "indices의 원소는 모두 서로 다릅니다.\n",
        "입출력 예\n",
        "my_string\tindices\tresult\n",
        "\"apporoograpemmemprs\"\t[1, 16, 6, 15, 0, 10, 11, 3]\t\"programmers\""
      ],
      "metadata": {
        "id": "0LAe-NKwLlqX"
      }
    },
    {
      "cell_type": "code",
      "execution_count": null,
      "metadata": {
        "id": "6gKDuT1xLlZD"
      },
      "outputs": [],
      "source": [
        "def solution(my_string, indices):\n",
        "    answer = ''\n",
        "    for i in range(len(my_string)):\n",
        "        if i not in indices:\n",
        "            answer += my_string[i]\n",
        "    return answer"
      ]
    }
  ]
}