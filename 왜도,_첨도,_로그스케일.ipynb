{
  "nbformat": 4,
  "nbformat_minor": 0,
  "metadata": {
    "colab": {
      "provenance": [],
      "authorship_tag": "ABX9TyM8PLtnQUP5fY9UAqjnTU5D",
      "include_colab_link": true
    },
    "kernelspec": {
      "name": "python3",
      "display_name": "Python 3"
    },
    "language_info": {
      "name": "python"
    }
  },
  "cells": [
    {
      "cell_type": "markdown",
      "metadata": {
        "id": "view-in-github",
        "colab_type": "text"
      },
      "source": [
        "<a href=\"https://colab.research.google.com/github/Sweetmonee/Algorithm/blob/Programmers/%EC%99%9C%EB%8F%84%2C_%EC%B2%A8%EB%8F%84%2C_%EB%A1%9C%EA%B7%B8%EC%8A%A4%EC%BC%80%EC%9D%BC.ipynb\" target=\"_parent\"><img src=\"https://colab.research.google.com/assets/colab-badge.svg\" alt=\"Open In Colab\"/></a>"
      ]
    },
    {
      "cell_type": "code",
      "execution_count": null,
      "metadata": {
        "id": "6LyYRGylF8QI"
      },
      "outputs": [],
      "source": [
        "import pandas as pd\n",
        "import numpy as np\n",
        "\n",
        "df = pd.read_csv('/kaggle/input/house-prices-advanced-regression-techniques/train.csv')\n",
        "#왜도 첨도 구하기\n",
        "Skew_SalePrice = df['SalePrice'].skew()\n",
        "Kurt_SalePrice = df['SalePrice'].kurt()\n",
        "# EDA 시각화\n",
        "df['SalePrice'].hist()\n",
        "#로그스케일링한 컬럼 새로 생성\n",
        "df['log1p_SalePrice'] = np.log1p(df['SalePrice'])\n",
        "#로그스케일링한 컬럼의 왜도 첨도 구하기\n",
        "Skew_log_SalePrice = df['log1p_SalePrice'].skew()\n",
        "Kurt_log_SalePrice = df['log1p_SalePrice'].kurt()\n",
        "# EDA 시각화\n",
        "df['log1p_SalePrice'].hist()\n",
        "answer = round(Skew_SalePrice + Kurt_SalePrice + Skew_log_SalePrice + Kurt_log_SalePrice, 3)\n",
        "answer"
      ]
    }
  ]
}