{
  "nbformat": 4,
  "nbformat_minor": 0,
  "metadata": {
    "colab": {
      "provenance": [],
      "authorship_tag": "ABX9TyM2XoMbQSBUtEBgrOcxegl2",
      "include_colab_link": true
    },
    "kernelspec": {
      "name": "python3",
      "display_name": "Python 3"
    },
    "language_info": {
      "name": "python"
    }
  },
  "cells": [
    {
      "cell_type": "markdown",
      "metadata": {
        "id": "view-in-github",
        "colab_type": "text"
      },
      "source": [
        "<a href=\"https://colab.research.google.com/github/Sweetmonee/Algorithm/blob/Programmers/%EB%82%A0%EC%A7%9C_%EB%B9%84%EA%B5%90%ED%95%98%EA%B8%B0.ipynb\" target=\"_parent\"><img src=\"https://colab.research.google.com/assets/colab-badge.svg\" alt=\"Open In Colab\"/></a>"
      ]
    },
    {
      "cell_type": "markdown",
      "source": [
        "날짜 비교하기\n",
        "문제 설명\n",
        "정수 배열 date1과 date2가 주어집니다. 두 배열은 각각 날짜를 나타내며 [year, month, day] 꼴로 주어집니다. 각 배열에서 year는 연도를, month는 월을, day는 날짜를 나타냅니다.\n",
        "\n",
        "만약 date1이 date2보다 앞서는 날짜라면 1을, 아니면 0을 return 하는 solution 함수를 완성해 주세요.\n",
        "\n",
        "제한사항\n",
        "date1의 길이 = date2의 길이 = 3\n",
        "0 ≤ year ≤ 10,000\n",
        "1 ≤ month ≤ 12\n",
        "day는 month에 따라 가능한 날짜로 주어집니다.\n",
        "입출력 예\n",
        "date1\tdate2\tresult\n",
        "[2021, 12, 28]\t[2021, 12, 29]\t1\n",
        "[1024, 10, 24]\t[1024, 10, 24]\t0"
      ],
      "metadata": {
        "id": "YkFJ5ryhMIKZ"
      }
    },
    {
      "cell_type": "code",
      "execution_count": null,
      "metadata": {
        "id": "4WjYOi-LMHwH"
      },
      "outputs": [],
      "source": [
        "def solution(date1, date2):\n",
        "    answer = 0\n",
        "    for i in range(len(date1)):\n",
        "        if date1[i] == date2[i]:\n",
        "            continue\n",
        "        else:\n",
        "            if date1[i] < date2[i]:\n",
        "                answer = 1\n",
        "                break\n",
        "            else:\n",
        "                answer = 0\n",
        "                break\n",
        "    return answer"
      ]
    },
    {
      "cell_type": "code",
      "source": [
        "#int의 성질 이용\n",
        "def solution(date1, date2):\n",
        "    return int(date1 < date2)"
      ],
      "metadata": {
        "id": "e0RXEBYfMI8p"
      },
      "execution_count": null,
      "outputs": []
    }
  ]
}