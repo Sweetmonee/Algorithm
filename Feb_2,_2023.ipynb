{
  "nbformat": 4,
  "nbformat_minor": 0,
  "metadata": {
    "colab": {
      "provenance": [],
      "authorship_tag": "ABX9TyNAdjZlR7zn420HNOxigEe+",
      "include_colab_link": true
    },
    "kernelspec": {
      "name": "python3",
      "display_name": "Python 3"
    },
    "language_info": {
      "name": "python"
    }
  },
  "cells": [
    {
      "cell_type": "markdown",
      "metadata": {
        "id": "view-in-github",
        "colab_type": "text"
      },
      "source": [
        "<a href=\"https://colab.research.google.com/github/Sweetmonee/Algorithm/blob/Programmers/Feb_2%2C_2023.ipynb\" target=\"_parent\"><img src=\"https://colab.research.google.com/assets/colab-badge.svg\" alt=\"Open In Colab\"/></a>"
      ]
    },
    {
      "cell_type": "code",
      "execution_count": null,
      "metadata": {
        "id": "fwKyPTNKf_iB"
      },
      "outputs": [],
      "source": [
        "# 문자열 s의 길이가 4 혹은 6이고, 숫자로만 구성돼있는지 확인해주는 함수, solution을 완성하세요. 예를 들어 s가 \"a234\"이면 False를 리턴하고 \"1234\"라면 True를 리턴하면 됩니다.\n",
        "def solution(s):\n",
        "    \n",
        "    return True if (len(s) == 4 and s.isdigit()) == True or (len(s) == 6 and s.isdigit()) else False"
      ]
    },
    {
      "cell_type": "code",
      "source": [
        "#새로 생긴 놀이기구는 인기가 매우 많아 줄이 끊이질 않습니다. 이 놀이기구의 원래 이용료는 price원 인데, 놀이기구를 N 번 째 이용한다면 원래 이용료의 N배를 받기로 하였습니다. \n",
        "# 즉, 처음 이용료가 100이었다면 2번째에는 200, 3번째에는 300으로 요금이 인상됩니다.\n",
        "# 놀이기구를 count번 타게 되면 현재 자신이 가지고 있는 금액에서 얼마가 모자라는지를 return 하도록 solution 함수를 완성하세요.\n",
        "# 단, 금액이 부족하지 않으면 0을 return 하세요.\n",
        "def solution(price, money, count):\n",
        "    return 0 if sum([i * price for i in range(1, count + 1)]) - money <= 0 else sum([i * price for i in range(1, count + 1)]) - money"
      ],
      "metadata": {
        "id": "1WVo4N3BgalT"
      },
      "execution_count": null,
      "outputs": []
    },
    {
      "cell_type": "code",
      "source": [],
      "metadata": {
        "id": "iyd_RbVPgaoc"
      },
      "execution_count": null,
      "outputs": []
    }
  ]
}