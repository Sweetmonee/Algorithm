{
  "nbformat": 4,
  "nbformat_minor": 0,
  "metadata": {
    "colab": {
      "provenance": [],
      "authorship_tag": "ABX9TyNmm42My9u9FnKVkBNdbbTS",
      "include_colab_link": true
    },
    "kernelspec": {
      "name": "python3",
      "display_name": "Python 3"
    },
    "language_info": {
      "name": "python"
    }
  },
  "cells": [
    {
      "cell_type": "markdown",
      "metadata": {
        "id": "view-in-github",
        "colab_type": "text"
      },
      "source": [
        "<a href=\"https://colab.research.google.com/github/Sweetmonee/Algorithm/blob/Programmers/%EB%8D%A7%EC%85%88%EC%8B%9D_%EC%B6%9C%EB%A0%A5%ED%95%98%EA%B8%B0.ipynb\" target=\"_parent\"><img src=\"https://colab.research.google.com/assets/colab-badge.svg\" alt=\"Open In Colab\"/></a>"
      ]
    },
    {
      "cell_type": "markdown",
      "source": [
        "덧셈식 출력하기\n",
        "문제 설명\n",
        "두 정수 a, b가 주어질 때 다음과 같은 형태의 계산식을 출력하는 코드를 작성해 보세요.\n",
        "\n",
        "a + b = c\n",
        "제한사항\n",
        "1 ≤ a, b ≤ 100\n",
        "입출력 예\n",
        "입력 #1\n",
        "\n",
        "4 5\n",
        "출력 #1\n",
        "\n",
        "4 + 5 = 9"
      ],
      "metadata": {
        "id": "_mf4ZZsAXm7n"
      }
    },
    {
      "cell_type": "code",
      "execution_count": null,
      "metadata": {
        "id": "WhyuKLfqXmUS"
      },
      "outputs": [],
      "source": [
        "#내 답\n",
        "a, b = map(int, input().strip().split(' '))\n",
        "print(a, '+', b, '=', a + b)"
      ]
    },
    {
      "cell_type": "code",
      "source": [
        "#정석답변 f-string 활용\n",
        "a, b = map(int, input().strip().split(' '))\n",
        "print(f\"{a} + {b} = {a + b}\")"
      ],
      "metadata": {
        "id": "nAgGzXMKXnXu"
      },
      "execution_count": null,
      "outputs": []
    }
  ]
}