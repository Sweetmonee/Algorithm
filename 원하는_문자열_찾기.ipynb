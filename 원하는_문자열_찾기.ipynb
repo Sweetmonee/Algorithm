{
  "nbformat": 4,
  "nbformat_minor": 0,
  "metadata": {
    "colab": {
      "provenance": [],
      "authorship_tag": "ABX9TyPUBuKce6J5tgM+DhPtkbaU",
      "include_colab_link": true
    },
    "kernelspec": {
      "name": "python3",
      "display_name": "Python 3"
    },
    "language_info": {
      "name": "python"
    }
  },
  "cells": [
    {
      "cell_type": "markdown",
      "metadata": {
        "id": "view-in-github",
        "colab_type": "text"
      },
      "source": [
        "<a href=\"https://colab.research.google.com/github/Sweetmonee/Algorithm/blob/Programmers/%EC%9B%90%ED%95%98%EB%8A%94_%EB%AC%B8%EC%9E%90%EC%97%B4_%EC%B0%BE%EA%B8%B0.ipynb\" target=\"_parent\"><img src=\"https://colab.research.google.com/assets/colab-badge.svg\" alt=\"Open In Colab\"/></a>"
      ]
    },
    {
      "cell_type": "markdown",
      "source": [
        "원하는 문자열 찾기\n",
        "문제 설명\n",
        "알파벳으로 이루어진 문자열 myString과 pat이 주어집니다. myString의 연속된 부분 문자열 중 pat이 존재하면 1을 그렇지 않으면 0을 return 하는 solution 함수를 완성해 주세요.\n",
        "\n",
        "단, 알파벳 대문자와 소문자는 구분하지 않습니다.\n",
        "\n",
        "제한사항\n",
        "1 ≤ myString의 길이 ≤ 100,000\n",
        "1 ≤ pat의 길이 ≤ 300\n",
        "myString과 pat은 모두 알파벳으로 이루어진 문자열입니다.\n",
        "입출력 예\n",
        "myString\tpat\treturn\n",
        "\"AbCdEfG\"\t\"aBc\"\t1\n",
        "\"aaAA\"\t\"aaaaa\"\t0"
      ],
      "metadata": {
        "id": "VkyF2TUc69rl"
      }
    },
    {
      "cell_type": "code",
      "execution_count": null,
      "metadata": {
        "id": "urVfMJRa68qQ"
      },
      "outputs": [],
      "source": [
        "#내 정답\n",
        "def solution(myString, pat):\n",
        "    return 1 if pat.lower() in myString.lower() else 0"
      ]
    }
  ]
}