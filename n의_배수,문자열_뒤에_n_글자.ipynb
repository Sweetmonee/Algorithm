{
  "nbformat": 4,
  "nbformat_minor": 0,
  "metadata": {
    "colab": {
      "provenance": [],
      "authorship_tag": "ABX9TyPUUabZs7wXvH8ZHLAQol6y",
      "include_colab_link": true
    },
    "kernelspec": {
      "name": "python3",
      "display_name": "Python 3"
    },
    "language_info": {
      "name": "python"
    }
  },
  "cells": [
    {
      "cell_type": "markdown",
      "metadata": {
        "id": "view-in-github",
        "colab_type": "text"
      },
      "source": [
        "<a href=\"https://colab.research.google.com/github/Sweetmonee/Algorithm/blob/Programmers/n%EC%9D%98_%EB%B0%B0%EC%88%98%2C%EB%AC%B8%EC%9E%90%EC%97%B4_%EB%92%A4%EC%97%90_n_%EA%B8%80%EC%9E%90.ipynb\" target=\"_parent\"><img src=\"https://colab.research.google.com/assets/colab-badge.svg\" alt=\"Open In Colab\"/></a>"
      ]
    },
    {
      "cell_type": "markdown",
      "source": [
        "n의 배수\n",
        "문제 설명\n",
        "정수 num과 n이 매개 변수로 주어질 때, num이 n의 배수이면 1을 return n의 배수가 아니라면 0을 return하도록 solution 함수를 완성해주세요.\n",
        "\n",
        "제한사항\n",
        "2 ≤ num ≤ 100\n",
        "2 ≤ n ≤ 9\n",
        "입출력 예\n",
        "num\tn\tresult\n",
        "98\t2\t1\n",
        "34\t3\t0"
      ],
      "metadata": {
        "id": "geWt87to7EaW"
      }
    },
    {
      "cell_type": "code",
      "source": [
        "def solution(num, n):\n",
        "    return 1 if num % n == 0 else 0"
      ],
      "metadata": {
        "id": "D1X_yOtK67Lb"
      },
      "execution_count": null,
      "outputs": []
    },
    {
      "cell_type": "code",
      "source": [
        "# int를 활용한 풀이\n",
        "def solution(num, n):\n",
        "    return int(not(num % n))"
      ],
      "metadata": {
        "id": "wQtPFqDU67Y-"
      },
      "execution_count": null,
      "outputs": []
    },
    {
      "cell_type": "markdown",
      "source": [
        "문자열의 뒤의 n글자\n",
        "문제 설명\n",
        "문자열 my_string과 정수 n이 매개변수로 주어질 때, my_string의 뒤의 n글자로 이루어진 문자열을 return 하는 solution 함수를 작성해 주세요.\n",
        "\n",
        "제한사항\n",
        "my_string은 숫자와 알파벳으로 이루어져 있습니다.\n",
        "1 ≤ my_string의 길이 ≤ 1,000\n",
        "1 ≤ n ≤ my_string의 길이\n",
        "입출력 예\n",
        "my_string\tn\tresult\n",
        "\"ProgrammerS123\"\t11\t\"grammserS123\"\n",
        "\"He110W0r1d\"\t5\t\"W0r1d\""
      ],
      "metadata": {
        "id": "DyP0H-dy8BjY"
      }
    },
    {
      "cell_type": "code",
      "source": [
        "#나의 풀이\n",
        "def solution(my_string, n):\n",
        "    return my_string[len(my_string)-n:]"
      ],
      "metadata": {
        "id": "CuRI6Uu48CxO"
      },
      "execution_count": null,
      "outputs": []
    },
    {
      "cell_type": "code",
      "source": [
        "#비슷하지만 새로운 개념\n",
        "def solution(my_string, n):\n",
        "    return my_string[-n:]\n",
        "## -n:  == (len(my_string)- n)"
      ],
      "metadata": {
        "id": "8qbAuH898DJ_"
      },
      "execution_count": null,
      "outputs": []
    },
    {
      "cell_type": "code",
      "source": [
        "#람다를 활용\n",
        "solution = lambda my_string, n:my_string[len(my_string)-n:]"
      ],
      "metadata": {
        "id": "777HDujM8Ux3"
      },
      "execution_count": null,
      "outputs": []
    }
  ]
}