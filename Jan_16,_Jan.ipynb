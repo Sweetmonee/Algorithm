{
  "nbformat": 4,
  "nbformat_minor": 0,
  "metadata": {
    "colab": {
      "provenance": [],
      "authorship_tag": "ABX9TyOjuyUEmPHcUt62mIG+jPik",
      "include_colab_link": true
    },
    "kernelspec": {
      "name": "python3",
      "display_name": "Python 3"
    },
    "language_info": {
      "name": "python"
    }
  },
  "cells": [
    {
      "cell_type": "markdown",
      "metadata": {
        "id": "view-in-github",
        "colab_type": "text"
      },
      "source": [
        "<a href=\"https://colab.research.google.com/github/Sweetmonee/Algorithm/blob/Programmers/Jan_16%2C_Jan.ipynb\" target=\"_parent\"><img src=\"https://colab.research.google.com/assets/colab-badge.svg\" alt=\"Open In Colab\"/></a>"
      ]
    },
    {
      "cell_type": "code",
      "execution_count": null,
      "metadata": {
        "id": "4FVvbtxVN0vw"
      },
      "outputs": [],
      "source": [
        "# 한 개 이상의 항의 합으로 이루어진 식을 다항식이라고 합니다. 다항식을 계산할 때는 동류항끼리 계산해 정리합니다. \n",
        "# 덧셈으로 이루어진 다항식 polynomial이 매개변수로 주어질 때, 동류항끼리 더한 결괏값을 문자열로 return 하도록 solution 함수를 완성해보세요.\n",
        "# 같은 식이라면 가장 짧은 수식을 return 합니다.\n",
        "def solution(polynomial):\n",
        "    answer = ''\n",
        "    x_bowl = []\n",
        "    num_bowl = []\n",
        "    \n",
        "    for i in polynomial.split():\n",
        "        if 'x' in i:\n",
        "            if i == 'x':\n",
        "                x_bowl.append(1)\n",
        "            else:    \n",
        "                x_bowl.append(int(i.rstrip('x')))\n",
        "        else:\n",
        "            if i.isdigit() == True:\n",
        "                num_bowl.append(int(i))\n",
        "            else:\n",
        "                continue\n",
        "    if len(x_bowl) != 0:\n",
        "        if sum(x_bowl) != 0:\n",
        "            answer += str(sum(x_bowl))\n",
        "            answer += 'x'\n",
        "    if answer == '1x':\n",
        "        answer = 'x'\n",
        "    if sum(num_bowl) != 0:\n",
        "        if len(answer) == 0:\n",
        "            answer += str(sum(num_bowl))\n",
        "        else:\n",
        "            answer += ' '\n",
        "            answer += '+'\n",
        "            answer += ' '\n",
        "            answer += str(sum(num_bowl))\n",
        "    return answer"
      ]
    }
  ]
}