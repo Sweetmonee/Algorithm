{
  "nbformat": 4,
  "nbformat_minor": 0,
  "metadata": {
    "colab": {
      "provenance": [],
      "authorship_tag": "ABX9TyND2Y2+ND1stxMXvLBAHQkX",
      "include_colab_link": true
    },
    "kernelspec": {
      "name": "python3",
      "display_name": "Python 3"
    },
    "language_info": {
      "name": "python"
    }
  },
  "cells": [
    {
      "cell_type": "markdown",
      "metadata": {
        "id": "view-in-github",
        "colab_type": "text"
      },
      "source": [
        "<a href=\"https://colab.research.google.com/github/Sweetmonee/Algorithm/blob/Programmers/%EA%B8%B0%EC%82%AC%EB%8B%A8%EC%9B%90%EC%9D%98_%EB%AC%B4%EA%B8%B0.ipynb\" target=\"_parent\"><img src=\"https://colab.research.google.com/assets/colab-badge.svg\" alt=\"Open In Colab\"/></a>"
      ]
    },
    {
      "cell_type": "markdown",
      "source": [
        "기사단원의 무기\n",
        "문제 설명\n",
        "숫자나라 기사단의 각 기사에게는 1번부터 number까지 번호가 지정되어 있습니다. 기사들은 무기점에서 무기를 구매하려고 합니다.\n",
        "\n",
        "각 기사는 자신의 기사 번호의 약수 개수에 해당하는 공격력을 가진 무기를 구매하려 합니다. 단, 이웃나라와의 협약에 의해 공격력의 제한수치를 정하고, 제한수치보다 큰 공격력을 가진 무기를 구매해야 하는 기사는 협약기관에서 정한 공격력을 가지는 무기를 구매해야 합니다.\n",
        "\n",
        "예를 들어, 15번으로 지정된 기사단원은 15의 약수가 1, 3, 5, 15로 4개 이므로, 공격력이 4인 무기를 구매합니다. 만약, 이웃나라와의 협약으로 정해진 공격력의 제한수치가 3이고 제한수치를 초과한 기사가 사용할 무기의 공격력이 2라면, 15번으로 지정된 기사단원은 무기점에서 공격력이 2인 무기를 구매합니다. 무기를 만들 때, 무기의 공격력 1당 1kg의 철이 필요합니다. 그래서 무기점에서 무기를 모두 만들기 위해 필요한 철의 무게를 미리 계산하려 합니다.\n",
        "\n",
        "기사단원의 수를 나타내는 정수 number와 이웃나라와 협약으로 정해진 공격력의 제한수치를 나타내는 정수 limit와 제한수치를 초과한 기사가 사용할 무기의 공격력을 나타내는 정수 power가 주어졌을 때, 무기점의 주인이 무기를 모두 만들기 위해 필요한 철의 무게를 return 하는 solution 함수를 완성하시오.\n",
        "\n",
        "제한사항\n",
        "1 ≤ number ≤ 100,000\n",
        "2 ≤ limit ≤ 100\n",
        "1 ≤ power ≤ limit\n",
        "입출력 예\n",
        "number\tlimit\tpower\tresult\n",
        "5\t3\t2\t10\n",
        "10\t3\t2\t21"
      ],
      "metadata": {
        "id": "oLjyYV8LyaRG"
      }
    },
    {
      "cell_type": "code",
      "execution_count": null,
      "metadata": {
        "id": "O25q1544yZdl"
      },
      "outputs": [],
      "source": [
        "def solution(number, limit, power):\n",
        "    bowl = [0 for i in range(number)]\n",
        "    answer = 0\n",
        "    for i in range(1, number + 1):\n",
        "        for j in range(1, i + 1):\n",
        "            if i % j == 0:\n",
        "                bowl[i-1] += 1\n",
        "    for i in range(len(bowl)):\n",
        "        if bowl[i] > limit:\n",
        "            bowl[i] = power\n",
        "            answer += bowl[i]\n",
        "        else:\n",
        "            answer += bowl[i]\n",
        "    return answer"
      ]
    }
  ]
}