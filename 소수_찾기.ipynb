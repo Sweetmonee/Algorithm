{
  "nbformat": 4,
  "nbformat_minor": 0,
  "metadata": {
    "colab": {
      "provenance": [],
      "authorship_tag": "ABX9TyOKOKtkbW5NI6xBoNmsWjJ9",
      "include_colab_link": true
    },
    "kernelspec": {
      "name": "python3",
      "display_name": "Python 3"
    },
    "language_info": {
      "name": "python"
    }
  },
  "cells": [
    {
      "cell_type": "markdown",
      "metadata": {
        "id": "view-in-github",
        "colab_type": "text"
      },
      "source": [
        "<a href=\"https://colab.research.google.com/github/Sweetmonee/Algorithm/blob/Programmers/%EC%86%8C%EC%88%98_%EC%B0%BE%EA%B8%B0.ipynb\" target=\"_parent\"><img src=\"https://colab.research.google.com/assets/colab-badge.svg\" alt=\"Open In Colab\"/></a>"
      ]
    },
    {
      "cell_type": "markdown",
      "source": [
        "소수 찾기\n",
        "문제 설명\n",
        "1부터 입력받은 숫자 n 사이에 있는 소수의 개수를 반환하는 함수, solution을 만들어 보세요.\n",
        "\n",
        "소수는 1과 자기 자신으로만 나누어지는 수를 의미합니다.\n",
        "(1은 소수가 아닙니다.)\n",
        "\n",
        "제한 조건\n",
        "n은 2이상 1000000이하의 자연수입니다.\n",
        "입출력 예\n",
        "n\tresult\n",
        "10\t4\n",
        "5\t3\n"
      ],
      "metadata": {
        "id": "dymFv3-XnepM"
      }
    },
    {
      "cell_type": "code",
      "execution_count": null,
      "metadata": {
        "id": "Rf9u_KkBnT7u"
      },
      "outputs": [],
      "source": [
        "def solution(n):\n",
        "    answer = 0\n",
        "    for i in range(1, n + 1):\n",
        "        bowl = []\n",
        "        for j in range(1,i):\n",
        "            if i % j == 0:\n",
        "                bowl.append(j)\n",
        "        if len(bowl) == 1:\n",
        "            answer += 1\n",
        "        else:\n",
        "            continue\n",
        "    return answer"
      ]
    }
  ]
}