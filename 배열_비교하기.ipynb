{
  "nbformat": 4,
  "nbformat_minor": 0,
  "metadata": {
    "colab": {
      "provenance": [],
      "authorship_tag": "ABX9TyPs8lifG+XT98mI42F7xGzF",
      "include_colab_link": true
    },
    "kernelspec": {
      "name": "python3",
      "display_name": "Python 3"
    },
    "language_info": {
      "name": "python"
    }
  },
  "cells": [
    {
      "cell_type": "markdown",
      "metadata": {
        "id": "view-in-github",
        "colab_type": "text"
      },
      "source": [
        "<a href=\"https://colab.research.google.com/github/Sweetmonee/Algorithm/blob/Programmers/%EB%B0%B0%EC%97%B4_%EB%B9%84%EA%B5%90%ED%95%98%EA%B8%B0.ipynb\" target=\"_parent\"><img src=\"https://colab.research.google.com/assets/colab-badge.svg\" alt=\"Open In Colab\"/></a>"
      ]
    },
    {
      "cell_type": "markdown",
      "source": [
        "배열 비교하기\n",
        "문제 설명\n",
        "이 문제에서 두 정수 배열의 대소관계를 다음과 같이 정의합니다.\n",
        "\n",
        "두 배열의 길이가 다르다면, 배열의 길이가 긴 쪽이 더 큽니다.\n",
        "배열의 길이가 같다면 각 배열에 있는 모든 원소의 합을 비교하여 다르다면 더 큰 쪽이 크고, 같다면 같습니다.\n",
        "두 정수 배열 arr1과 arr2가 주어질 때, 위에서 정의한 배열의 대소관계에 대하여 arr2가 크다면 -1, arr1이 크다면 1, 두 배열이 같다면 0을 return 하는 solution 함수를 작성해 주세요.\n",
        "\n",
        "제한사항\n",
        "1 ≤ arr1의 길이 ≤ 100\n",
        "1 ≤ arr2의 길이 ≤ 100\n",
        "1 ≤ arr1의 원소 ≤ 100\n",
        "1 ≤ arr2의 원소 ≤ 100\n",
        "문제에서 정의한 배열의 대소관계가 일반적인 프로그래밍 언어에서 정의된 배열의 대소관계와 다를 수 있는 점에 유의해주세요.\n",
        "입출력 예\n",
        "arr1\tarr2\tresult\n",
        "[49, 13]\t[70, 11, 2]\t-1\n",
        "[100, 17, 84, 1]\t[55, 12, 65, 36]\t1\n",
        "[1, 2, 3, 4, 5]\t[3, 3, 3, 3, 3]\t*0*"
      ],
      "metadata": {
        "id": "7W-3SubVsF9K"
      }
    },
    {
      "cell_type": "code",
      "source": [
        "#내 정답 한줄코딩 힙스터\n",
        "def solution(arr1, arr2):\n",
        "    return 1 if len(arr1) > len(arr2) else -1 if len(arr1) < len(arr2) else 1 if sum(arr1) > sum(arr2) else -1 if sum(arr1) < sum(arr2) else 0"
      ],
      "metadata": {
        "id": "hQuJZELnsFvp"
      },
      "execution_count": null,
      "outputs": []
    },
    {
      "cell_type": "code",
      "execution_count": null,
      "metadata": {
        "id": "PXbQIFs3sDd9"
      },
      "outputs": [],
      "source": []
    }
  ]
}