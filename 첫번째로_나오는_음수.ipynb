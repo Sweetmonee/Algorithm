{
  "nbformat": 4,
  "nbformat_minor": 0,
  "metadata": {
    "colab": {
      "provenance": [],
      "authorship_tag": "ABX9TyNxHXkmq8uyfYdiUnPeaTtg",
      "include_colab_link": true
    },
    "kernelspec": {
      "name": "python3",
      "display_name": "Python 3"
    },
    "language_info": {
      "name": "python"
    }
  },
  "cells": [
    {
      "cell_type": "markdown",
      "metadata": {
        "id": "view-in-github",
        "colab_type": "text"
      },
      "source": [
        "<a href=\"https://colab.research.google.com/github/Sweetmonee/Algorithm/blob/Programmers/%EC%B2%AB%EB%B2%88%EC%A7%B8%EB%A1%9C_%EB%82%98%EC%98%A4%EB%8A%94_%EC%9D%8C%EC%88%98.ipynb\" target=\"_parent\"><img src=\"https://colab.research.google.com/assets/colab-badge.svg\" alt=\"Open In Colab\"/></a>"
      ]
    },
    {
      "cell_type": "markdown",
      "source": [
        "첫 번째로 나오는 음수\n",
        "문제 설명\n",
        "정수 리스트 num_list가 주어질 때, 첫 번째로 나오는 음수의 인덱스를 return하도록 solution 함수를 완성해주세요. 음수가 없다면 -1을 return합니다.\n",
        "\n",
        "제한사항\n",
        "5 ≤ num_list의 길이 ≤ 100\n",
        "-10 ≤ num_list의 원소 ≤ 100\n",
        "입출력 예\n",
        "num_list\tresult\n",
        "[12, 4, 15, 46, 38, -2, 15]\t5\n",
        "[13, 22, 53, 24, 15, 6]\t-1\n"
      ],
      "metadata": {
        "id": "3KsCGqASoz38"
      }
    },
    {
      "cell_type": "code",
      "execution_count": null,
      "metadata": {
        "id": "Wq1zeAm7ozfo"
      },
      "outputs": [],
      "source": [
        "#내 정답\n",
        "def solution(num_list):\n",
        "    for i in num_list:\n",
        "        if i < 0:\n",
        "            answer = num_list.index(i)\n",
        "            break\n",
        "        else:\n",
        "            answer = -1\n",
        "    return answer\n",
        "# 아쉬운점 : 한줄 코드를 작성하지 못했다.."
      ]
    }
  ]
}