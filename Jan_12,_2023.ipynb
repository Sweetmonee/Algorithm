{
  "nbformat": 4,
  "nbformat_minor": 0,
  "metadata": {
    "colab": {
      "provenance": [],
      "authorship_tag": "ABX9TyOGrOeZbGaibSqUdkAxxcv1",
      "include_colab_link": true
    },
    "kernelspec": {
      "name": "python3",
      "display_name": "Python 3"
    },
    "language_info": {
      "name": "python"
    }
  },
  "cells": [
    {
      "cell_type": "markdown",
      "metadata": {
        "id": "view-in-github",
        "colab_type": "text"
      },
      "source": [
        "<a href=\"https://colab.research.google.com/github/Sweetmonee/Algorithm/blob/Programmers/Jan_12%2C_2023.ipynb\" target=\"_parent\"><img src=\"https://colab.research.google.com/assets/colab-badge.svg\" alt=\"Open In Colab\"/></a>"
      ]
    },
    {
      "cell_type": "code",
      "execution_count": null,
      "metadata": {
        "id": "LF8xgafRqLKC"
      },
      "outputs": [],
      "source": [
        "# 정수 n을 기준으로 n과 가까운 수부터 정렬하려고 합니다. 이때 n으로부터의 거리가 같다면 더 큰 수를 앞에 오도록 배치합니다. \n",
        "# 정수가 담긴 배열 numlist와 정수 n이 주어질 때 numlist의 원소를 n으로부터 가까운 순서대로 정렬한 배열을 return하도록 solution 함수를 완성해주세요.\n",
        "def solution(numlist, n):\n",
        "    answer = []\n",
        "    a = 0\n",
        "    numlist1 = []\n",
        "    for i in numlist:\n",
        "        numlist1.append((((i-n)**2)**(1/2)))\n",
        "    numlist = list(reversed(sorted(numlist)))\n",
        "    while a <= max(numlist1):\n",
        "        for j in numlist:\n",
        "            if n + a == j or n - a ==j:\n",
        "                answer.append(j)\n",
        "            else:\n",
        "                continue\n",
        "        a += 1\n",
        "    return answer"
      ]
    }
  ]
}