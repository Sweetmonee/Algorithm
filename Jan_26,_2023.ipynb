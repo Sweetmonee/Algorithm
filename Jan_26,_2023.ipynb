{
  "nbformat": 4,
  "nbformat_minor": 0,
  "metadata": {
    "colab": {
      "provenance": [],
      "authorship_tag": "ABX9TyM5nCDtqihLb7LhIOLzKim/",
      "include_colab_link": true
    },
    "kernelspec": {
      "name": "python3",
      "display_name": "Python 3"
    },
    "language_info": {
      "name": "python"
    }
  },
  "cells": [
    {
      "cell_type": "markdown",
      "metadata": {
        "id": "view-in-github",
        "colab_type": "text"
      },
      "source": [
        "<a href=\"https://colab.research.google.com/github/Sweetmonee/Algorithm/blob/Programmers/Jan_26%2C_2023.ipynb\" target=\"_parent\"><img src=\"https://colab.research.google.com/assets/colab-badge.svg\" alt=\"Open In Colab\"/></a>"
      ]
    },
    {
      "cell_type": "code",
      "execution_count": null,
      "metadata": {
        "id": "ckFHVRfevuzo"
      },
      "outputs": [],
      "source": [
        "# 1937년 Collatz란 사람에 의해 제기된 이 추측은, 주어진 수가 1이 될 때까지 다음 작업을 반복하면, 모든 수를 1로 만들 수 있다는 추측입니다. 작업은 다음과 같습니다.\n",
        "# 1-1. 입력된 수가 짝수라면 2로 나눕니다. \n",
        "# 1-2. 입력된 수가 홀수라면 3을 곱하고 1을 더합니다. \n",
        "# 2. 결과로 나온 수에 같은 작업을 1이 될 때까지 반복합니다. \n",
        "# 예를 들어, 주어진 수가 6이라면 6 → 3 → 10 → 5 → 16 → 8 → 4 → 2 → 1 이 되어 총 8번 만에 1이 됩니다. 위 작업을 몇 번이나 반복해야 하는지 반환하는 함수, solution을 완성해 주세요. \n",
        "# 단, 주어진 수가 1인 경우에는 0을, 작업을 500번 반복할 때까지 1이 되지 않는다면 –1을 반환해 주세요.\n",
        "def solution(num):\n",
        "    answer = 0\n",
        "    bowl = [num]\n",
        "    while len(bowl) <= 501:\n",
        "        if bowl[-1] % 2 == 0:\n",
        "            bowl.append(bowl[-1]/2)\n",
        "        elif bowl[-1] % 2 == 1:\n",
        "            if bowl[-1] == 1:\n",
        "                answer = len(bowl)-1\n",
        "                break\n",
        "            else:\n",
        "                bowl.append((bowl[-1]*3)+1)\n",
        "    if bowl[-1] != 1:\n",
        "        answer = -1\n",
        "    return answer"
      ]
    }
  ]
}