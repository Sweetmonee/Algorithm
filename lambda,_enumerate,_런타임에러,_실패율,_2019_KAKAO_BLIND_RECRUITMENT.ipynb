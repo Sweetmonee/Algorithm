{
  "nbformat": 4,
  "nbformat_minor": 0,
  "metadata": {
    "colab": {
      "provenance": [],
      "authorship_tag": "ABX9TyOFu8hAac5PMBwkiPwlXG78",
      "include_colab_link": true
    },
    "kernelspec": {
      "name": "python3",
      "display_name": "Python 3"
    },
    "language_info": {
      "name": "python"
    }
  },
  "cells": [
    {
      "cell_type": "markdown",
      "metadata": {
        "id": "view-in-github",
        "colab_type": "text"
      },
      "source": [
        "<a href=\"https://colab.research.google.com/github/Sweetmonee/Algorithm/blob/Programmers/lambda%2C_enumerate%2C_%EB%9F%B0%ED%83%80%EC%9E%84%EC%97%90%EB%9F%AC%2C_%EC%8B%A4%ED%8C%A8%EC%9C%A8%2C_2019_KAKAO_BLIND_RECRUITMENT.ipynb\" target=\"_parent\"><img src=\"https://colab.research.google.com/assets/colab-badge.svg\" alt=\"Open In Colab\"/></a>"
      ]
    },
    {
      "cell_type": "markdown",
      "source": [
        "슈퍼 게임 개발자 오렐리는 큰 고민에 빠졌다. 그녀가 만든 프랜즈 오천성이 대성공을 거뒀지만, 요즘 신규 사용자의 수가 급감한 것이다. 원인은 신규 사용자와 기존 사용자 사이에 스테이지 차이가 너무 큰 것이 문제였다.\n",
        "\n",
        "이 문제를 어떻게 할까 고민 한 그녀는 동적으로 게임 시간을 늘려서 난이도를 조절하기로 했다. 역시 슈퍼 개발자라 대부분의 로직은 쉽게 구현했지만, 실패율을 구하는 부분에서 위기에 빠지고 말았다. 오렐리를 위해 실패율을 구하는 코드를 완성하라.\n",
        "\n",
        "실패율은 다음과 같이 정의한다.\n",
        "스테이지에 도달했으나 아직 클리어하지 못한 플레이어의 수 / 스테이지에 도달한 플레이어 수\n",
        "전체 스테이지의 개수 N, 게임을 이용하는 사용자가 현재 멈춰있는 스테이지의 번호가 담긴 배열 stages가 매개변수로 주어질 때, 실패율이 높은 스테이지부터 내림차순으로 스테이지의 번호가 담겨있는 배열을 return 하도록 solution 함수를 완성하라.\n",
        "\n",
        "제한사항\n",
        "스테이지의 개수 N은 1 이상 500 이하의 자연수이다.\n",
        "stages의 길이는 1 이상 200,000 이하이다.\n",
        "stages에는 1 이상 N + 1 이하의 자연수가 담겨있다.\n",
        "각 자연수는 사용자가 현재 도전 중인 스테이지의 번호를 나타낸다.\n",
        "단, N + 1 은 마지막 스테이지(N 번째 스테이지) 까지 클리어 한 사용자를 나타낸다.\n",
        "만약 실패율이 같은 스테이지가 있다면 작은 번호의 스테이지가 먼저 오도록 하면 된다.\n",
        "스테이지에 도달한 유저가 없는 경우 해당 스테이지의 실패율은 0 으로 정의한다.\n",
        "입출력 예\n",
        "N\tstages\tresult\n",
        "5\t[2, 1, 2, 6, 2, 4, 3, 3]\t[3,4,2,1,5]\n",
        "4\t[4,4,4,4,4]\t[4,1,2,3]\n"
      ],
      "metadata": {
        "id": "R2KcH3Xxu11W"
      }
    },
    {
      "cell_type": "code",
      "execution_count": null,
      "metadata": {
        "id": "USGlJ3HJupDJ"
      },
      "outputs": [],
      "source": [
        "def solution(N, stages):\n",
        "    answer = []\n",
        "    bowl = [0 for i in range(1, N + 1)]\n",
        "    total = len(stages)\n",
        "    for i in range(1, N + 1):\n",
        "        if total > 0:\n",
        "            bowl[i - 1] = stages.count(i) / total\n",
        "            total -= stages.count(i)\n",
        "        else:\n",
        "            bowl[i - 1] = 0\n",
        "    bowl1 = tuple([i for i in enumerate(bowl)])\n",
        "    bowl1 = sorted(bowl1, key = lambda x: - x[1])\n",
        "    \n",
        "    return [i[0] + 1 for i in bowl1]"
      ]
    }
  ]
}