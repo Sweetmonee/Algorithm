{
  "nbformat": 4,
  "nbformat_minor": 0,
  "metadata": {
    "colab": {
      "provenance": [],
      "authorship_tag": "ABX9TyN159DgMqU0D+BieplPIftK",
      "include_colab_link": true
    },
    "kernelspec": {
      "name": "python3",
      "display_name": "Python 3"
    },
    "language_info": {
      "name": "python"
    }
  },
  "cells": [
    {
      "cell_type": "markdown",
      "metadata": {
        "id": "view-in-github",
        "colab_type": "text"
      },
      "source": [
        "<a href=\"https://colab.research.google.com/github/Sweetmonee/Algorithm/blob/Programmers/%EC%A0%91%EB%AF%B8%EC%82%AC_%EB%B0%B0%EC%97%B4.ipynb\" target=\"_parent\"><img src=\"https://colab.research.google.com/assets/colab-badge.svg\" alt=\"Open In Colab\"/></a>"
      ]
    },
    {
      "cell_type": "markdown",
      "source": [
        "접미사 배열\n",
        " 네트워크 연결 끊김\n",
        "문제 설명\n",
        "어떤 문자열에 대해서 접미사는 특정 인덱스부터 시작하는 문자열을 의미합니다. 예를 들어, \"banana\"의 모든 접미사는 \"banana\", \"anana\", \"nana\", \"ana\", \"na\", \"a\"입니다.\n",
        "문자열 my_string이 매개변수로 주어질 때, my_string의 모든 접미사를 사전순으로 정렬한 문자열 배열을 return 하는 solution 함수를 작성해 주세요.\n",
        "\n",
        "제한사항\n",
        "my_string은 알파벳 소문자로만 이루어져 있습니다.\n",
        "1 ≤ my_string의 길이 ≤ 100\n",
        "입출력 예\n",
        "my_string\tresult\n",
        "\"banana\"\t[\"a\", \"ana\", \"anana\", \"banana\", \"na\", \"nana\"]\n",
        "\"programmers\"\t[\"ammers\", \"ers\", \"grammers\", \"mers\", \"mmers\", \"ogrammers\", \"programmers\", \"rammers\", \"rogrammers\", \"rs\", \"s\"]"
      ],
      "metadata": {
        "id": "vay-oAAOPqKz"
      }
    },
    {
      "cell_type": "code",
      "execution_count": null,
      "metadata": {
        "id": "h9Yn0rbnPpeg"
      },
      "outputs": [],
      "source": [
        "def solution(my_string):\n",
        "    answer = []\n",
        "    for i in range(len(my_string)):\n",
        "        answer.append(my_string[i:])\n",
        "    return sorted(answer)"
      ]
    }
  ]
}