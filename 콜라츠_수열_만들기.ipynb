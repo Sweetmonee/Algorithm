{
  "nbformat": 4,
  "nbformat_minor": 0,
  "metadata": {
    "colab": {
      "provenance": [],
      "authorship_tag": "ABX9TyOMJSLBOfiz5FbmhQDdnY1C",
      "include_colab_link": true
    },
    "kernelspec": {
      "name": "python3",
      "display_name": "Python 3"
    },
    "language_info": {
      "name": "python"
    }
  },
  "cells": [
    {
      "cell_type": "markdown",
      "metadata": {
        "id": "view-in-github",
        "colab_type": "text"
      },
      "source": [
        "<a href=\"https://colab.research.google.com/github/Sweetmonee/Algorithm/blob/Programmers/%EC%BD%9C%EB%9D%BC%EC%B8%A0_%EC%88%98%EC%97%B4_%EB%A7%8C%EB%93%A4%EA%B8%B0.ipynb\" target=\"_parent\"><img src=\"https://colab.research.google.com/assets/colab-badge.svg\" alt=\"Open In Colab\"/></a>"
      ]
    },
    {
      "cell_type": "markdown",
      "source": [
        "콜라츠 수열 만들기\n",
        "문제 설명\n",
        "모든 자연수 x에 대해서 현재 값이 x이면 x가 짝수일 때는 2로 나누고, x가 홀수일 때는 3 * x + 1로 바꾸는 계산을 계속해서 반복하면 언젠가는 반드시 x가 1이 되는지 묻는 문제를 콜라츠 문제라고 부릅니다.\n",
        "\n",
        "그리고 위 과정에서 거쳐간 모든 수를 기록한 수열을 콜라츠 수열이라고 부릅니다.\n",
        "\n",
        "계산 결과 1,000 보다 작거나 같은 수에 대해서는 전부 언젠가 1에 도달한다는 것이 알려져 있습니다.\n",
        "\n",
        "임의의 1,000 보다 작거나 같은 양의 정수 n이 주어질 때 초기값이 n인 콜라츠 수열을 return 하는 solution 함수를 완성해 주세요.\n",
        "\n",
        "제한사항\n",
        "1 ≤ n ≤ 1,000\n",
        "입출력 예\n",
        "n\tresult\n",
        "10\t[10, 5, 16, 8, 4, 2, 1]"
      ],
      "metadata": {
        "id": "rvQD-wGUcEjA"
      }
    },
    {
      "cell_type": "code",
      "execution_count": null,
      "metadata": {
        "id": "YwOqN1TycEGT"
      },
      "outputs": [],
      "source": [
        "def solution(n):\n",
        "    answer = [n]\n",
        "    for i in answer:\n",
        "        if answer[-1] == 1:\n",
        "            break\n",
        "        elif answer[-1] % 2 == 0:\n",
        "            answer.append(answer[-1] / 2)\n",
        "        else:\n",
        "            answer.append((answer[-1] * 3) + 1)\n",
        "\n",
        "    return answer"
      ]
    }
  ]
}