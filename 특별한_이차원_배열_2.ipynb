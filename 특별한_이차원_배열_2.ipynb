{
  "nbformat": 4,
  "nbformat_minor": 0,
  "metadata": {
    "colab": {
      "provenance": [],
      "authorship_tag": "ABX9TyM5VFOYCjckD26Jhi0TCkQq",
      "include_colab_link": true
    },
    "kernelspec": {
      "name": "python3",
      "display_name": "Python 3"
    },
    "language_info": {
      "name": "python"
    }
  },
  "cells": [
    {
      "cell_type": "markdown",
      "metadata": {
        "id": "view-in-github",
        "colab_type": "text"
      },
      "source": [
        "<a href=\"https://colab.research.google.com/github/Sweetmonee/Algorithm/blob/Programmers/%ED%8A%B9%EB%B3%84%ED%95%9C_%EC%9D%B4%EC%B0%A8%EC%9B%90_%EB%B0%B0%EC%97%B4_2.ipynb\" target=\"_parent\"><img src=\"https://colab.research.google.com/assets/colab-badge.svg\" alt=\"Open In Colab\"/></a>"
      ]
    },
    {
      "cell_type": "markdown",
      "source": [
        "특별한 이차원 배열 2\n",
        "문제 설명\n",
        "n × n 크기의 이차원 배열 arr이 매개변수로 주어질 때, arr이 다음을 만족하면 1을 아니라면 0을 return 하는 solution 함수를 작성해 주세요.\n",
        "\n",
        "0 ≤ i, j < n인 정수 i, j에 대하여 arr[i][j] = arr[j][i]\n",
        "제한사항\n",
        "1 ≤ arr의 길이 = arr의 원소의 길이 ≤ 100\n",
        "1 ≤ arr의 원소의 원소 ≤ 1,000\n",
        "모든 arr의 원소의 길이는 같습니다.\n",
        "입출력 예\n",
        "arr\tresult\n",
        "[[5, 192, 33], [192, 72, 95], [33, 95, 999]]\t1\n",
        "[[19, 498, 258, 587], [63, 93, 7, 754], [258, 7, 1000, 723], [587, 754, 723, 81]]\t0"
      ],
      "metadata": {
        "id": "bFZcV2JItj6Z"
      }
    },
    {
      "cell_type": "code",
      "execution_count": null,
      "metadata": {
        "id": "2TRLwH5Btinj"
      },
      "outputs": [],
      "source": [
        "def solution(arr):\n",
        "    answer = 1\n",
        "    for i in range(len(arr)):\n",
        "        for j in range(len(arr[i])):\n",
        "            if arr[i][j] == arr[j][i]:\n",
        "                continue\n",
        "            else:\n",
        "                answer = 0\n",
        "                break\n",
        "    return answer"
      ]
    }
  ]
}