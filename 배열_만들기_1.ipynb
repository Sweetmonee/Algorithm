{
  "nbformat": 4,
  "nbformat_minor": 0,
  "metadata": {
    "colab": {
      "provenance": [],
      "authorship_tag": "ABX9TyMhw7FjulLGGYFz9NOx03P2",
      "include_colab_link": true
    },
    "kernelspec": {
      "name": "python3",
      "display_name": "Python 3"
    },
    "language_info": {
      "name": "python"
    }
  },
  "cells": [
    {
      "cell_type": "markdown",
      "metadata": {
        "id": "view-in-github",
        "colab_type": "text"
      },
      "source": [
        "<a href=\"https://colab.research.google.com/github/Sweetmonee/Algorithm/blob/Programmers/%EB%B0%B0%EC%97%B4_%EB%A7%8C%EB%93%A4%EA%B8%B0_1.ipynb\" target=\"_parent\"><img src=\"https://colab.research.google.com/assets/colab-badge.svg\" alt=\"Open In Colab\"/></a>"
      ]
    },
    {
      "cell_type": "markdown",
      "source": [
        "배열 만들기 1\n",
        "문제 설명\n",
        "정수 n과 k가 주어졌을 때, 1 이상 n이하의 정수 중에서 k의 배수를 오름차순으로 저장한 배열을 return 하는 solution 함수를 완성해 주세요.\n",
        "\n",
        "제한사항\n",
        "1 ≤ n ≤ 1,000,000\n",
        "1 ≤ k ≤ min(1,000, n)\n",
        "입출력 예\n",
        "n\tk\tresult\n",
        "10\t3\t[3, 6, 9]\n",
        "15\t5\t[5, 10, 15]"
      ],
      "metadata": {
        "id": "0t5rIZx7snXx"
      }
    },
    {
      "cell_type": "code",
      "execution_count": null,
      "metadata": {
        "id": "PQKQW-PIsmsQ"
      },
      "outputs": [],
      "source": [
        "def solution(n, k):\n",
        "    return [i for i in range(k, n + 1, k)]"
      ]
    }
  ]
}