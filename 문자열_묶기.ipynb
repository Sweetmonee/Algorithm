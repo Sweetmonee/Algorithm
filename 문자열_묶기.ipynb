{
  "nbformat": 4,
  "nbformat_minor": 0,
  "metadata": {
    "colab": {
      "provenance": [],
      "authorship_tag": "ABX9TyM7xYs1AhbDJnT72OaZ/y3d",
      "include_colab_link": true
    },
    "kernelspec": {
      "name": "python3",
      "display_name": "Python 3"
    },
    "language_info": {
      "name": "python"
    }
  },
  "cells": [
    {
      "cell_type": "markdown",
      "metadata": {
        "id": "view-in-github",
        "colab_type": "text"
      },
      "source": [
        "<a href=\"https://colab.research.google.com/github/Sweetmonee/Algorithm/blob/Programmers/%EB%AC%B8%EC%9E%90%EC%97%B4_%EB%AC%B6%EA%B8%B0.ipynb\" target=\"_parent\"><img src=\"https://colab.research.google.com/assets/colab-badge.svg\" alt=\"Open In Colab\"/></a>"
      ]
    },
    {
      "cell_type": "markdown",
      "source": [
        "문자열 묶기\n",
        "문제 설명\n",
        "문자열 배열 strArr이 주어집니다. strArr의 원소들을 길이가 같은 문자열들끼리 그룹으로 묶었을 때 가장 개수가 많은 그룹의 크기를 return 하는 solution 함수를 완성해 주세요.\n",
        "\n",
        "제한사항\n",
        "1 ≤ strArr의 길이 ≤ 100,000\n",
        "1 ≤ strArr의 원소의 길이 ≤ 30\n",
        "strArr의 원소들은 알파벳 소문자로 이루어진 문자열입니다.\n",
        "입출력 예\n",
        "strArr\tresult\n",
        "[\"a\",\"bc\",\"d\",\"efg\",\"hi\"]\t2"
      ],
      "metadata": {
        "id": "s86B-mqqqzaE"
      }
    },
    {
      "cell_type": "code",
      "execution_count": null,
      "metadata": {
        "id": "bCSH2ZuJqzBF"
      },
      "outputs": [],
      "source": [
        "def solution(strArr):\n",
        "    bowl = [0 for i in range(31)]\n",
        "    for i in strArr:\n",
        "        bowl[len(i)] += 1\n",
        "    return max(bowl)"
      ]
    }
  ]
}