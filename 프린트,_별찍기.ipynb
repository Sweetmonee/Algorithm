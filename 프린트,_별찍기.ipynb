{
  "nbformat": 4,
  "nbformat_minor": 0,
  "metadata": {
    "colab": {
      "provenance": [],
      "authorship_tag": "ABX9TyNtcaJvVqKGHmCCOl8aAUTH",
      "include_colab_link": true
    },
    "kernelspec": {
      "name": "python3",
      "display_name": "Python 3"
    },
    "language_info": {
      "name": "python"
    }
  },
  "cells": [
    {
      "cell_type": "markdown",
      "metadata": {
        "id": "view-in-github",
        "colab_type": "text"
      },
      "source": [
        "<a href=\"https://colab.research.google.com/github/Sweetmonee/Algorithm/blob/Programmers/%ED%94%84%EB%A6%B0%ED%8A%B8%2C_%EB%B3%84%EC%B0%8D%EA%B8%B0.ipynb\" target=\"_parent\"><img src=\"https://colab.research.google.com/assets/colab-badge.svg\" alt=\"Open In Colab\"/></a>"
      ]
    },
    {
      "cell_type": "code",
      "execution_count": null,
      "metadata": {
        "id": "0SE1XbEZjRat"
      },
      "outputs": [],
      "source": [
        "# 이 문제에는 표준 입력으로 두 개의 정수 n과 m이 주어집니다.\n",
        "# 별(*) 문자를 이용해 가로의 길이가 n, 세로의 길이가 m인 직사각형 형태를 출력해보세요.\n",
        "\n",
        "a, b = map(int, input().strip().split(' '))\n",
        "c = 1\n",
        "while c <= b:\n",
        "    print(a * '*')\n",
        "    c += 1"
      ]
    }
  ]
}