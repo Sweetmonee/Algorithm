{
  "nbformat": 4,
  "nbformat_minor": 0,
  "metadata": {
    "colab": {
      "provenance": [],
      "authorship_tag": "ABX9TyO0YGWLC8A01BDF6PSbeS/v",
      "include_colab_link": true
    },
    "kernelspec": {
      "name": "python3",
      "display_name": "Python 3"
    },
    "language_info": {
      "name": "python"
    }
  },
  "cells": [
    {
      "cell_type": "markdown",
      "metadata": {
        "id": "view-in-github",
        "colab_type": "text"
      },
      "source": [
        "<a href=\"https://colab.research.google.com/github/Sweetmonee/Algorithm/blob/Programmers/%EC%A3%BC%EC%82%AC%EC%9C%84_%EA%B2%8C%EC%9E%84_3.ipynb\" target=\"_parent\"><img src=\"https://colab.research.google.com/assets/colab-badge.svg\" alt=\"Open In Colab\"/></a>"
      ]
    },
    {
      "cell_type": "markdown",
      "source": [
        "주사위 게임 3\n",
        "문제 설명\n",
        "1부터 6까지 숫자가 적힌 주사위가 네 개 있습니다. 네 주사위를 굴렸을 때 나온 숫자에 따라 다음과 같은 점수를 얻습니다.\n",
        "\n",
        "네 주사위에서 나온 숫자가 모두 p로 같다면 1111 × p점을 얻습니다.\n",
        "세 주사위에서 나온 숫자가 p로 같고 나머지 다른 주사위에서 나온 숫자가 q(p ≠ q)라면 (10 × p + q)2 점을 얻습니다.\n",
        "주사위가 두 개씩 같은 값이 나오고, 나온 숫자를 각각 p, q(p ≠ q)라고 한다면 (p + q) × |p - q|점을 얻습니다.\n",
        "어느 두 주사위에서 나온 숫자가 p로 같고 나머지 두 주사위에서 나온 숫자가 각각 p와 다른 q, r(q ≠ r)이라면 q × r점을 얻습니다.\n",
        "네 주사위에 적힌 숫자가 모두 다르다면 나온 숫자 중 가장 작은 숫자 만큼의 점수를 얻습니다.\n",
        "네 주사위를 굴렸을 때 나온 숫자가 정수 매개변수 a, b, c, d로 주어질 때, 얻는 점수를 return 하는 solution 함수를 작성해 주세요.\n",
        "\n",
        "제한사항\n",
        "a, b, c, d는 1 이상 6 이하의 정수입니다.\n",
        "입출력 예\n",
        "a\tb\tc\td\tresult\n",
        "2\t2\t2\t2\t2222\n",
        "4\t1\t4\t4\t1681\n",
        "6\t3\t3\t6\t27\n",
        "2\t5\t2\t6\t30\n",
        "6\t4\t2\t5\t2"
      ],
      "metadata": {
        "id": "jTTicjjr14YQ"
      }
    },
    {
      "cell_type": "code",
      "execution_count": null,
      "metadata": {
        "id": "uaEPLXEp1sDG"
      },
      "outputs": [],
      "source": [
        "def solution(a, b, c, d):\n",
        "    answer = 0\n",
        "    bowl = list(set([a,b,c,d]))\n",
        "    bowl2 = [a,b,c,d]\n",
        "    if len(bowl) == 1:\n",
        "        answer = 1111 * a\n",
        "    elif len(bowl) == 2:\n",
        "        if bowl2.count(bowl[0]) == 3:\n",
        "            answer = (bowl[0] * 10 + bowl[1]) ** 2\n",
        "        elif bowl2.count(bowl[1]) == 3:\n",
        "            answer = (bowl[1] * 10 + bowl[0]) ** 2\n",
        "        elif bowl2.count(bowl[0]) == 2:\n",
        "            answer = (bowl[0] + bowl[1]) * abs(bowl[0] - bowl[1])\n",
        "    elif len(bowl) == 3:\n",
        "        if bowl2.count(bowl[0]) == 2:\n",
        "            answer = bowl[1] * bowl[2]\n",
        "        elif bowl2.count(bowl[1]) == 2:\n",
        "            answer = bowl[0] * bowl[2]\n",
        "        else:\n",
        "            answer = bowl[0] * bowl[1]\n",
        "    elif len(bowl) == 4:\n",
        "        answer = min(bowl)\n",
        "    return answer"
      ]
    }
  ]
}