{
  "nbformat": 4,
  "nbformat_minor": 0,
  "metadata": {
    "colab": {
      "provenance": [],
      "authorship_tag": "ABX9TyPZONTsnc2A1bcgsvOIHmfD",
      "include_colab_link": true
    },
    "kernelspec": {
      "name": "python3",
      "display_name": "Python 3"
    },
    "language_info": {
      "name": "python"
    }
  },
  "cells": [
    {
      "cell_type": "markdown",
      "metadata": {
        "id": "view-in-github",
        "colab_type": "text"
      },
      "source": [
        "<a href=\"https://colab.research.google.com/github/Sweetmonee/Algorithm/blob/Programmers/%EC%A1%B0%EA%B1%B4_%EB%AC%B8%EC%9E%90%EC%97%B4.ipynb\" target=\"_parent\"><img src=\"https://colab.research.google.com/assets/colab-badge.svg\" alt=\"Open In Colab\"/></a>"
      ]
    },
    {
      "cell_type": "markdown",
      "source": [
        "조건 문자열\n",
        "문제 설명\n",
        "문자열에 따라 다음과 같이 두 수의 크기를 비교하려고 합니다.\n",
        "\n",
        "두 수가 n과 m이라면\n",
        "\">\", \"=\" : n >= m\n",
        "\"<\", \"=\" : n <= m\n",
        "\">\", \"!\" : n > m\n",
        "\"<\", \"!\" : n < m\n",
        "두 문자열 ineq와 eq가 주어집니다. ineq는 \"<\"와 \">\"중 하나고, eq는 \"=\"와 \"!\"중 하나입니다. 그리고 두 정수 n과 m이 주어질 때, n과 m이 ineq와 eq의 조건에 맞으면 1을 아니면 0을 return하도록 solution 함수를 완성해주세요.\n",
        "\n",
        "제한 사항\n",
        "1 ≤ n, m ≤ 100\n",
        "입출력 예\n",
        "ineq\teq\tn\tm\tresult\n",
        "\"<\"\t\"=\"\t20\t50\t1\n",
        "\">\"\t\"!\"\t41\t78\t0"
      ],
      "metadata": {
        "id": "yCx4YSTesqst"
      }
    },
    {
      "cell_type": "code",
      "execution_count": null,
      "metadata": {
        "id": "SLaT1bXjsqIV"
      },
      "outputs": [],
      "source": [
        "#내 풀이(실행 시간은 아래보다 더 빠름)\n",
        "def solution(ineq, eq, n, m):\n",
        "    answer = 0\n",
        "    if ineq == '>' and eq == '=':\n",
        "        if n >= m:\n",
        "            answer = 1\n",
        "    elif ineq == '>' and eq == '!':\n",
        "        if n > m:\n",
        "            answer = 1\n",
        "    elif ineq == '<' and eq == '=':\n",
        "        if n <= m:\n",
        "            answer = 1\n",
        "    elif ineq == '<' and eq == '!':\n",
        "        if n < m:\n",
        "            answer = 1\n",
        "    return answer"
      ]
    },
    {
      "cell_type": "code",
      "source": [
        "# int 성질과 eval 활용한 풀이\n",
        "def solution(ineq, eq, n, m):\n",
        "    return int(eval(str(n)+ineq+eq.replace('!', '')+str(m)))"
      ],
      "metadata": {
        "id": "B5V9EN9hs291"
      },
      "execution_count": null,
      "outputs": []
    }
  ]
}