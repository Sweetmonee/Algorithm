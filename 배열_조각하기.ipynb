{
  "nbformat": 4,
  "nbformat_minor": 0,
  "metadata": {
    "colab": {
      "provenance": [],
      "authorship_tag": "ABX9TyMc+aDhtdCWTumr12WK/+On",
      "include_colab_link": true
    },
    "kernelspec": {
      "name": "python3",
      "display_name": "Python 3"
    },
    "language_info": {
      "name": "python"
    }
  },
  "cells": [
    {
      "cell_type": "markdown",
      "metadata": {
        "id": "view-in-github",
        "colab_type": "text"
      },
      "source": [
        "<a href=\"https://colab.research.google.com/github/Sweetmonee/Algorithm/blob/Programmers/%EB%B0%B0%EC%97%B4_%EC%A1%B0%EA%B0%81%ED%95%98%EA%B8%B0.ipynb\" target=\"_parent\"><img src=\"https://colab.research.google.com/assets/colab-badge.svg\" alt=\"Open In Colab\"/></a>"
      ]
    },
    {
      "cell_type": "markdown",
      "source": [
        "배열 조각하기\n",
        "문제 설명\n",
        "정수 배열 arr와 query가 주어집니다.\n",
        "\n",
        "query를 순회하면서 다음 작업을 반복합니다.\n",
        "\n",
        "짝수 인덱스에서는 arr에서 query[i]번 인덱스를 제외하고 배열의 query[i]번 인덱스 뒷부분을 잘라서 버립니다.\n",
        "홀수 인덱스에서는 arr에서 query[i]번 인덱스는 제외하고 배열의 query[i]번 인덱스 앞부분을 잘라서 버립니다.\n",
        "위 작업을 마친 후 남은 arr의 부분 배열을 return 하는 solution 함수를 완성해 주세요.\n",
        "\n",
        "제한사항\n",
        "5 ≤ arr의 길이 ≤ 100,000\n",
        "0 ≤ arr의 원소 ≤ 100\n",
        "1 ≤ query의 길이 < min(50, arr의 길이 / 2)\n",
        "query의 각 원소는 0보다 크거나 같고 남아있는 arr의 길이 보다 작습니다.\n",
        "입출력 예\n",
        "arr\tquery\tresult\n",
        "[0, 1, 2, 3, 4, 5]\t[4, 1, 2]\t[1, 2, 3]"
      ],
      "metadata": {
        "id": "Az7mcbxFEvln"
      }
    },
    {
      "cell_type": "code",
      "execution_count": null,
      "metadata": {
        "id": "v0b9XQxmEvEb"
      },
      "outputs": [],
      "source": [
        "def solution(arr, query):\n",
        "    answer = arr.copy()\n",
        "    for i in range(len(query)):\n",
        "        if i % 2 == 0:\n",
        "            answer = answer[:query[i] + 1]\n",
        "        else:\n",
        "            answer = answer[query[i]:]\n",
        "    return answer"
      ]
    }
  ]
}