{
  "nbformat": 4,
  "nbformat_minor": 0,
  "metadata": {
    "colab": {
      "provenance": [],
      "authorship_tag": "ABX9TyOe3vu5bpMdqa3Ts74OqheD",
      "include_colab_link": true
    },
    "kernelspec": {
      "name": "python3",
      "display_name": "Python 3"
    },
    "language_info": {
      "name": "python"
    }
  },
  "cells": [
    {
      "cell_type": "markdown",
      "metadata": {
        "id": "view-in-github",
        "colab_type": "text"
      },
      "source": [
        "<a href=\"https://colab.research.google.com/github/Sweetmonee/Algorithm/blob/Programmers/%EC%84%B8%EB%A1%9C_%EC%9D%BD%EA%B8%B0.ipynb\" target=\"_parent\"><img src=\"https://colab.research.google.com/assets/colab-badge.svg\" alt=\"Open In Colab\"/></a>"
      ]
    },
    {
      "cell_type": "markdown",
      "source": [
        "세로 읽기\n",
        "문제 설명\n",
        "문자열 my_string과 두 정수 m, c가 주어집니다. my_string을 한 줄에 m 글자씩 가로로 적었을 때 왼쪽부터 세로로 c번째 열에 적힌 글자들을 문자열로 return 하는 solution 함수를 작성해 주세요.\n",
        "\n",
        "제한사항\n",
        "my_string은 영소문자로 이루어져 있습니다.\n",
        "1 ≤ m ≤ my_string의 길이 ≤ 1,000\n",
        "m은 my_string 길이의 약수로만 주어집니다.\n",
        "1 ≤ c ≤ m\n",
        "입출력 예\n",
        "my_string\tm\tc\tresult\n",
        "\"ihrhbakrfpndopljhygc\"\t4\t2\t\"happy\"\n",
        "\"programmers\"\t1\t1\t\"programmers\""
      ],
      "metadata": {
        "id": "xbY7coaeY0Vk"
      }
    },
    {
      "cell_type": "code",
      "execution_count": null,
      "metadata": {
        "id": "69m3gPmZYzl7"
      },
      "outputs": [],
      "source": [
        "def solution(my_string, m, c):\n",
        "    return my_string[c-1::m]"
      ]
    }
  ]
}