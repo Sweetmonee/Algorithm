{
  "nbformat": 4,
  "nbformat_minor": 0,
  "metadata": {
    "colab": {
      "provenance": [],
      "authorship_tag": "ABX9TyMmqvc1gyKK9UzW0nJNBLYm",
      "include_colab_link": true
    },
    "kernelspec": {
      "name": "python3",
      "display_name": "Python 3"
    },
    "language_info": {
      "name": "python"
    }
  },
  "cells": [
    {
      "cell_type": "markdown",
      "metadata": {
        "id": "view-in-github",
        "colab_type": "text"
      },
      "source": [
        "<a href=\"https://colab.research.google.com/github/Sweetmonee/Algorithm/blob/Programmers/%EA%B7%B8%EB%A6%BC_%ED%99%95%EB%8C%80.ipynb\" target=\"_parent\"><img src=\"https://colab.research.google.com/assets/colab-badge.svg\" alt=\"Open In Colab\"/></a>"
      ]
    },
    {
      "cell_type": "markdown",
      "source": [
        "그림 확대\n",
        "문제 설명\n",
        "직사각형 형태의 그림 파일이 있고, 이 그림 파일은 1 × 1 크기의 정사각형 크기의 픽셀로 이루어져 있습니다. 이 그림 파일을 나타낸 문자열 배열 picture과 정수 k가 매개변수로 주어질 때, 이 그림 파일을 가로 세로로 k배 늘린 그림 파일을 나타내도록 문자열 배열을 return 하는 solution 함수를 작성해 주세요.\n",
        "\n",
        "제한사항\n",
        "1 ≤ picture의 길이 ≤ 20\n",
        "1 ≤ picture의 원소의 길이 ≤ 20\n",
        "모든 picture의 원소의 길이는 같습니다.\n",
        "picture의 원소는 '.'과 'x'로 이루어져 있습니다.\n",
        "1 ≤ k ≤ 10\n",
        "입출력 예\n",
        "picture\tk\tresult\n",
        "[\".xx...xx.\", \"x..x.x..x\", \"x...x...x\", \".x.....x.\", \"..x...x..\", \"...x.x...\", \"....x....\"]\t2\t[\"..xxxx......xxxx..\", \"..xxxx......xxxx..\", \"xx....xx..xx....xx\", \"xx....xx..xx....xx\", \"xx......xx......xx\", \"xx......xx......xx\", \"..xx..........xx..\", \"..xx..........xx..\", \"....xx......xx....\", \"....xx......xx....\", \"......xx..xx......\", \"......xx..xx......\", \"........xx........\", \"........xx........\"]\n",
        "[\"x.x\", \".x.\", \"x.x\"]\t3\t[\"xxx...xxx\", \"xxx...xxx\", \"xxx...xxx\", \"...xxx...\", \"...xxx...\", \"...xxx...\", \"xxx...xxx\", \"xxx...xxx\", \"xxx...xxx\"]"
      ],
      "metadata": {
        "id": "fDWpKmyFx39j"
      }
    },
    {
      "cell_type": "code",
      "execution_count": null,
      "metadata": {
        "id": "_8OgzZbIx3nn"
      },
      "outputs": [],
      "source": [
        "def solution(picture, k):\n",
        "    answer = []\n",
        "    for i in picture:\n",
        "        bowl = ''\n",
        "        for j in i:\n",
        "            bowl += j*k\n",
        "        for t in range(k):\n",
        "            answer.append(bowl)\n",
        "    return answer"
      ]
    }
  ]
}