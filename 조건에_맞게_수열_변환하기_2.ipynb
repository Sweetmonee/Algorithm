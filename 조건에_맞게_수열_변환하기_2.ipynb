{
  "nbformat": 4,
  "nbformat_minor": 0,
  "metadata": {
    "colab": {
      "provenance": [],
      "authorship_tag": "ABX9TyMtEJSkPdLwby2CIGca7xzb",
      "include_colab_link": true
    },
    "kernelspec": {
      "name": "python3",
      "display_name": "Python 3"
    },
    "language_info": {
      "name": "python"
    }
  },
  "cells": [
    {
      "cell_type": "markdown",
      "metadata": {
        "id": "view-in-github",
        "colab_type": "text"
      },
      "source": [
        "<a href=\"https://colab.research.google.com/github/Sweetmonee/Algorithm/blob/Programmers/%EC%A1%B0%EA%B1%B4%EC%97%90_%EB%A7%9E%EA%B2%8C_%EC%88%98%EC%97%B4_%EB%B3%80%ED%99%98%ED%95%98%EA%B8%B0_2.ipynb\" target=\"_parent\"><img src=\"https://colab.research.google.com/assets/colab-badge.svg\" alt=\"Open In Colab\"/></a>"
      ]
    },
    {
      "cell_type": "markdown",
      "source": [
        "조건에 맞게 수열 변환하기 2\n",
        "문제 설명\n",
        "정수 배열 arr가 주어집니다. arr의 각 원소에 대해 값이 50보다 크거나 같은 짝수라면 2로 나누고, 50보다 작은 홀수라면 2를 곱하고 다시 1을 더합니다.\n",
        "\n",
        "이러한 작업을 x번 반복한 결과인 배열을 arr(x)라고 표현했을 때, arr(x) = arr(x + 1)인 x가 항상 존재합니다. 이러한 x 중 가장 작은 값을 return 하는 solution 함수를 완성해 주세요.\n",
        "\n",
        "단, 두 배열에 대한 \"=\"는 두 배열의 크기가 서로 같으며, 같은 인덱스의 원소가 각각 서로 같음을 의미합니다.\n",
        "\n",
        "제한사항\n",
        "1 ≤ arr의 길이 ≤ 1,000,000\n",
        "1 ≤ arr의 원소의 값 ≤ 100\n",
        "입출력 예\n",
        "arr\tresult\n",
        "[1, 2, 3, 100, 99, 98]\t5"
      ],
      "metadata": {
        "id": "d7m_pNn6xby5"
      }
    },
    {
      "cell_type": "code",
      "execution_count": null,
      "metadata": {
        "id": "VzU-e58oxbBb"
      },
      "outputs": [],
      "source": [
        "def solution(arr):\n",
        "    answer = 0\n",
        "    bowl = []\n",
        "    bowl1 = arr.copy()\n",
        "    while bowl != bowl1:\n",
        "        bowl = bowl1.copy()\n",
        "        for i in range(len(bowl1)):\n",
        "            if bowl1[i] >= 50 and bowl1[i] % 2 == 0:\n",
        "                bowl1[i] = bowl[i] / 2\n",
        "            elif bowl[i] <=50 and bowl[i] % 2 != 0:\n",
        "                bowl1[i] = (bowl[i] * 2 )+ 1\n",
        "            else:\n",
        "                continue\n",
        "        answer += 1\n",
        "\n",
        "    return answer - 1"
      ]
    }
  ]
}