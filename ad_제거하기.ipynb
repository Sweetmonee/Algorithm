{
  "nbformat": 4,
  "nbformat_minor": 0,
  "metadata": {
    "colab": {
      "provenance": [],
      "authorship_tag": "ABX9TyO0AHZUTrFcbjFcp/sLuSrr",
      "include_colab_link": true
    },
    "kernelspec": {
      "name": "python3",
      "display_name": "Python 3"
    },
    "language_info": {
      "name": "python"
    }
  },
  "cells": [
    {
      "cell_type": "markdown",
      "metadata": {
        "id": "view-in-github",
        "colab_type": "text"
      },
      "source": [
        "<a href=\"https://colab.research.google.com/github/Sweetmonee/Algorithm/blob/Programmers/ad_%EC%A0%9C%EA%B1%B0%ED%95%98%EA%B8%B0.ipynb\" target=\"_parent\"><img src=\"https://colab.research.google.com/assets/colab-badge.svg\" alt=\"Open In Colab\"/></a>"
      ]
    },
    {
      "cell_type": "markdown",
      "source": [
        "ad 제거하기\n",
        "문제 설명\n",
        "문자열 배열 strArr가 주어집니다. 배열 내의 문자열 중 \"ad\"라는 부분 문자열을 포함하고 있는 모든 문자열을 제거하고 남은 문자열을 순서를 유지하여 배열로 return 하는 solution 함수를 완성해 주세요.\n",
        "\n",
        "제한사항\n",
        "1 ≤ strArr의 길이 ≤ 1,000\n",
        "1 ≤ strArr의 원소의 길이 ≤ 20\n",
        "strArr의 원소는 알파벳 소문자로 이루어진 문자열입니다.\n",
        "입출력 예\n",
        "strArr\tresult\n",
        "[\"and\",\"notad\",\"abcd\"]\t[\"and\",\"abcd\"]\n",
        "[\"there\",\"are\",\"no\",\"a\",\"ds\"]\t[\"there\",\"are\",\"no\",\"a\",\"ds\"]"
      ],
      "metadata": {
        "id": "MktPU0Ru5Y3_"
      }
    },
    {
      "cell_type": "code",
      "execution_count": null,
      "metadata": {
        "id": "_yoqbqUI5Vbl"
      },
      "outputs": [],
      "source": [
        "def solution(strArr):\n",
        "    return [i for i in strArr if 'ad' not in i]"
      ]
    }
  ]
}