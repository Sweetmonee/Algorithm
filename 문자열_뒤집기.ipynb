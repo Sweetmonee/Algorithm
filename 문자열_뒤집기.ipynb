{
  "nbformat": 4,
  "nbformat_minor": 0,
  "metadata": {
    "colab": {
      "provenance": [],
      "authorship_tag": "ABX9TyN+BOyFvCgDKRrzsI3FrdGz",
      "include_colab_link": true
    },
    "kernelspec": {
      "name": "python3",
      "display_name": "Python 3"
    },
    "language_info": {
      "name": "python"
    }
  },
  "cells": [
    {
      "cell_type": "markdown",
      "metadata": {
        "id": "view-in-github",
        "colab_type": "text"
      },
      "source": [
        "<a href=\"https://colab.research.google.com/github/Sweetmonee/Algorithm/blob/Programmers/%EB%AC%B8%EC%9E%90%EC%97%B4_%EB%92%A4%EC%A7%91%EA%B8%B0.ipynb\" target=\"_parent\"><img src=\"https://colab.research.google.com/assets/colab-badge.svg\" alt=\"Open In Colab\"/></a>"
      ]
    },
    {
      "cell_type": "markdown",
      "source": [
        "문자열 뒤집기\n",
        "문제 설명\n",
        "문자열 my_string과 정수 s, e가 매개변수로 주어질 때, my_string에서 인덱스 s부터 인덱스 e까지를 뒤집은 문자열을 return 하는 solution 함수를 작성해 주세요.\n",
        "\n",
        "제한사항\n",
        "my_string은 숫자와 알파벳으로만 이루어져 있습니다.\n",
        "1 ≤ my_string의 길이 ≤ 1,000\n",
        "0 ≤ s ≤ e < my_string의 길이\n",
        "입출력 예\n",
        "my_string\ts\te\tresult\n",
        "\"Progra21Sremm3\"\t6\t12\t\"ProgrammerS123\"\n",
        "\"Stanley1yelnatS\"\t4\t10\t\"Stanley1yelnatS\""
      ],
      "metadata": {
        "id": "xcymUHbXKPne"
      }
    },
    {
      "cell_type": "code",
      "execution_count": null,
      "metadata": {
        "id": "OoIsOa96KPAB"
      },
      "outputs": [],
      "source": [
        "def solution(my_string, s, e):\n",
        "    return my_string[:s] + my_string[s:e + 1][:: -1] + my_string[e + 1:]"
      ]
    }
  ]
}