{
  "nbformat": 4,
  "nbformat_minor": 0,
  "metadata": {
    "colab": {
      "provenance": [],
      "authorship_tag": "ABX9TyOZUq3hKhTHvrUC62A/r5I+",
      "include_colab_link": true
    },
    "kernelspec": {
      "name": "python3",
      "display_name": "Python 3"
    },
    "language_info": {
      "name": "python"
    }
  },
  "cells": [
    {
      "cell_type": "markdown",
      "metadata": {
        "id": "view-in-github",
        "colab_type": "text"
      },
      "source": [
        "<a href=\"https://colab.research.google.com/github/Sweetmonee/Algorithm/blob/Programmers/%EB%B6%80%EB%B6%84_%EB%AC%B8%EC%9E%90%EC%97%B4_%EC%9D%B4%EC%96%B4_%EB%B6%99%EC%97%AC_%EB%AC%B8%EC%9E%90%EC%97%B4_%EB%A7%8C%EB%93%A4%EA%B8%B0.ipynb\" target=\"_parent\"><img src=\"https://colab.research.google.com/assets/colab-badge.svg\" alt=\"Open In Colab\"/></a>"
      ]
    },
    {
      "cell_type": "markdown",
      "source": [
        "부분 문자열 이어 붙여 문자열 만들기\n",
        "문제 설명\n",
        "길이가 같은 문자열 배열 my_strings와 이차원 정수 배열 parts가 매개변수로 주어집니다. parts[i]는 [s, e] 형태로, my_string[i]의 인덱스 s부터 인덱스 e까지의 부분 문자열을 의미합니다. 각 my_strings의 원소의 parts에 해당하는 부분 문자열을 순서대로 이어 붙인 문자열을 return 하는 solution 함수를 작성해 주세요.\n",
        "\n",
        "제한사항\n",
        "1 ≤ my_strings의 길이 = parts의 길이 ≤ 100\n",
        "1 ≤ my_strings의 원소의 길이 ≤ 100\n",
        "parts[i]를 [s, e]라 할 때, 다음을 만족합니다.\n",
        "0 ≤ s ≤ e < my_strings[i]의 길이\n",
        "입출력 예\n",
        "my_strings\tparts\tresult\n",
        "[\"progressive\", \"hamburger\", \"hammer\", \"ahocorasick\"]\t[[0, 4], [1, 2], [3, 5], [7, 7]]\t\"programmers\""
      ],
      "metadata": {
        "id": "PVYjDWaj9t9h"
      }
    },
    {
      "cell_type": "code",
      "execution_count": null,
      "metadata": {
        "id": "dAPWv5qd9sif"
      },
      "outputs": [],
      "source": [
        "def solution(my_strings, parts):\n",
        "    answer = ''\n",
        "    for i in range(len(my_strings)):\n",
        "        answer += my_strings[i][parts[i][0]: parts[i][1] + 1]\n",
        "    return answer"
      ]
    }
  ]
}