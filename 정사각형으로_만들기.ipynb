{
  "nbformat": 4,
  "nbformat_minor": 0,
  "metadata": {
    "colab": {
      "provenance": [],
      "authorship_tag": "ABX9TyMHxk6HXRhuyIqz92mysNbl",
      "include_colab_link": true
    },
    "kernelspec": {
      "name": "python3",
      "display_name": "Python 3"
    },
    "language_info": {
      "name": "python"
    }
  },
  "cells": [
    {
      "cell_type": "markdown",
      "metadata": {
        "id": "view-in-github",
        "colab_type": "text"
      },
      "source": [
        "<a href=\"https://colab.research.google.com/github/Sweetmonee/Algorithm/blob/Programmers/%EC%A0%95%EC%82%AC%EA%B0%81%ED%98%95%EC%9C%BC%EB%A1%9C_%EB%A7%8C%EB%93%A4%EA%B8%B0.ipynb\" target=\"_parent\"><img src=\"https://colab.research.google.com/assets/colab-badge.svg\" alt=\"Open In Colab\"/></a>"
      ]
    },
    {
      "cell_type": "markdown",
      "source": [
        "정사각형으로 만들기\n",
        "문제 설명\n",
        "이차원 정수 배열 arr이 매개변수로 주어집니다. arr의 행의 수가 더 많다면 열의 수가 행의 수와 같아지도록 각 행의 끝에 0을 추가하고, 열의 수가 더 많다면 행의 수가 열의 수와 같아지도록 각 열의 끝에 0을 추가한 이차원 배열을 return 하는 solution 함수를 작성해 주세요.\n",
        "\n",
        "제한사항\n",
        "1 ≤ arr의 길이 ≤ 100\n",
        "1 ≤ arr의 원소의 길이 ≤ 100\n",
        "arr의 모든 원소의 길이는 같습니다.\n",
        "1 ≤ arr의 원소의 원소 ≤ 1,000\n",
        "입출력 예\n",
        "arr\tresult\n",
        "[[572, 22, 37], [287, 726, 384], [85, 137, 292], [487, 13, 876]]\t[[572, 22, 37, 0], [287, 726, 384, 0], [85, 137, 292, 0], [487, 13, 876, 0]]\n",
        "[[57, 192, 534, 2], [9, 345, 192, 999]]\t[[57, 192, 534, 2], [9, 345, 192, 999], [0, 0, 0, 0], [0, 0, 0, 0]]\n",
        "[[1, 2], [3, 4]]\t[[1, 2], [3, 4]]"
      ],
      "metadata": {
        "id": "MA-Qa1ME-2ei"
      }
    },
    {
      "cell_type": "code",
      "execution_count": null,
      "metadata": {
        "id": "J7-SEOBy-18i"
      },
      "outputs": [],
      "source": [
        "def solution(arr):\n",
        "    if len(arr) > len(arr[0]):\n",
        "        while len(arr) != len(arr[0]):\n",
        "            for i in arr:\n",
        "                i.append(0)\n",
        "    elif len(arr) < len(arr[0]):\n",
        "        while len(arr) != len(arr[0]):\n",
        "            arr.append([0 for i in range(len(arr[0]))])\n",
        "    return arr"
      ]
    }
  ]
}