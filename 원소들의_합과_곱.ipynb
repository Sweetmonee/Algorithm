{
  "nbformat": 4,
  "nbformat_minor": 0,
  "metadata": {
    "colab": {
      "provenance": [],
      "authorship_tag": "ABX9TyMG2qLGRBL5iyImXilJwsLD",
      "include_colab_link": true
    },
    "kernelspec": {
      "name": "python3",
      "display_name": "Python 3"
    },
    "language_info": {
      "name": "python"
    }
  },
  "cells": [
    {
      "cell_type": "markdown",
      "metadata": {
        "id": "view-in-github",
        "colab_type": "text"
      },
      "source": [
        "<a href=\"https://colab.research.google.com/github/Sweetmonee/Algorithm/blob/Programmers/%EC%9B%90%EC%86%8C%EB%93%A4%EC%9D%98_%ED%95%A9%EA%B3%BC_%EA%B3%B1.ipynb\" target=\"_parent\"><img src=\"https://colab.research.google.com/assets/colab-badge.svg\" alt=\"Open In Colab\"/></a>"
      ]
    },
    {
      "cell_type": "markdown",
      "source": [
        "원소들의 곱과 합\n",
        "문제 설명\n",
        "정수가 담긴 리스트 num_list가 주어질 때, 모든 원소들의 곱이 모든 원소들의 합의 제곱보다 작으면 1을 크면 0을 return하도록 solution 함수를 완성해주세요.\n",
        "\n",
        "제한사항\n",
        "2 ≤ num_list의 길이 ≤ 10\n",
        "1 ≤ num_list의 원소 ≤ 9\n",
        "입출력 예\n",
        "num_list\tresult\n",
        "[3, 4, 5, 2, 1]\t1\n",
        "[5, 7, 8, 3]\t0"
      ],
      "metadata": {
        "id": "H9k6VzZNP2qH"
      }
    },
    {
      "cell_type": "code",
      "source": [
        "# 내 정답\n",
        "def solution(num_list):\n",
        "    answer = 1\n",
        "    for i in num_list:\n",
        "        answer *= i\n",
        "    return 1 if sum(num_list) ** 2 > answer else 0"
      ],
      "metadata": {
        "id": "FvzlW0lLP3Dp"
      },
      "execution_count": null,
      "outputs": []
    },
    {
      "cell_type": "code",
      "execution_count": null,
      "metadata": {
        "id": "jdaZWTvhPwwE"
      },
      "outputs": [],
      "source": [
        "#eval을 활용한 정답\n",
        "def solution(num_list):\n",
        "    s=sum(num_list)**2\n",
        "    m=eval('*'.join([str(n) for n in num_list]))\n",
        "    return 1 if s>m else 0\n"
      ]
    }
  ]
}