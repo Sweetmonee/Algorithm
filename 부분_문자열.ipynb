{
  "nbformat": 4,
  "nbformat_minor": 0,
  "metadata": {
    "colab": {
      "provenance": [],
      "authorship_tag": "ABX9TyM7tSzCaRIKc8JgHsfP9UmT",
      "include_colab_link": true
    },
    "kernelspec": {
      "name": "python3",
      "display_name": "Python 3"
    },
    "language_info": {
      "name": "python"
    }
  },
  "cells": [
    {
      "cell_type": "markdown",
      "metadata": {
        "id": "view-in-github",
        "colab_type": "text"
      },
      "source": [
        "<a href=\"https://colab.research.google.com/github/Sweetmonee/Algorithm/blob/Programmers/%EB%B6%80%EB%B6%84_%EB%AC%B8%EC%9E%90%EC%97%B4.ipynb\" target=\"_parent\"><img src=\"https://colab.research.google.com/assets/colab-badge.svg\" alt=\"Open In Colab\"/></a>"
      ]
    },
    {
      "cell_type": "markdown",
      "source": [
        "부분 문자열\n",
        "문제 설명\n",
        "어떤 문자열 A가 다른 문자열 B안에 속하면 A를 B의 부분 문자열이라고 합니다. 예를 들어 문자열 \"abc\"는 문자열 \"aabcc\"의 부분 문자열입니다.\n",
        "\n",
        "문자열 str1과 str2가 주어질 때, str1이 str2의 부분 문자열이라면 1을 부분 문자열이 아니라면 0을 return하도록 solution 함수를 완성해주세요.\n",
        "\n",
        "제한 사항\n",
        "1 ≤ str1 ≤ str2 ≤ 20\n",
        "str1과 str2는 영어 소문자로만 이루어져 있습니다.\n",
        "입출력 예\n",
        "str1\tstr2\tresult\n",
        "\"abc\"\t\"aabcc\"\t1\n",
        "\"tbt\"\t\"tbbttb\"\t0"
      ],
      "metadata": {
        "id": "5dzDmPSkCEcy"
      }
    },
    {
      "cell_type": "code",
      "execution_count": null,
      "metadata": {
        "id": "qRInc4jaCDpw"
      },
      "outputs": [],
      "source": [
        "def solution(str1, str2):\n",
        "    return 1 if str1 in str2 else 0"
      ]
    }
  ]
}