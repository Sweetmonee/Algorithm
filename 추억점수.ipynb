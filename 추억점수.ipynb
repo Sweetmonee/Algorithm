{
  "nbformat": 4,
  "nbformat_minor": 0,
  "metadata": {
    "colab": {
      "provenance": [],
      "authorship_tag": "ABX9TyNkbBce5/XK7iqQpWnKEIu2",
      "include_colab_link": true
    },
    "kernelspec": {
      "name": "python3",
      "display_name": "Python 3"
    },
    "language_info": {
      "name": "python"
    }
  },
  "cells": [
    {
      "cell_type": "markdown",
      "metadata": {
        "id": "view-in-github",
        "colab_type": "text"
      },
      "source": [
        "<a href=\"https://colab.research.google.com/github/Sweetmonee/Algorithm/blob/Programmers/%EC%B6%94%EC%96%B5%EC%A0%90%EC%88%98.ipynb\" target=\"_parent\"><img src=\"https://colab.research.google.com/assets/colab-badge.svg\" alt=\"Open In Colab\"/></a>"
      ]
    },
    {
      "cell_type": "markdown",
      "source": [
        "사진들을 보며 추억에 젖어 있던 루는 사진별로 추억 점수를 매길려고 합니다. 사진 속에 나오는 인물의 그리움 점수를 모두 합산한 값이 해당 사진의 추억 점수가 됩니다. 예를 들어 사진 속 인물의 이름이 [\"may\", \"kein\", \"kain\"]이고 각 인물의 그리움 점수가 [5점, 10점, 1점]일 때 해당 사진의 추억 점수는 16(5 + 10 + 1)점이 됩니다. 다른 사진 속 인물의 이름이 [\"kali\", \"mari\", \"don\", \"tony\"]이고 [\"kali\", \"mari\", \"don\"]의 그리움 점수가 각각 [11점, 1점, 55점]]이고, \"tony\"는 그리움 점수가 없을 때, 이 사진의 추억 점수는 3명의 그리움 점수를 합한 67(11 + 1 + 55)점입니다.\n",
        "\n",
        "그리워하는 사람의 이름을 담은 문자열 배열 name, 각 사람별 그리움 점수를 담은 정수 배열 yearning, 각 사진에 찍힌 인물의 이름을 담은 이차원 문자열 배열 photo가 매개변수로 주어질 때, 사진들의 추억 점수를 photo에 주어진 순서대로 배열에 담아 return하는 solution 함수를 완성해주세요.\n",
        "\n",
        "제한사항\n",
        "3 ≤ name의 길이 = yearning의 길이≤ 100\n",
        "3 ≤ name의 원소의 길이 ≤ 7\n",
        "name의 원소들은 알파벳 소문자로만 이루어져 있습니다.\n",
        "name에는 중복된 값이 들어가지 않습니다.\n",
        "1 ≤ yearning[i] ≤ 100\n",
        "yearning[i]는 i번째 사람의 그리움 점수입니다.\n",
        "3 ≤ photo의 길이 ≤ 100\n",
        "1 ≤ photo[i]의 길이 ≤ 100\n",
        "3 ≤ photo[i]의 원소(문자열)의 길이 ≤ 7\n",
        "photo[i]의 원소들은 알파벳 소문자로만 이루어져 있습니다.\n",
        "photo[i]의 원소들은 중복된 값이 들어가지 않습니다.\n",
        "\n",
        "입출력 예\n",
        "name\tyearning\tphoto\tresult\n",
        "[\"may\", \"kein\", \"kain\", \"radi\"]\t[5, 10, 1, 3]\t[[\"may\", \"kein\", \"kain\", \"radi\"],[\"may\", \"kein\", \"brin\", \"deny\"], [\"kon\", \"kain\", \"may\", \"coni\"]]\t[19, 15, 6]\n",
        "[\"kali\", \"mari\", \"don\"]\t[11, 1, 55]\t[[\"kali\", \"mari\", \"don\"], [\"pony\", \"tom\", \"teddy\"], [\"con\", \"mona\", \"don\"]]\t[67, 0, 55]\n",
        "[\"may\", \"kein\", \"kain\", \"radi\"]\t[5, 10, 1, 3]\t[[\"may\"],[\"kein\", \"deny\", \"may\"], [\"kon\", \"coni\"]]\t[5, 15, 0]"
      ],
      "metadata": {
        "id": "v0IjEl6941MU"
      }
    },
    {
      "cell_type": "code",
      "execution_count": null,
      "metadata": {
        "id": "7QHzRLcD4yjh"
      },
      "outputs": [],
      "source": [
        "# 나의 정답\n",
        "def solution(name, yearning, photo):\n",
        "    answer = []\n",
        "    temp = 0\n",
        "    for i in photo:\n",
        "        temp = 0\n",
        "        for j in i:\n",
        "            if j in name:\n",
        "                temp += yearning[name.index(j)]\n",
        "        answer.append(temp)\n",
        "    return answer"
      ]
    },
    {
      "cell_type": "code",
      "source": [
        "# dictionary를 사용한 정답\n",
        "def solution(name, yearning, photo):\n",
        "    dictionary = dict(zip(name,yearning))\n",
        "    scores = []\n",
        "    for pt in photo:\n",
        "        score = 0\n",
        "        for p in pt:\n",
        "            if p in dictionary:\n",
        "                score += dictionary[p]\n",
        "        scores.append(score)\n",
        "    return scores"
      ],
      "metadata": {
        "id": "Rf4T_zFG5DjS"
      },
      "execution_count": null,
      "outputs": []
    },
    {
      "cell_type": "code",
      "source": [
        "# 한줄 코드\n",
        "def solution(이름, 점수, 사진):\n",
        "    return [sum(점수[이름.index(j)] for j in i if j in 이름) for i in 사진]"
      ],
      "metadata": {
        "id": "9qi770o75S8M"
      },
      "execution_count": null,
      "outputs": []
    }
  ]
}