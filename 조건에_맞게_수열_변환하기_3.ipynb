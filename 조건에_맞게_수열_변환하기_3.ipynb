{
  "nbformat": 4,
  "nbformat_minor": 0,
  "metadata": {
    "colab": {
      "provenance": [],
      "authorship_tag": "ABX9TyP9/uJzpUpiYHtPuARENi0E",
      "include_colab_link": true
    },
    "kernelspec": {
      "name": "python3",
      "display_name": "Python 3"
    },
    "language_info": {
      "name": "python"
    }
  },
  "cells": [
    {
      "cell_type": "markdown",
      "metadata": {
        "id": "view-in-github",
        "colab_type": "text"
      },
      "source": [
        "<a href=\"https://colab.research.google.com/github/Sweetmonee/Algorithm/blob/Programmers/%EC%A1%B0%EA%B1%B4%EC%97%90_%EB%A7%9E%EA%B2%8C_%EC%88%98%EC%97%B4_%EB%B3%80%ED%99%98%ED%95%98%EA%B8%B0_3.ipynb\" target=\"_parent\"><img src=\"https://colab.research.google.com/assets/colab-badge.svg\" alt=\"Open In Colab\"/></a>"
      ]
    },
    {
      "cell_type": "markdown",
      "source": [
        "조건에 맞게 수열 변환하기 3\n",
        "문제 설명\n",
        "정수 배열 arr와 자연수 k가 주어집니다.\n",
        "\n",
        "만약 k가 홀수라면 arr의 모든 원소에 k를 곱하고, k가 짝수라면 arr의 모든 원소에 k를 더합니다.\n",
        "\n",
        "이러한 변환을 마친 후의 arr를 return 하는 solution 함수를 완성해 주세요.\n",
        "\n",
        "제한사항\n",
        "1 ≤ arr의 길이 ≤ 1,000,000\n",
        "1 ≤ arr의 원소의 값 ≤ 100\n",
        "1 ≤ k ≤ 100\n",
        "입출력 예\n",
        "arr\tk\tresult\n",
        "[1, 2, 3, 100, 99, 98]\t3\t[3, 6, 9, 300, 297, 294]\n",
        "[1, 2, 3, 100, 99, 98]\t2\t[3, 4, 5, 102, 101, 100]"
      ],
      "metadata": {
        "id": "mlnBS4ABUo6B"
      }
    },
    {
      "cell_type": "code",
      "source": [
        "#나의 정답\n",
        "def solution(arr, k):\n",
        "    return [k*i if k % 2 != 0 else k + i for i in arr]"
      ],
      "metadata": {
        "id": "OuLBBdA1Ussv"
      },
      "execution_count": null,
      "outputs": []
    },
    {
      "cell_type": "code",
      "source": [
        "# 조건문 밖으로\n",
        "def solution(arr, k):\n",
        "    return [i + k for i in arr] if k % 2 == 0 else [i * k for i in arr]"
      ],
      "metadata": {
        "id": "oQ7dyuvCU_Ju"
      },
      "execution_count": null,
      "outputs": []
    },
    {
      "cell_type": "code",
      "execution_count": null,
      "metadata": {
        "id": "M1AXsh8HSItR"
      },
      "outputs": [],
      "source": [
        "#람다 함수 활용\n",
        "def solution(arr, k):\n",
        "    if k % 2 != 0:\n",
        "        return list(map(lambda x: x * k, arr))\n",
        "\n",
        "    return list(map(lambda x: x + k, arr))"
      ]
    }
  ]
}