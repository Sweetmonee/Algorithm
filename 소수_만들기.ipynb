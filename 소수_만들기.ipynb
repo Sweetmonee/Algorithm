{
  "nbformat": 4,
  "nbformat_minor": 0,
  "metadata": {
    "colab": {
      "provenance": [],
      "authorship_tag": "ABX9TyOF9xAUaOjuahCrQe2ZGGFp",
      "include_colab_link": true
    },
    "kernelspec": {
      "name": "python3",
      "display_name": "Python 3"
    },
    "language_info": {
      "name": "python"
    }
  },
  "cells": [
    {
      "cell_type": "markdown",
      "metadata": {
        "id": "view-in-github",
        "colab_type": "text"
      },
      "source": [
        "<a href=\"https://colab.research.google.com/github/Sweetmonee/Algorithm/blob/Programmers/%EC%86%8C%EC%88%98_%EB%A7%8C%EB%93%A4%EA%B8%B0.ipynb\" target=\"_parent\"><img src=\"https://colab.research.google.com/assets/colab-badge.svg\" alt=\"Open In Colab\"/></a>"
      ]
    },
    {
      "cell_type": "markdown",
      "source": [
        "소수 만들기\n",
        "문제 설명\n",
        "주어진 숫자 중 3개의 수를 더했을 때 소수가 되는 경우의 개수를 구하려고 합니다. 숫자들이 들어있는 배열 nums가 매개변수로 주어질 때, nums에 있는 숫자들 중 서로 다른 3개를 골라 더했을 때 소수가 되는 경우의 개수를 return 하도록 solution 함수를 완성해주세요.\n",
        "\n",
        "제한사항\n",
        "nums에 들어있는 숫자의 개수는 3개 이상 50개 이하입니다.\n",
        "nums의 각 원소는 1 이상 1,000 이하의 자연수이며, 중복된 숫자가 들어있지 않습니다.\n",
        "입출력 예\n",
        "nums\tresult\n",
        "[1,2,3,4]\t1\n",
        "[1,2,7,6,4]\t4"
      ],
      "metadata": {
        "id": "8nPClO_zvv3v"
      }
    },
    {
      "cell_type": "code",
      "execution_count": null,
      "metadata": {
        "id": "265maPJOvtme"
      },
      "outputs": [],
      "source": [
        "def solution(nums):\n",
        "    answer = 0\n",
        "    a = 1\n",
        "    bowl = []\n",
        "    for i in range(len(nums) - 2):\n",
        "        for j in range(i + 1, len(nums)-1):\n",
        "            for k in range(j + 1, len(nums)):\n",
        "                while a <= nums[i] + nums[j] + nums[k]:\n",
        "                    if (nums[i] + nums[j] + nums[k]) % a == 0:\n",
        "                        bowl.append(a)\n",
        "                        a += 1\n",
        "                    else:\n",
        "                        a += 1\n",
        "                if len(bowl) == 2:\n",
        "                    answer += 1\n",
        "                a = 1\n",
        "                bowl = []\n",
        "                \n",
        "                \n",
        "\n",
        "    return answer"
      ]
    }
  ]
}