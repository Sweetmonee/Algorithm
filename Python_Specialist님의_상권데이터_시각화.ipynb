{
  "cells": [
    {
      "cell_type": "markdown",
      "metadata": {
        "id": "view-in-github",
        "colab_type": "text"
      },
      "source": [
        "<a href=\"https://colab.research.google.com/github/Sweetmonee/Algorithm/blob/Programmers/Python_Specialist%EB%8B%98%EC%9D%98_%EC%83%81%EA%B6%8C%EB%8D%B0%EC%9D%B4%ED%84%B0_%EC%8B%9C%EA%B0%81%ED%99%94.ipynb\" target=\"_parent\"><img src=\"https://colab.research.google.com/assets/colab-badge.svg\" alt=\"Open In Colab\"/></a>"
      ]
    },
    {
      "cell_type": "code",
      "execution_count": null,
      "id": "37ac984e",
      "metadata": {
        "id": "37ac984e"
      },
      "outputs": [],
      "source": [
        "import pandas as pd"
      ]
    },
    {
      "cell_type": "code",
      "execution_count": null,
      "id": "4d6b3333",
      "metadata": {
        "id": "4d6b3333"
      },
      "outputs": [],
      "source": [
        "marketdf = pd.read_csv('./상권정보 데이터/소상공인시장진흥공단_상가(상권)정보_경남_202203.csv', encoding = 'utf-8', sep = ',')\n",
        "marketdf = marketdf[(marketdf['시군구명'] != '함양군') & (marketdf['시군구명'] != '함안군') & (marketdf['시군구명'] != '남해군')\n",
        "                  & (marketdf['시군구명'] != '하동군') & (marketdf['시군구명'] != '거창군') & (marketdf['시군구명'] != '의령군')\n",
        "                  & (marketdf['시군구명'] != '합천군') & (marketdf['시군구명'] != '고성군') & (marketdf['시군구명'] != '산청군')\n",
        "                  & (marketdf['시군구명'] != '창녕군')].reset_index(drop = True)\n",
        "marketdf"
      ]
    },
    {
      "cell_type": "code",
      "execution_count": null,
      "id": "bd3d0dba",
      "metadata": {
        "id": "bd3d0dba"
      },
      "outputs": [],
      "source": [
        "gnhmrdf = marketdf[marketdf['상호명'].str.contains('미미쿡', na = False)\n",
        "          |marketdf['상호명'].str.contains('미쿡미트마켓', na = False)\n",
        "          |marketdf['상호명'].str.contains('아니벌써', na = False)\n",
        "          |marketdf['상호명'].str.contains('데일리쿡', na = False)\n",
        "          |marketdf['상호명'].str.contains('오밀당', na = False)\n",
        "          |marketdf['상호명'].str.contains('쿡마스터', na = False)\n",
        "          |marketdf['상호명'].str.contains('cook master', na = False)\n",
        "          |marketdf['상호명'].str.contains('nbm', na = False)\n",
        "          |marketdf['상호명'].str.contains('nbm 밀키트', na = False)\n",
        "          |marketdf['상호명'].str.contains('요리비책', na = False)\n",
        "          |marketdf['상호명'].str.contains('국사랑', na = False)\n",
        "          |marketdf['상호명'].str.contains('바른장인', na = False)\n",
        "          |marketdf['상호명'].str.contains('죽이야기', na = False)\n",
        "          |marketdf['상호명'].str.contains('예반스', na = False)\n",
        "          |marketdf['상호명'].str.contains('홈즈앤쿡', na = False)\n",
        "          |marketdf['상호명'].str.contains('집밥뚝딱', na = False)\n",
        "          |marketdf['상호명'].str.contains('바른찌개', na = False)\n",
        "          |marketdf['상호명'].str.contains('명현만', na = False)\n",
        "          |marketdf['상호명'].str.contains('명현만의 마시따쿡', na = False)\n",
        "          |marketdf['상호명'].str.contains('마시따쿡', na = False)\n",
        "          |marketdf['상호명'].str.contains('한끼로', na = False)\n",
        "          |marketdf['상호명'].str.contains('밀키토랑', na = False)\n",
        "          |marketdf['상호명'].str.contains('옐로우스푼', na = False)\n",
        "          |marketdf['상호명'].str.contains('쿡해요', na = False)\n",
        "          |marketdf['상호명'].str.contains('밀땅', na = False)\n",
        "          |marketdf['상호명'].str.contains('더팜홈쿡', na = False)\n",
        "          |marketdf['상호명'].str.contains('창영이마켓', na = False)\n",
        "          |marketdf['상호명'].str.contains('원셰프', na = False)\n",
        "          |marketdf['상호명'].str.contains('원셰프의 행복식탁', na = False)\n",
        "          |marketdf['상호명'].str.contains('행복식탁', na = False)\n",
        "          |marketdf['상호명'].str.contains('한끼뚝딱', na = False)\n",
        "          |marketdf['상호명'].str.contains('바로한끼', na = False)\n",
        "          |marketdf['상호명'].str.contains('더잇24', na = False)\n",
        "          |marketdf['상호명'].str.contains('팔도만찬', na = False)\n",
        "          |marketdf['상호명'].str.contains('오늘쉐프', na = False)\n",
        "          |marketdf['상호명'].str.contains('하이키친', na = False)\n",
        "          |marketdf['상호명'].str.contains('식사준비', na = False)\n",
        "          |marketdf['상호명'].str.contains('마미킷', na = False)\n",
        "          |marketdf['상호명'].str.contains('mommykit', na = False)\n",
        "          |marketdf['상호명'].str.contains('터치쿡', na = False)\n",
        "          |marketdf['상호명'].str.contains('touch cook', na = False)\n",
        "          |marketdf['상호명'].str.contains('밀키트원', na = False)\n",
        "          |marketdf['상호명'].str.contains('밀킷슐랭', na = False)\n",
        "          |marketdf['상호명'].str.contains('숲속의부엌 밀키트마켓', na = False)\n",
        "          |marketdf['상호명'].str.contains('숲속의부엌', na = False)\n",
        "          |marketdf['상호명'].str.contains('밀키트마켓', na = False)\n",
        "          |marketdf['상호명'].str.contains('메르쎄시', na = False)\n",
        "          |marketdf['상호명'].str.contains('이맛이지', na = False)\n",
        "          |marketdf['상호명'].str.contains('easy', na = False)\n",
        "          |marketdf['상호명'].str.contains('일점육도씨', na = False)\n",
        "          |marketdf['상호명'].str.contains('집콕포차', na = False)\n",
        "          |marketdf['상호명'].str.contains('쿡쿡쿡', na = False)\n",
        "          |marketdf['상호명'].str.contains('cookcookcook', na = False)\n",
        "          |marketdf['상호명'].str.contains('109밀키트', na = False)\n",
        "          |marketdf['상호명'].str.contains('소꿉요리', na = False)\n",
        "          |marketdf['상호명'].str.contains('마이레시피', na = False)\n",
        "          |marketdf['상호명'].str.contains('만만어사', na = False)\n",
        "          |marketdf['상호명'].str.contains('밀키트상점', na = False)\n",
        "          |marketdf['상호명'].str.contains('감성밀키트', na = False)\n",
        "          |marketdf['상호명'].str.contains('코스모밀키트', na = False)\n",
        "          |marketdf['상호명'].str.contains('담꾹', na = False)\n",
        "          |marketdf['상호명'].str.contains('이지쿡', na = False)\n",
        "          |marketdf['상호명'].str.contains('집어가', na = False)\n",
        "          |marketdf['상호명'].str.contains('자비큐', na = False)\n",
        "          |marketdf['상호명'].str.contains('신세계밀키트', na = False)\n",
        "          |marketdf['상호명'].str.contains('올데이밀키트', na = False)\n",
        "          |marketdf['상호명'].str.contains('헬로밀키트', na = False)\n",
        "          |marketdf['상호명'].str.contains('채선당밀키트24', na = False)\n",
        "          |marketdf['상호명'].str.contains('김준호의 대단한갈비', na = False)\n",
        "          |marketdf['상호명'].str.contains('프레시밀', na = False)\n",
        "          |marketdf['상호명'].str.contains('쁨이네캠핑푸드', na = False)\n",
        "          |marketdf['상호명'].str.contains('누구나쉐프', na = False)\n",
        "          |marketdf['상호명'].str.contains('잇쏘프레시', na = False)\n",
        "          |marketdf['상호명'].str.contains('담따프레시', na = False)\n",
        "          |marketdf['상호명'].str.contains('영영상점', na = False)\n",
        "          |marketdf['상호명'].str.contains('씨씨통영', na = False)\n",
        "          |marketdf['상호명'].str.contains('홈밀까페24', na = False)\n",
        "          |marketdf['상호명'].str.contains('더팜홈쿡', na = False)\n",
        "          |marketdf['상호명'].str.contains('간편한식탁', na = False)\n",
        "          |marketdf['상호명'].str.contains('맛키트', na = False)\n",
        "          |marketdf['상호명'].str.contains('윤형빈의하이키친', na = False)\n",
        "          |marketdf['상호명'].str.contains('반하다앳', na = False)\n",
        "          |marketdf['상호명'].str.contains('경성육개장앤부대찌개', na = False)\n",
        "          |marketdf['상호명'].str.contains('싸가지고가게', na = False)\n",
        "          |marketdf['상호명'].str.contains('요리비책', na = False)\n",
        "          |marketdf['상호명'].str.contains('다담아', na = False)\n",
        "          |marketdf['상호명'].str.contains('우리동네 냉장고', na = False)\n",
        "          |marketdf['상호명'].str.contains('우리동네냉장고', na = False)\n",
        "          |marketdf['상호명'].str.contains('미스터아빠', na = False)\n",
        "          |marketdf['상호명'].str.contains('농가의아침', na = False)\n",
        "          |marketdf['상호명'].str.contains('청계푸드', na = False)\n",
        "          |marketdf['상호명'].str.contains('맛쿵', na = False)\n",
        "          |marketdf['상호명'].str.contains('식사준비', na = False)\n",
        "          |marketdf['상호명'].str.contains('담꾹', na = False)\n",
        "          |marketdf['상호명'].str.contains('빨쿡', na = False)\n",
        "          |marketdf['상호명'].str.contains('미스터아빠', na = False)\n",
        "          |marketdf['상호명'].str.contains('붕푸드마켓', na = False)\n",
        "\n",
        "          ].reset_index(drop = True)\n",
        "\n",
        "gnhmrdf"
      ]
    },
    {
      "cell_type": "code",
      "execution_count": null,
      "id": "35a9e1f2",
      "metadata": {
        "id": "35a9e1f2"
      },
      "outputs": [],
      "source": [
        "gnhmrdf = gnhmrdf[~(gnhmrdf['상호명'].str.contains('라맛쿵부', na=False, case=False)\n",
        "             |gnhmrdf['상호명'].str.contains('죽이야기', na=False, case=False))\n",
        "           ].reset_index(drop = True)\n",
        "gnhmrdf"
      ]
    },
    {
      "cell_type": "code",
      "execution_count": null,
      "id": "9a16ea0b",
      "metadata": {
        "scrolled": false,
        "id": "9a16ea0b"
      },
      "outputs": [],
      "source": [
        "banchandf = marketdf[marketdf['상권업종소분류명'] == '반찬가게'].reset_index(drop = True)\n",
        "banchandf"
      ]
    },
    {
      "cell_type": "code",
      "execution_count": null,
      "id": "d6ebdb69",
      "metadata": {
        "id": "d6ebdb69"
      },
      "outputs": [],
      "source": [
        "banchandf1 = banchandf[~(banchandf['상호명'].str.contains('미미쿡', na = False)\n",
        "          |banchandf['상호명'].str.contains('미쿡미트마켓', na = False)\n",
        "          |banchandf['상호명'].str.contains('아니벌써', na = False)\n",
        "          |banchandf['상호명'].str.contains('데일리쿡', na = False)\n",
        "          |banchandf['상호명'].str.contains('오밀당', na = False)\n",
        "          |banchandf['상호명'].str.contains('쿡마스터', na = False)\n",
        "          |banchandf['상호명'].str.contains('cook master', na = False)\n",
        "          |banchandf['상호명'].str.contains('nbm', na = False)\n",
        "          |banchandf['상호명'].str.contains('nbm 밀키트', na = False)\n",
        "          |banchandf['상호명'].str.contains('요리비책', na = False)\n",
        "          |banchandf['상호명'].str.contains('국사랑', na = False)\n",
        "          |banchandf['상호명'].str.contains('바른장인', na = False)\n",
        "          |banchandf['상호명'].str.contains('죽이야기', na = False)\n",
        "          |banchandf['상호명'].str.contains('예반스', na = False)\n",
        "          |banchandf['상호명'].str.contains('홈즈앤쿡', na = False)\n",
        "          |banchandf['상호명'].str.contains('집밥뚝딱', na = False)\n",
        "          |banchandf['상호명'].str.contains('바른찌개', na = False)\n",
        "          |banchandf['상호명'].str.contains('명현만', na = False)\n",
        "          |banchandf['상호명'].str.contains('명현만의 마시따쿡', na = False)\n",
        "          |banchandf['상호명'].str.contains('마시따쿡', na = False)\n",
        "          |banchandf['상호명'].str.contains('한끼로', na = False)\n",
        "          |banchandf['상호명'].str.contains('밀키토랑', na = False)\n",
        "          |banchandf['상호명'].str.contains('옐로우스푼', na = False)\n",
        "          |banchandf['상호명'].str.contains('쿡해요', na = False)\n",
        "          |banchandf['상호명'].str.contains('밀땅', na = False)\n",
        "          |banchandf['상호명'].str.contains('더팜홈쿡', na = False)\n",
        "          |banchandf['상호명'].str.contains('창영이마켓', na = False)\n",
        "          |banchandf['상호명'].str.contains('원셰프', na = False)\n",
        "          |banchandf['상호명'].str.contains('원셰프의 행복식탁', na = False)\n",
        "          |banchandf['상호명'].str.contains('행복식탁', na = False)\n",
        "          |banchandf['상호명'].str.contains('한끼뚝딱', na = False)\n",
        "          |banchandf['상호명'].str.contains('바로한끼', na = False)\n",
        "          |banchandf['상호명'].str.contains('더잇24', na = False)\n",
        "          |banchandf['상호명'].str.contains('팔도만찬', na = False)\n",
        "          |banchandf['상호명'].str.contains('오늘쉐프', na = False)\n",
        "          |banchandf['상호명'].str.contains('하이키친', na = False)\n",
        "          |banchandf['상호명'].str.contains('식사준비', na = False)\n",
        "          |banchandf['상호명'].str.contains('마미킷', na = False)\n",
        "          |banchandf['상호명'].str.contains('mommykit', na = False)\n",
        "          |banchandf['상호명'].str.contains('터치쿡', na = False)\n",
        "          |banchandf['상호명'].str.contains('touch cook', na = False)\n",
        "          |banchandf['상호명'].str.contains('밀키트원', na = False)\n",
        "          |banchandf['상호명'].str.contains('밀킷슐랭', na = False)\n",
        "          |banchandf['상호명'].str.contains('숲속의부엌 밀키트마켓', na = False)\n",
        "          |banchandf['상호명'].str.contains('숲속의부엌', na = False)\n",
        "          |banchandf['상호명'].str.contains('밀키트마켓', na = False)\n",
        "          |banchandf['상호명'].str.contains('메르쎄시', na = False)\n",
        "          |banchandf['상호명'].str.contains('이맛이지', na = False)\n",
        "          |banchandf['상호명'].str.contains('easy', na = False)\n",
        "          |banchandf['상호명'].str.contains('일점육도씨', na = False)\n",
        "          |banchandf['상호명'].str.contains('집콕포차', na = False)\n",
        "          |banchandf['상호명'].str.contains('쿡쿡쿡', na = False)\n",
        "          |banchandf['상호명'].str.contains('cookcookcook', na = False)\n",
        "          |banchandf['상호명'].str.contains('109밀키트', na = False)\n",
        "          |banchandf['상호명'].str.contains('소꿉요리', na = False)\n",
        "          |banchandf['상호명'].str.contains('마이레시피', na = False)\n",
        "          |banchandf['상호명'].str.contains('만만어사', na = False)\n",
        "          |banchandf['상호명'].str.contains('밀키트상점', na = False)\n",
        "          |banchandf['상호명'].str.contains('감성밀키트', na = False)\n",
        "          |banchandf['상호명'].str.contains('코스모밀키트', na = False)\n",
        "          |banchandf['상호명'].str.contains('담꾹', na = False)\n",
        "          |banchandf['상호명'].str.contains('이지쿡', na = False)\n",
        "          |banchandf['상호명'].str.contains('집어가', na = False)\n",
        "          |banchandf['상호명'].str.contains('자비큐', na = False)\n",
        "          |banchandf['상호명'].str.contains('신세계밀키트', na = False)\n",
        "          |banchandf['상호명'].str.contains('올데이밀키트', na = False)\n",
        "          |banchandf['상호명'].str.contains('헬로밀키트', na = False)\n",
        "          |banchandf['상호명'].str.contains('채선당밀키트24', na = False)\n",
        "          |banchandf['상호명'].str.contains('김준호의 대단한갈비', na = False)\n",
        "          |banchandf['상호명'].str.contains('프레시밀', na = False)\n",
        "          |banchandf['상호명'].str.contains('쁨이네캠핑푸드', na = False)\n",
        "          |banchandf['상호명'].str.contains('누구나쉐프', na = False)\n",
        "          |banchandf['상호명'].str.contains('잇쏘프레시', na = False)\n",
        "          |banchandf['상호명'].str.contains('담따프레시', na = False)\n",
        "          |banchandf['상호명'].str.contains('영영상점', na = False)\n",
        "          |banchandf['상호명'].str.contains('씨씨통영', na = False)\n",
        "          |banchandf['상호명'].str.contains('홈밀까페24', na = False)\n",
        "          |banchandf['상호명'].str.contains('더팜홈쿡', na = False)\n",
        "          |banchandf['상호명'].str.contains('간편한식탁', na = False)\n",
        "          |banchandf['상호명'].str.contains('맛키트', na = False)\n",
        "          |banchandf['상호명'].str.contains('윤형빈의하이키친', na = False)\n",
        "          |banchandf['상호명'].str.contains('반하다앳', na = False)\n",
        "          |banchandf['상호명'].str.contains('경성육개장앤부대찌개', na = False)\n",
        "          |banchandf['상호명'].str.contains('싸가지고가게', na = False)\n",
        "          |banchandf['상호명'].str.contains('요리비책', na = False)\n",
        "          |banchandf['상호명'].str.contains('다담아', na = False)\n",
        "          |banchandf['상호명'].str.contains('우리동네 냉장고', na = False)\n",
        "          |banchandf['상호명'].str.contains('우리동네냉장고', na = False)\n",
        "          |banchandf['상호명'].str.contains('미스터아빠', na = False)\n",
        "          |banchandf['상호명'].str.contains('농가의아침', na = False)\n",
        "          |banchandf['상호명'].str.contains('청계푸드', na = False)\n",
        "          |banchandf['상호명'].str.contains('맛쿵', na = False)\n",
        "          |banchandf['상호명'].str.contains('식사준비', na = False)\n",
        "          |banchandf['상호명'].str.contains('담꾹', na = False)\n",
        "          |banchandf['상호명'].str.contains('빨쿡', na = False)\n",
        "          |banchandf['상호명'].str.contains('미스터아빠', na = False)\n",
        "          |banchandf['상호명'].str.contains('붕푸드마켓', na = False)\n",
        "          |banchandf['상호명'].str.contains('라맛쿵부', na=False)\n",
        "          |banchandf['상호명'].str.contains('죽이야기', na=False))\n",
        "\n",
        "          ].reset_index(drop = True)\n",
        "banchandf1"
      ]
    },
    {
      "cell_type": "code",
      "execution_count": null,
      "id": "887ee425",
      "metadata": {
        "id": "887ee425"
      },
      "outputs": [],
      "source": [
        "conveniencedf = marketdf[marketdf['상권업종소분류명'] == '편의점'].reset_index(drop = True)\n",
        "conveniencedf"
      ]
    },
    {
      "cell_type": "code",
      "execution_count": null,
      "id": "b5eec7f4",
      "metadata": {
        "id": "b5eec7f4"
      },
      "outputs": [],
      "source": [
        "supermarketdf = marketdf[marketdf['상호명'].str.contains('수퍼', na = False)]\n",
        "supermarketdf"
      ]
    },
    {
      "cell_type": "code",
      "execution_count": null,
      "id": "4b5cd656",
      "metadata": {
        "id": "4b5cd656"
      },
      "outputs": [],
      "source": [
        "d0 = supermarketdf[(supermarketdf['상권업종소분류명'] == '육류소매') | (supermarketdf['상권업종소분류명'] == '식료품점') |\n",
        "       (supermarketdf['상권업종소분류명'] == '한식/백반/한정식')].reset_index(drop = True)\n",
        "d0"
      ]
    },
    {
      "cell_type": "code",
      "execution_count": null,
      "id": "d69dd04c",
      "metadata": {
        "id": "d69dd04c"
      },
      "outputs": [],
      "source": [
        "z = marketdf[marketdf['상권업종소분류명'] == '수퍼마켓'].reset_index(drop = True)\n",
        "z"
      ]
    },
    {
      "cell_type": "code",
      "execution_count": null,
      "id": "a1e34f1c",
      "metadata": {
        "id": "a1e34f1c"
      },
      "outputs": [],
      "source": [
        "supermarketdf1 = pd.concat([supermarketdf,z, d0]).reset_index(drop = True)\n",
        "supermarketdf1"
      ]
    },
    {
      "cell_type": "code",
      "execution_count": null,
      "id": "597d8eeb",
      "metadata": {
        "id": "597d8eeb"
      },
      "outputs": [],
      "source": [
        "supermarketdf2 = supermarketdf1.drop_duplicates(subset=None, keep='first', inplace=False, ignore_index=False).reset_index(drop = True)\n",
        "supermarketdf2"
      ]
    },
    {
      "cell_type": "code",
      "execution_count": null,
      "id": "49367e82",
      "metadata": {
        "id": "49367e82"
      },
      "outputs": [],
      "source": [
        "martdf = pd.read_csv('fulldata_08_25_01_P_대규모점포.csv', encoding = 'cp949')\n",
        "martdf"
      ]
    },
    {
      "cell_type": "code",
      "execution_count": null,
      "id": "60e9152f",
      "metadata": {
        "id": "60e9152f"
      },
      "outputs": [],
      "source": [
        "martdf1 = martdf[martdf['소재지전체주소'].str.contains('양산시', na = False)\n",
        "          |martdf['소재지전체주소'].str.contains('거제시', na = False)\n",
        "          |martdf['소재지전체주소'].str.contains('밀양시', na = False)\n",
        "          |martdf['소재지전체주소'].str.contains('김해시', na = False)\n",
        "          |martdf['소재지전체주소'].str.contains('사천시', na = False)\n",
        "          |martdf['소재지전체주소'].str.contains('통영시', na = False)\n",
        "          |martdf['소재지전체주소'].str.contains('진주시', na = False)\n",
        "          |martdf['소재지전체주소'].str.contains('창원시', na = False)\n",
        "          \n",
        "          ].reset_index(drop = True)\n",
        "martdf1"
      ]
    },
    {
      "cell_type": "code",
      "execution_count": null,
      "id": "8d64bead",
      "metadata": {
        "id": "8d64bead"
      },
      "outputs": [],
      "source": [
        "martdf2 = martdf1[martdf1['업태구분명'] == '대형마트'].reset_index(drop = True)\n",
        "martdf2"
      ]
    },
    {
      "cell_type": "code",
      "execution_count": null,
      "id": "e25b0118",
      "metadata": {
        "id": "e25b0118"
      },
      "outputs": [],
      "source": [
        "martdf3 = martdf2[~(martdf['영업상태명'].str.contains('폐업', na = False)\n",
        "          |martdf2['영업상태명'].str.contains('휴업', na = False)\n",
        "          |martdf2['영업상태명'].str.contains('취소', na = False)\n",
        "          |martdf2['사업장명'].str.contains('가구', na = False)\n",
        "                 \n",
        "                 )\n",
        "       \n",
        "          \n",
        "          ].reset_index(drop = True)\n",
        "martdf3"
      ]
    },
    {
      "cell_type": "code",
      "execution_count": null,
      "id": "830521fd",
      "metadata": {
        "id": "830521fd"
      },
      "outputs": [],
      "source": [
        "# import requests; from urllib.parse import urlparse\n",
        "# import pandas as pd\n",
        "# import os\n",
        "\n",
        "# def address_to_latlon(address):\n",
        "#     url = \"https://dapi.kakao.com/v2/local/search/address.json?&query=\" + address\n",
        "#     result = requests.get(urlparse(url).geturl(),\n",
        "#                           headers={\"Authorization\":\"KakaoAK c8d0a35b3feaafb1aa8c7b4782b83ad6\"})\n",
        "#     json_obj = result.json()\n",
        "#     if json_obj['meta']['total_count'] > 0:\n",
        "#         for document in json_obj['documents']:\n",
        "#             val = [address, document['y'], document['x']]\n",
        "#     else:\n",
        "#         val = [address,'na','na']\n",
        "#     return val"
      ]
    },
    {
      "cell_type": "code",
      "execution_count": null,
      "id": "cb8c033a",
      "metadata": {
        "id": "cb8c033a"
      },
      "outputs": [],
      "source": [
        "# list = []\n",
        "# i = 0\n",
        "\n",
        "# for address in martdf2['도로명전체주소']:\n",
        "#     try:\n",
        "#         list.append(address_to_latlon(address))\n",
        "#         i += 1\n",
        "#     except:\n",
        "#         list.append([address,'na','na'])\n",
        "# martdf3 = pd.DataFrame(list, columns = ['소재지전체주소','lat', 'lng'])\n",
        "# martdf3"
      ]
    },
    {
      "cell_type": "code",
      "execution_count": null,
      "id": "af5e493e",
      "metadata": {
        "id": "af5e493e"
      },
      "outputs": [],
      "source": [
        "martdfc = pd.read_csv('martdfc.csv', encoding = 'utf-8')\n",
        "martdfc"
      ]
    },
    {
      "cell_type": "code",
      "execution_count": null,
      "id": "01d4f73f",
      "metadata": {
        "id": "01d4f73f"
      },
      "outputs": [],
      "source": [
        "gnhmrdf\n",
        "banchandf1\n",
        "conveniencedf\n",
        "supermarketdf2\n",
        "martdfc"
      ]
    },
    {
      "cell_type": "code",
      "execution_count": null,
      "id": "9d607df7",
      "metadata": {
        "id": "9d607df7"
      },
      "outputs": [],
      "source": [
        "gnhmrdf1 = gnhmrdf[['위도', '경도']]\n",
        "banchandf2 = banchandf1[['위도', '경도']]\n",
        "conveniencedf1 = conveniencedf[['위도', '경도']]\n",
        "supermarketdf3 = supermarketdf2[['위도', '경도']]\n",
        "martdfc1 = martdfc[['lat', 'lng']]\n",
        "gnhmrdf1"
      ]
    },
    {
      "cell_type": "code",
      "execution_count": null,
      "id": "59e08351",
      "metadata": {
        "id": "59e08351"
      },
      "outputs": [],
      "source": [
        "gnhmrdf1.columns = ['lat', 'lng']\n",
        "banchandf2.columns = ['lat', 'lng']\n",
        "conveniencedf1.columns = ['lat', 'lng']\n",
        "supermarketdf3.columns = ['lat', 'lng']\n",
        "martdfc1.columns = ['lat', 'lng']\n",
        "conveniencedf1"
      ]
    },
    {
      "cell_type": "code",
      "execution_count": null,
      "id": "01f76a96",
      "metadata": {
        "id": "01f76a96"
      },
      "outputs": [],
      "source": [
        "trdf1 = gnhmrdf1\n",
        "trdf2 = banchandf2\n",
        "trdf3 = conveniencedf1\n",
        "trdf4 = supermarketdf3\n",
        "trdf5 = martdfc1\n",
        "trdf4"
      ]
    },
    {
      "cell_type": "code",
      "execution_count": null,
      "id": "8bca6c73",
      "metadata": {
        "id": "8bca6c73"
      },
      "outputs": [],
      "source": [
        "import geopandas as gpd\n",
        "from shapely.geometry import Point, Polygon, MultiPolygon\n",
        "\n",
        "umd_geodf = gpd.read_file('./읍면동 경계 데이터/knUMD.shp', encoding='utf-8').to_crs('EPSG:4326')\n",
        "umd_geodf"
      ]
    },
    {
      "cell_type": "code",
      "execution_count": null,
      "id": "0d18bf30",
      "metadata": {
        "id": "0d18bf30"
      },
      "outputs": [],
      "source": [
        "sgg_geodf = gpd.read_file('./시군구 경계 데이터/LARD_ADM_SECT_SGG_48.shp', encoding='cp949').to_crs('EPSG:4326')\n",
        "sgg_geodf"
      ]
    },
    {
      "cell_type": "code",
      "execution_count": null,
      "id": "c2400dfb",
      "metadata": {
        "id": "c2400dfb"
      },
      "outputs": [],
      "source": [
        "trdf1['point'] = trdf1.apply(lambda x: Point((float(x.lng), float(x.lat))), axis=1)\n",
        "trdf2['point'] = trdf2.apply(lambda x: Point((float(x.lng), float(x.lat))), axis=1)\n",
        "trdf3['point'] = trdf3.apply(lambda x: Point((float(x.lng), float(x.lat))), axis=1)\n",
        "trdf4['point'] = trdf4.apply(lambda x: Point((float(x.lng), float(x.lat))), axis=1)\n",
        "trdf5['point'] = trdf5.apply(lambda x: Point((float(x.lng), float(x.lat))), axis=1)\n",
        "trdf5"
      ]
    },
    {
      "cell_type": "code",
      "execution_count": null,
      "id": "2d7b9bfe",
      "metadata": {
        "id": "2d7b9bfe"
      },
      "outputs": [],
      "source": [
        "import numpy as np\n",
        "import geopandas as gpd\n",
        "from shapely.geometry import Point, Polygon, MultiPolygon\n",
        "from tqdm.notebook import tqdm\n",
        "\n",
        "trdf1['sgg'] = np.nan\n",
        "trdf2['sgg'] = np.nan\n",
        "trdf3['sgg'] = np.nan\n",
        "trdf4['sgg'] = np.nan\n",
        "trdf5['sgg'] = np.nan\n",
        "\n",
        "for i in tqdm(range(len(sgg_geodf))):\n",
        "    for j in tqdm(range(len(trdf1))):\n",
        "        if sgg_geodf['geometry'][i].contains(trdf1['point'][j]) == True:\n",
        "            trdf1['sgg'][j] = sgg_geodf['SGG_NM'][i]\n",
        "            \n",
        "for i in tqdm(range(len(sgg_geodf))):\n",
        "    for j in tqdm(range(len(trdf2))):\n",
        "        if sgg_geodf['geometry'][i].contains(trdf2['point'][j]) == True:\n",
        "            trdf2['sgg'][j] = sgg_geodf['SGG_NM'][i]\n",
        "            \n",
        "for i in tqdm(range(len(sgg_geodf))):\n",
        "    for j in tqdm(range(len(trdf3))):\n",
        "        if sgg_geodf['geometry'][i].contains(trdf3['point'][j]) == True:\n",
        "            trdf3['sgg'][j] = sgg_geodf['SGG_NM'][i]\n",
        "            \n",
        "for i in tqdm(range(len(sgg_geodf))):\n",
        "    for j in tqdm(range(len(trdf4))):\n",
        "        if sgg_geodf['geometry'][i].contains(trdf4['point'][j]) == True:\n",
        "            trdf4['sgg'][j] = sgg_geodf['SGG_NM'][i]\n",
        "            \n",
        "for i in tqdm(range(len(sgg_geodf))):\n",
        "    for j in tqdm(range(len(trdf5))):\n",
        "        if sgg_geodf['geometry'][i].contains(trdf5['point'][j]) == True:\n",
        "            trdf5['sgg'][j] = sgg_geodf['SGG_NM'][i]\n",
        "\n",
        "\n",
        "            \n",
        "trdf1"
      ]
    },
    {
      "cell_type": "code",
      "execution_count": null,
      "id": "efbaacbc",
      "metadata": {
        "id": "efbaacbc"
      },
      "outputs": [],
      "source": [
        "trdf2.info()\n",
        "# trdf3,trdf2,trdf4 결측값 존재"
      ]
    },
    {
      "cell_type": "code",
      "execution_count": null,
      "id": "e88e7325",
      "metadata": {
        "id": "e88e7325"
      },
      "outputs": [],
      "source": [
        "trdf2.to_csv('반찬가게수정할파일.csv', encoding = \"cp949\", index = False)\n",
        "trdf3.to_csv('편의점수정할파일.csv', encoding = \"cp949\", index = False)\n",
        "trdf4.to_csv('수퍼마켓수정할파일.csv', encoding = \"cp949\", index = False)"
      ]
    },
    {
      "cell_type": "code",
      "execution_count": null,
      "id": "a70d7940",
      "metadata": {
        "id": "a70d7940"
      },
      "outputs": [],
      "source": [
        "trdf2 = pd.read_csv(\"trdf2.csv\", encoding = 'cp949')\n",
        "trdf3 = pd.read_csv(\"trdf3.csv\", encoding = 'cp949')\n",
        "trdf4 = pd.read_csv(\"trdf4.csv\", encoding = 'cp949')\n",
        "trdf4"
      ]
    },
    {
      "cell_type": "code",
      "execution_count": null,
      "id": "18b7648c",
      "metadata": {
        "id": "18b7648c"
      },
      "outputs": [],
      "source": [
        "trdf1['point'] = trdf1.apply(lambda x: Point((float(x.lng), float(x.lat))), axis=1)\n",
        "trdf2['point'] = trdf2.apply(lambda x: Point((float(x.lng), float(x.lat))), axis=1)\n",
        "trdf3['point'] = trdf3.apply(lambda x: Point((float(x.lng), float(x.lat))), axis=1)\n",
        "trdf4['point'] = trdf4.apply(lambda x: Point((float(x.lng), float(x.lat))), axis=1)\n",
        "trdf5['point'] = trdf5.apply(lambda x: Point((float(x.lng), float(x.lat))), axis=1)\n",
        "trdf5"
      ]
    },
    {
      "cell_type": "code",
      "execution_count": null,
      "id": "abc24565",
      "metadata": {
        "id": "abc24565"
      },
      "outputs": [],
      "source": [
        "trdf5.info()"
      ]
    },
    {
      "cell_type": "code",
      "execution_count": null,
      "id": "4479d53f",
      "metadata": {
        "id": "4479d53f"
      },
      "outputs": [],
      "source": [
        "umddf1 = trdf1#밀키트점\n",
        "umddf2 = trdf2#반찬가게\n",
        "umddf3 = trdf3#편의점\n",
        "umddf4 = trdf4#수퍼마켓\n",
        "umddf5 = trdf5#대형마트"
      ]
    },
    {
      "cell_type": "code",
      "execution_count": null,
      "id": "9e61b34e",
      "metadata": {
        "id": "9e61b34e"
      },
      "outputs": [],
      "source": [
        "import numpy as np\n",
        "import geopandas as gpd\n",
        "from shapely.geometry import Point, Polygon, MultiPolygon\n",
        "from tqdm.notebook import tqdm\n",
        "\n",
        "umddf1['umd'] = np.nan\n",
        "umddf2['umd'] = np.nan\n",
        "umddf3['umd'] = np.nan\n",
        "umddf4['umd'] = np.nan\n",
        "umddf5['umd'] = np.nan\n",
        "\n",
        "for i in tqdm(range(len(umd_geodf))):\n",
        "    for j in tqdm(range(len(umddf1))):\n",
        "        if umd_geodf['geometry'][i].contains(umddf1['point'][j]) == True:\n",
        "            umddf1['umd'][j] = umd_geodf['EMD_KOR_NM'][i]\n",
        "            \n",
        "for i in tqdm(range(len(umd_geodf))):\n",
        "    for j in tqdm(range(len(umddf2))):\n",
        "        if umd_geodf['geometry'][i].contains(umddf2['point'][j]) == True:\n",
        "            umddf2['umd'][j] = umd_geodf['EMD_KOR_NM'][i]\n",
        "            \n",
        "for i in tqdm(range(len(umd_geodf))):\n",
        "    for j in tqdm(range(len(umddf3))):\n",
        "        if umd_geodf['geometry'][i].contains(umddf3['point'][j]) == True:\n",
        "            umddf3['umd'][j] = umd_geodf['EMD_KOR_NM'][i]\n",
        "            \n",
        "for i in tqdm(range(len(umd_geodf))):\n",
        "    for j in tqdm(range(len(umddf4))):\n",
        "        if umd_geodf['geometry'][i].contains(umddf4['point'][j]) == True:\n",
        "            umddf4['umd'][j] = umd_geodf['EMD_KOR_NM'][i]\n",
        "            \n",
        "for i in tqdm(range(len(umd_geodf))):\n",
        "    for j in tqdm(range(len(umddf5))):\n",
        "        if umd_geodf['geometry'][i].contains(umddf5['point'][j]) == True:\n",
        "            umddf5['umd'][j] = umd_geodf['EMD_KOR_NM'][i]\n",
        "\n",
        "\n",
        "        \n",
        "umddf5"
      ]
    },
    {
      "cell_type": "code",
      "execution_count": null,
      "id": "78bcfa2e",
      "metadata": {
        "id": "78bcfa2e"
      },
      "outputs": [],
      "source": [
        "umddf5.info()"
      ]
    },
    {
      "cell_type": "code",
      "execution_count": null,
      "id": "75b59c95",
      "metadata": {
        "id": "75b59c95"
      },
      "outputs": [],
      "source": [
        "# umddf1.to_csv('경남밀키트 정리본.csv', encoding = 'cp949', index = False)\n",
        "# umddf2.to_csv('경남반찬가게 정리본.csv', encoding = 'cp949', index = False)\n",
        "# umddf3.to_csv('경남편의점 정리본.csv', encoding = 'cp949', index = False)\n",
        "# umddf4.to_csv('경남수퍼마켓 정리본.csv', encoding = 'cp949', index = False)\n",
        "# umddf5.to_csv('경남대형마트 정리본.csv', encoding = 'cp949', index = False)"
      ]
    },
    {
      "cell_type": "code",
      "execution_count": null,
      "id": "068fd224",
      "metadata": {
        "id": "068fd224"
      },
      "outputs": [],
      "source": [
        "gnhmrdf = pd.read_csv('경남밀키트 정리본.csv', encoding = 'cp949')\n",
        "banchandf = pd.read_csv('경남반찬가게 정리본.csv', encoding = 'cp949')\n",
        "convinencedf = pd.read_csv('경남편의점 정리본.csv', encoding = 'cp949')\n",
        "supermarketdf = pd.read_csv('경남수퍼마켓 정리본.csv', encoding = 'cp949')\n",
        "martdf = pd.read_csv('경남대형마트 정리본.csv', encoding = 'cp949')\n",
        "\n",
        "martdf"
      ]
    },
    {
      "cell_type": "code",
      "execution_count": null,
      "id": "1001b324",
      "metadata": {
        "id": "1001b324"
      },
      "outputs": [],
      "source": [
        "vdf1 = gnhmrdf.drop(['sgg','umd'], axis=1)\n",
        "vdf2 = banchandf.drop(['sgg','umd'], axis=1)\n",
        "vdf3 = convinencedf.drop(['sgg','umd'], axis=1)\n",
        "vdf4 = supermarketdf.drop(['sgg','umd'], axis=1)\n",
        "vdf5 = martdf.drop(['sgg','umd'], axis=1)\n",
        "vdf5"
      ]
    },
    {
      "cell_type": "code",
      "execution_count": null,
      "id": "c44a57b6",
      "metadata": {
        "id": "c44a57b6"
      },
      "outputs": [],
      "source": [
        "import geopandas as gpd\n",
        "from shapely.geometry import Point, Polygon, MultiPolygon\n",
        "\n",
        "sgg_geodf = gpd.read_file('./시군구 경계 데이터/LARD_ADM_SECT_SGG_48.shp', encoding='cp949').to_crs('EPSG:4326')\n",
        "sgg_geodf"
      ]
    },
    {
      "cell_type": "code",
      "execution_count": null,
      "id": "ad9a7e16",
      "metadata": {
        "id": "ad9a7e16"
      },
      "outputs": [],
      "source": [
        "sgg_geodf = sgg_geodf.loc[[10, 11, 12, 13, 14, 15, 16, 17, 18, 19, 20, 21, 22, 23]].reset_index(drop = True)\n",
        "sgg_geodf"
      ]
    },
    {
      "cell_type": "code",
      "execution_count": null,
      "id": "677a616f",
      "metadata": {
        "id": "677a616f"
      },
      "outputs": [],
      "source": [
        "from folium.features import DivIcon\n",
        "import folium\n",
        "import pyproj\n",
        "from pyproj import Proj, transform"
      ]
    },
    {
      "cell_type": "code",
      "execution_count": null,
      "id": "ec0311e4",
      "metadata": {
        "id": "ec0311e4"
      },
      "outputs": [],
      "source": [
        "map = folium.Map(location = [vdf3['lat'].mean(), vdf3['lng'].mean()], zoom_start = 8)\n",
        "folium.GeoJson(sgg_geodf.loc[23].geometry,\n",
        "               style_function= lambda x : {'fillColor':'navy', 'fill_opacity':0.1, 'color':'navy', 'weight':1.5}\n",
        "              ).add_to(map)\n",
        "\n",
        "for n in vdf2.index:#반찬\n",
        "    folium.CircleMarker([vdf2['lat'][n], vdf2['lng'][n]], radius = 1, color = 'yellow', fill_color = 'blue').add_to(map)\n",
        "for n in vdf3.index:#편의점\n",
        "    folium.CircleMarker([vdf3['lat'][n], vdf3['lng'][n]], radius = 1, color = 'yellow', fill_color = 'blue').add_to(map)\n",
        "for n in vdf4.index:#수퍼마켓\n",
        "    folium.CircleMarker([vdf4['lat'][n], vdf4['lng'][n]], radius = 1, color = 'yellow', fill_color = 'blue').add_to(map)\n",
        "for n in vdf5.index:#대형마트\n",
        "    folium.CircleMarker([vdf5['lat'][n], vdf5['lng'][n]], radius = 3, color = 'green',fill_opacity =1, fill_color = 'green').add_to(map)   \n",
        "for n in vdf1.index:#밀키트\n",
        "    folium.CircleMarker([vdf1['lat'][n], vdf1['lng'][n]], radius = 1, color = 'red', fill_color = 'red').add_to(map)\n",
        "map"
      ]
    },
    {
      "cell_type": "code",
      "execution_count": null,
      "id": "3b4f8127",
      "metadata": {
        "id": "3b4f8127"
      },
      "outputs": [],
      "source": [
        "from config import vworld_key\n",
        "map1 = folium.Map(location=[vdf3['lat'].mean(), vdf3['lng'].mean()],zoom_start=11)\n",
        "layer = \"gray\"\n",
        "tileType = \"png\"\n",
        "tiles = f\"http://api.vworld.kr/req/wmts/1.0.0/{vworld_key}/{layer}/{{z}}/{{y}}/{{x}}.{tileType}\"\n",
        "attr = \"Vworld\"\n",
        "folium.TileLayer(\n",
        "    tiles=tiles,\n",
        "    attr=attr,\n",
        "    overlay=True,\n",
        "    control=True\n",
        ").add_to(map1)\n",
        "folium.GeoJson(sgg_geodf.geometry,\n",
        "               style_function= lambda x : {'fillColor':'#FFFFF0', 'fillOpacity':0.3, 'color':'blue', 'weight':3}\n",
        "              ).add_to(map1)\n",
        "\n",
        "\n",
        "\n",
        "for n in vdf2.index:\n",
        "    folium.CircleMarker([vdf2['lat'][n], vdf2['lng'][n]], fill_opacity = 1,radius = 1, color = '#E4BF03', fill_color = '#E4BF03').add_to(map1)\n",
        "for n in vdf3.index:\n",
        "    folium.CircleMarker([vdf3['lat'][n], vdf3['lng'][n]], fill_opacity = 1,radius = 1, color = '#E4BF03', fill_color = '#E4BF03').add_to(map1)\n",
        "for n in vdf4.index:\n",
        "    folium.CircleMarker([vdf4['lat'][n], vdf4['lng'][n]], fill_opacity = 1,radius = 1, color = '#E4BF03', fill_color = '#E4BF03').add_to(map1)\n",
        "for n in vdf5.index:\n",
        "    folium.CircleMarker([vdf5['lat'][n], vdf5['lng'][n]], fill_opacity = 1,radius = 2, color = 'green', fill_color = 'green').add_to(map1)\n",
        "for n in vdf1.index:\n",
        "    folium.CircleMarker([vdf1['lat'][n], vdf1['lng'][n]], fill_opacity = 1,radius = 1, color = '#FF0000', fill_color = '#FF0000').add_to(map1)\n",
        "    \n",
        "map1\n"
      ]
    },
    {
      "cell_type": "code",
      "execution_count": null,
      "id": "9ec6d221",
      "metadata": {
        "id": "9ec6d221"
      },
      "outputs": [],
      "source": [
        "map.save('map.html')\n",
        "map1.save('map1.html')"
      ]
    },
    {
      "cell_type": "code",
      "execution_count": null,
      "id": "47eeeca3",
      "metadata": {
        "id": "47eeeca3"
      },
      "outputs": [],
      "source": []
    },
    {
      "cell_type": "code",
      "execution_count": null,
      "id": "446dd767",
      "metadata": {
        "id": "446dd767"
      },
      "outputs": [],
      "source": []
    },
    {
      "cell_type": "code",
      "execution_count": null,
      "id": "4cd757c0",
      "metadata": {
        "id": "4cd757c0"
      },
      "outputs": [],
      "source": []
    },
    {
      "cell_type": "code",
      "execution_count": null,
      "id": "2c8623a4",
      "metadata": {
        "id": "2c8623a4"
      },
      "outputs": [],
      "source": []
    }
  ],
  "metadata": {
    "kernelspec": {
      "display_name": "Python 3 (ipykernel)",
      "language": "python",
      "name": "python3"
    },
    "language_info": {
      "codemirror_mode": {
        "name": "ipython",
        "version": 3
      },
      "file_extension": ".py",
      "mimetype": "text/x-python",
      "name": "python",
      "nbconvert_exporter": "python",
      "pygments_lexer": "ipython3",
      "version": "3.9.7"
    },
    "colab": {
      "provenance": [],
      "include_colab_link": true
    }
  },
  "nbformat": 4,
  "nbformat_minor": 5
}