{
  "nbformat": 4,
  "nbformat_minor": 0,
  "metadata": {
    "colab": {
      "provenance": [],
      "authorship_tag": "ABX9TyPuzTq6Fg7CxAX/P61SZz/R",
      "include_colab_link": true
    },
    "kernelspec": {
      "name": "python3",
      "display_name": "Python 3"
    },
    "language_info": {
      "name": "python"
    }
  },
  "cells": [
    {
      "cell_type": "markdown",
      "metadata": {
        "id": "view-in-github",
        "colab_type": "text"
      },
      "source": [
        "<a href=\"https://colab.research.google.com/github/Sweetmonee/Algorithm/blob/Programmers/%ED%95%A0_%EC%9D%BC_%EB%AA%A9%EB%A1%9D.ipynb\" target=\"_parent\"><img src=\"https://colab.research.google.com/assets/colab-badge.svg\" alt=\"Open In Colab\"/></a>"
      ]
    },
    {
      "cell_type": "markdown",
      "source": [
        "할 일 목록\n",
        "문제 설명\n",
        "오늘 해야 할 일이 담긴 문자열 배열 todo_list와 각각의 일을 지금 마쳤는지를 나타내는 boolean 배열 finished가 매개변수로 주어질 때, todo_list에서 아직 마치지 못한 일들을 순서대로 담은 문자열 배열을 return 하는 solution 함수를 작성해 주세요.\n",
        "\n",
        "제한사항\n",
        "1 ≤ todo_list의 길이 1 ≤ 100\n",
        "2 ≤ todo_list의 원소의 길이 ≤ 20\n",
        "todo_list의 원소는 영소문자로만 이루어져 있습니다.\n",
        "todo_list의 원소는 모두 서로 다릅니다.\n",
        "finished[i]는 true 또는 false이고 true는 todo_list[i]를 마쳤음을, false는 아직 마치지 못했음을 나타냅니다.\n",
        "아직 마치지 못한 일이 적어도 하나 있습니다."
      ],
      "metadata": {
        "id": "s1h9UVfaHr3c"
      }
    },
    {
      "cell_type": "code",
      "execution_count": null,
      "metadata": {
        "id": "XxycS-P7HqfL"
      },
      "outputs": [],
      "source": [
        "def solution(todo_list, finished):\n",
        "    answer = []\n",
        "    for i in range(len(todo_list)):\n",
        "        if finished[i] == False:\n",
        "            answer.append(todo_list[i])\n",
        "    return answer"
      ]
    }
  ]
}