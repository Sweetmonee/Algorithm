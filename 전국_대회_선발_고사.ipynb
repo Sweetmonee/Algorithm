{
  "nbformat": 4,
  "nbformat_minor": 0,
  "metadata": {
    "colab": {
      "provenance": [],
      "authorship_tag": "ABX9TyOnuolzRu1iyS4Ub7UbM6x4",
      "include_colab_link": true
    },
    "kernelspec": {
      "name": "python3",
      "display_name": "Python 3"
    },
    "language_info": {
      "name": "python"
    }
  },
  "cells": [
    {
      "cell_type": "markdown",
      "metadata": {
        "id": "view-in-github",
        "colab_type": "text"
      },
      "source": [
        "<a href=\"https://colab.research.google.com/github/Sweetmonee/Algorithm/blob/Programmers/%EC%A0%84%EA%B5%AD_%EB%8C%80%ED%9A%8C_%EC%84%A0%EB%B0%9C_%EA%B3%A0%EC%82%AC.ipynb\" target=\"_parent\"><img src=\"https://colab.research.google.com/assets/colab-badge.svg\" alt=\"Open In Colab\"/></a>"
      ]
    },
    {
      "cell_type": "markdown",
      "source": [
        "전국 대회 선발 고사\n",
        "문제 설명\n",
        "0번부터 n - 1번까지 n명의 학생 중 3명을 선발하는 전국 대회 선발 고사를 보았습니다. 등수가 높은 3명을 선발해야 하지만, 개인 사정으로 전국 대회에 참여하지 못하는 학생들이 있어 참여가 가능한 학생 중 등수가 높은 3명을 선발하기로 했습니다.\n",
        "\n",
        "각 학생들의 선발 고사 등수를 담은 정수 배열 rank와 전국 대회 참여 가능 여부가 담긴 boolean 배열 attendance가 매개변수로 주어집니다. 전국 대회에 선발된 학생 번호들을 등수가 높은 순서대로 각각 a, b, c번이라고 할 때 10000 × a + 100 × b + c를 return 하는 solution 함수를 작성해 주세요.\n",
        "\n",
        "제한사항\n",
        "3 ≤ rank의 길이 = attendance의 길이 ≤ 100\n",
        "rank[i]는 i번 학생의 선발 고사 등수를 의미합니다.\n",
        "rank의 원소는 1부터 n까지의 정수로 모두 서로 다릅니다.\n",
        "attendance[i]는 i번 학생의 전국 대회 참석 가능 여부를 나타냅니다."
      ],
      "metadata": {
        "id": "8LeDwrPlUbbq"
      }
    },
    {
      "cell_type": "code",
      "execution_count": null,
      "metadata": {
        "id": "EJqJpaT_UbDz"
      },
      "outputs": [],
      "source": [
        "def solution(rank, attendance):\n",
        "    answer = 0\n",
        "    bowl = []\n",
        "    for i in range(1, len(rank) + 1):\n",
        "        if attendance[rank.index(i)] == True:\n",
        "            bowl.append(rank.index(i))\n",
        "        if len(bowl) == 3:\n",
        "            break\n",
        "    return (bowl[0] * 10000) + (bowl[1] * 100) + bowl[2]"
      ]
    }
  ]
}