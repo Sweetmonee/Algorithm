{
  "nbformat": 4,
  "nbformat_minor": 0,
  "metadata": {
    "colab": {
      "provenance": [],
      "authorship_tag": "ABX9TyMvywZqKtXaUoDWdQV6RUdw",
      "include_colab_link": true
    },
    "kernelspec": {
      "name": "python3",
      "display_name": "Python 3"
    },
    "language_info": {
      "name": "python"
    }
  },
  "cells": [
    {
      "cell_type": "markdown",
      "metadata": {
        "id": "view-in-github",
        "colab_type": "text"
      },
      "source": [
        "<a href=\"https://colab.research.google.com/github/Sweetmonee/Algorithm/blob/Programmers/%EB%AC%B8%EC%9E%90_%EA%B0%9C%EC%88%98_%EC%84%B8%EA%B8%B0.ipynb\" target=\"_parent\"><img src=\"https://colab.research.google.com/assets/colab-badge.svg\" alt=\"Open In Colab\"/></a>"
      ]
    },
    {
      "cell_type": "markdown",
      "source": [
        "문자 개수 세기\n",
        "문제 설명\n",
        "알파벳 대소문자로만 이루어진 문자열 my_string이 주어질 때, my_string에서 'A'의 개수, my_string에서 'B'의 개수,..., my_string에서 'Z'의 개수, my_string에서 'a'의 개수, my_string에서 'b'의 개수,..., my_string에서 'z'의 개수를 순서대로 담은 길이 52의 정수 배열을 return 하는 solution 함수를 작성해 주세요.\n",
        "\n",
        "제한사항\n",
        "1 ≤ my_string의 길이 ≤ 1,000\n",
        "입출력 예\n",
        "my_string\tresult\n",
        "\"Programmers\"\t[0, 0, 0, 0, 0, 0, 0, 0, 0, 0, 0, 0, 0, 0, 0, 1, 0, 0, 0, 0, 0, 0, 0, 0, 0, 0, 1, 0, 0, 0, 1, 0, 1, 0, 0, 0, 0, 0, 2, 0, 1, 0, 0, 3, 1, 0, 0, 0, 0, 0, 0, 0]"
      ],
      "metadata": {
        "id": "3hrnqnEIumCr"
      }
    },
    {
      "cell_type": "code",
      "source": [
        "#내 정답\n",
        "def solution(my_string):\n",
        "    answer = [0 for i in range(52)]\n",
        "    for i in my_string:\n",
        "        if i.isupper() == True:\n",
        "            answer[ord(i)- 65] += 1\n",
        "        else:\n",
        "            answer[ord(i)-71] += 1\n",
        "    return answer"
      ],
      "metadata": {
        "id": "HiuD5QuqulsT"
      },
      "execution_count": null,
      "outputs": []
    },
    {
      "cell_type": "code",
      "execution_count": null,
      "metadata": {
        "id": "WGanQb-2ulAq"
      },
      "outputs": [],
      "source": [
        "#다른 풀이\n",
        "def solution(my_string):\n",
        "    return [my_string.count(alphabet) for alphabet in 'abcdefghijklmnopqrstuvwxyz'.upper()+'abcdefghijklmnopqrstuvwxyz']"
      ]
    }
  ]
}