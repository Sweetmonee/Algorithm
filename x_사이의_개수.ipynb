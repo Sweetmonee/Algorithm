{
  "nbformat": 4,
  "nbformat_minor": 0,
  "metadata": {
    "colab": {
      "provenance": [],
      "authorship_tag": "ABX9TyOow29vw/MWG05/Uqc71Jwr",
      "include_colab_link": true
    },
    "kernelspec": {
      "name": "python3",
      "display_name": "Python 3"
    },
    "language_info": {
      "name": "python"
    }
  },
  "cells": [
    {
      "cell_type": "markdown",
      "metadata": {
        "id": "view-in-github",
        "colab_type": "text"
      },
      "source": [
        "<a href=\"https://colab.research.google.com/github/Sweetmonee/Algorithm/blob/Programmers/x_%EC%82%AC%EC%9D%B4%EC%9D%98_%EA%B0%9C%EC%88%98.ipynb\" target=\"_parent\"><img src=\"https://colab.research.google.com/assets/colab-badge.svg\" alt=\"Open In Colab\"/></a>"
      ]
    },
    {
      "cell_type": "markdown",
      "source": [
        "x 사이의 개수\n",
        "문제 설명\n",
        "문자열 myString이 주어집니다. myString을 문자 \"x\"를 기준으로 나눴을 때 나눠진 문자열 각각의 길이를 순서대로 저장한 배열을 return 하는 solution 함수를 완성해 주세요.\n",
        "\n",
        "제한사항\n",
        "1 ≤ myString의 길이 ≤ 100,000\n",
        "myString은 알파벳 소문자로 이루어진 문자열입니다.\n",
        "입출력 예\n",
        "myString\tresult\n",
        "\"oxooxoxxox\"\t[1, 2, 1, 0, 1, 0]\n",
        "\"xabcxdefxghi\"\t[0, 3, 3, 3]"
      ],
      "metadata": {
        "id": "gZi1HKI-nrNQ"
      }
    },
    {
      "cell_type": "code",
      "execution_count": null,
      "metadata": {
        "id": "2Yly6A_Qnqwh"
      },
      "outputs": [],
      "source": [
        "def solution(myString):\n",
        "    return [len(i) for i in myString.split('x')]"
      ]
    }
  ]
}