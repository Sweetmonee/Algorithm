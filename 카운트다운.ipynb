{
  "nbformat": 4,
  "nbformat_minor": 0,
  "metadata": {
    "colab": {
      "provenance": [],
      "authorship_tag": "ABX9TyNXoJgT4ro819Ldc9lwQ0eL",
      "include_colab_link": true
    },
    "kernelspec": {
      "name": "python3",
      "display_name": "Python 3"
    },
    "language_info": {
      "name": "python"
    }
  },
  "cells": [
    {
      "cell_type": "markdown",
      "metadata": {
        "id": "view-in-github",
        "colab_type": "text"
      },
      "source": [
        "<a href=\"https://colab.research.google.com/github/Sweetmonee/Algorithm/blob/Programmers/%EC%B9%B4%EC%9A%B4%ED%8A%B8%EB%8B%A4%EC%9A%B4.ipynb\" target=\"_parent\"><img src=\"https://colab.research.google.com/assets/colab-badge.svg\" alt=\"Open In Colab\"/></a>"
      ]
    },
    {
      "cell_type": "markdown",
      "source": [
        "카운트 다운\n",
        "문제 설명\n",
        "정수 start와 end가 주어질 때, start에서 end까지 1씩 감소하는 수들을 차례로 담은 리스트를 return하도록 solution 함수를 완성해주세요.\n",
        "\n",
        "제한사항\n",
        "0 ≤ end ≤ start ≤ 50\n",
        "입출력 예\n",
        "start\tend\tresult\n",
        "10\t3\t[10, 9, 8, 7, 6, 5, 4, 3]"
      ],
      "metadata": {
        "id": "tFySsAaZmDY2"
      }
    },
    {
      "cell_type": "code",
      "execution_count": null,
      "metadata": {
        "id": "B8XyJcdsmCA7"
      },
      "outputs": [],
      "source": [
        "#내정답\n",
        "def solution(start, end):\n",
        "    return list(reversed([i for i in range(end, start + 1)]))"
      ]
    },
    {
      "cell_type": "code",
      "source": [
        "#-1하면 반대로\n",
        "def solution(start, end):\n",
        "    return [i for i in range(start, end - 1, -1)]"
      ],
      "metadata": {
        "id": "ac1Ha68gmLao"
      },
      "execution_count": null,
      "outputs": []
    }
  ]
}