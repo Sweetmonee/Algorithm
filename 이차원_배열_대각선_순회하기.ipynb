{
  "nbformat": 4,
  "nbformat_minor": 0,
  "metadata": {
    "colab": {
      "provenance": [],
      "authorship_tag": "ABX9TyN0ZKkkBjKhiKTWzvmuYvlu",
      "include_colab_link": true
    },
    "kernelspec": {
      "name": "python3",
      "display_name": "Python 3"
    },
    "language_info": {
      "name": "python"
    }
  },
  "cells": [
    {
      "cell_type": "markdown",
      "metadata": {
        "id": "view-in-github",
        "colab_type": "text"
      },
      "source": [
        "<a href=\"https://colab.research.google.com/github/Sweetmonee/Algorithm/blob/Programmers/%EC%9D%B4%EC%B0%A8%EC%9B%90_%EB%B0%B0%EC%97%B4_%EB%8C%80%EA%B0%81%EC%84%A0_%EC%88%9C%ED%9A%8C%ED%95%98%EA%B8%B0.ipynb\" target=\"_parent\"><img src=\"https://colab.research.google.com/assets/colab-badge.svg\" alt=\"Open In Colab\"/></a>"
      ]
    },
    {
      "cell_type": "markdown",
      "source": [
        "이차원 배열 대각선 순회하기\n",
        "문제 설명\n",
        "2차원 정수 배열 board와 정수 k가 주어집니다.\n",
        "\n",
        "i + j <= k를 만족하는 모든 (i, j)에 대한 board[i][j]의 합을 return 하는 solution 함수를 완성해 주세요.\n",
        "\n",
        "제한사항\n",
        "1 ≤ board의 길이 ≤ 100\n",
        "1 ≤ board[i]의 길이 ≤ 100\n",
        "1 ≤ board[i][j] ≤ 10,000\n",
        "모든 board[i]의 길이는 같습니다.\n",
        "0 ≤ k < board의 길이 + board[i]의 길이\n",
        "입출력 예\n",
        "board\tk\tresult\n",
        "[[0, 1, 2],[1, 2, 3],[2, 3, 4],[3, 4, 5]]\t2\t8"
      ],
      "metadata": {
        "id": "yBTV9fwWFmgg"
      }
    },
    {
      "cell_type": "code",
      "execution_count": null,
      "metadata": {
        "id": "Hc-NrBSlFllz"
      },
      "outputs": [],
      "source": [
        "def solution(board, k):\n",
        "    answer = 0\n",
        "    for i in range(len(board)):\n",
        "        for j in range(len(board[i])):\n",
        "            if i + j <= k:\n",
        "                answer += board[i][j]\n",
        "    return answer"
      ]
    }
  ]
}