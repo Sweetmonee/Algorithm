{
  "nbformat": 4,
  "nbformat_minor": 0,
  "metadata": {
    "colab": {
      "provenance": [],
      "authorship_tag": "ABX9TyPTOoEMKCTNVVO6LFXa+UpP",
      "include_colab_link": true
    },
    "kernelspec": {
      "name": "python3",
      "display_name": "Python 3"
    },
    "language_info": {
      "name": "python"
    }
  },
  "cells": [
    {
      "cell_type": "markdown",
      "metadata": {
        "id": "view-in-github",
        "colab_type": "text"
      },
      "source": [
        "<a href=\"https://colab.research.google.com/github/Sweetmonee/Algorithm/blob/Programmers/%EB%AC%B4%EC%9E%91%EC%9C%84%EB%A1%9C_K%EA%B0%9C%EC%9D%98_%EC%88%98_%EB%BD%91%EA%B8%B0.ipynb\" target=\"_parent\"><img src=\"https://colab.research.google.com/assets/colab-badge.svg\" alt=\"Open In Colab\"/></a>"
      ]
    },
    {
      "cell_type": "markdown",
      "source": [
        "무작위로 K개의 수 뽑기\n",
        "문제 설명\n",
        "랜덤으로 서로 다른 k개의 수를 저장한 배열을 만드려고 합니다. 적절한 방법이 떠오르지 않기 때문에 일정한 범위 내에서 무작위로 수를 뽑은 후, 지금까지 나온적이 없는 수이면 배열 맨 뒤에 추가하는 방식으로 만들기로 합니다.\n",
        "\n",
        "이미 어떤 수가 무작위로 주어질지 알고 있다고 가정하고, 실제 만들어질 길이 k의 배열을 예상해봅시다.\n",
        "\n",
        "정수 배열 arr가 주어집니다. 문제에서의 무작위의 수는 arr에 저장된 순서대로 주어질 예정이라고 했을 때, 완성될 배열을 return 하는 solution 함수를 완성해 주세요.\n",
        "\n",
        "단, 완성될 배열의 길이가 k보다 작으면 나머지 값을 전부 -1로 채워서 return 합니다.\n",
        "\n",
        "제한사항\n",
        "1 ≤ arr의 길이 ≤ 100,000\n",
        "0 ≤ arr의 원소 ≤ 100,000\n",
        "1 ≤ k ≤ 1,000\n",
        "입출력 예\n",
        "arr\tk\tresult\n",
        "[0, 1, 1, 2, 2, 3]\t3\t[0, 1, 2]\n",
        "[0, 1, 1, 1, 1]\t4\t[0, 1, -1, -1]"
      ],
      "metadata": {
        "id": "Kz8F1G5Y8bCm"
      }
    },
    {
      "cell_type": "code",
      "execution_count": null,
      "metadata": {
        "id": "eE5AYHAA8ake"
      },
      "outputs": [],
      "source": [
        "def solution(arr, k):\n",
        "    answer = []\n",
        "    for i in arr:\n",
        "        if i not in answer:\n",
        "            if len(answer) < k:\n",
        "                answer.append(i)\n",
        "    if len(answer) < k:\n",
        "        while len(answer) < k:\n",
        "            answer.append(-1)\n",
        "    return answer"
      ]
    }
  ]
}