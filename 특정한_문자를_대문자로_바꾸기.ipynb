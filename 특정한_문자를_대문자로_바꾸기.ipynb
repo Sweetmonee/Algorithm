{
  "nbformat": 4,
  "nbformat_minor": 0,
  "metadata": {
    "colab": {
      "provenance": [],
      "authorship_tag": "ABX9TyOafOpvzpiL9dYD3kGdHuL8",
      "include_colab_link": true
    },
    "kernelspec": {
      "name": "python3",
      "display_name": "Python 3"
    },
    "language_info": {
      "name": "python"
    }
  },
  "cells": [
    {
      "cell_type": "markdown",
      "metadata": {
        "id": "view-in-github",
        "colab_type": "text"
      },
      "source": [
        "<a href=\"https://colab.research.google.com/github/Sweetmonee/Algorithm/blob/Programmers/%ED%8A%B9%EC%A0%95%ED%95%9C_%EB%AC%B8%EC%9E%90%EB%A5%BC_%EB%8C%80%EB%AC%B8%EC%9E%90%EB%A1%9C_%EB%B0%94%EA%BE%B8%EA%B8%B0.ipynb\" target=\"_parent\"><img src=\"https://colab.research.google.com/assets/colab-badge.svg\" alt=\"Open In Colab\"/></a>"
      ]
    },
    {
      "cell_type": "markdown",
      "source": [
        "특정한 문자를 대문자로 바꾸기\n",
        "문제 설명\n",
        "영소문자로 이루어진 문자열 my_string과 영소문자 1글자로 이루어진 문자열 alp가 매개변수로 주어질 때, my_string에서 alp에 해당하는 모든 글자를 대문자로 바꾼 문자열을 return 하는 solution 함수를 작성해 주세요.\n",
        "\n",
        "제한사항\n",
        "1 ≤ my_string의 길이 ≤ 1,000\n",
        "입출력 예\n",
        "my_string\talp\tresult\n",
        "\"programmers\"\t\"p\"\t\"Programmers\"\n",
        "\"lowercase\"\t\"x\"\t\"lowercase\""
      ],
      "metadata": {
        "id": "cCWlcBi_hhDC"
      }
    },
    {
      "cell_type": "code",
      "execution_count": null,
      "metadata": {
        "id": "O7j0skoahgIT"
      },
      "outputs": [],
      "source": [
        "def solution(my_string, alp):\n",
        "    return ''.join([i.upper() if i == alp else i for i in my_string])"
      ]
    }
  ]
}