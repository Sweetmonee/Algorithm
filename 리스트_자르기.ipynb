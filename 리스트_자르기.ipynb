{
  "nbformat": 4,
  "nbformat_minor": 0,
  "metadata": {
    "colab": {
      "provenance": [],
      "authorship_tag": "ABX9TyMFseKNrYZqq3gitBDIREzi",
      "include_colab_link": true
    },
    "kernelspec": {
      "name": "python3",
      "display_name": "Python 3"
    },
    "language_info": {
      "name": "python"
    }
  },
  "cells": [
    {
      "cell_type": "markdown",
      "metadata": {
        "id": "view-in-github",
        "colab_type": "text"
      },
      "source": [
        "<a href=\"https://colab.research.google.com/github/Sweetmonee/Algorithm/blob/Programmers/%EB%A6%AC%EC%8A%A4%ED%8A%B8_%EC%9E%90%EB%A5%B4%EA%B8%B0.ipynb\" target=\"_parent\"><img src=\"https://colab.research.google.com/assets/colab-badge.svg\" alt=\"Open In Colab\"/></a>"
      ]
    },
    {
      "cell_type": "markdown",
      "source": [
        "리스트 자르기\n",
        "문제 설명\n",
        "정수 n과 정수 3개가 담긴 리스트 slicer 그리고 정수 여러 개가 담긴 리스트 num_list가 주어집니다. slicer에 담긴 정수를 차례대로 a, b, c라고 할 때, n에 따라 다음과 같이 num_list를 슬라이싱 하려고 합니다.\n",
        "\n",
        "n = 1 : num_list의 0번 인덱스부터 b번 인덱스까지\n",
        "n = 2 : num_list의 a번 인덱스부터 마지막 인덱스까지\n",
        "n = 3 : num_list의 a번 인덱스부터 b번 인덱스까지\n",
        "n = 4 : num_list의 a번 인덱스부터 b번 인덱스까지 c 간격으로\n",
        "올바르게 슬라이싱한 리스트를 return하도록 solution 함수를 완성해주세요.\n",
        "\n",
        "제한사항\n",
        "n 은 1, 2, 3, 4 중 하나입니다.\n",
        "slicer의 길이 = 3\n",
        "slicer에 담긴 정수를 차례대로 a, b, c라고 할 때\n",
        "\n",
        "0 ≤ a ≤ b ≤ num_list의 길이 - 1\n",
        "1 ≤ c ≤ 3\n",
        "5 ≤ num_list의 길이 ≤ 30\n",
        "\n",
        "0 ≤ num_list의 원소 ≤ 100\n",
        "\n",
        "입출력 예\n",
        "n\tslicer\tnum_list\tresult\n",
        "3\t[1, 5, 2]\t[1, 2, 3, 4, 5, 6, 7, 8, 9]\t[2, 3, 4, 5, 6]\n",
        "4\t[1, 5, 2]\t[1, 2, 3, 4, 5, 6, 7, 8, 9]\t[2, 4, 6]"
      ],
      "metadata": {
        "id": "hGuWjFt-O_-k"
      }
    },
    {
      "cell_type": "code",
      "execution_count": null,
      "metadata": {
        "id": "j7QmRKYkO_Zu"
      },
      "outputs": [],
      "source": [
        "# 내 정답\n",
        "def solution(n, slicer, num_list):\n",
        "    return num_list[0: slicer[1] + 1] if n == 1 else num_list[slicer[0]:] if n == 2 else num_list[slicer[0] : slicer[1] + 1] if n == 3 else num_list[slicer[0]: slicer[1] + 1:slicer[2]]"
      ]
    },
    {
      "cell_type": "code",
      "source": [
        "# 미리 정답지에 관한 배열을 만들어 놓고 [n]값에 따라 달라지는 index 위치를 호출!! 훨씬더 보기 좋음~~\n",
        "def solution(n, slicer, num_list):\n",
        "    a, b, c = slicer\n",
        "    return [num_list[:b + 1], num_list[a:], num_list[a:b + 1], num_list[a:b + 1:c]][n - 1]"
      ],
      "metadata": {
        "id": "pMaaNhR7PFPy"
      },
      "execution_count": null,
      "outputs": []
    }
  ]
}