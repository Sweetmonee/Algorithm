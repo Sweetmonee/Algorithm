{
  "nbformat": 4,
  "nbformat_minor": 0,
  "metadata": {
    "colab": {
      "provenance": [],
      "authorship_tag": "ABX9TyPo86jfJx5EdCjjQ/nCsfnx",
      "include_colab_link": true
    },
    "kernelspec": {
      "name": "python3",
      "display_name": "Python 3"
    },
    "language_info": {
      "name": "python"
    }
  },
  "cells": [
    {
      "cell_type": "markdown",
      "metadata": {
        "id": "view-in-github",
        "colab_type": "text"
      },
      "source": [
        "<a href=\"https://colab.research.google.com/github/Sweetmonee/Algorithm/blob/Programmers/%EC%86%8C%EC%88%98%EC%B0%BE%EA%B8%B0_%ED%9A%A8%EC%9C%A8%ED%99%94_%EA%B3%BC%EC%A0%95_1.ipynb\" target=\"_parent\"><img src=\"https://colab.research.google.com/assets/colab-badge.svg\" alt=\"Open In Colab\"/></a>"
      ]
    },
    {
      "cell_type": "markdown",
      "source": [
        "1부터 입력받은 숫자 n 사이에 있는 소수의 개수를 반환하는 함수, solution을 만들어 보세요.\n",
        "\n",
        "소수는 1과 자기 자신으로만 나누어지는 수를 의미합니다.\n",
        "(1은 소수가 아닙니다.)\n",
        "\n",
        "제한 조건\n",
        "n은 2이상 1000000이하의 자연수입니다.\n",
        "입출력 예\n",
        "n\tresult\n",
        "10\t4\n",
        "5\t3"
      ],
      "metadata": {
        "id": "sAY4hdNFJUR6"
      }
    },
    {
      "cell_type": "code",
      "execution_count": null,
      "metadata": {
        "id": "JcdxxRjhJFN-"
      },
      "outputs": [],
      "source": [
        "1부터 입력받은 숫자 n 사이에 있는 소수의 개수를 반환하는 함수, solution을 만들어 보세요.\n",
        "\n",
        "소수는 1과 자기 자신으로만 나누어지는 수를 의미합니다.\n",
        "(1은 소수가 아닙니다.)\n",
        "\n",
        "제한 조건\n",
        "n은 2이상 1000000이하의 자연수입니다.\n",
        "입출력 예\n",
        "n\tresult\n",
        "10\t4\n",
        "5\t3"
      ]
    }
  ]
}