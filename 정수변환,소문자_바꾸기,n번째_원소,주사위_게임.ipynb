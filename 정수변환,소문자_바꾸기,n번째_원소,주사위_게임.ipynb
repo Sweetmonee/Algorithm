{
  "nbformat": 4,
  "nbformat_minor": 0,
  "metadata": {
    "colab": {
      "provenance": [],
      "authorship_tag": "ABX9TyPNOtskvg4DH5K991bUM0k9",
      "include_colab_link": true
    },
    "kernelspec": {
      "name": "python3",
      "display_name": "Python 3"
    },
    "language_info": {
      "name": "python"
    }
  },
  "cells": [
    {
      "cell_type": "markdown",
      "metadata": {
        "id": "view-in-github",
        "colab_type": "text"
      },
      "source": [
        "<a href=\"https://colab.research.google.com/github/Sweetmonee/Algorithm/blob/Programmers/%EC%A0%95%EC%88%98%EB%B3%80%ED%99%98%2C%EC%86%8C%EB%AC%B8%EC%9E%90_%EB%B0%94%EA%BE%B8%EA%B8%B0%2Cn%EB%B2%88%EC%A7%B8_%EC%9B%90%EC%86%8C%2C%EC%A3%BC%EC%82%AC%EC%9C%84_%EA%B2%8C%EC%9E%84.ipynb\" target=\"_parent\"><img src=\"https://colab.research.google.com/assets/colab-badge.svg\" alt=\"Open In Colab\"/></a>"
      ]
    },
    {
      "cell_type": "markdown",
      "source": [
        "문자열을 정수로 변환하기\n",
        "문제 설명\n",
        "숫자로만 이루어진 문자열 n_str이 주어질 때, n_str을 정수로 변환하여 return하도록 solution 함수를 완성해주세요.\n",
        "\n",
        "제한사항\n",
        "1 ≤ n_str ≤ 5\n",
        "n_str은 0부터 9까지의 정수 문자로만 이루어져 있습니다.\n",
        "입출력 예\n",
        "n_str\tresult\n",
        "\"10\"\t10\n",
        "\"8542\"\t8542"
      ],
      "metadata": {
        "id": "NHUBOLJkDlJR"
      }
    },
    {
      "cell_type": "code",
      "execution_count": null,
      "metadata": {
        "id": "YFKNxi-ODjkk"
      },
      "outputs": [],
      "source": [
        "#나의 정답\n",
        "def solution(n_str):\n",
        "    return int(n_str)"
      ]
    },
    {
      "cell_type": "code",
      "source": [
        "소문자로 바꾸기\n",
        "문제 설명\n",
        "알파벳으로 이루어진 문자열 myString이 주어집니다. 모든 알파벳을 소문자로 변환하여 return 하는 solution 함수를 완성해 주세요.\n",
        "\n",
        "제한사항\n",
        "1 ≤ myString의 길이 ≤ 100,000\n",
        "myString은 알파벳으로 이루어진 문자열입니다.\n",
        "입출력 예\n",
        "myString\tresult\n",
        "\"aBcDeFg\"\t\"abcdefg\"\n",
        "\"aaa\"\t\"aaa\""
      ],
      "metadata": {
        "id": "jCtZSHgNDkgp"
      },
      "execution_count": null,
      "outputs": []
    },
    {
      "cell_type": "code",
      "source": [
        "#나의 정답\n",
        "def solution(myString):\n",
        "    return myString.lower()"
      ],
      "metadata": {
        "id": "ylnAg8gPDqWk"
      },
      "execution_count": null,
      "outputs": []
    },
    {
      "cell_type": "markdown",
      "source": [
        "n 번째 원소부터\n",
        "문제 설명\n",
        "정수 리스트 num_list와 정수 n이 주어질 때, n 번째 원소부터 마지막 원소까지의 모든 원소를 담은 리스트를 return하도록 solution 함수를 완성해주세요.\n",
        "\n",
        "제한사항\n",
        "2 ≤ num_list의 길이 ≤ 30\n",
        "1 ≤ num_list의 원소 ≤ 9\n",
        "1 ≤ n ≤ num_list의 길이\n",
        "입출력 예\n",
        "num_list\tn\tresult\n",
        "[2, 1, 6]\t3\t[6]\n",
        "[5, 2, 1, 7, 5]\t2\t[2, 1, 7, 5]"
      ],
      "metadata": {
        "id": "qOY40JLaDqFH"
      }
    },
    {
      "cell_type": "code",
      "source": [
        "#나의 정답\n",
        "def solution(num_list, n):\n",
        "    return num_list[n-1:]"
      ],
      "metadata": {
        "id": "4ElFX-GBE0o5"
      },
      "execution_count": null,
      "outputs": []
    },
    {
      "cell_type": "markdown",
      "source": [
        "주사위 게임 1\n",
        "문제 설명\n",
        "1부터 6까지 숫자가 적힌 주사위가 두 개 있습니다. 두 주사위를 굴렸을 때 나온 \b숫자를 각각 a, b라고 했을 때 얻는 점수는 다음과 같습니다.\n",
        "\n",
        "a와 b가 모두 홀수라면 a2 + b2 점을 얻습니다.\n",
        "a와 b 중 하나만 홀수라면 2 × (a + b) 점을 얻습니다.\n",
        "a와 b 모두 홀수가 아니라면 |a - b| 점을 얻습니다.\n",
        "두 정수 a와 b가 매개변수로 주어질 때, 얻는 점수를 return 하는 solution 함수를 작성해 주세요.\n",
        "\n",
        "제한사항\n",
        "a와 b는 1 이상 6 이하의 정수입니다.\n",
        "입출력 예\n",
        "a\tb\tresult\n",
        "3\t5\t34\n",
        "6\t1\t14\n",
        "2\t4\t2"
      ],
      "metadata": {
        "id": "1JM1hrbIG6Q9"
      }
    },
    {
      "cell_type": "code",
      "source": [
        "#나의 정답\n",
        "def solution(a, b):\n",
        "    return (a ** 2 + b ** 2) if a % 2 == 1 and b % 2 == 1 else ((a - b) ** 2) ** 0.5 if a % 2 == 0 and b % 2 == 0 else  2 * (a + b) "
      ],
      "metadata": {
        "id": "0AxF7OXPE0cK"
      },
      "execution_count": null,
      "outputs": []
    },
    {
      "cell_type": "code",
      "source": [
        "# abs(숫자) == 숫자의 절댓값"
      ],
      "metadata": {
        "id": "wRxNfFlcHFUx"
      },
      "execution_count": null,
      "outputs": []
    }
  ]
}