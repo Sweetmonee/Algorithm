{
  "nbformat": 4,
  "nbformat_minor": 0,
  "metadata": {
    "colab": {
      "provenance": [],
      "authorship_tag": "ABX9TyOvVjbVar4JwC8hyrFzHUNP",
      "include_colab_link": true
    },
    "kernelspec": {
      "name": "python3",
      "display_name": "Python 3"
    },
    "language_info": {
      "name": "python"
    }
  },
  "cells": [
    {
      "cell_type": "markdown",
      "metadata": {
        "id": "view-in-github",
        "colab_type": "text"
      },
      "source": [
        "<a href=\"https://colab.research.google.com/github/Sweetmonee/Algorithm/blob/Programmers/%EC%A0%91%EB%AF%B8%EC%82%AC%EC%9D%B8%EC%A7%80_%ED%99%95%EC%9D%B8%ED%95%98%EA%B8%B0.ipynb\" target=\"_parent\"><img src=\"https://colab.research.google.com/assets/colab-badge.svg\" alt=\"Open In Colab\"/></a>"
      ]
    },
    {
      "cell_type": "markdown",
      "source": [
        "\n",
        "문제 설명\n",
        "어떤 문자열에 대해서 접미사는 특정 인덱스부터 시작하는 문자열을 의미합니다. 예를 들어, \"banana\"의 모든 접미사는 \"banana\", \"anana\", \"nana\", \"ana\", \"na\", \"a\"입니다.\n",
        "문자열 my_string과 is_suffix가 주어질 때, is_suffix가 my_string의 접미사라면 1을, 아니면 0을 return 하는 solution 함수를 작성해 주세요.\n",
        "\n",
        "제한사항\n",
        "1 ≤ my_string의 길이 ≤ 100\n",
        "1 ≤ is_suffix의 길이 ≤ 100\n",
        "my_string과 is_suffix는 영소문자로만 이루어져 있습니다.\n",
        "입출력 예\n",
        "my_string\tis_suffix\tresult\n",
        "\"banana\"\t\"ana\"\t1\n",
        "\"banana\"\t\"nan\"\t0\n",
        "\"banana\"\t\"wxyz\"\t0"
      ],
      "metadata": {
        "id": "vmiP9olsNrUX"
      }
    },
    {
      "cell_type": "code",
      "execution_count": null,
      "metadata": {
        "id": "edk1MnePNqsv"
      },
      "outputs": [],
      "source": [
        "def solution(my_string, is_suffix):\n",
        "    return 1 if my_string[-len(is_suffix):] == is_suffix else 0"
      ]
    }
  ]
}