{
  "nbformat": 4,
  "nbformat_minor": 0,
  "metadata": {
    "colab": {
      "provenance": [],
      "authorship_tag": "ABX9TyNnSqo5ks84fDaKIdG3IriS",
      "include_colab_link": true
    },
    "kernelspec": {
      "name": "python3",
      "display_name": "Python 3"
    },
    "language_info": {
      "name": "python"
    }
  },
  "cells": [
    {
      "cell_type": "markdown",
      "metadata": {
        "id": "view-in-github",
        "colab_type": "text"
      },
      "source": [
        "<a href=\"https://colab.research.google.com/github/Sweetmonee/Algorithm/blob/Programmers/qr_code.ipynb\" target=\"_parent\"><img src=\"https://colab.research.google.com/assets/colab-badge.svg\" alt=\"Open In Colab\"/></a>"
      ]
    },
    {
      "cell_type": "markdown",
      "source": [
        "qr code\n",
        "문제 설명\n",
        "두 정수 q, r과 문자열 code가 주어질 때, code의 각 인덱스를 q로 나누었을 때 나머지가 r인 위치의 문자를 앞에서부터 순서대로 이어 붙인 문자열을 return 하는 solution 함수를 작성해 주세요.\n",
        "\n",
        "제한사항\n",
        "0 ≤ r < q ≤ 20\n",
        "r < code의 길이 ≤ 1,000\n",
        "code는 영소문자로만 이루어져 있습니다.\n",
        "입출력 예\n",
        "q\tr\tcode\tresult\n",
        "3\t1\t\"qjnwezgrpirldywt\"\t\"jerry\"\n",
        "1\t0\t\"programmers\"\t\"programmers\""
      ],
      "metadata": {
        "id": "9cE9jMOimhme"
      }
    },
    {
      "cell_type": "code",
      "execution_count": null,
      "metadata": {
        "id": "Ay1kdhmlmhDZ"
      },
      "outputs": [],
      "source": [
        "def solution(q, r, code):\n",
        "    answer = ''\n",
        "    for i in range(len(code)):\n",
        "        if i % q == r:\n",
        "            answer += code[i]\n",
        "    return answer"
      ]
    }
  ]
}