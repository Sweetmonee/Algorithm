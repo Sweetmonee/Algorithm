{
  "nbformat": 4,
  "nbformat_minor": 0,
  "metadata": {
    "colab": {
      "provenance": [],
      "authorship_tag": "ABX9TyNqXf2DrsjmsjyahtHJ9RKB",
      "include_colab_link": true
    },
    "kernelspec": {
      "name": "python3",
      "display_name": "Python 3"
    },
    "language_info": {
      "name": "python"
    }
  },
  "cells": [
    {
      "cell_type": "markdown",
      "metadata": {
        "id": "view-in-github",
        "colab_type": "text"
      },
      "source": [
        "<a href=\"https://colab.research.google.com/github/Sweetmonee/Algorithm/blob/Programmers/%EB%AC%B8%EC%9E%90%EB%A6%AC%EC%8A%A4%ED%8A%B8%EB%A5%BC_%EB%AC%B8%EC%9E%90%EC%97%B4%EB%A1%9C_%EB%B3%80%ED%99%98%ED%95%98%EA%B8%B0.ipynb\" target=\"_parent\"><img src=\"https://colab.research.google.com/assets/colab-badge.svg\" alt=\"Open In Colab\"/></a>"
      ]
    },
    {
      "cell_type": "markdown",
      "source": [
        "문자 리스트를 문자열로 변환하기\n",
        "문제 설명\n",
        "문자들이 담겨있는 배열 arr가 주어집니다. arr의 원소들을 순서대로 이어 붙인 문자열을 return 하는 solution함수를 작성해 주세요.\n",
        "\n",
        "제한사항\n",
        "1 ≤ arr의 길이 ≤ 200\n",
        "arr의 원소는 전부 알파벳 소문자로 이루어진 길이가 1인 문자열입니다.\n",
        "입출력 예\n",
        "arr\tresult\n",
        "[\"a\",\"b\",\"c\"]\t\"abc\""
      ],
      "metadata": {
        "id": "njS2JjFFv67_"
      }
    },
    {
      "cell_type": "code",
      "execution_count": null,
      "metadata": {
        "id": "f_HS7aNqvxK9"
      },
      "outputs": [],
      "source": [
        "# 내 정답\n",
        "def solution(arr):\n",
        "    answer = ''\n",
        "    for i in arr:\n",
        "        answer += i\n",
        "    return answer "
      ]
    },
    {
      "cell_type": "code",
      "source": [
        "# .join() 함수를 사용한 정답\n",
        "def solution(arr):\n",
        "    return ''.join(arr)"
      ],
      "metadata": {
        "id": "23o5oxqFvyCu"
      },
      "execution_count": null,
      "outputs": []
    }
  ]
}