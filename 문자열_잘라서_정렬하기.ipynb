{
  "nbformat": 4,
  "nbformat_minor": 0,
  "metadata": {
    "colab": {
      "provenance": [],
      "authorship_tag": "ABX9TyMJRCFDqQToQa5UTII15s6w",
      "include_colab_link": true
    },
    "kernelspec": {
      "name": "python3",
      "display_name": "Python 3"
    },
    "language_info": {
      "name": "python"
    }
  },
  "cells": [
    {
      "cell_type": "markdown",
      "metadata": {
        "id": "view-in-github",
        "colab_type": "text"
      },
      "source": [
        "<a href=\"https://colab.research.google.com/github/Sweetmonee/Algorithm/blob/Programmers/%EB%AC%B8%EC%9E%90%EC%97%B4_%EC%9E%98%EB%9D%BC%EC%84%9C_%EC%A0%95%EB%A0%AC%ED%95%98%EA%B8%B0.ipynb\" target=\"_parent\"><img src=\"https://colab.research.google.com/assets/colab-badge.svg\" alt=\"Open In Colab\"/></a>"
      ]
    },
    {
      "cell_type": "markdown",
      "source": [
        "문자열 잘라서 정렬하기\n",
        "문제 설명\n",
        "문자열 myString이 주어집니다. \"x\"를 기준으로 해당 문자열을 잘라내 배열을 만든 후 사전순으로 정렬한 배열을 return 하는 solution 함수를 완성해 주세요.\n",
        "\n",
        "단, 빈 문자열은 반환할 배열에 넣지 않습니다.\n",
        "\n",
        "제한사항\n",
        "1 ≤ myString ≤ 100,000\n",
        "myString은 알파벳 소문자로 이루어진 문자열입니다.\n",
        "입출력 예\n",
        "myString\tresult\n",
        "\"axbxcxdx\"\t[\"a\",\"b\",\"c\",\"d\"]\n",
        "\"dxccxbbbxaaaa\"\t[\"aaaa\",\"bbb\",\"cc\",\"d\"]"
      ],
      "metadata": {
        "id": "_PPOHSkPibpN"
      }
    },
    {
      "cell_type": "code",
      "execution_count": null,
      "metadata": {
        "id": "5bT-Nd0ViaJ-"
      },
      "outputs": [],
      "source": [
        "def solution(myString):\n",
        "    return sorted(list(filter(None, myString.split('x'))))"
      ]
    }
  ]
}