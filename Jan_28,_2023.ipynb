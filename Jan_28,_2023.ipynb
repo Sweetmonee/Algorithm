{
  "nbformat": 4,
  "nbformat_minor": 0,
  "metadata": {
    "colab": {
      "provenance": [],
      "authorship_tag": "ABX9TyOIb0OCf6YSN5J9+42X3YV9",
      "include_colab_link": true
    },
    "kernelspec": {
      "name": "python3",
      "display_name": "Python 3"
    },
    "language_info": {
      "name": "python"
    }
  },
  "cells": [
    {
      "cell_type": "markdown",
      "metadata": {
        "id": "view-in-github",
        "colab_type": "text"
      },
      "source": [
        "<a href=\"https://colab.research.google.com/github/Sweetmonee/Algorithm/blob/Programmers/Jan_28%2C_2023.ipynb\" target=\"_parent\"><img src=\"https://colab.research.google.com/assets/colab-badge.svg\" alt=\"Open In Colab\"/></a>"
      ]
    },
    {
      "cell_type": "code",
      "execution_count": null,
      "metadata": {
        "id": "KmfIoI5syhML"
      },
      "outputs": [],
      "source": [
        "# 프로그래머스 모바일은 개인정보 보호를 위해 고지서를 보낼 때 고객들의 전화번호의 일부를 가립니다.\n",
        "# 전화번호가 문자열 phone_number로 주어졌을 때, 전화번호의 뒷 4자리를 제외한 나머지 숫자를 전부 *으로 가린 문자열을 리턴하는 함수, solution을 완성해주세요.\n",
        "def solution(phone_number):\n",
        "    return '*' * len(phone_number[0:-4]) + phone_number[-4:]"
      ]
    },
    {
      "cell_type": "code",
      "source": [
        "#어떤 정수들이 있습니다. 이 정수들의 절댓값을 차례대로 담은 정수 배열 absolutes와 이 정수들의 부호를 차례대로 담은 불리언 배열 signs가 매개변수로 주어집니다. \n",
        "# 실제 정수들의 합을 구하여 return 하도록 solution 함수를 완성해주세요.\n",
        "def solution(absolutes, signs):\n",
        "    answer = 0\n",
        "    for i in range(len(absolutes)):\n",
        "        if signs[i] == True:\n",
        "            answer += absolutes[i]\n",
        "        elif signs[i] == False:\n",
        "            answer -= absolutes[i]\n",
        "        else:\n",
        "            answer += 0\n",
        "    return answer"
      ],
      "metadata": {
        "id": "6ZY3qvTbzwLw"
      },
      "execution_count": null,
      "outputs": []
    }
  ]
}