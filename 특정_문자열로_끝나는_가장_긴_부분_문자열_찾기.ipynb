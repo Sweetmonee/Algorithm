{
  "nbformat": 4,
  "nbformat_minor": 0,
  "metadata": {
    "colab": {
      "provenance": [],
      "authorship_tag": "ABX9TyMb09D2A7s1MZaVlo60QA3j",
      "include_colab_link": true
    },
    "kernelspec": {
      "name": "python3",
      "display_name": "Python 3"
    },
    "language_info": {
      "name": "python"
    }
  },
  "cells": [
    {
      "cell_type": "markdown",
      "metadata": {
        "id": "view-in-github",
        "colab_type": "text"
      },
      "source": [
        "<a href=\"https://colab.research.google.com/github/Sweetmonee/Algorithm/blob/Programmers/%ED%8A%B9%EC%A0%95_%EB%AC%B8%EC%9E%90%EC%97%B4%EB%A1%9C_%EB%81%9D%EB%82%98%EB%8A%94_%EA%B0%80%EC%9E%A5_%EA%B8%B4_%EB%B6%80%EB%B6%84_%EB%AC%B8%EC%9E%90%EC%97%B4_%EC%B0%BE%EA%B8%B0.ipynb\" target=\"_parent\"><img src=\"https://colab.research.google.com/assets/colab-badge.svg\" alt=\"Open In Colab\"/></a>"
      ]
    },
    {
      "cell_type": "markdown",
      "source": [
        "특정 문자열로 끝나는 가장 긴 부분 문자열 찾기\n",
        "문제 설명\n",
        "문자열 myString과 pat가 주어집니다. myString의 부분 문자열중 pat로 끝나는 가장 긴 부분 문자열을 찾아서 return 하는 solution 함수를 완성해 주세요.\n",
        "\n",
        "제한사항\n",
        "5 ≤ myString ≤ 20\n",
        "1 ≤ pat ≤ 5\n",
        "pat은 반드시 myString의 부분 문자열로 주어집니다.\n",
        "myString과 pat에 등장하는 알파벳은 대문자와 소문자를 구분합니다.\n",
        "입출력 예\n",
        "myString\tpat\tresult\n",
        "\"AbCdEFG\"\t\"dE\"\t\"AbCdE\"\n",
        "\"AAAAaaaa\"\t\"a\"\t\"AAAAaaaa\""
      ],
      "metadata": {
        "id": "4sZf2fxxkyTa"
      }
    },
    {
      "cell_type": "code",
      "execution_count": null,
      "metadata": {
        "id": "DNb9Y9_Qkx29"
      },
      "outputs": [],
      "source": [
        "def solution(myString, pat):\n",
        "    answer = ''\n",
        "    for i in range(0, len(myString)):\n",
        "        if myString[::-1][i:i+len(pat)] == pat[::-1]:\n",
        "            answer = (myString[::-1][i:])\n",
        "            break\n",
        "    return answer[::-1]"
      ]
    }
  ]
}