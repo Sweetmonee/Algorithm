{
  "nbformat": 4,
  "nbformat_minor": 0,
  "metadata": {
    "colab": {
      "provenance": [],
      "authorship_tag": "ABX9TyOjQLOdvlR+E3cLjstWIyJ5",
      "include_colab_link": true
    },
    "kernelspec": {
      "name": "python3",
      "display_name": "Python 3"
    },
    "language_info": {
      "name": "python"
    }
  },
  "cells": [
    {
      "cell_type": "markdown",
      "metadata": {
        "id": "view-in-github",
        "colab_type": "text"
      },
      "source": [
        "<a href=\"https://colab.research.google.com/github/Sweetmonee/Algorithm/blob/Programmers/2018_KAKAO_BLIND_RECRUITMENT.ipynb\" target=\"_parent\"><img src=\"https://colab.research.google.com/assets/colab-badge.svg\" alt=\"Open In Colab\"/></a>"
      ]
    },
    {
      "cell_type": "code",
      "execution_count": null,
      "metadata": {
        "id": "dgWUJ-n1Sr1-"
      },
      "outputs": [],
      "source": [
        "# 비밀지도\n",
        "# 네오는 평소 프로도가 비상금을 숨겨놓는 장소를 알려줄 비밀지도를 손에 넣었다. 그런데 이 비밀지도는 숫자로 암호화되어 있어 위치를 확인하기 위해서는 암호를 해독해야 한다. \n",
        "# 다행히 지도 암호를 해독할 방법을 적어놓은 메모도 함께 발견했다.\n",
        "\n",
        "# 지도는 한 변의 길이가 n인 정사각형 배열 형태로, 각 칸은 \"공백\"(\" \") 또는 \"벽\"(\"#\") 두 종류로 이루어져 있다.\n",
        "# 전체 지도는 두 장의 지도를 겹쳐서 얻을 수 있다. 각각 \"지도 1\"과 \"지도 2\"라고 하자. 지도 1 또는 지도 2 중 어느 하나라도 벽인 부분은 전체 지도에서도 벽이다. \n",
        "# 지도 1과 지도 2에서 모두 공백인 부분은 전체 지도에서도 공백이다.\n",
        "# \"지도 1\"과 \"지도 2\"는 각각 정수 배열로 암호화되어 있다.\n",
        "# 암호화된 배열은 지도의 각 가로줄에서 벽 부분을 1, 공백 부분을 0으로 부호화했을 때 얻어지는 이진수에 해당하는 값의 배열이다.\n",
        "# 네오가 프로도의 비상금을 손에 넣을 수 있도록, 비밀지도의 암호를 해독하는 작업을 도와줄 프로그램을 작성하라.\n",
        "def solution(n, arr1, arr2):\n",
        "    bowl1 = ['' for i in range(n)]\n",
        "    bowl2 = ['' for i in range(n)]\n",
        "    answer = ['' for i in range(n)]\n",
        "    \n",
        "    for i in range(len(arr1)):\n",
        "        a = n - 1\n",
        "        while a >= 0:\n",
        "            if (arr1[i] / (2 ** a)) >= 1:\n",
        "                bowl1[i] += '1'\n",
        "                arr1[i] = arr1[i] - (2 ** a)\n",
        "                a -= 1\n",
        "            else:\n",
        "                bowl1[i] += '0'\n",
        "                a -= 1\n",
        "                \n",
        "    for i in range(len(arr2)):\n",
        "        a = n - 1\n",
        "        while a >= 0:\n",
        "            if (arr2[i] / (2 ** a)) >= 1:\n",
        "                bowl2[i] += '1'\n",
        "                arr2[i] = arr2[i] - (2 ** a)\n",
        "                a -= 1\n",
        "            else:\n",
        "                bowl2[i] += '0'\n",
        "                a -= 1\n",
        "    \n",
        "    for i in range(len(bowl1)):\n",
        "        for j in range(len(bowl1)):\n",
        "            if bowl1[i][j] == '1' or bowl2[i][j] == '1':\n",
        "                answer[i] += '#'\n",
        "            else:\n",
        "                answer[i] += ' '\n",
        "    return answer"
      ]
    }
  ]
}