{
  "nbformat": 4,
  "nbformat_minor": 0,
  "metadata": {
    "colab": {
      "provenance": [],
      "authorship_tag": "ABX9TyM9ZK5Lz6w+nW5GaVDwBJ85",
      "include_colab_link": true
    },
    "kernelspec": {
      "name": "python3",
      "display_name": "Python 3"
    },
    "language_info": {
      "name": "python"
    }
  },
  "cells": [
    {
      "cell_type": "markdown",
      "metadata": {
        "id": "view-in-github",
        "colab_type": "text"
      },
      "source": [
        "<a href=\"https://colab.research.google.com/github/Sweetmonee/Algorithm/blob/Programmers/n%EB%B3%B4%EB%8B%A4_%EC%BB%A4%EC%A7%88_%EB%95%8C%EA%B9%8C%EC%A7%80_%EB%8D%94%ED%95%98%EA%B8%B0.ipynb\" target=\"_parent\"><img src=\"https://colab.research.google.com/assets/colab-badge.svg\" alt=\"Open In Colab\"/></a>"
      ]
    },
    {
      "cell_type": "markdown",
      "source": [
        "n보다 커질 때까지 더하기\n",
        "문제 설명\n",
        "정수 배열 numbers와 정수 n이 매개변수로 주어집니다. numbers의 원소를 앞에서부터 하나씩 더하다가 그 합이 n보다 커지는 순간 이때까지 더했던 원소들의 합을 return 하는 solution 함수를 작성해 주세요.\n",
        "\n",
        "제한사항\n",
        "1 ≤ numbers의 길이 ≤ 100\n",
        "1 ≤ numbers의 원소 ≤ 100\n",
        "0 ≤ n < numbers의 모든 원소의 합\n",
        "입출력 예\n",
        "numbers\tn\tresult\n",
        "[34, 5, 71, 29, 100, 34]\t123\t139\n",
        "[58, 44, 27, 10, 100]\t139\t239"
      ],
      "metadata": {
        "id": "GRQW9MbcAQkb"
      }
    },
    {
      "cell_type": "code",
      "execution_count": null,
      "metadata": {
        "id": "u0EP0t5FAPeN"
      },
      "outputs": [],
      "source": [
        "#내 정답\n",
        "def solution(numbers, n):\n",
        "    answer = 0\n",
        "    for i in numbers:\n",
        "        if answer <= n:\n",
        "            answer += i\n",
        "        else:\n",
        "            break\n",
        "    return answer"
      ]
    },
    {
      "cell_type": "code",
      "source": [],
      "metadata": {
        "id": "CmxzcUArAQ2q"
      },
      "execution_count": null,
      "outputs": []
    }
  ]
}