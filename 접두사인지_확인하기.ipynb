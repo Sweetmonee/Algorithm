{
  "nbformat": 4,
  "nbformat_minor": 0,
  "metadata": {
    "colab": {
      "provenance": [],
      "authorship_tag": "ABX9TyOoi7wJh7ErQjE3wINHizjN",
      "include_colab_link": true
    },
    "kernelspec": {
      "name": "python3",
      "display_name": "Python 3"
    },
    "language_info": {
      "name": "python"
    }
  },
  "cells": [
    {
      "cell_type": "markdown",
      "metadata": {
        "id": "view-in-github",
        "colab_type": "text"
      },
      "source": [
        "<a href=\"https://colab.research.google.com/github/Sweetmonee/Algorithm/blob/Programmers/%EC%A0%91%EB%91%90%EC%82%AC%EC%9D%B8%EC%A7%80_%ED%99%95%EC%9D%B8%ED%95%98%EA%B8%B0.ipynb\" target=\"_parent\"><img src=\"https://colab.research.google.com/assets/colab-badge.svg\" alt=\"Open In Colab\"/></a>"
      ]
    },
    {
      "cell_type": "markdown",
      "source": [
        "접두사인지 확인하기\n",
        "문제 설명\n",
        "어떤 문자열에 대해서 접두사는 특정 인덱스까지의 문자열을 의미합니다. 예를 들어, \"banana\"의 모든 접두사는 \"b\", \"ba\", \"ban\", \"bana\", \"banan\", \"banana\"입니다.\n",
        "문자열 my_string과 is_prefix가 주어질 때, is_prefix가 my_string의 접두사라면 1을, 아니면 0을 return 하는 solution 함수를 작성해 주세요.\n",
        "\n",
        "제한사항\n",
        "1 ≤ my_string의 길이 ≤ 100\n",
        "1 ≤ is_prefix의 길이 ≤ 100\n",
        "my_string과 is_prefix는 영소문자로만 이루어져 있습니다.\n",
        "입출력 예\n",
        "my_string\tis_prefix\tresult\n",
        "\"banana\"\t\"ban\"\t 1"
      ],
      "metadata": {
        "id": "1bREZhZlBuVD"
      }
    },
    {
      "cell_type": "code",
      "execution_count": null,
      "metadata": {
        "id": "ikMIDx_hBt8o"
      },
      "outputs": [],
      "source": [
        "# 내 정답\n",
        "def solution(my_string, is_prefix):\n",
        "    return 1 if my_string[:len(is_prefix)] == is_prefix else 0\n",
        "    "
      ]
    },
    {
      "cell_type": "code",
      "source": [
        "# int 성질과 내장함수 활용한 정답\n",
        "def solution(my_string, is_prefix):\n",
        "    return int(my_string.startswith(is_prefix))"
      ],
      "metadata": {
        "id": "E4kXmPc_B-dL"
      },
      "execution_count": null,
      "outputs": []
    }
  ]
}